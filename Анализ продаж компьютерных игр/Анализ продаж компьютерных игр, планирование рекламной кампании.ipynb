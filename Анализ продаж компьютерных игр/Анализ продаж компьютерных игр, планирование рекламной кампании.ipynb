{
 "cells": [
  {
   "cell_type": "markdown",
   "metadata": {},
   "source": [
    "# ПРОЕКТ \"Анализ продаж компьютерных игр, исследование закономерностей и планирование рекламной кампании\""
   ]
  },
  {
   "cell_type": "markdown",
   "metadata": {},
   "source": [
    "В данном проекте мы проведем исследование данных из открытых источников о продажах игр, оценках пользователей и экспертов, жанрах и платформах. \n",
    "\n",
    "Нашей целью является определение ключевых параметров, влияющих на успешность игры. Это позволит интернет-магазину спланировать рекламные кампании на следующий год и выделить потенциально популярный продукт.\n",
    "Последовательность нашего исследования отражена в содержании:"
   ]
  },
  {
   "cell_type": "markdown",
   "metadata": {},
   "source": [
    "# Содержание\n",
    "\n",
    "\n",
    "[**1.** Получение и первичная обработка данных](#1)\n",
    "\n",
    "[**2.** Исследовательский анализ данных](#2)\n",
    "   \n",
    "\n",
    "[**3.** Портрет пользователя каждого региона](#3)\n",
    "\n",
    "\n",
    "[**4.** Гипотезы относительно рейтингов различных жанров и платформ.](#4)\n",
    "\n",
    "\n",
    "[**5.** Общий вывод по проекту](#5)\n",
    "\n",
    "\n",
    "\n",
    "\n",
    "\n"
   ]
  },
  {
   "cell_type": "markdown",
   "metadata": {},
   "source": [
    "# 1. Получение и первичная обработка данных\n",
    "<a id=\"1\"></a>"
   ]
  },
  {
   "cell_type": "markdown",
   "metadata": {},
   "source": [
    "Импортируем все необходимы для работы библиотеки:"
   ]
  },
  {
   "cell_type": "code",
   "execution_count": 1,
   "metadata": {},
   "outputs": [],
   "source": [
    "import pandas as pd\n",
    "from matplotlib import pyplot as plt\n",
    "from math import factorial\n",
    "import numpy as np\n",
    "import seaborn as sns\n",
    "import scipy as sp\n",
    "from scipy import stats\n",
    "from scipy.stats import ttest_ind"
   ]
  },
  {
   "cell_type": "markdown",
   "metadata": {},
   "source": [
    "Теперь можно импортировать файл и просмотреть таблицу:"
   ]
  },
  {
   "cell_type": "code",
   "execution_count": 2,
   "metadata": {},
   "outputs": [],
   "source": [
    "df = pd.read_csv('/datasets/games.csv')"
   ]
  },
  {
   "cell_type": "code",
   "execution_count": 3,
   "metadata": {},
   "outputs": [
    {
     "data": {
      "text/html": [
       "<div>\n",
       "<style scoped>\n",
       "    .dataframe tbody tr th:only-of-type {\n",
       "        vertical-align: middle;\n",
       "    }\n",
       "\n",
       "    .dataframe tbody tr th {\n",
       "        vertical-align: top;\n",
       "    }\n",
       "\n",
       "    .dataframe thead th {\n",
       "        text-align: right;\n",
       "    }\n",
       "</style>\n",
       "<table border=\"1\" class=\"dataframe\">\n",
       "  <thead>\n",
       "    <tr style=\"text-align: right;\">\n",
       "      <th></th>\n",
       "      <th>Name</th>\n",
       "      <th>Platform</th>\n",
       "      <th>Year_of_Release</th>\n",
       "      <th>Genre</th>\n",
       "      <th>NA_sales</th>\n",
       "      <th>EU_sales</th>\n",
       "      <th>JP_sales</th>\n",
       "      <th>Other_sales</th>\n",
       "      <th>Critic_Score</th>\n",
       "      <th>User_Score</th>\n",
       "      <th>Rating</th>\n",
       "    </tr>\n",
       "  </thead>\n",
       "  <tbody>\n",
       "    <tr>\n",
       "      <td>0</td>\n",
       "      <td>Wii Sports</td>\n",
       "      <td>Wii</td>\n",
       "      <td>2006.0</td>\n",
       "      <td>Sports</td>\n",
       "      <td>41.36</td>\n",
       "      <td>28.96</td>\n",
       "      <td>3.77</td>\n",
       "      <td>8.45</td>\n",
       "      <td>76.0</td>\n",
       "      <td>8</td>\n",
       "      <td>E</td>\n",
       "    </tr>\n",
       "    <tr>\n",
       "      <td>1</td>\n",
       "      <td>Super Mario Bros.</td>\n",
       "      <td>NES</td>\n",
       "      <td>1985.0</td>\n",
       "      <td>Platform</td>\n",
       "      <td>29.08</td>\n",
       "      <td>3.58</td>\n",
       "      <td>6.81</td>\n",
       "      <td>0.77</td>\n",
       "      <td>NaN</td>\n",
       "      <td>NaN</td>\n",
       "      <td>NaN</td>\n",
       "    </tr>\n",
       "    <tr>\n",
       "      <td>2</td>\n",
       "      <td>Mario Kart Wii</td>\n",
       "      <td>Wii</td>\n",
       "      <td>2008.0</td>\n",
       "      <td>Racing</td>\n",
       "      <td>15.68</td>\n",
       "      <td>12.76</td>\n",
       "      <td>3.79</td>\n",
       "      <td>3.29</td>\n",
       "      <td>82.0</td>\n",
       "      <td>8.3</td>\n",
       "      <td>E</td>\n",
       "    </tr>\n",
       "    <tr>\n",
       "      <td>3</td>\n",
       "      <td>Wii Sports Resort</td>\n",
       "      <td>Wii</td>\n",
       "      <td>2009.0</td>\n",
       "      <td>Sports</td>\n",
       "      <td>15.61</td>\n",
       "      <td>10.93</td>\n",
       "      <td>3.28</td>\n",
       "      <td>2.95</td>\n",
       "      <td>80.0</td>\n",
       "      <td>8</td>\n",
       "      <td>E</td>\n",
       "    </tr>\n",
       "    <tr>\n",
       "      <td>4</td>\n",
       "      <td>Pokemon Red/Pokemon Blue</td>\n",
       "      <td>GB</td>\n",
       "      <td>1996.0</td>\n",
       "      <td>Role-Playing</td>\n",
       "      <td>11.27</td>\n",
       "      <td>8.89</td>\n",
       "      <td>10.22</td>\n",
       "      <td>1.00</td>\n",
       "      <td>NaN</td>\n",
       "      <td>NaN</td>\n",
       "      <td>NaN</td>\n",
       "    </tr>\n",
       "  </tbody>\n",
       "</table>\n",
       "</div>"
      ],
      "text/plain": [
       "                       Name Platform  Year_of_Release         Genre  NA_sales  \\\n",
       "0                Wii Sports      Wii           2006.0        Sports     41.36   \n",
       "1         Super Mario Bros.      NES           1985.0      Platform     29.08   \n",
       "2            Mario Kart Wii      Wii           2008.0        Racing     15.68   \n",
       "3         Wii Sports Resort      Wii           2009.0        Sports     15.61   \n",
       "4  Pokemon Red/Pokemon Blue       GB           1996.0  Role-Playing     11.27   \n",
       "\n",
       "   EU_sales  JP_sales  Other_sales  Critic_Score User_Score Rating  \n",
       "0     28.96      3.77         8.45          76.0          8      E  \n",
       "1      3.58      6.81         0.77           NaN        NaN    NaN  \n",
       "2     12.76      3.79         3.29          82.0        8.3      E  \n",
       "3     10.93      3.28         2.95          80.0          8      E  \n",
       "4      8.89     10.22         1.00           NaN        NaN    NaN  "
      ]
     },
     "execution_count": 3,
     "metadata": {},
     "output_type": "execute_result"
    }
   ],
   "source": [
    "df.head()"
   ]
  },
  {
   "cell_type": "markdown",
   "metadata": {},
   "source": [
    "Сразу очевидно, что в названиях столбцов нужно исправить регистр и сделать все надписи в нижнем регистре:"
   ]
  },
  {
   "cell_type": "code",
   "execution_count": 4,
   "metadata": {},
   "outputs": [],
   "source": [
    "df.columns = df.columns.str.lower()"
   ]
  },
  {
   "cell_type": "code",
   "execution_count": 5,
   "metadata": {},
   "outputs": [
    {
     "data": {
      "text/html": [
       "<div>\n",
       "<style scoped>\n",
       "    .dataframe tbody tr th:only-of-type {\n",
       "        vertical-align: middle;\n",
       "    }\n",
       "\n",
       "    .dataframe tbody tr th {\n",
       "        vertical-align: top;\n",
       "    }\n",
       "\n",
       "    .dataframe thead th {\n",
       "        text-align: right;\n",
       "    }\n",
       "</style>\n",
       "<table border=\"1\" class=\"dataframe\">\n",
       "  <thead>\n",
       "    <tr style=\"text-align: right;\">\n",
       "      <th></th>\n",
       "      <th>name</th>\n",
       "      <th>platform</th>\n",
       "      <th>year_of_release</th>\n",
       "      <th>genre</th>\n",
       "      <th>na_sales</th>\n",
       "      <th>eu_sales</th>\n",
       "      <th>jp_sales</th>\n",
       "      <th>other_sales</th>\n",
       "      <th>critic_score</th>\n",
       "      <th>user_score</th>\n",
       "      <th>rating</th>\n",
       "    </tr>\n",
       "  </thead>\n",
       "  <tbody>\n",
       "    <tr>\n",
       "      <td>0</td>\n",
       "      <td>Wii Sports</td>\n",
       "      <td>Wii</td>\n",
       "      <td>2006.0</td>\n",
       "      <td>Sports</td>\n",
       "      <td>41.36</td>\n",
       "      <td>28.96</td>\n",
       "      <td>3.77</td>\n",
       "      <td>8.45</td>\n",
       "      <td>76.0</td>\n",
       "      <td>8</td>\n",
       "      <td>E</td>\n",
       "    </tr>\n",
       "    <tr>\n",
       "      <td>1</td>\n",
       "      <td>Super Mario Bros.</td>\n",
       "      <td>NES</td>\n",
       "      <td>1985.0</td>\n",
       "      <td>Platform</td>\n",
       "      <td>29.08</td>\n",
       "      <td>3.58</td>\n",
       "      <td>6.81</td>\n",
       "      <td>0.77</td>\n",
       "      <td>NaN</td>\n",
       "      <td>NaN</td>\n",
       "      <td>NaN</td>\n",
       "    </tr>\n",
       "    <tr>\n",
       "      <td>2</td>\n",
       "      <td>Mario Kart Wii</td>\n",
       "      <td>Wii</td>\n",
       "      <td>2008.0</td>\n",
       "      <td>Racing</td>\n",
       "      <td>15.68</td>\n",
       "      <td>12.76</td>\n",
       "      <td>3.79</td>\n",
       "      <td>3.29</td>\n",
       "      <td>82.0</td>\n",
       "      <td>8.3</td>\n",
       "      <td>E</td>\n",
       "    </tr>\n",
       "    <tr>\n",
       "      <td>3</td>\n",
       "      <td>Wii Sports Resort</td>\n",
       "      <td>Wii</td>\n",
       "      <td>2009.0</td>\n",
       "      <td>Sports</td>\n",
       "      <td>15.61</td>\n",
       "      <td>10.93</td>\n",
       "      <td>3.28</td>\n",
       "      <td>2.95</td>\n",
       "      <td>80.0</td>\n",
       "      <td>8</td>\n",
       "      <td>E</td>\n",
       "    </tr>\n",
       "    <tr>\n",
       "      <td>4</td>\n",
       "      <td>Pokemon Red/Pokemon Blue</td>\n",
       "      <td>GB</td>\n",
       "      <td>1996.0</td>\n",
       "      <td>Role-Playing</td>\n",
       "      <td>11.27</td>\n",
       "      <td>8.89</td>\n",
       "      <td>10.22</td>\n",
       "      <td>1.00</td>\n",
       "      <td>NaN</td>\n",
       "      <td>NaN</td>\n",
       "      <td>NaN</td>\n",
       "    </tr>\n",
       "  </tbody>\n",
       "</table>\n",
       "</div>"
      ],
      "text/plain": [
       "                       name platform  year_of_release         genre  na_sales  \\\n",
       "0                Wii Sports      Wii           2006.0        Sports     41.36   \n",
       "1         Super Mario Bros.      NES           1985.0      Platform     29.08   \n",
       "2            Mario Kart Wii      Wii           2008.0        Racing     15.68   \n",
       "3         Wii Sports Resort      Wii           2009.0        Sports     15.61   \n",
       "4  Pokemon Red/Pokemon Blue       GB           1996.0  Role-Playing     11.27   \n",
       "\n",
       "   eu_sales  jp_sales  other_sales  critic_score user_score rating  \n",
       "0     28.96      3.77         8.45          76.0          8      E  \n",
       "1      3.58      6.81         0.77           NaN        NaN    NaN  \n",
       "2     12.76      3.79         3.29          82.0        8.3      E  \n",
       "3     10.93      3.28         2.95          80.0          8      E  \n",
       "4      8.89     10.22         1.00           NaN        NaN    NaN  "
      ]
     },
     "execution_count": 5,
     "metadata": {},
     "output_type": "execute_result"
    }
   ],
   "source": [
    "df.head()"
   ]
  },
  {
   "cell_type": "markdown",
   "metadata": {},
   "source": [
    "\n",
    "\n",
    "Теперь посмотрим подробнее, как обстоят дела с **пропусками** и **типом данных**:"
   ]
  },
  {
   "cell_type": "code",
   "execution_count": 6,
   "metadata": {},
   "outputs": [
    {
     "name": "stdout",
     "output_type": "stream",
     "text": [
      "<class 'pandas.core.frame.DataFrame'>\n",
      "RangeIndex: 16715 entries, 0 to 16714\n",
      "Data columns (total 11 columns):\n",
      "name               16713 non-null object\n",
      "platform           16715 non-null object\n",
      "year_of_release    16446 non-null float64\n",
      "genre              16713 non-null object\n",
      "na_sales           16715 non-null float64\n",
      "eu_sales           16715 non-null float64\n",
      "jp_sales           16715 non-null float64\n",
      "other_sales        16715 non-null float64\n",
      "critic_score       8137 non-null float64\n",
      "user_score         10014 non-null object\n",
      "rating             9949 non-null object\n",
      "dtypes: float64(6), object(5)\n",
      "memory usage: 1.4+ MB\n"
     ]
    }
   ],
   "source": [
    "df.info()"
   ]
  },
  {
   "cell_type": "markdown",
   "metadata": {},
   "source": [
    "Сразу видно, что потребуется заменить названия столбцов (исправить везде регистр), а так же поработать над заполнением пропуском. Особенно много их в оценочных столбцах `critic_score`,`user_score`,`rating`.\n",
    "\n",
    "Оценим **количество пропусков**:"
   ]
  },
  {
   "cell_type": "code",
   "execution_count": 7,
   "metadata": {},
   "outputs": [
    {
     "data": {
      "text/plain": [
       "name               0.000120\n",
       "platform           0.000000\n",
       "year_of_release    0.016093\n",
       "genre              0.000120\n",
       "na_sales           0.000000\n",
       "eu_sales           0.000000\n",
       "jp_sales           0.000000\n",
       "other_sales        0.000000\n",
       "critic_score       0.513192\n",
       "user_score         0.400897\n",
       "rating             0.404786\n",
       "dtype: float64"
      ]
     },
     "execution_count": 7,
     "metadata": {},
     "output_type": "execute_result"
    }
   ],
   "source": [
    "df.isna().mean()"
   ]
  },
  {
   "cell_type": "markdown",
   "metadata": {},
   "source": [
    "Совсем незначительное количество незаполнено в названиях игр(`name`), их жанре(`genre`) и дате выпуска(`year_of_release`). Это важные параметры для дальнейшего исследования, без которых строки трудно будет анализировать и проблематично подобрать им вариант заполнения. Поэтому данные строки с пропусками можно просто удалить."
   ]
  },
  {
   "cell_type": "code",
   "execution_count": 8,
   "metadata": {},
   "outputs": [],
   "source": [
    "df = df.dropna(subset=['name','year_of_release','genre'])"
   ]
  },
  {
   "cell_type": "code",
   "execution_count": 9,
   "metadata": {},
   "outputs": [
    {
     "data": {
      "text/plain": [
       "name                  0\n",
       "platform              0\n",
       "year_of_release       0\n",
       "genre                 0\n",
       "na_sales              0\n",
       "eu_sales              0\n",
       "jp_sales              0\n",
       "other_sales           0\n",
       "critic_score       8461\n",
       "user_score         6605\n",
       "rating             6676\n",
       "dtype: int64"
      ]
     },
     "execution_count": 9,
     "metadata": {},
     "output_type": "execute_result"
    }
   ],
   "source": [
    "df.isna().sum()"
   ]
  },
  {
   "cell_type": "markdown",
   "metadata": {},
   "source": [
    "Итак, устранены строки с пропусками важных параметров. Теперь обратимся к **столбцам с оценками и рейтингами** игр.\n",
    "\n",
    "Число пропусков в них достигает 50%, удалить такой объем данных мы не можем.\n",
    "поэтому посмотрим для начала, какие значения встречаются в этих столбцах и определим, чем лучше заполнить пропуски."
   ]
  },
  {
   "cell_type": "code",
   "execution_count": 10,
   "metadata": {},
   "outputs": [
    {
     "data": {
      "text/plain": [
       "70.0    252\n",
       "71.0    248\n",
       "75.0    240\n",
       "80.0    235\n",
       "73.0    234\n",
       "       ... \n",
       "29.0      3\n",
       "20.0      3\n",
       "21.0      1\n",
       "13.0      1\n",
       "17.0      1\n",
       "Name: critic_score, Length: 81, dtype: int64"
      ]
     },
     "execution_count": 10,
     "metadata": {},
     "output_type": "execute_result"
    }
   ],
   "source": [
    "df['critic_score'].value_counts()"
   ]
  },
  {
   "cell_type": "markdown",
   "metadata": {},
   "source": [
    "Оценка критиков у нас принимает целые значения от 0 до 98. Пропуски можно заполнить артефактом типа \"9999\", оторый мы сможем исключать при дальнейшем анализе. Заодно можем изменить и тип данных столбца на целочисленный:"
   ]
  },
  {
   "cell_type": "code",
   "execution_count": 11,
   "metadata": {},
   "outputs": [],
   "source": [
    "df['critic_score'] = df['critic_score'].fillna('9999').astype(int)"
   ]
  },
  {
   "cell_type": "code",
   "execution_count": 12,
   "metadata": {},
   "outputs": [
    {
     "data": {
      "text/plain": [
       "tbd    2376\n",
       "7.8     322\n",
       "8       285\n",
       "8.2     276\n",
       "8.3     252\n",
       "       ... \n",
       "1.9       2\n",
       "0.5       2\n",
       "0.2       2\n",
       "9.7       1\n",
       "0         1\n",
       "Name: user_score, Length: 96, dtype: int64"
      ]
     },
     "execution_count": 12,
     "metadata": {},
     "output_type": "execute_result"
    }
   ],
   "source": [
    "df['user_score'].value_counts()"
   ]
  },
  {
   "cell_type": "markdown",
   "metadata": {},
   "source": [
    "Оценка пользователей у нас представлена в диапазоне от 0 до 10, включая дробные значения. Так же в столбце присутствует значение 'tbd' (to be determinated),  что означает, что рейтинг еще не сформирован и по сути его нет. \n",
    "\n",
    "Поэтому заменим аббревиатуру 'tbd' и пропуски артефактом \"9999\", после чего  установим тип данных `float`:"
   ]
  },
  {
   "cell_type": "code",
   "execution_count": 13,
   "metadata": {},
   "outputs": [],
   "source": [
    "df['user_score'] = df['user_score'].replace('tbd', '9999')"
   ]
  },
  {
   "cell_type": "code",
   "execution_count": 14,
   "metadata": {},
   "outputs": [],
   "source": [
    "df['user_score'] = df['user_score'].fillna('9999.0').astype(float)"
   ]
  },
  {
   "cell_type": "markdown",
   "metadata": {},
   "source": [
    "Обратимся к данным по рейтингам игра, какие варианты заполнения существуют:"
   ]
  },
  {
   "cell_type": "code",
   "execution_count": 15,
   "metadata": {},
   "outputs": [
    {
     "data": {
      "text/plain": [
       "E       3921\n",
       "T       2905\n",
       "M       1536\n",
       "E10+    1393\n",
       "EC         8\n",
       "K-A        3\n",
       "AO         1\n",
       "RP         1\n",
       "Name: rating, dtype: int64"
      ]
     },
     "execution_count": 15,
     "metadata": {},
     "output_type": "execute_result"
    }
   ],
   "source": [
    "df['rating'].value_counts()"
   ]
  },
  {
   "cell_type": "markdown",
   "metadata": {},
   "source": [
    "Варианты рейтингов представлены буквенным обозначением, поэтому сохраняем тип данных `object` и заполняем пропуски буквенным артефактом `unknown`:"
   ]
  },
  {
   "cell_type": "code",
   "execution_count": 16,
   "metadata": {},
   "outputs": [],
   "source": [
    "df['rating'] = df['rating'].fillna('unknown')"
   ]
  },
  {
   "cell_type": "markdown",
   "metadata": {},
   "source": [
    " Нам осталось только поправить тип данных в столбце с **годом выпуска** игры, сделаем его целочисленным:"
   ]
  },
  {
   "cell_type": "code",
   "execution_count": 17,
   "metadata": {},
   "outputs": [],
   "source": [
    "df['year_of_release'] = df['year_of_release'].astype(int)"
   ]
  },
  {
   "cell_type": "code",
   "execution_count": 18,
   "metadata": {},
   "outputs": [
    {
     "name": "stdout",
     "output_type": "stream",
     "text": [
      "<class 'pandas.core.frame.DataFrame'>\n",
      "Int64Index: 16444 entries, 0 to 16714\n",
      "Data columns (total 11 columns):\n",
      "name               16444 non-null object\n",
      "platform           16444 non-null object\n",
      "year_of_release    16444 non-null int64\n",
      "genre              16444 non-null object\n",
      "na_sales           16444 non-null float64\n",
      "eu_sales           16444 non-null float64\n",
      "jp_sales           16444 non-null float64\n",
      "other_sales        16444 non-null float64\n",
      "critic_score       16444 non-null int64\n",
      "user_score         16444 non-null float64\n",
      "rating             16444 non-null object\n",
      "dtypes: float64(5), int64(2), object(4)\n",
      "memory usage: 1.5+ MB\n"
     ]
    }
   ],
   "source": [
    "df.info()"
   ]
  },
  {
   "cell_type": "markdown",
   "metadata": {},
   "source": [
    "\n",
    "\n",
    "\n",
    "\n",
    "\n",
    "Для дальнейшего анализа показателей нам будет полезно сразу посчитать объем родаж каждой игры по всем регионам.\n",
    "Для этого создадим отдельный столбец `sales_total` и запишем в него соответствующие значения:"
   ]
  },
  {
   "cell_type": "code",
   "execution_count": 19,
   "metadata": {},
   "outputs": [],
   "source": [
    "df['sales_total'] = df['na_sales'] + df['eu_sales'] + df['jp_sales']"
   ]
  },
  {
   "cell_type": "code",
   "execution_count": 20,
   "metadata": {},
   "outputs": [
    {
     "data": {
      "text/html": [
       "<div>\n",
       "<style scoped>\n",
       "    .dataframe tbody tr th:only-of-type {\n",
       "        vertical-align: middle;\n",
       "    }\n",
       "\n",
       "    .dataframe tbody tr th {\n",
       "        vertical-align: top;\n",
       "    }\n",
       "\n",
       "    .dataframe thead th {\n",
       "        text-align: right;\n",
       "    }\n",
       "</style>\n",
       "<table border=\"1\" class=\"dataframe\">\n",
       "  <thead>\n",
       "    <tr style=\"text-align: right;\">\n",
       "      <th></th>\n",
       "      <th>name</th>\n",
       "      <th>platform</th>\n",
       "      <th>year_of_release</th>\n",
       "      <th>genre</th>\n",
       "      <th>na_sales</th>\n",
       "      <th>eu_sales</th>\n",
       "      <th>jp_sales</th>\n",
       "      <th>other_sales</th>\n",
       "      <th>critic_score</th>\n",
       "      <th>user_score</th>\n",
       "      <th>rating</th>\n",
       "      <th>sales_total</th>\n",
       "    </tr>\n",
       "  </thead>\n",
       "  <tbody>\n",
       "    <tr>\n",
       "      <td>0</td>\n",
       "      <td>Wii Sports</td>\n",
       "      <td>Wii</td>\n",
       "      <td>2006</td>\n",
       "      <td>Sports</td>\n",
       "      <td>41.36</td>\n",
       "      <td>28.96</td>\n",
       "      <td>3.77</td>\n",
       "      <td>8.45</td>\n",
       "      <td>76</td>\n",
       "      <td>8.0</td>\n",
       "      <td>E</td>\n",
       "      <td>74.09</td>\n",
       "    </tr>\n",
       "    <tr>\n",
       "      <td>1</td>\n",
       "      <td>Super Mario Bros.</td>\n",
       "      <td>NES</td>\n",
       "      <td>1985</td>\n",
       "      <td>Platform</td>\n",
       "      <td>29.08</td>\n",
       "      <td>3.58</td>\n",
       "      <td>6.81</td>\n",
       "      <td>0.77</td>\n",
       "      <td>9999</td>\n",
       "      <td>9999.0</td>\n",
       "      <td>unknown</td>\n",
       "      <td>39.47</td>\n",
       "    </tr>\n",
       "    <tr>\n",
       "      <td>2</td>\n",
       "      <td>Mario Kart Wii</td>\n",
       "      <td>Wii</td>\n",
       "      <td>2008</td>\n",
       "      <td>Racing</td>\n",
       "      <td>15.68</td>\n",
       "      <td>12.76</td>\n",
       "      <td>3.79</td>\n",
       "      <td>3.29</td>\n",
       "      <td>82</td>\n",
       "      <td>8.3</td>\n",
       "      <td>E</td>\n",
       "      <td>32.23</td>\n",
       "    </tr>\n",
       "    <tr>\n",
       "      <td>3</td>\n",
       "      <td>Wii Sports Resort</td>\n",
       "      <td>Wii</td>\n",
       "      <td>2009</td>\n",
       "      <td>Sports</td>\n",
       "      <td>15.61</td>\n",
       "      <td>10.93</td>\n",
       "      <td>3.28</td>\n",
       "      <td>2.95</td>\n",
       "      <td>80</td>\n",
       "      <td>8.0</td>\n",
       "      <td>E</td>\n",
       "      <td>29.82</td>\n",
       "    </tr>\n",
       "    <tr>\n",
       "      <td>4</td>\n",
       "      <td>Pokemon Red/Pokemon Blue</td>\n",
       "      <td>GB</td>\n",
       "      <td>1996</td>\n",
       "      <td>Role-Playing</td>\n",
       "      <td>11.27</td>\n",
       "      <td>8.89</td>\n",
       "      <td>10.22</td>\n",
       "      <td>1.00</td>\n",
       "      <td>9999</td>\n",
       "      <td>9999.0</td>\n",
       "      <td>unknown</td>\n",
       "      <td>30.38</td>\n",
       "    </tr>\n",
       "  </tbody>\n",
       "</table>\n",
       "</div>"
      ],
      "text/plain": [
       "                       name platform  year_of_release         genre  na_sales  \\\n",
       "0                Wii Sports      Wii             2006        Sports     41.36   \n",
       "1         Super Mario Bros.      NES             1985      Platform     29.08   \n",
       "2            Mario Kart Wii      Wii             2008        Racing     15.68   \n",
       "3         Wii Sports Resort      Wii             2009        Sports     15.61   \n",
       "4  Pokemon Red/Pokemon Blue       GB             1996  Role-Playing     11.27   \n",
       "\n",
       "   eu_sales  jp_sales  other_sales  critic_score  user_score   rating  \\\n",
       "0     28.96      3.77         8.45            76         8.0        E   \n",
       "1      3.58      6.81         0.77          9999      9999.0  unknown   \n",
       "2     12.76      3.79         3.29            82         8.3        E   \n",
       "3     10.93      3.28         2.95            80         8.0        E   \n",
       "4      8.89     10.22         1.00          9999      9999.0  unknown   \n",
       "\n",
       "   sales_total  \n",
       "0        74.09  \n",
       "1        39.47  \n",
       "2        32.23  \n",
       "3        29.82  \n",
       "4        30.38  "
      ]
     },
     "execution_count": 20,
     "metadata": {},
     "output_type": "execute_result"
    }
   ],
   "source": [
    "df.head()"
   ]
  },
  {
   "cell_type": "markdown",
   "metadata": {},
   "source": [
    "## Вывод: \n",
    "Мы удалили незначительную часть строк с пропусками в названиях и жанре игр (менее 2%), а так ж заменили пропуски в столбцах рейтингов и оценок артефактными значениями, которые в дальнейшем легко будет исключить из исследования.\n",
    "Так же мы произвели замену типов данных, где это было необходимо, в соответствии со значениями столбцов.\n",
    "\n",
    "Расчитан необходимый доп.параметр - сумма продаж игры по всем регионам.\n",
    "Можно приступать к анализу показателей."
   ]
  },
  {
   "cell_type": "markdown",
   "metadata": {},
   "source": [
    "# 2. Исследовательский анализ данных <a id=\"2\"></a>"
   ]
  },
  {
   "cell_type": "markdown",
   "metadata": {},
   "source": [
    "## 2.1 Объемы продаж по годам\n",
    "Посмотрим для начала объемы продаж игр по годам:"
   ]
  },
  {
   "cell_type": "code",
   "execution_count": 21,
   "metadata": {},
   "outputs": [
    {
     "data": {
      "text/plain": [
       "year_of_release\n",
       "1980       9\n",
       "1981      46\n",
       "1982      36\n",
       "1983      17\n",
       "1984      14\n",
       "1985      14\n",
       "1986      21\n",
       "1987      16\n",
       "1988      15\n",
       "1989      17\n",
       "1990      16\n",
       "1991      41\n",
       "1992      43\n",
       "1993      60\n",
       "1994     121\n",
       "1995     219\n",
       "1996     263\n",
       "1997     289\n",
       "1998     379\n",
       "1999     338\n",
       "2000     350\n",
       "2001     482\n",
       "2002     829\n",
       "2003     775\n",
       "2004     762\n",
       "2005     939\n",
       "2006    1006\n",
       "2007    1197\n",
       "2008    1427\n",
       "2009    1426\n",
       "2010    1255\n",
       "2011    1136\n",
       "2012     653\n",
       "2013     544\n",
       "2014     581\n",
       "2015     606\n",
       "2016     502\n",
       "Name: name, dtype: int64"
      ]
     },
     "execution_count": 21,
     "metadata": {},
     "output_type": "execute_result"
    }
   ],
   "source": [
    "df.groupby('year_of_release')['name'].count()"
   ]
  },
  {
   "cell_type": "markdown",
   "metadata": {},
   "source": [
    "Количество игр, выпускаемых за год, начинает неуклонно расти после 1994 года и резко падает в 2011 году.\n",
    "\n",
    "Посмотрим, как объемы продаж игр распределяются по платформам:\n"
   ]
  },
  {
   "cell_type": "code",
   "execution_count": 22,
   "metadata": {},
   "outputs": [
    {
     "data": {
      "text/plain": [
       "platform\n",
       "PS2     1043.09\n",
       "X360     876.36\n",
       "Wii      813.47\n",
       "PS3      796.75\n",
       "DS       743.74\n",
       "PS       686.89\n",
       "GBA      305.27\n",
       "PS4      265.79\n",
       "PSP      248.77\n",
       "GB       246.27\n",
       "NES      245.74\n",
       "3DS      244.54\n",
       "XB       243.09\n",
       "PC       233.88\n",
       "N64      213.70\n",
       "SNES     196.82\n",
       "GC       191.60\n",
       "XOne     145.05\n",
       "2600      85.64\n",
       "WiiU      76.24\n",
       "PSV       47.38\n",
       "SAT       33.52\n",
       "GEN       27.46\n",
       "DC        15.68\n",
       "SCD        1.81\n",
       "NG         1.44\n",
       "WS         1.42\n",
       "TG16       0.16\n",
       "3DO        0.10\n",
       "GG         0.04\n",
       "PCFX       0.03\n",
       "Name: sales_total, dtype: float64"
      ]
     },
     "execution_count": 22,
     "metadata": {},
     "output_type": "execute_result"
    }
   ],
   "source": [
    "plt_sales = df.groupby('platform')['sales_total'].sum().sort_values(ascending=False)\n",
    "plt_sales\n"
   ]
  },
  {
   "cell_type": "markdown",
   "metadata": {},
   "source": [
    "У нас определились явные лидеры - первые 6 платформ в списке принесли в разы больше прибыли, чем остальные консоли.\n",
    "Отфильтруем данные по лидерам и посмотрим на графике, как их объемы продаж распределены по годам:"
   ]
  },
  {
   "cell_type": "code",
   "execution_count": 23,
   "metadata": {},
   "outputs": [
    {
     "data": {
      "text/html": [
       "<div>\n",
       "<style scoped>\n",
       "    .dataframe tbody tr th:only-of-type {\n",
       "        vertical-align: middle;\n",
       "    }\n",
       "\n",
       "    .dataframe tbody tr th {\n",
       "        vertical-align: top;\n",
       "    }\n",
       "\n",
       "    .dataframe thead th {\n",
       "        text-align: right;\n",
       "    }\n",
       "</style>\n",
       "<table border=\"1\" class=\"dataframe\">\n",
       "  <thead>\n",
       "    <tr style=\"text-align: right;\">\n",
       "      <th></th>\n",
       "      <th>index</th>\n",
       "      <th>name</th>\n",
       "      <th>platform</th>\n",
       "      <th>year_of_release</th>\n",
       "      <th>genre</th>\n",
       "      <th>na_sales</th>\n",
       "      <th>eu_sales</th>\n",
       "      <th>jp_sales</th>\n",
       "      <th>other_sales</th>\n",
       "      <th>critic_score</th>\n",
       "      <th>user_score</th>\n",
       "      <th>rating</th>\n",
       "      <th>sales_total</th>\n",
       "    </tr>\n",
       "  </thead>\n",
       "  <tbody>\n",
       "    <tr>\n",
       "      <td>0</td>\n",
       "      <td>0</td>\n",
       "      <td>Wii Sports</td>\n",
       "      <td>Wii</td>\n",
       "      <td>2006</td>\n",
       "      <td>Sports</td>\n",
       "      <td>41.36</td>\n",
       "      <td>28.96</td>\n",
       "      <td>3.77</td>\n",
       "      <td>8.45</td>\n",
       "      <td>76</td>\n",
       "      <td>8.0</td>\n",
       "      <td>E</td>\n",
       "      <td>74.09</td>\n",
       "    </tr>\n",
       "    <tr>\n",
       "      <td>1</td>\n",
       "      <td>2</td>\n",
       "      <td>Mario Kart Wii</td>\n",
       "      <td>Wii</td>\n",
       "      <td>2008</td>\n",
       "      <td>Racing</td>\n",
       "      <td>15.68</td>\n",
       "      <td>12.76</td>\n",
       "      <td>3.79</td>\n",
       "      <td>3.29</td>\n",
       "      <td>82</td>\n",
       "      <td>8.3</td>\n",
       "      <td>E</td>\n",
       "      <td>32.23</td>\n",
       "    </tr>\n",
       "    <tr>\n",
       "      <td>2</td>\n",
       "      <td>3</td>\n",
       "      <td>Wii Sports Resort</td>\n",
       "      <td>Wii</td>\n",
       "      <td>2009</td>\n",
       "      <td>Sports</td>\n",
       "      <td>15.61</td>\n",
       "      <td>10.93</td>\n",
       "      <td>3.28</td>\n",
       "      <td>2.95</td>\n",
       "      <td>80</td>\n",
       "      <td>8.0</td>\n",
       "      <td>E</td>\n",
       "      <td>29.82</td>\n",
       "    </tr>\n",
       "    <tr>\n",
       "      <td>3</td>\n",
       "      <td>6</td>\n",
       "      <td>New Super Mario Bros.</td>\n",
       "      <td>DS</td>\n",
       "      <td>2006</td>\n",
       "      <td>Platform</td>\n",
       "      <td>11.28</td>\n",
       "      <td>9.14</td>\n",
       "      <td>6.50</td>\n",
       "      <td>2.88</td>\n",
       "      <td>89</td>\n",
       "      <td>8.5</td>\n",
       "      <td>E</td>\n",
       "      <td>26.92</td>\n",
       "    </tr>\n",
       "    <tr>\n",
       "      <td>4</td>\n",
       "      <td>7</td>\n",
       "      <td>Wii Play</td>\n",
       "      <td>Wii</td>\n",
       "      <td>2006</td>\n",
       "      <td>Misc</td>\n",
       "      <td>13.96</td>\n",
       "      <td>9.18</td>\n",
       "      <td>2.93</td>\n",
       "      <td>2.84</td>\n",
       "      <td>58</td>\n",
       "      <td>6.6</td>\n",
       "      <td>E</td>\n",
       "      <td>26.07</td>\n",
       "    </tr>\n",
       "  </tbody>\n",
       "</table>\n",
       "</div>"
      ],
      "text/plain": [
       "   index                   name platform  year_of_release     genre  na_sales  \\\n",
       "0      0             Wii Sports      Wii             2006    Sports     41.36   \n",
       "1      2         Mario Kart Wii      Wii             2008    Racing     15.68   \n",
       "2      3      Wii Sports Resort      Wii             2009    Sports     15.61   \n",
       "3      6  New Super Mario Bros.       DS             2006  Platform     11.28   \n",
       "4      7               Wii Play      Wii             2006      Misc     13.96   \n",
       "\n",
       "   eu_sales  jp_sales  other_sales  critic_score  user_score rating  \\\n",
       "0     28.96      3.77         8.45            76         8.0      E   \n",
       "1     12.76      3.79         3.29            82         8.3      E   \n",
       "2     10.93      3.28         2.95            80         8.0      E   \n",
       "3      9.14      6.50         2.88            89         8.5      E   \n",
       "4      9.18      2.93         2.84            58         6.6      E   \n",
       "\n",
       "   sales_total  \n",
       "0        74.09  \n",
       "1        32.23  \n",
       "2        29.82  \n",
       "3        26.92  \n",
       "4        26.07  "
      ]
     },
     "execution_count": 23,
     "metadata": {},
     "output_type": "execute_result"
    }
   ],
   "source": [
    "names = plt_sales.index[:6]\n",
    "\n",
    "top_platform =  df[df['platform'].isin(names)].reset_index()\n",
    "top_platform.head()\n",
    "\n",
    "\n",
    " "
   ]
  },
  {
   "cell_type": "markdown",
   "metadata": {},
   "source": [
    "<a id=\"plot\"></a>\n",
    "Отобразим продажи на общем графике:"
   ]
  },
  {
   "cell_type": "code",
   "execution_count": 24,
   "metadata": {},
   "outputs": [
    {
     "data": {
      "image/png": "[encoded data removed]",
      "text/plain": [
       "<Figure size 432x288 with 1 Axes>"
      ]
     },
     "metadata": {
      "needs_background": "light"
     },
     "output_type": "display_data"
    }
   ],
   "source": [
    "for name in names:\n",
    "    ax=top_platform[top_platform['platform'] == name].groupby(by='year_of_release')['sales_total'].sum().plot(legend=True, label=name, grid=True)\n",
    "    ax.set_ylabel('Сумма продаж, млн.руб.')\n",
    "    ax.set_xlabel('Год')\n",
    "    ax.set_title('Динамика объемов продаж игр для самых популярных платформ по годам')\n",
    "   "
   ]
  },
  {
   "cell_type": "markdown",
   "metadata": {},
   "source": [
    "### Вывод:\n",
    "Из динамики продаж игр видно, что в среднем пик продаж приходится на первые 3-5 лет после выпуска консоли. \n",
    "\n",
    "Полный цикл жизни платформы составляет 8-10 лет. Таким образом для прогноза на 2017 год достаточно взять данные по продажам за последние 3 года и определить по ним перспективные платформы, по которым за этот период наблюдается рост объемов продаж игр.\n",
    "\n",
    "\n",
    "\n",
    "## 2.2 Выбор наиболее перспективных платформ\n",
    "\n",
    "\n",
    "Мы получили новый датафрейм с данными, которые помогут нам спрогнозировать продажи на 2017 год.\n",
    "Рассмотрим его более подробно.\n",
    "\n",
    "Для дальнейшего исследования отфильтруем таблицу, выбрав данные только за период 2014-2016 года:"
   ]
  },
  {
   "cell_type": "code",
   "execution_count": 25,
   "metadata": {},
   "outputs": [
    {
     "data": {
      "text/html": [
       "<div>\n",
       "<style scoped>\n",
       "    .dataframe tbody tr th:only-of-type {\n",
       "        vertical-align: middle;\n",
       "    }\n",
       "\n",
       "    .dataframe tbody tr th {\n",
       "        vertical-align: top;\n",
       "    }\n",
       "\n",
       "    .dataframe thead th {\n",
       "        text-align: right;\n",
       "    }\n",
       "</style>\n",
       "<table border=\"1\" class=\"dataframe\">\n",
       "  <thead>\n",
       "    <tr style=\"text-align: right;\">\n",
       "      <th></th>\n",
       "      <th>name</th>\n",
       "      <th>platform</th>\n",
       "      <th>year_of_release</th>\n",
       "      <th>genre</th>\n",
       "      <th>na_sales</th>\n",
       "      <th>eu_sales</th>\n",
       "      <th>jp_sales</th>\n",
       "      <th>other_sales</th>\n",
       "      <th>critic_score</th>\n",
       "      <th>user_score</th>\n",
       "      <th>rating</th>\n",
       "      <th>sales_total</th>\n",
       "    </tr>\n",
       "  </thead>\n",
       "  <tbody>\n",
       "    <tr>\n",
       "      <td>31</td>\n",
       "      <td>Call of Duty: Black Ops 3</td>\n",
       "      <td>PS4</td>\n",
       "      <td>2015</td>\n",
       "      <td>Shooter</td>\n",
       "      <td>6.03</td>\n",
       "      <td>5.86</td>\n",
       "      <td>0.36</td>\n",
       "      <td>2.38</td>\n",
       "      <td>9999</td>\n",
       "      <td>9999.0</td>\n",
       "      <td>unknown</td>\n",
       "      <td>12.25</td>\n",
       "    </tr>\n",
       "    <tr>\n",
       "      <td>42</td>\n",
       "      <td>Grand Theft Auto V</td>\n",
       "      <td>PS4</td>\n",
       "      <td>2014</td>\n",
       "      <td>Action</td>\n",
       "      <td>3.96</td>\n",
       "      <td>6.31</td>\n",
       "      <td>0.38</td>\n",
       "      <td>1.97</td>\n",
       "      <td>97</td>\n",
       "      <td>8.3</td>\n",
       "      <td>M</td>\n",
       "      <td>10.65</td>\n",
       "    </tr>\n",
       "    <tr>\n",
       "      <td>47</td>\n",
       "      <td>Pokemon Omega Ruby/Pokemon Alpha Sapphire</td>\n",
       "      <td>3DS</td>\n",
       "      <td>2014</td>\n",
       "      <td>Role-Playing</td>\n",
       "      <td>4.35</td>\n",
       "      <td>3.49</td>\n",
       "      <td>3.10</td>\n",
       "      <td>0.74</td>\n",
       "      <td>9999</td>\n",
       "      <td>9999.0</td>\n",
       "      <td>unknown</td>\n",
       "      <td>10.94</td>\n",
       "    </tr>\n",
       "    <tr>\n",
       "      <td>77</td>\n",
       "      <td>FIFA 16</td>\n",
       "      <td>PS4</td>\n",
       "      <td>2015</td>\n",
       "      <td>Sports</td>\n",
       "      <td>1.12</td>\n",
       "      <td>6.12</td>\n",
       "      <td>0.06</td>\n",
       "      <td>1.28</td>\n",
       "      <td>82</td>\n",
       "      <td>4.3</td>\n",
       "      <td>E</td>\n",
       "      <td>7.30</td>\n",
       "    </tr>\n",
       "    <tr>\n",
       "      <td>87</td>\n",
       "      <td>Star Wars Battlefront (2015)</td>\n",
       "      <td>PS4</td>\n",
       "      <td>2015</td>\n",
       "      <td>Shooter</td>\n",
       "      <td>2.99</td>\n",
       "      <td>3.49</td>\n",
       "      <td>0.22</td>\n",
       "      <td>1.28</td>\n",
       "      <td>9999</td>\n",
       "      <td>9999.0</td>\n",
       "      <td>unknown</td>\n",
       "      <td>6.70</td>\n",
       "    </tr>\n",
       "    <tr>\n",
       "      <td>...</td>\n",
       "      <td>...</td>\n",
       "      <td>...</td>\n",
       "      <td>...</td>\n",
       "      <td>...</td>\n",
       "      <td>...</td>\n",
       "      <td>...</td>\n",
       "      <td>...</td>\n",
       "      <td>...</td>\n",
       "      <td>...</td>\n",
       "      <td>...</td>\n",
       "      <td>...</td>\n",
       "      <td>...</td>\n",
       "    </tr>\n",
       "    <tr>\n",
       "      <td>16703</td>\n",
       "      <td>Strawberry Nauts</td>\n",
       "      <td>PSV</td>\n",
       "      <td>2016</td>\n",
       "      <td>Adventure</td>\n",
       "      <td>0.00</td>\n",
       "      <td>0.00</td>\n",
       "      <td>0.01</td>\n",
       "      <td>0.00</td>\n",
       "      <td>9999</td>\n",
       "      <td>9999.0</td>\n",
       "      <td>unknown</td>\n",
       "      <td>0.01</td>\n",
       "    </tr>\n",
       "    <tr>\n",
       "      <td>16707</td>\n",
       "      <td>Aiyoku no Eustia</td>\n",
       "      <td>PSV</td>\n",
       "      <td>2014</td>\n",
       "      <td>Misc</td>\n",
       "      <td>0.00</td>\n",
       "      <td>0.00</td>\n",
       "      <td>0.01</td>\n",
       "      <td>0.00</td>\n",
       "      <td>9999</td>\n",
       "      <td>9999.0</td>\n",
       "      <td>unknown</td>\n",
       "      <td>0.01</td>\n",
       "    </tr>\n",
       "    <tr>\n",
       "      <td>16710</td>\n",
       "      <td>Samurai Warriors: Sanada Maru</td>\n",
       "      <td>PS3</td>\n",
       "      <td>2016</td>\n",
       "      <td>Action</td>\n",
       "      <td>0.00</td>\n",
       "      <td>0.00</td>\n",
       "      <td>0.01</td>\n",
       "      <td>0.00</td>\n",
       "      <td>9999</td>\n",
       "      <td>9999.0</td>\n",
       "      <td>unknown</td>\n",
       "      <td>0.01</td>\n",
       "    </tr>\n",
       "    <tr>\n",
       "      <td>16712</td>\n",
       "      <td>Haitaka no Psychedelica</td>\n",
       "      <td>PSV</td>\n",
       "      <td>2016</td>\n",
       "      <td>Adventure</td>\n",
       "      <td>0.00</td>\n",
       "      <td>0.00</td>\n",
       "      <td>0.01</td>\n",
       "      <td>0.00</td>\n",
       "      <td>9999</td>\n",
       "      <td>9999.0</td>\n",
       "      <td>unknown</td>\n",
       "      <td>0.01</td>\n",
       "    </tr>\n",
       "    <tr>\n",
       "      <td>16714</td>\n",
       "      <td>Winning Post 8 2016</td>\n",
       "      <td>PSV</td>\n",
       "      <td>2016</td>\n",
       "      <td>Simulation</td>\n",
       "      <td>0.00</td>\n",
       "      <td>0.00</td>\n",
       "      <td>0.01</td>\n",
       "      <td>0.00</td>\n",
       "      <td>9999</td>\n",
       "      <td>9999.0</td>\n",
       "      <td>unknown</td>\n",
       "      <td>0.01</td>\n",
       "    </tr>\n",
       "  </tbody>\n",
       "</table>\n",
       "<p>1689 rows × 12 columns</p>\n",
       "</div>"
      ],
      "text/plain": [
       "                                            name platform  year_of_release  \\\n",
       "31                     Call of Duty: Black Ops 3      PS4             2015   \n",
       "42                            Grand Theft Auto V      PS4             2014   \n",
       "47     Pokemon Omega Ruby/Pokemon Alpha Sapphire      3DS             2014   \n",
       "77                                       FIFA 16      PS4             2015   \n",
       "87                  Star Wars Battlefront (2015)      PS4             2015   \n",
       "...                                          ...      ...              ...   \n",
       "16703                           Strawberry Nauts      PSV             2016   \n",
       "16707                           Aiyoku no Eustia      PSV             2014   \n",
       "16710              Samurai Warriors: Sanada Maru      PS3             2016   \n",
       "16712                    Haitaka no Psychedelica      PSV             2016   \n",
       "16714                        Winning Post 8 2016      PSV             2016   \n",
       "\n",
       "              genre  na_sales  eu_sales  jp_sales  other_sales  critic_score  \\\n",
       "31          Shooter      6.03      5.86      0.36         2.38          9999   \n",
       "42           Action      3.96      6.31      0.38         1.97            97   \n",
       "47     Role-Playing      4.35      3.49      3.10         0.74          9999   \n",
       "77           Sports      1.12      6.12      0.06         1.28            82   \n",
       "87          Shooter      2.99      3.49      0.22         1.28          9999   \n",
       "...             ...       ...       ...       ...          ...           ...   \n",
       "16703     Adventure      0.00      0.00      0.01         0.00          9999   \n",
       "16707          Misc      0.00      0.00      0.01         0.00          9999   \n",
       "16710        Action      0.00      0.00      0.01         0.00          9999   \n",
       "16712     Adventure      0.00      0.00      0.01         0.00          9999   \n",
       "16714    Simulation      0.00      0.00      0.01         0.00          9999   \n",
       "\n",
       "       user_score   rating  sales_total  \n",
       "31         9999.0  unknown        12.25  \n",
       "42            8.3        M        10.65  \n",
       "47         9999.0  unknown        10.94  \n",
       "77            4.3        E         7.30  \n",
       "87         9999.0  unknown         6.70  \n",
       "...           ...      ...          ...  \n",
       "16703      9999.0  unknown         0.01  \n",
       "16707      9999.0  unknown         0.01  \n",
       "16710      9999.0  unknown         0.01  \n",
       "16712      9999.0  unknown         0.01  \n",
       "16714      9999.0  unknown         0.01  \n",
       "\n",
       "[1689 rows x 12 columns]"
      ]
     },
     "execution_count": 25,
     "metadata": {},
     "output_type": "execute_result"
    }
   ],
   "source": [
    "df1 = df.query('year_of_release >= 2014')\n",
    "df1"
   ]
  },
  {
   "cell_type": "markdown",
   "metadata": {},
   "source": [
    "\n",
    "Нас интересует:\n",
    "- тенденции объемов продаж по платформам\n",
    "- выбор наиболее перспективных, растущих по объемам родаж консолей"
   ]
  },
  {
   "cell_type": "code",
   "execution_count": 26,
   "metadata": {},
   "outputs": [
    {
     "data": {
      "text/plain": [
       "platform\n",
       "PS4     243.67\n",
       "XOne    127.84\n",
       "3DS      83.00\n",
       "PS3      58.81\n",
       "X360     43.87\n",
       "WiiU     39.82\n",
       "PC       25.20\n",
       "PSV      20.59\n",
       "Wii       4.67\n",
       "PSP       0.36\n",
       "Name: sales_total, dtype: float64"
      ]
     },
     "execution_count": 26,
     "metadata": {},
     "output_type": "execute_result"
    }
   ],
   "source": [
    "lead_sales = df1.groupby(by='platform')['sales_total'].sum().sort_values(ascending=False)\n",
    "lead_sales\n"
   ]
  },
  {
   "cell_type": "markdown",
   "metadata": {},
   "source": [
    "Лидерами продаж за последние три года являются  **PS4, XOne и 3DS**.\n",
    "\n",
    "За ними следуют PS3 и X360, но по [предыдущему графику](#plot) очевидно, что эти консоли уже прошли пик своей популярности почти 5 лет назад. \n",
    "Следующие по списку консоли - WiiU, Wii, PSP и PC уже выходят с рынка. \n",
    "\n",
    "Построим график для трех лидирующих по продажам консолей и посмотрим их тенденцию:"
   ]
  },
  {
   "cell_type": "code",
   "execution_count": 27,
   "metadata": {},
   "outputs": [],
   "source": [
    "top = lead_sales.index[:3]"
   ]
  },
  {
   "cell_type": "code",
   "execution_count": 28,
   "metadata": {},
   "outputs": [
    {
     "data": {
      "image/png": "[encoded data removed]",
      "text/plain": [
       "<Figure size 432x288 with 1 Axes>"
      ]
     },
     "metadata": {
      "needs_background": "light"
     },
     "output_type": "display_data"
    }
   ],
   "source": [
    "for x in top:\n",
    "    ax=df1[df1['platform']==x].groupby(by='year_of_release')['sales_total'].sum().plot(legend=True, label=x, grid=True)\n",
    "    ax.set_ylabel('Сумма продаж, млн.копий.')\n",
    "    ax.set_xlabel('Год')\n",
    "    ax.set_title('Динамика объемов продаж игр для самых популярных за последние 3 года')\n",
    "    ax.set_xticks(range(2014,2017,1))\n",
    "    \n",
    "    "
   ]
  },
  {
   "cell_type": "markdown",
   "metadata": {},
   "source": [
    "Из графика становится очевидно, что для платформ PS4 и XOne пик популярности пройден 1-2 года назад. \n",
    "\n",
    "Поскольку по [первому графику](#plot) мы опредeлили длительность жизненного цикла платформы на рынке 8-10 лет, то еще 3-4 года после пика популярности платформа продолжат приносить большую прибыль.\n",
    "Поэтому в своем прогнозе на 2017 год эти 2 платформы точно стоит учитывать.\n",
    "\n",
    "С третьим лидером - 3DS ситуация не так однозначна - продажи за 3 года в сумме высоки, на графике отчетливо видна тенденция на спад. Но на следующий год продажи составят еще ощутимую сумму копий, поэтому все 3 платформы мы оставим для дальнейших исследований."
   ]
  },
  {
   "cell_type": "code",
   "execution_count": 29,
   "metadata": {},
   "outputs": [
    {
     "data": {
      "text/plain": [
       "year_of_release\n",
       "2011    58.80\n",
       "2012    48.77\n",
       "2013    53.97\n",
       "2014    41.75\n",
       "2015    26.75\n",
       "2016    14.50\n",
       "Name: sales_total, dtype: float64"
      ]
     },
     "execution_count": 29,
     "metadata": {},
     "output_type": "execute_result"
    }
   ],
   "source": [
    "df.query('platform == \"3DS\"').groupby(by='year_of_release')['sales_total'].sum()"
   ]
  },
  {
   "cell_type": "markdown",
   "metadata": {},
   "source": [
    "\n",
    "### Вывод:\n",
    "Из полученных данных можно сделать вывод, что  в прогнозах на 2017 год необходимо учитывать платформы PS4, XOne и 3DS.\n",
    "\n",
    "\n",
    "\n",
    "## 2.3 Распределение прибыли двух лидирующих платформ\n",
    "Следующим этапом рассмотрим подробнее 2 выбранные нами консоли. Отфильтруем их данные из таблицы лидеров продаж:"
   ]
  },
  {
   "cell_type": "code",
   "execution_count": 30,
   "metadata": {},
   "outputs": [
    {
     "data": {
      "text/html": [
       "<div>\n",
       "<style scoped>\n",
       "    .dataframe tbody tr th:only-of-type {\n",
       "        vertical-align: middle;\n",
       "    }\n",
       "\n",
       "    .dataframe tbody tr th {\n",
       "        vertical-align: top;\n",
       "    }\n",
       "\n",
       "    .dataframe thead th {\n",
       "        text-align: right;\n",
       "    }\n",
       "</style>\n",
       "<table border=\"1\" class=\"dataframe\">\n",
       "  <thead>\n",
       "    <tr style=\"text-align: right;\">\n",
       "      <th></th>\n",
       "      <th>name</th>\n",
       "      <th>platform</th>\n",
       "      <th>year_of_release</th>\n",
       "      <th>genre</th>\n",
       "      <th>na_sales</th>\n",
       "      <th>eu_sales</th>\n",
       "      <th>jp_sales</th>\n",
       "      <th>other_sales</th>\n",
       "      <th>critic_score</th>\n",
       "      <th>user_score</th>\n",
       "      <th>rating</th>\n",
       "      <th>sales_total</th>\n",
       "    </tr>\n",
       "  </thead>\n",
       "  <tbody>\n",
       "    <tr>\n",
       "      <td>31</td>\n",
       "      <td>Call of Duty: Black Ops 3</td>\n",
       "      <td>PS4</td>\n",
       "      <td>2015</td>\n",
       "      <td>Shooter</td>\n",
       "      <td>6.03</td>\n",
       "      <td>5.86</td>\n",
       "      <td>0.36</td>\n",
       "      <td>2.38</td>\n",
       "      <td>9999</td>\n",
       "      <td>9999.0</td>\n",
       "      <td>unknown</td>\n",
       "      <td>12.25</td>\n",
       "    </tr>\n",
       "    <tr>\n",
       "      <td>42</td>\n",
       "      <td>Grand Theft Auto V</td>\n",
       "      <td>PS4</td>\n",
       "      <td>2014</td>\n",
       "      <td>Action</td>\n",
       "      <td>3.96</td>\n",
       "      <td>6.31</td>\n",
       "      <td>0.38</td>\n",
       "      <td>1.97</td>\n",
       "      <td>97</td>\n",
       "      <td>8.3</td>\n",
       "      <td>M</td>\n",
       "      <td>10.65</td>\n",
       "    </tr>\n",
       "    <tr>\n",
       "      <td>47</td>\n",
       "      <td>Pokemon Omega Ruby/Pokemon Alpha Sapphire</td>\n",
       "      <td>3DS</td>\n",
       "      <td>2014</td>\n",
       "      <td>Role-Playing</td>\n",
       "      <td>4.35</td>\n",
       "      <td>3.49</td>\n",
       "      <td>3.10</td>\n",
       "      <td>0.74</td>\n",
       "      <td>9999</td>\n",
       "      <td>9999.0</td>\n",
       "      <td>unknown</td>\n",
       "      <td>10.94</td>\n",
       "    </tr>\n",
       "    <tr>\n",
       "      <td>77</td>\n",
       "      <td>FIFA 16</td>\n",
       "      <td>PS4</td>\n",
       "      <td>2015</td>\n",
       "      <td>Sports</td>\n",
       "      <td>1.12</td>\n",
       "      <td>6.12</td>\n",
       "      <td>0.06</td>\n",
       "      <td>1.28</td>\n",
       "      <td>82</td>\n",
       "      <td>4.3</td>\n",
       "      <td>E</td>\n",
       "      <td>7.30</td>\n",
       "    </tr>\n",
       "    <tr>\n",
       "      <td>87</td>\n",
       "      <td>Star Wars Battlefront (2015)</td>\n",
       "      <td>PS4</td>\n",
       "      <td>2015</td>\n",
       "      <td>Shooter</td>\n",
       "      <td>2.99</td>\n",
       "      <td>3.49</td>\n",
       "      <td>0.22</td>\n",
       "      <td>1.28</td>\n",
       "      <td>9999</td>\n",
       "      <td>9999.0</td>\n",
       "      <td>unknown</td>\n",
       "      <td>6.70</td>\n",
       "    </tr>\n",
       "  </tbody>\n",
       "</table>\n",
       "</div>"
      ],
      "text/plain": [
       "                                         name platform  year_of_release  \\\n",
       "31                  Call of Duty: Black Ops 3      PS4             2015   \n",
       "42                         Grand Theft Auto V      PS4             2014   \n",
       "47  Pokemon Omega Ruby/Pokemon Alpha Sapphire      3DS             2014   \n",
       "77                                    FIFA 16      PS4             2015   \n",
       "87               Star Wars Battlefront (2015)      PS4             2015   \n",
       "\n",
       "           genre  na_sales  eu_sales  jp_sales  other_sales  critic_score  \\\n",
       "31       Shooter      6.03      5.86      0.36         2.38          9999   \n",
       "42        Action      3.96      6.31      0.38         1.97            97   \n",
       "47  Role-Playing      4.35      3.49      3.10         0.74          9999   \n",
       "77        Sports      1.12      6.12      0.06         1.28            82   \n",
       "87       Shooter      2.99      3.49      0.22         1.28          9999   \n",
       "\n",
       "    user_score   rating  sales_total  \n",
       "31      9999.0  unknown        12.25  \n",
       "42         8.3        M        10.65  \n",
       "47      9999.0  unknown        10.94  \n",
       "77         4.3        E         7.30  \n",
       "87      9999.0  unknown         6.70  "
      ]
     },
     "execution_count": 30,
     "metadata": {},
     "output_type": "execute_result"
    }
   ],
   "source": [
    "df2 = df1.query('platform == (\"PS4\",\"XOne\",\"3DS\")')\n",
    "df2.head()"
   ]
  },
  {
   "cell_type": "markdown",
   "metadata": {},
   "source": [
    "Построим график распределения общих продаж игр по этим платформам:"
   ]
  },
  {
   "cell_type": "code",
   "execution_count": 31,
   "metadata": {},
   "outputs": [
    {
     "data": {
      "text/plain": [
       "Text(0.5, 1.0, 'График распределения объемов продаж по платформам')"
      ]
     },
     "execution_count": 31,
     "metadata": {},
     "output_type": "execute_result"
    },
    {
     "data": {
      "image/png": "[encoded data removed]",
      "text/plain": [
       "<Figure size 432x288 with 1 Axes>"
      ]
     },
     "metadata": {
      "needs_background": "light"
     },
     "output_type": "display_data"
    }
   ],
   "source": [
    "ax = sns.boxplot(x='platform', y='sales_total', data=df2)\n",
    "ax.set_title('График распределения объемов продаж по платформам')"
   ]
  },
  {
   "cell_type": "code",
   "execution_count": 32,
   "metadata": {},
   "outputs": [
    {
     "data": {
      "text/plain": [
       "count    376.000000\n",
       "mean       0.648059\n",
       "std        1.358995\n",
       "min        0.010000\n",
       "25%        0.050000\n",
       "50%        0.160000\n",
       "75%        0.580000\n",
       "max       12.250000\n",
       "Name: sales_total, dtype: float64"
      ]
     },
     "execution_count": 32,
     "metadata": {},
     "output_type": "execute_result"
    }
   ],
   "source": [
    "df2.query('platform==\"PS4\"')['sales_total'].describe()"
   ]
  },
  {
   "cell_type": "code",
   "execution_count": 33,
   "metadata": {},
   "outputs": [
    {
     "data": {
      "text/plain": [
       "count    228.000000\n",
       "mean       0.560702\n",
       "std        0.951956\n",
       "min        0.010000\n",
       "25%        0.050000\n",
       "50%        0.185000\n",
       "75%        0.575000\n",
       "max        6.710000\n",
       "Name: sales_total, dtype: float64"
      ]
     },
     "execution_count": 33,
     "metadata": {},
     "output_type": "execute_result"
    }
   ],
   "source": [
    "df2.query('platform==\"XOne\"')['sales_total'].describe()"
   ]
  },
  {
   "cell_type": "code",
   "execution_count": 34,
   "metadata": {},
   "outputs": [
    {
     "data": {
      "text/plain": [
       "count    212.000000\n",
       "mean       0.391509\n",
       "std        1.122935\n",
       "min        0.010000\n",
       "25%        0.030000\n",
       "50%        0.080000\n",
       "75%        0.230000\n",
       "max       10.940000\n",
       "Name: sales_total, dtype: float64"
      ]
     },
     "execution_count": 34,
     "metadata": {},
     "output_type": "execute_result"
    }
   ],
   "source": [
    "df2.query('platform==\"3DS\"')['sales_total'].describe()"
   ]
  },
  {
   "cell_type": "markdown",
   "metadata": {},
   "source": [
    "У трех платформ схожее распределение прибыли от игр: есть много выбросов в сторону бОльших значений, т.е. игр, которые значительно превосходили по популярности средний показатель. Это подтверждается так же и существенным различием значений среднего и медианы по всем платформам.\n",
    "\n",
    "\n",
    "На платформе **PS4** игра в среднем продается в 160.000 копий (об этом мы судим по медиане, т.к. среднее слишком искажено большими зачениями). Продажи большинства игр (75%) не превышает 580.000 копий. Но есть игры, которые продаваемые всего в 10.000 копий или мега-популярные, которых продали более  12 млн.\n",
    "\n",
    "\n",
    "У **XOne** схожие показатели средних объемов продаж - 185.000 копий,  а продажи большинства игр не превышает 575.000 копий. Среди игр так же есть отдельные варианты с минимальным объемами продаж - 10.000, а самые популярные продаются объемами почти 7 млн. копий. \n",
    "\n",
    "Плаформа **3DS** в среднем имеет объемы продаж 80.000 копий каждый игры, но разброс между менее продаваемыми и самыми популярынми составляет от 10.000 до почти 11 млн.копий\n",
    "\n",
    "\n",
    "### Вывод:\n",
    "\n",
    "Распределение прибыли по платформам в целом схожее: много больших выбросов по отдельным супер-популярным играм.\n",
    "В среднем каждая игра для на **PS4** и **XOne** продается объемом 160-180.000 копий, у **3DS**  этот показатель в 2 раза скромнее.\n"
   ]
  },
  {
   "cell_type": "markdown",
   "metadata": {},
   "source": [
    "\n",
    "## 2.4 Зависимость прибыли от оценок критиков и пользователей\n",
    "\n",
    "Посмотрим, насколько объемы продаж по самым популярным платформам зависят от оценок критиков и пользователей.\n",
    "Сначала проверим корреляцию для **PlayStation**:"
   ]
  },
  {
   "cell_type": "code",
   "execution_count": 35,
   "metadata": {},
   "outputs": [
    {
     "data": {
      "text/plain": [
       "0.4021203477635433"
      ]
     },
     "execution_count": 35,
     "metadata": {},
     "output_type": "execute_result"
    }
   ],
   "source": [
    "df2.query('platform==\"PS4\"and critic_score!=9999')['sales_total'].corr(df2.query('platform==\"PS4\" and critic_score!=9999')['critic_score'])"
   ]
  },
  {
   "cell_type": "markdown",
   "metadata": {},
   "source": [
    "Мы получили коэффициент Пирсона = 0,4 - это говорит о наличии прямой зависимости между оценками критиков и объемами продаж PS4. Значение не нулевое, но гораздо меньше 1, поэтому существенного влияния оценки критиков на продажи не оказывают.\n",
    "Посмотрим, как это отобразится на диаграмме рассеивания:"
   ]
  },
  {
   "cell_type": "code",
   "execution_count": 36,
   "metadata": {},
   "outputs": [
    {
     "data": {
      "text/plain": [
       "<matplotlib.axes._subplots.AxesSubplot at 0x7fd3c68c7e50>"
      ]
     },
     "execution_count": 36,
     "metadata": {},
     "output_type": "execute_result"
    },
    {
     "data": {
      "image/png": "[encoded data removed]",
      "text/plain": [
       "<Figure size 432x288 with 1 Axes>"
      ]
     },
     "metadata": {
      "needs_background": "light"
     },
     "output_type": "display_data"
    }
   ],
   "source": [
    "df2.query('platform==\"PS4\" and critic_score!=9999').plot(x='sales_total', y='critic_score', kind='scatter')"
   ]
  },
  {
   "cell_type": "markdown",
   "metadata": {},
   "source": [
    "По диаграмме можно сделать вывод, что игры, продающиеся бОльшим тиражом, как правило имеют высокие оценки критиков (70-95 баллов). А среди игр, приносящих вышедшие в объеме мене 1 млн копий очень большой разброс оценок: игры в одном диапзоне популярности могут получать и очень низкие и очень высокие оценки. Что подтверждает наши расчеты - степень корреляции между этими показателями низкая."
   ]
  },
  {
   "cell_type": "markdown",
   "metadata": {},
   "source": [
    "Теперь рассчитаем корреляцию между продажами и оценками юзеров, построим для этих показателей диаграмму рессеивания:"
   ]
  },
  {
   "cell_type": "code",
   "execution_count": 37,
   "metadata": {},
   "outputs": [
    {
     "data": {
      "text/plain": [
       "-0.039364345213287334"
      ]
     },
     "execution_count": 37,
     "metadata": {},
     "output_type": "execute_result"
    }
   ],
   "source": [
    "df2.query('platform==\"PS4\"and user_score!=9999')['sales_total'].corr(df2.query('platform==\"PS4\"and user_score!=9999')['user_score'])"
   ]
  },
  {
   "cell_type": "code",
   "execution_count": 38,
   "metadata": {},
   "outputs": [
    {
     "data": {
      "text/plain": [
       "<matplotlib.axes._subplots.AxesSubplot at 0x7fd3c689e550>"
      ]
     },
     "execution_count": 38,
     "metadata": {},
     "output_type": "execute_result"
    },
    {
     "data": {
      "image/png": "[encoded data removed]",
      "text/plain": [
       "<Figure size 432x288 with 1 Axes>"
      ]
     },
     "metadata": {
      "needs_background": "light"
     },
     "output_type": "display_data"
    }
   ],
   "source": [
    "df2.query('platform==\"PS4\" and user_score!=9999').plot(x='sales_total', y='user_score', kind='scatter')"
   ]
  },
  {
   "cell_type": "markdown",
   "metadata": {},
   "source": [
    "Коэффициент Пирсона ничтожно мал, что говорит об отсутствии корреляции между продажами и оценкой пользователей.\n",
    "Этот вывод подтверждает и диаграмма, на которой виден большой разброс оценок и отсутствие явных взаимосвязей.\n",
    "\n",
    "\n",
    "\n",
    "\n",
    "Теперь посмотрим, аналогичные показатели для платформы **XBox**:"
   ]
  },
  {
   "cell_type": "code",
   "execution_count": 39,
   "metadata": {},
   "outputs": [
    {
     "data": {
      "text/plain": [
       "0.4286498963779636"
      ]
     },
     "execution_count": 39,
     "metadata": {},
     "output_type": "execute_result"
    }
   ],
   "source": [
    "df2.query('platform==\"XOne\" and critic_score!=9999')['sales_total'].corr(df2.query('platform==\"XOne\" and critic_score!=9999')['critic_score'])"
   ]
  },
  {
   "cell_type": "code",
   "execution_count": 40,
   "metadata": {},
   "outputs": [
    {
     "data": {
      "text/plain": [
       "<matplotlib.axes._subplots.AxesSubplot at 0x7fd3c679cb50>"
      ]
     },
     "execution_count": 40,
     "metadata": {},
     "output_type": "execute_result"
    },
    {
     "data": {
      "image/png": "[encoded data removed]",
      "text/plain": [
       "<Figure size 432x288 with 1 Axes>"
      ]
     },
     "metadata": {
      "needs_background": "light"
     },
     "output_type": "display_data"
    }
   ],
   "source": [
    "df2.query('platform==\"XOne\" and critic_score!=9999').plot(x='sales_total', y='critic_score', kind='scatter')"
   ]
  },
  {
   "cell_type": "markdown",
   "metadata": {},
   "source": [
    "Между оценками критиков и продажами игр платформы XOne наблюдается прямая взаимосвязь, но коэффициент как и у PS4 гораздо меньше 1, что говорит о слабом влиянии оценок на заработки компании.\n",
    "\n",
    "По диаграмме мы можем определить, что игры приносящие больше 1 млн.долл. как правило имеют высокие оценки киритиков. \n",
    "Но подавляющее большинство игр приносит доходы менее 1 млн.долл. и оценки в этой категории распределены совершенно хаотично."
   ]
  },
  {
   "cell_type": "code",
   "execution_count": 41,
   "metadata": {},
   "outputs": [
    {
     "data": {
      "text/plain": [
       "-0.07039252638189664"
      ]
     },
     "execution_count": 41,
     "metadata": {},
     "output_type": "execute_result"
    }
   ],
   "source": [
    "df2.query('platform==\"XOne\"and user_score!=9999')['sales_total'].corr(df2.query('platform==\"XOne\" and user_score!=9999')['user_score'])"
   ]
  },
  {
   "cell_type": "code",
   "execution_count": 42,
   "metadata": {},
   "outputs": [
    {
     "data": {
      "text/plain": [
       "<matplotlib.axes._subplots.AxesSubplot at 0x7fd3c6715f50>"
      ]
     },
     "execution_count": 42,
     "metadata": {},
     "output_type": "execute_result"
    },
    {
     "data": {
      "image/png": "[encoded data removed]",
      "text/plain": [
       "<Figure size 432x288 with 1 Axes>"
      ]
     },
     "metadata": {
      "needs_background": "light"
     },
     "output_type": "display_data"
    }
   ],
   "source": [
    "df2.query('platform==\"XOne\" and user_score!=9999').plot(x='sales_total', y='user_score', kind='scatter')"
   ]
  },
  {
   "cell_type": "markdown",
   "metadata": {},
   "source": [
    "\n",
    "Зависимость продаж платформы XOne от оценок пользователей ничтожно мала, о чем свидетельсвует низкий коэф. Пирсона и диаграмма рассеивания: как игры, приносящие до 1 млн.долл., так и более успешные продукты компании имеют и очень низкие, и очень высокие оценки."
   ]
  },
  {
   "cell_type": "markdown",
   "metadata": {},
   "source": [
    "Посмотрим взаимосвязи оценок и продаж по третьей платформе **3DS**:"
   ]
  },
  {
   "cell_type": "code",
   "execution_count": 43,
   "metadata": {},
   "outputs": [
    {
     "data": {
      "text/plain": [
       "0.3117520311601232"
      ]
     },
     "execution_count": 43,
     "metadata": {},
     "output_type": "execute_result"
    }
   ],
   "source": [
    "df2.query('platform==\"3DS\" and critic_score!=9999')['sales_total'].corr(df2.query('platform==\"3DS\" and critic_score!=9999')['critic_score'])"
   ]
  },
  {
   "cell_type": "code",
   "execution_count": 44,
   "metadata": {},
   "outputs": [
    {
     "data": {
      "text/plain": [
       "<matplotlib.axes._subplots.AxesSubplot at 0x7fd3c66faf10>"
      ]
     },
     "execution_count": 44,
     "metadata": {},
     "output_type": "execute_result"
    },
    {
     "data": {
      "image/png": "[encoded data removed]",
      "text/plain": [
       "<Figure size 432x288 with 1 Axes>"
      ]
     },
     "metadata": {
      "needs_background": "light"
     },
     "output_type": "display_data"
    }
   ],
   "source": [
    "df2.query('platform==\"3DS\" and critic_score!=9999').plot(x='sales_total', y='critic_score', kind='scatter')"
   ]
  },
  {
   "cell_type": "markdown",
   "metadata": {},
   "source": [
    "Низкий коэффициент Пирсона и диаграмма свидетельствуют о крайне низком влиянии оценок критиков на продажи игр 3DS.\n",
    "Можно выделить слабый тренд: игры с объемом продаж более полумиллиона копий имеют оценки выше среднего. Но основная масса игр продается меньшим тиражом и в оценках у них очень большой разброс .\n"
   ]
  },
  {
   "cell_type": "code",
   "execution_count": 45,
   "metadata": {},
   "outputs": [
    {
     "data": {
      "text/plain": [
       "0.21461640035191556"
      ]
     },
     "execution_count": 45,
     "metadata": {},
     "output_type": "execute_result"
    }
   ],
   "source": [
    "df2.query('platform==\"3DS\"and user_score!=9999')['sales_total'].corr(df2.query('platform==\"3DS\" and user_score!=9999')['user_score'])"
   ]
  },
  {
   "cell_type": "code",
   "execution_count": 46,
   "metadata": {},
   "outputs": [
    {
     "data": {
      "text/plain": [
       "<matplotlib.axes._subplots.AxesSubplot at 0x7fd3c7166f50>"
      ]
     },
     "execution_count": 46,
     "metadata": {},
     "output_type": "execute_result"
    },
    {
     "data": {
      "image/png": "[encoded data removed]",
      "text/plain": [
       "<Figure size 432x288 with 1 Axes>"
      ]
     },
     "metadata": {
      "needs_background": "light"
     },
     "output_type": "display_data"
    }
   ],
   "source": [
    "df2.query('platform==\"3DS\" and user_score!=9999').plot(x='sales_total', y='user_score', kind='scatter')"
   ]
  },
  {
   "cell_type": "markdown",
   "metadata": {},
   "source": [
    "Аналогично обстоит ситуация и с оценками юзеров - продажи игр 3DS от них практически не зависят."
   ]
  },
  {
   "cell_type": "markdown",
   "metadata": {},
   "source": [
    "**ВЫВОД:**\n",
    "\n",
    "По трем топовым платформам можно сделать вывод, что оценка критиков оказывает на продажи  игр крайне слабое значение.\n",
    "Некая тенденция заметна только в категории сверхпопулярных игр - их оценки выше среднего. Но подавляющее большинство игр, чьи тиражи не превышают полумиллиона экземпляров, получают крайне разнородные оценки критиков.\n",
    "\n",
    "Оценки пользователей не оказывают влияния на продажи игр топовых платформ.\n",
    "\n"
   ]
  },
  {
   "cell_type": "markdown",
   "metadata": {},
   "source": [
    "Сравним данные с корреляцией по **другим платформам:**\n",
    "\n",
    "Для начала получим список платформ за наш актуальный период исследования:"
   ]
  },
  {
   "cell_type": "code",
   "execution_count": 47,
   "metadata": {},
   "outputs": [
    {
     "data": {
      "text/plain": [
       "array(['WiiU', 'PS3', 'X360', 'PC', 'Wii', 'PSV', 'PSP'], dtype=object)"
      ]
     },
     "execution_count": 47,
     "metadata": {},
     "output_type": "execute_result"
    }
   ],
   "source": [
    "platforms = df.query('year_of_release >=2014 and platform!=(\"PS4\", \"XOne\", \"3DS\")')['platform'].unique()\n",
    "platforms"
   ]
  },
  {
   "cell_type": "markdown",
   "metadata": {},
   "source": [
    "Теперь с помощью циклов построим графики корреляции продаж и оценок:"
   ]
  },
  {
   "cell_type": "code",
   "execution_count": 48,
   "metadata": {},
   "outputs": [
    {
     "data": {
      "image/png": "[encoded data removed]",
      "text/plain": [
       "<Figure size 432x288 with 1 Axes>"
      ]
     },
     "metadata": {
      "needs_background": "light"
     },
     "output_type": "display_data"
    },
    {
     "data": {
      "image/png": "[encoded data removed]",
      "text/plain": [
       "<Figure size 432x288 with 1 Axes>"
      ]
     },
     "metadata": {
      "needs_background": "light"
     },
     "output_type": "display_data"
    },
    {
     "data": {
      "image/png": "[encoded data removed]",
      "text/plain": [
       "<Figure size 432x288 with 1 Axes>"
      ]
     },
     "metadata": {
      "needs_background": "light"
     },
     "output_type": "display_data"
    },
    {
     "data": {
      "image/png": "[encoded data removed]",
      "text/plain": [
       "<Figure size 432x288 with 1 Axes>"
      ]
     },
     "metadata": {
      "needs_background": "light"
     },
     "output_type": "display_data"
    },
    {
     "data": {
      "image/png": "[encoded data removed]",
      "text/plain": [
       "<Figure size 432x288 with 1 Axes>"
      ]
     },
     "metadata": {
      "needs_background": "light"
     },
     "output_type": "display_data"
    },
    {
     "data": {
      "image/png": "[encoded data removed]",
      "text/plain": [
       "<Figure size 432x288 with 1 Axes>"
      ]
     },
     "metadata": {
      "needs_background": "light"
     },
     "output_type": "display_data"
    },
    {
     "data": {
      "image/png": "[encoded data removed]",
      "text/plain": [
       "<Figure size 432x288 with 1 Axes>"
      ]
     },
     "metadata": {
      "needs_background": "light"
     },
     "output_type": "display_data"
    }
   ],
   "source": [
    "for name in platforms:\n",
    "    ax=df[(df['platform'] == name) & (df['user_score']!=9999)].plot(x='sales_total', y='user_score', kind='scatter')\n",
    "    ax.set_ylabel('Оценка пользователей')\n",
    "    ax.set_xlabel('Объем продаж, млн.копий')\n",
    "    ax.set_title(name)\n",
    "   "
   ]
  },
  {
   "cell_type": "markdown",
   "metadata": {},
   "source": [
    "\n",
    "На графиках  платформа `Wii`, `PSP`, `WiiU` заметна слабая тенденция - высокие оценки у самых популярынх игр. Но количество подобных игр настолько малО, относительно общего числа выпускаемых игр, что в целом мы делаем вывод: оценки юзров имеют слабое влияние на объемы продаж других платформ. Что повторяет вывод по топовым консолям."
   ]
  },
  {
   "cell_type": "markdown",
   "metadata": {},
   "source": [
    "Теперь проверим степень влияния оценок критиков:\n"
   ]
  },
  {
   "cell_type": "code",
   "execution_count": 49,
   "metadata": {},
   "outputs": [
    {
     "data": {
      "image/png": "[encoded data removed]",
      "text/plain": [
       "<Figure size 432x288 with 1 Axes>"
      ]
     },
     "metadata": {
      "needs_background": "light"
     },
     "output_type": "display_data"
    },
    {
     "data": {
      "image/png": "[encoded data removed]",
      "text/plain": [
       "<Figure size 432x288 with 1 Axes>"
      ]
     },
     "metadata": {
      "needs_background": "light"
     },
     "output_type": "display_data"
    },
    {
     "data": {
      "image/png": "[encoded data removed]",
      "text/plain": [
       "<Figure size 432x288 with 1 Axes>"
      ]
     },
     "metadata": {
      "needs_background": "light"
     },
     "output_type": "display_data"
    },
    {
     "data": {
      "image/png": "[encoded data removed]",
      "text/plain": [
       "<Figure size 432x288 with 1 Axes>"
      ]
     },
     "metadata": {
      "needs_background": "light"
     },
     "output_type": "display_data"
    },
    {
     "data": {
      "image/png": "[encoded data removed]",
      "text/plain": [
       "<Figure size 432x288 with 1 Axes>"
      ]
     },
     "metadata": {
      "needs_background": "light"
     },
     "output_type": "display_data"
    },
    {
     "data": {
      "image/png": "[encoded data removed]",
      "text/plain": [
       "<Figure size 432x288 with 1 Axes>"
      ]
     },
     "metadata": {
      "needs_background": "light"
     },
     "output_type": "display_data"
    },
    {
     "data": {
      "image/png": "[encoded data removed]",
      "text/plain": [
       "<Figure size 432x288 with 1 Axes>"
      ]
     },
     "metadata": {
      "needs_background": "light"
     },
     "output_type": "display_data"
    }
   ],
   "source": [
    "for name in platforms:\n",
    "    ax=df[(df['platform'] == name) & (df['critic_score']!=9999)].plot(x='sales_total', y='critic_score', kind='scatter')\n",
    "    ax.set_ylabel('Оценка критиков')\n",
    "    ax.set_xlabel('Объем продаж, млн.копий')\n",
    "    ax.set_title(name)"
   ]
  },
  {
   "cell_type": "markdown",
   "metadata": {},
   "source": [
    "На диаграммах рассеяния картина соответствует выводам по топовым консолям: есть слабая положительная корреляция между оценками критиков и объемами продаж. Чем больше объем продаж - тем выше у игры оценка. \n",
    "\n",
    "Эта тенденция заметна только на популярных играх тиражом более полумиллиона копий. Продажи подавляющего большинства производимых игр не чувствительны к оценкам критиков и имеют в этом показателе большой размах."
   ]
  },
  {
   "cell_type": "markdown",
   "metadata": {},
   "source": [
    "## Вывод:\n",
    "\n",
    "\n",
    "Зависимость объемов продаж игр по всем консолям (в том числе и самым популярным) не подверждена влиянию оценок пользователей.\n",
    "Продажи самых топовых игр (как правило, с тиражом боле полумиллиона копий) имеют слабую прямую зависимость от оценок критиков. Объемы продаж подавляющего большинства производимых игр от оценок критиков так же не зависят."
   ]
  },
  {
   "cell_type": "markdown",
   "metadata": {},
   "source": [
    "## 2.5 Распределение игр по жанрам"
   ]
  },
  {
   "cell_type": "markdown",
   "metadata": {},
   "source": [
    "Проверим, как в целом распределяются продажи в зависимости от жанра игры.\n",
    "\n",
    "Для этого составим сводную таблицу, в которой рассчитаем общий доход каждого жанра в млн.долл., сумму игр, выпущенных в этом жанре, а так же средний доход с одной игры:"
   ]
  },
  {
   "cell_type": "code",
   "execution_count": 50,
   "metadata": {},
   "outputs": [
    {
     "data": {
      "text/html": [
       "<div>\n",
       "<style scoped>\n",
       "    .dataframe tbody tr th:only-of-type {\n",
       "        vertical-align: middle;\n",
       "    }\n",
       "\n",
       "    .dataframe tbody tr th {\n",
       "        vertical-align: top;\n",
       "    }\n",
       "\n",
       "    .dataframe thead th {\n",
       "        text-align: right;\n",
       "    }\n",
       "</style>\n",
       "<table border=\"1\" class=\"dataframe\">\n",
       "  <thead>\n",
       "    <tr style=\"text-align: right;\">\n",
       "      <th></th>\n",
       "      <th>sum</th>\n",
       "      <th>count</th>\n",
       "      <th>mean</th>\n",
       "    </tr>\n",
       "    <tr>\n",
       "      <th>genre</th>\n",
       "      <th></th>\n",
       "      <th></th>\n",
       "      <th></th>\n",
       "    </tr>\n",
       "  </thead>\n",
       "  <tbody>\n",
       "    <tr>\n",
       "      <td>Action</td>\n",
       "      <td>176.79</td>\n",
       "      <td>619</td>\n",
       "      <td>0.285606</td>\n",
       "    </tr>\n",
       "    <tr>\n",
       "      <td>Shooter</td>\n",
       "      <td>149.41</td>\n",
       "      <td>128</td>\n",
       "      <td>1.167266</td>\n",
       "    </tr>\n",
       "    <tr>\n",
       "      <td>Sports</td>\n",
       "      <td>95.12</td>\n",
       "      <td>161</td>\n",
       "      <td>0.590807</td>\n",
       "    </tr>\n",
       "    <tr>\n",
       "      <td>Role-Playing</td>\n",
       "      <td>92.80</td>\n",
       "      <td>221</td>\n",
       "      <td>0.419910</td>\n",
       "    </tr>\n",
       "    <tr>\n",
       "      <td>Misc</td>\n",
       "      <td>33.52</td>\n",
       "      <td>113</td>\n",
       "      <td>0.296637</td>\n",
       "    </tr>\n",
       "    <tr>\n",
       "      <td>Fighting</td>\n",
       "      <td>25.49</td>\n",
       "      <td>60</td>\n",
       "      <td>0.424833</td>\n",
       "    </tr>\n",
       "    <tr>\n",
       "      <td>Racing</td>\n",
       "      <td>24.63</td>\n",
       "      <td>69</td>\n",
       "      <td>0.356957</td>\n",
       "    </tr>\n",
       "    <tr>\n",
       "      <td>Platform</td>\n",
       "      <td>16.28</td>\n",
       "      <td>38</td>\n",
       "      <td>0.428421</td>\n",
       "    </tr>\n",
       "    <tr>\n",
       "      <td>Adventure</td>\n",
       "      <td>15.73</td>\n",
       "      <td>185</td>\n",
       "      <td>0.085027</td>\n",
       "    </tr>\n",
       "    <tr>\n",
       "      <td>Simulation</td>\n",
       "      <td>12.24</td>\n",
       "      <td>44</td>\n",
       "      <td>0.278182</td>\n",
       "    </tr>\n",
       "    <tr>\n",
       "      <td>Strategy</td>\n",
       "      <td>3.72</td>\n",
       "      <td>37</td>\n",
       "      <td>0.100541</td>\n",
       "    </tr>\n",
       "    <tr>\n",
       "      <td>Puzzle</td>\n",
       "      <td>2.10</td>\n",
       "      <td>14</td>\n",
       "      <td>0.150000</td>\n",
       "    </tr>\n",
       "  </tbody>\n",
       "</table>\n",
       "</div>"
      ],
      "text/plain": [
       "                 sum  count      mean\n",
       "genre                                \n",
       "Action        176.79    619  0.285606\n",
       "Shooter       149.41    128  1.167266\n",
       "Sports         95.12    161  0.590807\n",
       "Role-Playing   92.80    221  0.419910\n",
       "Misc           33.52    113  0.296637\n",
       "Fighting       25.49     60  0.424833\n",
       "Racing         24.63     69  0.356957\n",
       "Platform       16.28     38  0.428421\n",
       "Adventure      15.73    185  0.085027\n",
       "Simulation     12.24     44  0.278182\n",
       "Strategy        3.72     37  0.100541\n",
       "Puzzle          2.10     14  0.150000"
      ]
     },
     "execution_count": 50,
     "metadata": {},
     "output_type": "execute_result"
    }
   ],
   "source": [
    "df1.groupby(by='genre')['sales_total'].agg(['sum','count','mean']).sort_values(by='sum', ascending=False)\n"
   ]
  },
  {
   "cell_type": "markdown",
   "metadata": {},
   "source": [
    "### Вывод\n",
    "\n",
    "Несколько жанров явно лидируют о объемам продаж: \n",
    "- `Action`\n",
    "- `Shooter`\n",
    "- `Sports`\n",
    "- `Role-Playing`\n",
    "\n",
    "Остальные жанры приносят в разы меньше прибыли. Самыми низкими продажами отличаются:\n",
    "- `Strategy`\n",
    "- `Puzzle`\n",
    "\n",
    "Интересно, что жанр `Action`, являясь безусловным лидером по общем доходу, достигает своих показателей благодаря огромному количеству выпускаемых игр - их выходит в 3-4 раза больше, чем в других топовых жанрах.\n",
    "Самым доходным жанром в расчете на одну игру являются стрелялки `Shooter` -  в среднем каждая игра приносит создателям более 1 млн.долларов."
   ]
  },
  {
   "cell_type": "markdown",
   "metadata": {},
   "source": [
    "# 3. Портрет пользователя каждого региона <a id=\"3\"></a>"
   ]
  },
  {
   "cell_type": "markdown",
   "metadata": {},
   "source": [
    "Для более точного прогноза нам стоит составить портрет пользователя в каждом регионе продаж.\n",
    "\n",
    "Выясним для каждого региона:\n",
    " - топ-5 самых популярных платформ\n",
    " - топ 5 самых популярных жанров\n",
    " - влияние рейтинга ESRB на продажи в регионе\n",
    " \n",
    "## 3.1 Северная Америка"
   ]
  },
  {
   "cell_type": "code",
   "execution_count": 51,
   "metadata": {},
   "outputs": [
    {
     "data": {
      "text/html": [
       "<div>\n",
       "<style scoped>\n",
       "    .dataframe tbody tr th:only-of-type {\n",
       "        vertical-align: middle;\n",
       "    }\n",
       "\n",
       "    .dataframe tbody tr th {\n",
       "        vertical-align: top;\n",
       "    }\n",
       "\n",
       "    .dataframe thead th {\n",
       "        text-align: right;\n",
       "    }\n",
       "</style>\n",
       "<table border=\"1\" class=\"dataframe\">\n",
       "  <thead>\n",
       "    <tr style=\"text-align: right;\">\n",
       "      <th></th>\n",
       "      <th>sum</th>\n",
       "    </tr>\n",
       "    <tr>\n",
       "      <th>platform</th>\n",
       "      <th></th>\n",
       "    </tr>\n",
       "  </thead>\n",
       "  <tbody>\n",
       "    <tr>\n",
       "      <td>PS4</td>\n",
       "      <td>98.61</td>\n",
       "    </tr>\n",
       "    <tr>\n",
       "      <td>XOne</td>\n",
       "      <td>81.27</td>\n",
       "    </tr>\n",
       "    <tr>\n",
       "      <td>X360</td>\n",
       "      <td>28.30</td>\n",
       "    </tr>\n",
       "    <tr>\n",
       "      <td>3DS</td>\n",
       "      <td>22.64</td>\n",
       "    </tr>\n",
       "    <tr>\n",
       "      <td>PS3</td>\n",
       "      <td>22.05</td>\n",
       "    </tr>\n",
       "  </tbody>\n",
       "</table>\n",
       "</div>"
      ],
      "text/plain": [
       "            sum\n",
       "platform       \n",
       "PS4       98.61\n",
       "XOne      81.27\n",
       "X360      28.30\n",
       "3DS       22.64\n",
       "PS3       22.05"
      ]
     },
     "execution_count": 51,
     "metadata": {},
     "output_type": "execute_result"
    }
   ],
   "source": [
    "na_top = df1.groupby(by='platform')['na_sales'].agg(['sum']).sort_values(by='sum', ascending=False)\n",
    "na_top.head(5)"
   ]
  },
  {
   "cell_type": "code",
   "execution_count": 52,
   "metadata": {},
   "outputs": [
    {
     "data": {
      "text/html": [
       "<div>\n",
       "<style scoped>\n",
       "    .dataframe tbody tr th:only-of-type {\n",
       "        vertical-align: middle;\n",
       "    }\n",
       "\n",
       "    .dataframe tbody tr th {\n",
       "        vertical-align: top;\n",
       "    }\n",
       "\n",
       "    .dataframe thead th {\n",
       "        text-align: right;\n",
       "    }\n",
       "</style>\n",
       "<table border=\"1\" class=\"dataframe\">\n",
       "  <thead>\n",
       "    <tr style=\"text-align: right;\">\n",
       "      <th></th>\n",
       "      <th>sum</th>\n",
       "      <th>sales_mean</th>\n",
       "    </tr>\n",
       "    <tr>\n",
       "      <th>platform</th>\n",
       "      <th></th>\n",
       "      <th></th>\n",
       "    </tr>\n",
       "  </thead>\n",
       "  <tbody>\n",
       "    <tr>\n",
       "      <td>PS4</td>\n",
       "      <td>98.61</td>\n",
       "      <td>0.347145</td>\n",
       "    </tr>\n",
       "    <tr>\n",
       "      <td>XOne</td>\n",
       "      <td>81.27</td>\n",
       "      <td>0.286102</td>\n",
       "    </tr>\n",
       "    <tr>\n",
       "      <td>X360</td>\n",
       "      <td>28.30</td>\n",
       "      <td>0.099627</td>\n",
       "    </tr>\n",
       "    <tr>\n",
       "      <td>3DS</td>\n",
       "      <td>22.64</td>\n",
       "      <td>0.079701</td>\n",
       "    </tr>\n",
       "    <tr>\n",
       "      <td>PS3</td>\n",
       "      <td>22.05</td>\n",
       "      <td>0.077624</td>\n",
       "    </tr>\n",
       "  </tbody>\n",
       "</table>\n",
       "</div>"
      ],
      "text/plain": [
       "            sum  sales_mean\n",
       "platform                   \n",
       "PS4       98.61    0.347145\n",
       "XOne      81.27    0.286102\n",
       "X360      28.30    0.099627\n",
       "3DS       22.64    0.079701\n",
       "PS3       22.05    0.077624"
      ]
     },
     "execution_count": 52,
     "metadata": {},
     "output_type": "execute_result"
    }
   ],
   "source": [
    "na_top['sales_mean'] = na_top['sum'] / df1['na_sales'].sum()\n",
    "na_top[:5]"
   ]
  },
  {
   "cell_type": "markdown",
   "metadata": {},
   "source": [
    "Больше половины рынка продаж компьютерных игр в Америке принадлежит платформам - PS4 и XOne -  в сумме им принадлежит 63% рынка, еще три платформы имеют доли меньше 10%, что отражает тенденции по продажам по всем регионам в целом.\n",
    "\n",
    "Проверим, какие жанры наиболее популярны в Америке:"
   ]
  },
  {
   "cell_type": "code",
   "execution_count": 53,
   "metadata": {},
   "outputs": [
    {
     "data": {
      "text/html": [
       "<div>\n",
       "<style scoped>\n",
       "    .dataframe tbody tr th:only-of-type {\n",
       "        vertical-align: middle;\n",
       "    }\n",
       "\n",
       "    .dataframe tbody tr th {\n",
       "        vertical-align: top;\n",
       "    }\n",
       "\n",
       "    .dataframe thead th {\n",
       "        text-align: right;\n",
       "    }\n",
       "</style>\n",
       "<table border=\"1\" class=\"dataframe\">\n",
       "  <thead>\n",
       "    <tr style=\"text-align: right;\">\n",
       "      <th></th>\n",
       "      <th>sum</th>\n",
       "      <th>count</th>\n",
       "    </tr>\n",
       "    <tr>\n",
       "      <th>genre</th>\n",
       "      <th></th>\n",
       "      <th></th>\n",
       "    </tr>\n",
       "  </thead>\n",
       "  <tbody>\n",
       "    <tr>\n",
       "      <td>Shooter</td>\n",
       "      <td>79.02</td>\n",
       "      <td>128</td>\n",
       "    </tr>\n",
       "    <tr>\n",
       "      <td>Action</td>\n",
       "      <td>72.53</td>\n",
       "      <td>619</td>\n",
       "    </tr>\n",
       "    <tr>\n",
       "      <td>Sports</td>\n",
       "      <td>46.13</td>\n",
       "      <td>161</td>\n",
       "    </tr>\n",
       "    <tr>\n",
       "      <td>Role-Playing</td>\n",
       "      <td>33.47</td>\n",
       "      <td>221</td>\n",
       "    </tr>\n",
       "    <tr>\n",
       "      <td>Misc</td>\n",
       "      <td>15.05</td>\n",
       "      <td>113</td>\n",
       "    </tr>\n",
       "  </tbody>\n",
       "</table>\n",
       "</div>"
      ],
      "text/plain": [
       "                sum  count\n",
       "genre                     \n",
       "Shooter       79.02    128\n",
       "Action        72.53    619\n",
       "Sports        46.13    161\n",
       "Role-Playing  33.47    221\n",
       "Misc          15.05    113"
      ]
     },
     "execution_count": 53,
     "metadata": {},
     "output_type": "execute_result"
    }
   ],
   "source": [
    "df1.groupby(by='genre')['na_sales'].agg(['sum', 'count']).sort_values(by='sum', ascending=False)[:5]"
   ]
  },
  {
   "cell_type": "markdown",
   "metadata": {},
   "source": [
    "Топ-5 жанров для Америки почти идентичен общемировой статистике с один небольшим уточнением: стрелялки `Shooters` немного превосходят по продажам `Action`"
   ]
  },
  {
   "cell_type": "code",
   "execution_count": 54,
   "metadata": {},
   "outputs": [
    {
     "data": {
      "text/plain": [
       "rating\n",
       "M          96.42\n",
       "unknown    64.72\n",
       "E          50.74\n",
       "T          38.95\n",
       "E10+       33.23\n",
       "Name: na_sales, dtype: float64"
      ]
     },
     "execution_count": 54,
     "metadata": {},
     "output_type": "execute_result"
    }
   ],
   "source": [
    "df1.groupby(by='rating')['na_sales'].sum().sort_values(ascending=False)"
   ]
  },
  {
   "cell_type": "markdown",
   "metadata": {},
   "source": [
    "<a href = \"https://en.wikipedia.org/wiki/Entertainment_Software_Rating_Board#:~:text=The%20Entertainment%20Software%20Rating%20Board,ratings%20to%20consumer%20video%20games.&text=The%20ratings%20are%20designed%20towards,purchasing%20games%20for%20their%20children.\"> Рейтинг ESRB </a> присваивается играм в зависимости от контента, что напрямую зависит от жанра игры. \n",
    "\n",
    "По распределению видно, что наибольшую прибыль в Америке приносят игры с маркировкой \"М\" (17+) - это одна из самых строгих категорий, что логично, учитывая, что самым популярным жанром в регионе являются стрелялки, содержащие сцены жестокости и применения силы.\n",
    "\n",
    "Учитывая, что для большого сегмента доходов рейтинги просто не определены (неизвестны), мы можем предположить, что рейтинг не оказывает существенного влияния на доходы с продаж и основным фактором скорее является жанр игры."
   ]
  },
  {
   "cell_type": "markdown",
   "metadata": {},
   "source": [
    "## 3.2 Европа"
   ]
  },
  {
   "cell_type": "code",
   "execution_count": 55,
   "metadata": {},
   "outputs": [
    {
     "data": {
      "text/html": [
       "<div>\n",
       "<style scoped>\n",
       "    .dataframe tbody tr th:only-of-type {\n",
       "        vertical-align: middle;\n",
       "    }\n",
       "\n",
       "    .dataframe tbody tr th {\n",
       "        vertical-align: top;\n",
       "    }\n",
       "\n",
       "    .dataframe thead th {\n",
       "        text-align: right;\n",
       "    }\n",
       "</style>\n",
       "<table border=\"1\" class=\"dataframe\">\n",
       "  <thead>\n",
       "    <tr style=\"text-align: right;\">\n",
       "      <th></th>\n",
       "      <th>sum</th>\n",
       "    </tr>\n",
       "    <tr>\n",
       "      <th>platform</th>\n",
       "      <th></th>\n",
       "    </tr>\n",
       "  </thead>\n",
       "  <tbody>\n",
       "    <tr>\n",
       "      <td>PS4</td>\n",
       "      <td>130.04</td>\n",
       "    </tr>\n",
       "    <tr>\n",
       "      <td>XOne</td>\n",
       "      <td>46.25</td>\n",
       "    </tr>\n",
       "    <tr>\n",
       "      <td>PS3</td>\n",
       "      <td>25.54</td>\n",
       "    </tr>\n",
       "    <tr>\n",
       "      <td>PC</td>\n",
       "      <td>17.97</td>\n",
       "    </tr>\n",
       "    <tr>\n",
       "      <td>3DS</td>\n",
       "      <td>16.12</td>\n",
       "    </tr>\n",
       "  </tbody>\n",
       "</table>\n",
       "</div>"
      ],
      "text/plain": [
       "             sum\n",
       "platform        \n",
       "PS4       130.04\n",
       "XOne       46.25\n",
       "PS3        25.54\n",
       "PC         17.97\n",
       "3DS        16.12"
      ]
     },
     "execution_count": 55,
     "metadata": {},
     "output_type": "execute_result"
    }
   ],
   "source": [
    "eu_top = df1.groupby(by='platform')['eu_sales'].agg(['sum']).sort_values(by='sum', ascending=False)\n",
    "eu_top.head(5)"
   ]
  },
  {
   "cell_type": "code",
   "execution_count": 56,
   "metadata": {},
   "outputs": [
    {
     "data": {
      "text/html": [
       "<div>\n",
       "<style scoped>\n",
       "    .dataframe tbody tr th:only-of-type {\n",
       "        vertical-align: middle;\n",
       "    }\n",
       "\n",
       "    .dataframe tbody tr th {\n",
       "        vertical-align: top;\n",
       "    }\n",
       "\n",
       "    .dataframe thead th {\n",
       "        text-align: right;\n",
       "    }\n",
       "</style>\n",
       "<table border=\"1\" class=\"dataframe\">\n",
       "  <thead>\n",
       "    <tr style=\"text-align: right;\">\n",
       "      <th></th>\n",
       "      <th>sum</th>\n",
       "      <th>sales_mean</th>\n",
       "    </tr>\n",
       "    <tr>\n",
       "      <th>platform</th>\n",
       "      <th></th>\n",
       "      <th></th>\n",
       "    </tr>\n",
       "  </thead>\n",
       "  <tbody>\n",
       "    <tr>\n",
       "      <td>PS4</td>\n",
       "      <td>130.04</td>\n",
       "      <td>0.480420</td>\n",
       "    </tr>\n",
       "    <tr>\n",
       "      <td>XOne</td>\n",
       "      <td>46.25</td>\n",
       "      <td>0.170866</td>\n",
       "    </tr>\n",
       "    <tr>\n",
       "      <td>PS3</td>\n",
       "      <td>25.54</td>\n",
       "      <td>0.094355</td>\n",
       "    </tr>\n",
       "    <tr>\n",
       "      <td>PC</td>\n",
       "      <td>17.97</td>\n",
       "      <td>0.066388</td>\n",
       "    </tr>\n",
       "    <tr>\n",
       "      <td>3DS</td>\n",
       "      <td>16.12</td>\n",
       "      <td>0.059554</td>\n",
       "    </tr>\n",
       "  </tbody>\n",
       "</table>\n",
       "</div>"
      ],
      "text/plain": [
       "             sum  sales_mean\n",
       "platform                    \n",
       "PS4       130.04    0.480420\n",
       "XOne       46.25    0.170866\n",
       "PS3        25.54    0.094355\n",
       "PC         17.97    0.066388\n",
       "3DS        16.12    0.059554"
      ]
     },
     "execution_count": 56,
     "metadata": {},
     "output_type": "execute_result"
    }
   ],
   "source": [
    "eu_top['sales_mean'] = eu_top['sum'] / df1['eu_sales'].sum()\n",
    "eu_top[:5]"
   ]
  },
  {
   "cell_type": "markdown",
   "metadata": {},
   "source": [
    "В Европе так же как и в Америке больше половины рынка (65%) принадлежит PS4  и XOne. Однако, если в Америке эти платформы имеют небольшое различие в доле рынка, то в Европе доля PS4 в 3 раза превышает долю Xbox.\n",
    "Примечательно так же, что в топ-5 в Европе входит и стационарный компьютер.\n",
    "\n",
    "Теперь посмотрим жанры, которые предпочитают европейцы:"
   ]
  },
  {
   "cell_type": "code",
   "execution_count": 57,
   "metadata": {},
   "outputs": [
    {
     "data": {
      "text/html": [
       "<div>\n",
       "<style scoped>\n",
       "    .dataframe tbody tr th:only-of-type {\n",
       "        vertical-align: middle;\n",
       "    }\n",
       "\n",
       "    .dataframe tbody tr th {\n",
       "        vertical-align: top;\n",
       "    }\n",
       "\n",
       "    .dataframe thead th {\n",
       "        text-align: right;\n",
       "    }\n",
       "</style>\n",
       "<table border=\"1\" class=\"dataframe\">\n",
       "  <thead>\n",
       "    <tr style=\"text-align: right;\">\n",
       "      <th></th>\n",
       "      <th>sum</th>\n",
       "      <th>count</th>\n",
       "    </tr>\n",
       "    <tr>\n",
       "      <th>genre</th>\n",
       "      <th></th>\n",
       "      <th></th>\n",
       "    </tr>\n",
       "  </thead>\n",
       "  <tbody>\n",
       "    <tr>\n",
       "      <td>Action</td>\n",
       "      <td>74.68</td>\n",
       "      <td>619</td>\n",
       "    </tr>\n",
       "    <tr>\n",
       "      <td>Shooter</td>\n",
       "      <td>65.52</td>\n",
       "      <td>128</td>\n",
       "    </tr>\n",
       "    <tr>\n",
       "      <td>Sports</td>\n",
       "      <td>45.73</td>\n",
       "      <td>161</td>\n",
       "    </tr>\n",
       "    <tr>\n",
       "      <td>Role-Playing</td>\n",
       "      <td>28.17</td>\n",
       "      <td>221</td>\n",
       "    </tr>\n",
       "    <tr>\n",
       "      <td>Racing</td>\n",
       "      <td>14.13</td>\n",
       "      <td>69</td>\n",
       "    </tr>\n",
       "  </tbody>\n",
       "</table>\n",
       "</div>"
      ],
      "text/plain": [
       "                sum  count\n",
       "genre                     \n",
       "Action        74.68    619\n",
       "Shooter       65.52    128\n",
       "Sports        45.73    161\n",
       "Role-Playing  28.17    221\n",
       "Racing        14.13     69"
      ]
     },
     "execution_count": 57,
     "metadata": {},
     "output_type": "execute_result"
    }
   ],
   "source": [
    "df1.groupby(by='genre')['eu_sales'].agg(['sum', 'count']).sort_values(by='sum', ascending=False)[:5]"
   ]
  },
  {
   "cell_type": "markdown",
   "metadata": {},
   "source": [
    "Общая тенденция по жанрам в Европе близка к мировой - `Action`, `Shooter`, `Sports`  в первой тройке. Из особенностей - в топ-5 попали гонки `Racing`\n",
    "\n",
    "Влияют ли рейтинги ESRB на продажи игр в Европе:"
   ]
  },
  {
   "cell_type": "code",
   "execution_count": 58,
   "metadata": {},
   "outputs": [
    {
     "data": {
      "text/plain": [
       "rating\n",
       "M          93.44\n",
       "unknown    58.95\n",
       "E          58.06\n",
       "T          34.07\n",
       "E10+       26.16\n",
       "Name: eu_sales, dtype: float64"
      ]
     },
     "execution_count": 58,
     "metadata": {},
     "output_type": "execute_result"
    }
   ],
   "source": [
    "df1.groupby(by='rating')['eu_sales'].sum().sort_values(ascending=False)"
   ]
  },
  {
   "cell_type": "markdown",
   "metadata": {},
   "source": [
    "Поскольку топ игровых жанров в Европе похож на мировой (и Американский), в лидерах игры с \"недетскими\" сюжетами, соответственно с двукратным превосходством продажи игр категории 17+"
   ]
  },
  {
   "cell_type": "markdown",
   "metadata": {},
   "source": [
    "## 3.3 Япония"
   ]
  },
  {
   "cell_type": "markdown",
   "metadata": {},
   "source": [
    "Третий важный регион для рассмотрения - Япония.\n",
    "Определим фаворитов среди игровых платформ:"
   ]
  },
  {
   "cell_type": "code",
   "execution_count": 59,
   "metadata": {},
   "outputs": [
    {
     "data": {
      "text/html": [
       "<div>\n",
       "<style scoped>\n",
       "    .dataframe tbody tr th:only-of-type {\n",
       "        vertical-align: middle;\n",
       "    }\n",
       "\n",
       "    .dataframe tbody tr th {\n",
       "        vertical-align: top;\n",
       "    }\n",
       "\n",
       "    .dataframe thead th {\n",
       "        text-align: right;\n",
       "    }\n",
       "</style>\n",
       "<table border=\"1\" class=\"dataframe\">\n",
       "  <thead>\n",
       "    <tr style=\"text-align: right;\">\n",
       "      <th></th>\n",
       "      <th>sum</th>\n",
       "    </tr>\n",
       "    <tr>\n",
       "      <th>platform</th>\n",
       "      <th></th>\n",
       "    </tr>\n",
       "  </thead>\n",
       "  <tbody>\n",
       "    <tr>\n",
       "      <td>3DS</td>\n",
       "      <td>44.24</td>\n",
       "    </tr>\n",
       "    <tr>\n",
       "      <td>PS4</td>\n",
       "      <td>15.02</td>\n",
       "    </tr>\n",
       "    <tr>\n",
       "      <td>PSV</td>\n",
       "      <td>14.54</td>\n",
       "    </tr>\n",
       "    <tr>\n",
       "      <td>PS3</td>\n",
       "      <td>11.22</td>\n",
       "    </tr>\n",
       "    <tr>\n",
       "      <td>WiiU</td>\n",
       "      <td>7.31</td>\n",
       "    </tr>\n",
       "  </tbody>\n",
       "</table>\n",
       "</div>"
      ],
      "text/plain": [
       "            sum\n",
       "platform       \n",
       "3DS       44.24\n",
       "PS4       15.02\n",
       "PSV       14.54\n",
       "PS3       11.22\n",
       "WiiU       7.31"
      ]
     },
     "execution_count": 59,
     "metadata": {},
     "output_type": "execute_result"
    }
   ],
   "source": [
    "jp_top = df1.groupby(by='platform')['jp_sales'].agg(['sum']).sort_values(by='sum', ascending=False)\n",
    "jp_top.head(5)"
   ]
  },
  {
   "cell_type": "code",
   "execution_count": 60,
   "metadata": {},
   "outputs": [
    {
     "data": {
      "text/html": [
       "<div>\n",
       "<style scoped>\n",
       "    .dataframe tbody tr th:only-of-type {\n",
       "        vertical-align: middle;\n",
       "    }\n",
       "\n",
       "    .dataframe tbody tr th {\n",
       "        vertical-align: top;\n",
       "    }\n",
       "\n",
       "    .dataframe thead th {\n",
       "        text-align: right;\n",
       "    }\n",
       "</style>\n",
       "<table border=\"1\" class=\"dataframe\">\n",
       "  <thead>\n",
       "    <tr style=\"text-align: right;\">\n",
       "      <th></th>\n",
       "      <th>sum</th>\n",
       "      <th>sales_mean</th>\n",
       "    </tr>\n",
       "    <tr>\n",
       "      <th>platform</th>\n",
       "      <th></th>\n",
       "      <th></th>\n",
       "    </tr>\n",
       "  </thead>\n",
       "  <tbody>\n",
       "    <tr>\n",
       "      <td>3DS</td>\n",
       "      <td>44.24</td>\n",
       "      <td>0.475239</td>\n",
       "    </tr>\n",
       "    <tr>\n",
       "      <td>PS4</td>\n",
       "      <td>15.02</td>\n",
       "      <td>0.161349</td>\n",
       "    </tr>\n",
       "    <tr>\n",
       "      <td>PSV</td>\n",
       "      <td>14.54</td>\n",
       "      <td>0.156193</td>\n",
       "    </tr>\n",
       "    <tr>\n",
       "      <td>PS3</td>\n",
       "      <td>11.22</td>\n",
       "      <td>0.120529</td>\n",
       "    </tr>\n",
       "    <tr>\n",
       "      <td>WiiU</td>\n",
       "      <td>7.31</td>\n",
       "      <td>0.078526</td>\n",
       "    </tr>\n",
       "  </tbody>\n",
       "</table>\n",
       "</div>"
      ],
      "text/plain": [
       "            sum  sales_mean\n",
       "platform                   \n",
       "3DS       44.24    0.475239\n",
       "PS4       15.02    0.161349\n",
       "PSV       14.54    0.156193\n",
       "PS3       11.22    0.120529\n",
       "WiiU       7.31    0.078526"
      ]
     },
     "execution_count": 60,
     "metadata": {},
     "output_type": "execute_result"
    }
   ],
   "source": [
    "jp_top['sales_mean'] = jp_top['sum'] / df1['jp_sales'].sum()\n",
    "jp_top[:5]"
   ]
  },
  {
   "cell_type": "markdown",
   "metadata": {},
   "source": [
    "В Японии ожидаемо предпочтение отдается отечественным производителям - лидером является Nintendo 3DS, и еще 3 детища компании Sony имеют почти равные доли. Замыкает список еще одна консоль Nintendo. Таким образом иностранные производители практически не представлены на Японском рынке."
   ]
  },
  {
   "cell_type": "code",
   "execution_count": 61,
   "metadata": {},
   "outputs": [
    {
     "data": {
      "text/html": [
       "<div>\n",
       "<style scoped>\n",
       "    .dataframe tbody tr th:only-of-type {\n",
       "        vertical-align: middle;\n",
       "    }\n",
       "\n",
       "    .dataframe tbody tr th {\n",
       "        vertical-align: top;\n",
       "    }\n",
       "\n",
       "    .dataframe thead th {\n",
       "        text-align: right;\n",
       "    }\n",
       "</style>\n",
       "<table border=\"1\" class=\"dataframe\">\n",
       "  <thead>\n",
       "    <tr style=\"text-align: right;\">\n",
       "      <th></th>\n",
       "      <th>sum</th>\n",
       "      <th>count</th>\n",
       "    </tr>\n",
       "    <tr>\n",
       "      <th>genre</th>\n",
       "      <th></th>\n",
       "      <th></th>\n",
       "    </tr>\n",
       "  </thead>\n",
       "  <tbody>\n",
       "    <tr>\n",
       "      <td>Role-Playing</td>\n",
       "      <td>31.16</td>\n",
       "      <td>221</td>\n",
       "    </tr>\n",
       "    <tr>\n",
       "      <td>Action</td>\n",
       "      <td>29.58</td>\n",
       "      <td>619</td>\n",
       "    </tr>\n",
       "    <tr>\n",
       "      <td>Fighting</td>\n",
       "      <td>6.37</td>\n",
       "      <td>60</td>\n",
       "    </tr>\n",
       "    <tr>\n",
       "      <td>Misc</td>\n",
       "      <td>5.61</td>\n",
       "      <td>113</td>\n",
       "    </tr>\n",
       "    <tr>\n",
       "      <td>Shooter</td>\n",
       "      <td>4.87</td>\n",
       "      <td>128</td>\n",
       "    </tr>\n",
       "  </tbody>\n",
       "</table>\n",
       "</div>"
      ],
      "text/plain": [
       "                sum  count\n",
       "genre                     \n",
       "Role-Playing  31.16    221\n",
       "Action        29.58    619\n",
       "Fighting       6.37     60\n",
       "Misc           5.61    113\n",
       "Shooter        4.87    128"
      ]
     },
     "execution_count": 61,
     "metadata": {},
     "output_type": "execute_result"
    }
   ],
   "source": [
    "df1.groupby(by='genre')['jp_sales'].agg(['sum', 'count']).sort_values(by='sum', ascending=False)[:5]"
   ]
  },
  {
   "cell_type": "markdown",
   "metadata": {},
   "source": [
    "Топ-5 любимых японских жанров так же отличатся от общемирового (в том числе американского и европейского).\n",
    "Лидером является жанр ролевых игр `Role-playing`, жанр `Action` им так же интересен. Впервые в нашем исследовании мы видим в топе жанр `Fighting`. А вот стрелялки и спорт японцев практически не интересуют."
   ]
  },
  {
   "cell_type": "code",
   "execution_count": 62,
   "metadata": {},
   "outputs": [
    {
     "data": {
      "text/plain": [
       "rating\n",
       "unknown    56.90\n",
       "T          14.78\n",
       "E           8.94\n",
       "M           8.01\n",
       "E10+        4.46\n",
       "Name: jp_sales, dtype: float64"
      ]
     },
     "execution_count": 62,
     "metadata": {},
     "output_type": "execute_result"
    }
   ],
   "source": [
    "df1.groupby(by='rating')['jp_sales'].sum().sort_values(ascending=False)"
   ]
  },
  {
   "cell_type": "markdown",
   "metadata": {},
   "source": [
    "Рейтинги большинства игр на японском рейтинге не определены, из чего мы можем сделать вывод, что они не имеют влияния на объемы продаж игр в Японии."
   ]
  },
  {
   "cell_type": "markdown",
   "metadata": {},
   "source": [
    "## Вывод:\n",
    "\n",
    "В данном разделе мы составили портрет потребителей  на разных рынках компьютерных игр.\n",
    "\n",
    "Предпочтения *американцев* по части выбора платформ и игровых жанров близки к общемировым - лидеры в равных долях `PS4` и `XOne`, а среди жанров популярны `Shooters`, `Action`, `Sport` и `Role-playing`.\n",
    "Распределение предпочтений *европейцев* так же напоминает среднее по всему рынку, но японские платформы имеют бОльшие объемы продаж.\n",
    "\n",
    "В *Японии* пользователи в подавляющем большинстве используют только родные платформы `Sony` и `Nintendo`, а их предпочтение в жанрах существенно отличается - они предпочитают ролевые сюжеты и не любят спортивные.\n",
    "\n",
    "Поскольку у большинства игр не определены рейтинги, мы можем сделать вывод, что их влияние на продажи крайне мало.\n",
    "\n",
    "\n",
    "\n",
    "\n",
    "\n"
   ]
  },
  {
   "cell_type": "markdown",
   "metadata": {},
   "source": [
    "# 4. Проверка гипотез"
   ]
  },
  {
   "cell_type": "markdown",
   "metadata": {},
   "source": [
    "### 4.1 Сравнение рейтингов платформ XOne  и РС"
   ]
  },
  {
   "cell_type": "markdown",
   "metadata": {},
   "source": [
    "Проверим гипотезу о равенстве пользовательских рейтингов двух платформ - XBox и РС.\n",
    "\n",
    "Сформулируем гипотезы и зададим уровень значимости.\n",
    "\n",
    "\n",
    "Н0: Средние пользовательские рейтинги платформ XBox и РС равны\n",
    "\n",
    "Н1:  Средние пользовательские рейтинги платформ XBox и РС НЕ равны\n",
    "\n",
    "\n",
    "Для выбора метода проверки гипотез рассчитаем дисперсию выборок и построим графики их распределения:"
   ]
  },
  {
   "cell_type": "code",
   "execution_count": 63,
   "metadata": {},
   "outputs": [
    {
     "data": {
      "text/plain": [
       "20054134.095799323"
      ]
     },
     "execution_count": 63,
     "metadata": {},
     "output_type": "execute_result"
    }
   ],
   "source": [
    "df1.query('platform == \"XOne\"')['user_score'].var()"
   ]
  },
  {
   "cell_type": "code",
   "execution_count": 64,
   "metadata": {},
   "outputs": [
    {
     "data": {
      "text/plain": [
       "<matplotlib.axes._subplots.AxesSubplot at 0x7fd3c60faed0>"
      ]
     },
     "execution_count": 64,
     "metadata": {},
     "output_type": "execute_result"
    },
    {
     "data": {
      "image/png": "[encoded data removed]",
      "text/plain": [
       "<Figure size 432x288 with 1 Axes>"
      ]
     },
     "metadata": {
      "needs_background": "light"
     },
     "output_type": "display_data"
    }
   ],
   "source": [
    "df1.query('platform == \"XOne\" and user_score != \"9999\"')['user_score'].hist()"
   ]
  },
  {
   "cell_type": "code",
   "execution_count": 65,
   "metadata": {},
   "outputs": [
    {
     "data": {
      "text/plain": [
       "2.901154315133451"
      ]
     },
     "execution_count": 65,
     "metadata": {},
     "output_type": "execute_result"
    }
   ],
   "source": [
    "df1.query('platform == \"PC\"  and user_score != \"9999\"')['user_score'].var()"
   ]
  },
  {
   "cell_type": "code",
   "execution_count": 66,
   "metadata": {},
   "outputs": [
    {
     "data": {
      "text/plain": [
       "<matplotlib.axes._subplots.AxesSubplot at 0x7fd3c607dc90>"
      ]
     },
     "execution_count": 66,
     "metadata": {},
     "output_type": "execute_result"
    },
    {
     "data": {
      "image/png": "[encoded data removed]",
      "text/plain": [
       "<Figure size 432x288 with 1 Axes>"
      ]
     },
     "metadata": {
      "needs_background": "light"
     },
     "output_type": "display_data"
    }
   ],
   "source": [
    "df1.query('platform == \"PC\" and user_score != \"9999\"')['user_score'].hist()"
   ]
  },
  {
   "cell_type": "markdown",
   "metadata": {},
   "source": [
    "Распределение выборок стремится к нормальному, дисперсии выборок не равны.\n",
    "\n",
    "В данном случае мы можем использовать Т-тест, указав в параметрах неравенство дисперсий.\n",
    "\n",
    "Для начала определим уровень значимости = 5%, затем присвоим выборкам переменные и проведем Т-Тест."
   ]
  },
  {
   "cell_type": "code",
   "execution_count": 67,
   "metadata": {},
   "outputs": [],
   "source": [
    "alpha = 0.05"
   ]
  },
  {
   "cell_type": "code",
   "execution_count": 68,
   "metadata": {},
   "outputs": [],
   "source": [
    "user_score_xone = df1.query('platform == \"XOne\" and user_score != \"9999\"')['user_score']"
   ]
  },
  {
   "cell_type": "code",
   "execution_count": 69,
   "metadata": {},
   "outputs": [],
   "source": [
    "user_score_pc = df1.query('platform == \"PC\" and user_score != \"9999\"')['user_score'] "
   ]
  },
  {
   "cell_type": "code",
   "execution_count": 70,
   "metadata": {},
   "outputs": [
    {
     "data": {
      "text/plain": [
       "Ttest_indResult(statistic=1.5777606474474968, pvalue=0.11601398086668827)"
      ]
     },
     "execution_count": 70,
     "metadata": {},
     "output_type": "execute_result"
    }
   ],
   "source": [
    "ttest_ind(user_score_xone, user_score_pc, equal_var=False)"
   ]
  },
  {
   "cell_type": "markdown",
   "metadata": {},
   "source": [
    "По результатам теста pvalue выше уровня значимости, значит мы можем принять нулевую гипотезу и сделать вывод: *пользовательские рейтинги XOne и РС равны.*"
   ]
  },
  {
   "cell_type": "markdown",
   "metadata": {},
   "source": [
    "### 4.2 Сравнение рейтингов Action  и Sports\n",
    "\n",
    "\n",
    "Проверим гипотезу о неравенстве пользовательских рейтингов двух жанров - Action  и  Sports.\n",
    "\n",
    "Сформулируем проверяемые гипотезы и зададим уровень значимости:\n",
    "\n",
    "Н0: Средние пользовательские рейтинги жанров  Action  и  Sports равны\n",
    "\n",
    "Н1: Средние пользовательские рейтинги жанров  Action  и  Sports НЕ равны\n",
    "\n",
    "Теперь рассчитаем дисперсии выборок, построим графики их распределения и определимся с методом проверки."
   ]
  },
  {
   "cell_type": "code",
   "execution_count": 71,
   "metadata": {},
   "outputs": [
    {
     "data": {
      "text/plain": [
       "1.8984766584766581"
      ]
     },
     "execution_count": 71,
     "metadata": {},
     "output_type": "execute_result"
    }
   ],
   "source": [
    "df1.query('genre == \"Action\" and user_score != \"9999\"')['user_score'].var()"
   ]
  },
  {
   "cell_type": "code",
   "execution_count": 72,
   "metadata": {},
   "outputs": [
    {
     "data": {
      "text/plain": [
       "<matplotlib.axes._subplots.AxesSubplot at 0x7fd3c62fb610>"
      ]
     },
     "execution_count": 72,
     "metadata": {},
     "output_type": "execute_result"
    },
    {
     "data": {
      "image/png": "[encoded data removed]",
      "text/plain": [
       "<Figure size 432x288 with 1 Axes>"
      ]
     },
     "metadata": {
      "needs_background": "light"
     },
     "output_type": "display_data"
    }
   ],
   "source": [
    "df1.query('genre == \"Action\" and user_score != \"9999\"')['user_score'].hist()"
   ]
  },
  {
   "cell_type": "code",
   "execution_count": 73,
   "metadata": {},
   "outputs": [
    {
     "data": {
      "text/plain": [
       "3.446979127609048"
      ]
     },
     "execution_count": 73,
     "metadata": {},
     "output_type": "execute_result"
    }
   ],
   "source": [
    "df1.query('genre == \"Sports\" and user_score != \"9999\"')['user_score'].var()"
   ]
  },
  {
   "cell_type": "code",
   "execution_count": 74,
   "metadata": {},
   "outputs": [
    {
     "data": {
      "text/plain": [
       "<matplotlib.axes._subplots.AxesSubplot at 0x7fd3c6401350>"
      ]
     },
     "execution_count": 74,
     "metadata": {},
     "output_type": "execute_result"
    },
    {
     "data": {
      "image/png": "[encoded data removed]",
      "text/plain": [
       "<Figure size 432x288 with 1 Axes>"
      ]
     },
     "metadata": {
      "needs_background": "light"
     },
     "output_type": "display_data"
    }
   ],
   "source": [
    "df1.query('genre == \"Sports\" and user_score != \"9999\"')['user_score'].hist()"
   ]
  },
  {
   "cell_type": "markdown",
   "metadata": {},
   "source": [
    "Дисперсии двух выборок не равны (мы укажем это в параметре метода).\n",
    "\n",
    "Распределение жанра `Action` похоже на нормальное, оно скошено в сторону высоких оценок, т.к. во всех регионов этот жанр находится в лидерах по продажам и логично предположить, что высоких оценок он получает больше.\n",
    "\n",
    "Распределение спортивного жанра получилось с двумя пиками. \n",
    "\n",
    "Можем предположить, что два пика отражают картину по разным регионам: \n",
    "- в Америке и Европе жанр `Sports` входит в топ-3 самых продаваемых и соответственно получает много высоких оценок, \n",
    "- а в Японии этот жанр совершенно не популярен, и возможно оценки ниже среднего игры получают именно там\n",
    "\n",
    "В идеале т-тест должен использоваться для нормального распределения, но в реальной жизни :) это не всегда выполнимо и, учитывая большой объем нашей выборки, данный метод может быть применен и в нашем случае:"
   ]
  },
  {
   "cell_type": "code",
   "execution_count": 75,
   "metadata": {},
   "outputs": [],
   "source": [
    "alpha = 0.05"
   ]
  },
  {
   "cell_type": "code",
   "execution_count": 76,
   "metadata": {},
   "outputs": [],
   "source": [
    "user_score_action = df1.query('genre == \"Action\" and user_score != \"9999\"')['user_score']"
   ]
  },
  {
   "cell_type": "code",
   "execution_count": 77,
   "metadata": {},
   "outputs": [],
   "source": [
    "user_score_sports = df1.query('genre == \"Sports\" and user_score != \"9999\"')['user_score']"
   ]
  },
  {
   "cell_type": "code",
   "execution_count": 78,
   "metadata": {},
   "outputs": [
    {
     "data": {
      "text/plain": [
       "Ttest_indResult(statistic=8.384614718486121, pvalue=1.1825550382644557e-14)"
      ]
     },
     "execution_count": 78,
     "metadata": {},
     "output_type": "execute_result"
    }
   ],
   "source": [
    "ttest_ind(user_score_action, user_score_sports, equal_var=False)"
   ]
  },
  {
   "cell_type": "markdown",
   "metadata": {},
   "source": [
    "Поскольку pvalue > alpha, мы можем принять нулевую гипотезу : *пользовательские оценки жанров `Action` и `Sports` равны.*"
   ]
  },
  {
   "cell_type": "markdown",
   "metadata": {},
   "source": [
    "**Вывод**:   проверив статистические гипотезы мы подтвердили, что пользовательские рейтинги платформ `XOne` и `РС` равны.\n",
    "Так же мы подтвердили равенство средних пользовательских рейтингов жанров `Action`  и `Sports`."
   ]
  },
  {
   "cell_type": "markdown",
   "metadata": {},
   "source": [
    "# 5. Вывод по проекту:\n",
    "\n",
    "\n",
    "В проекте мы рассмотрели данные о продажах игр за весь период, доступный из открытых источников.\n",
    "\n",
    "Поскольку нашей задачей является определение потенциально популярных продуктов на следующий год, нам необходимо было выявить факторы, влияющие на объемы продаж и популярность игр и платформ в целом.\n",
    "\n",
    "Для точности прогноза мы выделили наш период исследования *с 2014 года до настоящего времени.* Выбор актуального периода был обусловлен полученными данными о средних сроках присутствия игровых платформ на рынке с момента их выпуска до полного выхода с рынка (замещения следующими версиями).\n",
    "\n",
    "За актуальный период нами были отобраны 3 перспективные игровые платформы, который на данный момент, хоть и прошли свой пик популярности, но игры для них еще продаются миллионными тиражами - это *PS4, XOne и 3DS.* \n",
    "Эти платформы являются популярными не только в среднем по всему миру, но и лидируют в каждом из рассматриваемых регионов.\n",
    "\n",
    "Важным фактором, определяющим объемы продаж игр является их жанр - в ходе исследования мы установили общемировые тенденции.\n",
    "Самыми популярными жанрами являются:\n",
    "\n",
    "- `Action`\n",
    "- `Shooter`\n",
    "- `Sports`\n",
    "- `Role-Playing`\n",
    "\n",
    "Остальные жанры приносят в разы меньше прибыли. Самыми низкими продажами отличаются:\n",
    "- `Strategy`\n",
    "- `Puzzle`\n",
    "\n",
    "Интересно, что общемировые тенденции распространяются на американский и европейский регион, а вот в Японии картина с популярностью жанров сильно отличается: они предпочитают ролевые сюжеты и не любят спортивные.\n",
    "\n",
    "Поскольку магазин \"Стримчик\", который заказал нам данное исследование, находится скорее всего в европейском регионе, то  будет логично запланировать на следующий год рекламу игр, ориентируясь на общемировой и европейский тренд.\n",
    "\n",
    "Мы так же исследовали влияние экспертных и пользовательских оценок на объемы продаж игр. \n",
    "По итогам: оценки пользователей слишком разнородны и ни по одной платформ нет никакой зависимости между этим критерием и продажами. \n",
    "\n",
    "Оценки экспертов так же слабо влияют на продажи. Коэффициент корреляции довольно низкий. Полученные результаты скорее отражают логичное следствие - самые продаваемые игры по всем платформам имеют оценки критиков выше среднего.\n",
    "\n",
    "Таким образом параметры оценок не являются ключевыми в прогнозировании объемов продаж на следующиий год.\n",
    "\n",
    "Так же мы рассмотрели взаимосвязь популярности игр и рейтинга ESRB - по всем регионам картина схожая: большой объем продаж приходится на игры, которые в принципе еще не имеют проставленного рейтинга. Поэтому данный критерий мы тоже можем не принимать в расчет в нашем планировании.\n",
    "\n",
    "\n",
    "Следующим шагом мы провели тестирование статистических гипотез и подтвердили предположение о том, что  пользовательские рейтинги XOne и РС равны. Так же мы подтвердили равенство средних пользовательских рейтингов жанров Action и Sports.\n",
    "\n",
    "По результатам исследования мы рекомендуем магазину \"Стримчик\" при планировании расходов на рекламу в 2017 году бОльшую часть бюджета ориентировать на игры для платформ  *PS4, XOne и 3DS* в жанрах *Action, Shooter, Sports и Role-Playing*.\n",
    "\n"
   ]
  }
 ],
 "metadata": {
  "kernelspec": {
   "display_name": "Python 3",
   "language": "python",
   "name": "python3"
  },
  "language_info": {
   "codemirror_mode": {
    "name": "ipython",
    "version": 3
   },
   "file_extension": ".py",
   "mimetype": "text/x-python",
   "name": "python",
   "nbconvert_exporter": "python",
   "pygments_lexer": "ipython3",
   "version": "3.8.3"
  }
 },
 "nbformat": 4,
 "nbformat_minor": 2
}
