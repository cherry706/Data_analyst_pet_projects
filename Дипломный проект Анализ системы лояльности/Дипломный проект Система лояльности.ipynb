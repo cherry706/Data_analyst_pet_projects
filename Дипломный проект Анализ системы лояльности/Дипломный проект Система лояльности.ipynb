{
 "cells": [
  {
   "cell_type": "markdown",
   "metadata": {},
   "source": [
    "# ДИПЛОМНЫЙ ПРОЕКТ \"Анализ программы лояльности\"\n"
   ]
  },
  {
   "cell_type": "markdown",
   "metadata": {},
   "source": [
    "Магазин строительных материалов «Строили, строили и наконец построили» ввел для клиентов систему лояльности. \n",
    "Все покупатели могут получить доступ в магазин с использованием персональных карт. За 200 рублей в месяц они могут стать участниками программы лояльности. В программу включены скидки, специальные предложения, подарки.\n",
    "\n",
    "\n",
    "**Целью проекта** является оценка результатов внедрения системы лояльности путем сравнения ключевых метрик и проверки статистических гипотез на предоставленной выборке.\n",
    "\n",
    "Датасет включает в себя информацию по покупках пользователей за 3 месяца во всех магазинах сети, факт их участия в программе лояльности и данные о ценах на весь ассортимент товаров.\n",
    "\n",
    "- `purchaseId` — id чека;\n",
    "- `item_ID` — id товара;\n",
    "- `purchasedate` — дата покупки;\n",
    "- `Quantity` — количество товара;\n",
    "- `CustomerID` — id покупателя;\n",
    "- `ShopID` — id магазина;\n",
    "- `loyalty_program` — участвует ли покупатель в программе лояльности;\n",
    "- `productID` — id товара;\n",
    "- `price_per_one` — стоимость одной единицы товара;\n",
    "\n"
   ]
  },
  {
   "cell_type": "markdown",
   "metadata": {},
   "source": [
    "## 1. Загрузка и предобработка данных\n",
    "\n",
    "- Приведение данных к нужным типам;\n",
    "- Обработка пропусков и аномалий (в данных встречаются отрицательные значения цен, нулевые значения количества товаров и цен)\n",
    "- Расчет выручки, количества проданных товаров по месяцам (для участников программы лояльности и остальных покупателей). Визуализация результатов.\n",
    "\n",
    "## 2. Анализ данных\n",
    "\n",
    "- Описание поведения клиентов, исходя из выборки;\n",
    "- Какой объем выручки и количество проданных товаров приходится на каждого покупателя в месяц;\n",
    "- Расчет среднего количества, дисперсии и стандартного отклонения;\n",
    "- Гистограммы, описание распределений;\n",
    "\n",
    "\n",
    "## 3. Проверка гипотез\n",
    "\n",
    "- Cредний чек участников системы лояльности и остальных покупателей различается;\n",
    "- Глубина чека участников системы лояльности больше, чем у остальных покупателей;\n",
    "\n",
    "## 4. Общие выводы по проекту\n",
    "\n",
    "Оценка результатов системы лояльности, рекомендации по работе с данной программой.\n",
    "\n",
    "______________________________________________________________________________________________________"
   ]
  },
  {
   "cell_type": "markdown",
   "metadata": {},
   "source": [
    "## 1. Загрузка и предобработка данных"
   ]
  },
  {
   "cell_type": "markdown",
   "metadata": {},
   "source": [
    "\n",
    "\n",
    "Загрузим файлы с данными и подготовим их для нашего исследования."
   ]
  },
  {
   "cell_type": "code",
   "execution_count": 159,
   "metadata": {},
   "outputs": [],
   "source": [
    "import pandas as pd\n",
    "from matplotlib import pyplot as plt\n",
    "from math import factorial\n",
    "import numpy as np\n",
    "import seaborn as sns\n",
    "import scipy as sp\n",
    "from scipy import stats\n",
    "from scipy import stats as st"
   ]
  },
  {
   "cell_type": "code",
   "execution_count": 160,
   "metadata": {},
   "outputs": [
    {
     "data": {
      "text/html": [
       "<div>\n",
       "<style scoped>\n",
       "    .dataframe tbody tr th:only-of-type {\n",
       "        vertical-align: middle;\n",
       "    }\n",
       "\n",
       "    .dataframe tbody tr th {\n",
       "        vertical-align: top;\n",
       "    }\n",
       "\n",
       "    .dataframe thead th {\n",
       "        text-align: right;\n",
       "    }\n",
       "</style>\n",
       "<table border=\"1\" class=\"dataframe\">\n",
       "  <thead>\n",
       "    <tr style=\"text-align: right;\">\n",
       "      <th></th>\n",
       "      <th>purchaseid</th>\n",
       "      <th>item_ID</th>\n",
       "      <th>Quantity</th>\n",
       "      <th>purchasedate</th>\n",
       "      <th>CustomerID</th>\n",
       "      <th>ShopID</th>\n",
       "      <th>loyalty_program</th>\n",
       "    </tr>\n",
       "  </thead>\n",
       "  <tbody>\n",
       "    <tr>\n",
       "      <td>0</td>\n",
       "      <td>538280</td>\n",
       "      <td>21873</td>\n",
       "      <td>11</td>\n",
       "      <td>2016-12-10 12:50:00</td>\n",
       "      <td>18427.0</td>\n",
       "      <td>Shop 0</td>\n",
       "      <td>0.0</td>\n",
       "    </tr>\n",
       "    <tr>\n",
       "      <td>1</td>\n",
       "      <td>538862</td>\n",
       "      <td>22195</td>\n",
       "      <td>0</td>\n",
       "      <td>2016-12-14 14:11:00</td>\n",
       "      <td>22389.0</td>\n",
       "      <td>Shop 0</td>\n",
       "      <td>1.0</td>\n",
       "    </tr>\n",
       "    <tr>\n",
       "      <td>2</td>\n",
       "      <td>538855</td>\n",
       "      <td>21239</td>\n",
       "      <td>7</td>\n",
       "      <td>2016-12-14 13:50:00</td>\n",
       "      <td>22182.0</td>\n",
       "      <td>Shop 0</td>\n",
       "      <td>1.0</td>\n",
       "    </tr>\n",
       "    <tr>\n",
       "      <td>3</td>\n",
       "      <td>543543</td>\n",
       "      <td>22271</td>\n",
       "      <td>0</td>\n",
       "      <td>2017-02-09 15:33:00</td>\n",
       "      <td>23522.0</td>\n",
       "      <td>Shop 0</td>\n",
       "      <td>1.0</td>\n",
       "    </tr>\n",
       "    <tr>\n",
       "      <td>4</td>\n",
       "      <td>543812</td>\n",
       "      <td>79321</td>\n",
       "      <td>0</td>\n",
       "      <td>2017-02-13 14:40:00</td>\n",
       "      <td>23151.0</td>\n",
       "      <td>Shop 0</td>\n",
       "      <td>1.0</td>\n",
       "    </tr>\n",
       "  </tbody>\n",
       "</table>\n",
       "</div>"
      ],
      "text/plain": [
       "  purchaseid item_ID  Quantity         purchasedate  CustomerID  ShopID  \\\n",
       "0     538280   21873        11  2016-12-10 12:50:00     18427.0  Shop 0   \n",
       "1     538862   22195         0  2016-12-14 14:11:00     22389.0  Shop 0   \n",
       "2     538855   21239         7  2016-12-14 13:50:00     22182.0  Shop 0   \n",
       "3     543543   22271         0  2017-02-09 15:33:00     23522.0  Shop 0   \n",
       "4     543812   79321         0  2017-02-13 14:40:00     23151.0  Shop 0   \n",
       "\n",
       "   loyalty_program  \n",
       "0              0.0  \n",
       "1              1.0  \n",
       "2              1.0  \n",
       "3              1.0  \n",
       "4              1.0  "
      ]
     },
     "execution_count": 160,
     "metadata": {},
     "output_type": "execute_result"
    }
   ],
   "source": [
    "retail = pd.read_csv('retail_dataset.csv')\n",
    "retail.head()"
   ]
  },
  {
   "cell_type": "markdown",
   "metadata": {},
   "source": [
    "Основной датасет **`retail`** содержит данные о каждой покупке с указанием id чека, id товара, даты совершения покупки, id клиента, магазина сети и факта участия в программе лояльности."
   ]
  },
  {
   "cell_type": "code",
   "execution_count": 161,
   "metadata": {},
   "outputs": [
    {
     "data": {
      "text/html": [
       "<div>\n",
       "<style scoped>\n",
       "    .dataframe tbody tr th:only-of-type {\n",
       "        vertical-align: middle;\n",
       "    }\n",
       "\n",
       "    .dataframe tbody tr th {\n",
       "        vertical-align: top;\n",
       "    }\n",
       "\n",
       "    .dataframe thead th {\n",
       "        text-align: right;\n",
       "    }\n",
       "</style>\n",
       "<table border=\"1\" class=\"dataframe\">\n",
       "  <thead>\n",
       "    <tr style=\"text-align: right;\">\n",
       "      <th></th>\n",
       "      <th>productID</th>\n",
       "      <th>price_per_one</th>\n",
       "    </tr>\n",
       "  </thead>\n",
       "  <tbody>\n",
       "    <tr>\n",
       "      <td>0</td>\n",
       "      <td>85123A</td>\n",
       "      <td>2.55</td>\n",
       "    </tr>\n",
       "    <tr>\n",
       "      <td>1</td>\n",
       "      <td>71053</td>\n",
       "      <td>3.39</td>\n",
       "    </tr>\n",
       "    <tr>\n",
       "      <td>2</td>\n",
       "      <td>84406B</td>\n",
       "      <td>2.75</td>\n",
       "    </tr>\n",
       "    <tr>\n",
       "      <td>3</td>\n",
       "      <td>84029G</td>\n",
       "      <td>3.39</td>\n",
       "    </tr>\n",
       "    <tr>\n",
       "      <td>4</td>\n",
       "      <td>84029E</td>\n",
       "      <td>3.39</td>\n",
       "    </tr>\n",
       "  </tbody>\n",
       "</table>\n",
       "</div>"
      ],
      "text/plain": [
       "  productID  price_per_one\n",
       "0    85123A           2.55\n",
       "1     71053           3.39\n",
       "2    84406B           2.75\n",
       "3    84029G           3.39\n",
       "4    84029E           3.39"
      ]
     },
     "execution_count": 161,
     "metadata": {},
     "output_type": "execute_result"
    }
   ],
   "source": [
    "product = pd.read_csv('product_codes.csv')\n",
    "product.head()"
   ]
  },
  {
   "cell_type": "markdown",
   "metadata": {},
   "source": [
    "Второй датасет **`product`** содержит коды товаров и цены за единицу товара."
   ]
  },
  {
   "cell_type": "markdown",
   "metadata": {},
   "source": [
    "Для начала, для удобства обращения к датасетам, приведем названия всех столбцов к нижнему регистру и переименуем некоторые из них:"
   ]
  },
  {
   "cell_type": "code",
   "execution_count": 162,
   "metadata": {},
   "outputs": [
    {
     "data": {
      "text/html": [
       "<div>\n",
       "<style scoped>\n",
       "    .dataframe tbody tr th:only-of-type {\n",
       "        vertical-align: middle;\n",
       "    }\n",
       "\n",
       "    .dataframe tbody tr th {\n",
       "        vertical-align: top;\n",
       "    }\n",
       "\n",
       "    .dataframe thead th {\n",
       "        text-align: right;\n",
       "    }\n",
       "</style>\n",
       "<table border=\"1\" class=\"dataframe\">\n",
       "  <thead>\n",
       "    <tr style=\"text-align: right;\">\n",
       "      <th></th>\n",
       "      <th>purchase_id</th>\n",
       "      <th>item_id</th>\n",
       "      <th>quantity</th>\n",
       "      <th>purchase_date</th>\n",
       "      <th>customer_id</th>\n",
       "      <th>shop_id</th>\n",
       "      <th>loyalty_program</th>\n",
       "    </tr>\n",
       "  </thead>\n",
       "  <tbody>\n",
       "    <tr>\n",
       "      <td>0</td>\n",
       "      <td>538280</td>\n",
       "      <td>21873</td>\n",
       "      <td>11</td>\n",
       "      <td>2016-12-10 12:50:00</td>\n",
       "      <td>18427.0</td>\n",
       "      <td>Shop 0</td>\n",
       "      <td>0.0</td>\n",
       "    </tr>\n",
       "    <tr>\n",
       "      <td>1</td>\n",
       "      <td>538862</td>\n",
       "      <td>22195</td>\n",
       "      <td>0</td>\n",
       "      <td>2016-12-14 14:11:00</td>\n",
       "      <td>22389.0</td>\n",
       "      <td>Shop 0</td>\n",
       "      <td>1.0</td>\n",
       "    </tr>\n",
       "    <tr>\n",
       "      <td>2</td>\n",
       "      <td>538855</td>\n",
       "      <td>21239</td>\n",
       "      <td>7</td>\n",
       "      <td>2016-12-14 13:50:00</td>\n",
       "      <td>22182.0</td>\n",
       "      <td>Shop 0</td>\n",
       "      <td>1.0</td>\n",
       "    </tr>\n",
       "    <tr>\n",
       "      <td>3</td>\n",
       "      <td>543543</td>\n",
       "      <td>22271</td>\n",
       "      <td>0</td>\n",
       "      <td>2017-02-09 15:33:00</td>\n",
       "      <td>23522.0</td>\n",
       "      <td>Shop 0</td>\n",
       "      <td>1.0</td>\n",
       "    </tr>\n",
       "    <tr>\n",
       "      <td>4</td>\n",
       "      <td>543812</td>\n",
       "      <td>79321</td>\n",
       "      <td>0</td>\n",
       "      <td>2017-02-13 14:40:00</td>\n",
       "      <td>23151.0</td>\n",
       "      <td>Shop 0</td>\n",
       "      <td>1.0</td>\n",
       "    </tr>\n",
       "  </tbody>\n",
       "</table>\n",
       "</div>"
      ],
      "text/plain": [
       "  purchase_id item_id  quantity        purchase_date  customer_id shop_id  \\\n",
       "0      538280   21873        11  2016-12-10 12:50:00      18427.0  Shop 0   \n",
       "1      538862   22195         0  2016-12-14 14:11:00      22389.0  Shop 0   \n",
       "2      538855   21239         7  2016-12-14 13:50:00      22182.0  Shop 0   \n",
       "3      543543   22271         0  2017-02-09 15:33:00      23522.0  Shop 0   \n",
       "4      543812   79321         0  2017-02-13 14:40:00      23151.0  Shop 0   \n",
       "\n",
       "   loyalty_program  \n",
       "0              0.0  \n",
       "1              1.0  \n",
       "2              1.0  \n",
       "3              1.0  \n",
       "4              1.0  "
      ]
     },
     "execution_count": 162,
     "metadata": {},
     "output_type": "execute_result"
    }
   ],
   "source": [
    "retail.columns = retail.columns.str.lower()\n",
    "retail = retail.rename({'purchaseid':'purchase_id',\n",
    "                        'purchasedate':'purchase_date',\n",
    "                        'customerid':'customer_id',\n",
    "                        'shopid': 'shop_id'}, axis=1)\n",
    "retail.head()"
   ]
  },
  {
   "cell_type": "code",
   "execution_count": 163,
   "metadata": {},
   "outputs": [
    {
     "data": {
      "text/html": [
       "<div>\n",
       "<style scoped>\n",
       "    .dataframe tbody tr th:only-of-type {\n",
       "        vertical-align: middle;\n",
       "    }\n",
       "\n",
       "    .dataframe tbody tr th {\n",
       "        vertical-align: top;\n",
       "    }\n",
       "\n",
       "    .dataframe thead th {\n",
       "        text-align: right;\n",
       "    }\n",
       "</style>\n",
       "<table border=\"1\" class=\"dataframe\">\n",
       "  <thead>\n",
       "    <tr style=\"text-align: right;\">\n",
       "      <th></th>\n",
       "      <th>item_id</th>\n",
       "      <th>price_per_one</th>\n",
       "    </tr>\n",
       "  </thead>\n",
       "  <tbody>\n",
       "    <tr>\n",
       "      <td>0</td>\n",
       "      <td>85123A</td>\n",
       "      <td>2.55</td>\n",
       "    </tr>\n",
       "    <tr>\n",
       "      <td>1</td>\n",
       "      <td>71053</td>\n",
       "      <td>3.39</td>\n",
       "    </tr>\n",
       "    <tr>\n",
       "      <td>2</td>\n",
       "      <td>84406B</td>\n",
       "      <td>2.75</td>\n",
       "    </tr>\n",
       "    <tr>\n",
       "      <td>3</td>\n",
       "      <td>84029G</td>\n",
       "      <td>3.39</td>\n",
       "    </tr>\n",
       "    <tr>\n",
       "      <td>4</td>\n",
       "      <td>84029E</td>\n",
       "      <td>3.39</td>\n",
       "    </tr>\n",
       "  </tbody>\n",
       "</table>\n",
       "</div>"
      ],
      "text/plain": [
       "  item_id  price_per_one\n",
       "0  85123A           2.55\n",
       "1   71053           3.39\n",
       "2  84406B           2.75\n",
       "3  84029G           3.39\n",
       "4  84029E           3.39"
      ]
     },
     "execution_count": 163,
     "metadata": {},
     "output_type": "execute_result"
    }
   ],
   "source": [
    "product = product.rename({'productID':'item_id'}, axis=1)\n",
    "product.head()\n",
    "                          "
   ]
  },
  {
   "cell_type": "code",
   "execution_count": 164,
   "metadata": {},
   "outputs": [
    {
     "data": {
      "text/plain": [
       "9969"
      ]
     },
     "execution_count": 164,
     "metadata": {},
     "output_type": "execute_result"
    }
   ],
   "source": [
    "len(product)"
   ]
  },
  {
   "cell_type": "code",
   "execution_count": 165,
   "metadata": {},
   "outputs": [
    {
     "data": {
      "text/plain": [
       "3159"
      ]
     },
     "execution_count": 165,
     "metadata": {},
     "output_type": "execute_result"
    }
   ],
   "source": [
    "len(retail['item_id'].value_counts())"
   ]
  },
  {
   "cell_type": "markdown",
   "metadata": {},
   "source": [
    "Судя по размерам датасетов, на каждый тип товара в таблице с ценами может приходиться по несколько значений. Это нормальная ситуация, цена на товар может постоянно корректироваться. Для дальнейшей работы нам потребуется добавить к главной таблице цену за единицу товара каждого наименования.\n",
    "В данной ситуации будет приемлемо взять средние значения цен на каждый товар за весь период данных.\n",
    "\n",
    "Для этого рассчитаем среднюю цену по всем товарам:"
   ]
  },
  {
   "cell_type": "code",
   "execution_count": 166,
   "metadata": {},
   "outputs": [
    {
     "data": {
      "text/html": [
       "<div>\n",
       "<style scoped>\n",
       "    .dataframe tbody tr th:only-of-type {\n",
       "        vertical-align: middle;\n",
       "    }\n",
       "\n",
       "    .dataframe tbody tr th {\n",
       "        vertical-align: top;\n",
       "    }\n",
       "\n",
       "    .dataframe thead th {\n",
       "        text-align: right;\n",
       "    }\n",
       "</style>\n",
       "<table border=\"1\" class=\"dataframe\">\n",
       "  <thead>\n",
       "    <tr style=\"text-align: right;\">\n",
       "      <th></th>\n",
       "      <th>item_id</th>\n",
       "      <th>price</th>\n",
       "    </tr>\n",
       "  </thead>\n",
       "  <tbody>\n",
       "    <tr>\n",
       "      <td>0</td>\n",
       "      <td>10002</td>\n",
       "      <td>1.38</td>\n",
       "    </tr>\n",
       "    <tr>\n",
       "      <td>1</td>\n",
       "      <td>10080</td>\n",
       "      <td>0.85</td>\n",
       "    </tr>\n",
       "    <tr>\n",
       "      <td>2</td>\n",
       "      <td>10120</td>\n",
       "      <td>0.21</td>\n",
       "    </tr>\n",
       "    <tr>\n",
       "      <td>3</td>\n",
       "      <td>10123C</td>\n",
       "      <td>0.65</td>\n",
       "    </tr>\n",
       "    <tr>\n",
       "      <td>4</td>\n",
       "      <td>10124A</td>\n",
       "      <td>0.42</td>\n",
       "    </tr>\n",
       "    <tr>\n",
       "      <td>...</td>\n",
       "      <td>...</td>\n",
       "      <td>...</td>\n",
       "    </tr>\n",
       "    <tr>\n",
       "      <td>3154</td>\n",
       "      <td>gift_0001_20</td>\n",
       "      <td>16.84</td>\n",
       "    </tr>\n",
       "    <tr>\n",
       "      <td>3155</td>\n",
       "      <td>gift_0001_30</td>\n",
       "      <td>25.26</td>\n",
       "    </tr>\n",
       "    <tr>\n",
       "      <td>3156</td>\n",
       "      <td>gift_0001_40</td>\n",
       "      <td>34.04</td>\n",
       "    </tr>\n",
       "    <tr>\n",
       "      <td>3157</td>\n",
       "      <td>gift_0001_50</td>\n",
       "      <td>42.55</td>\n",
       "    </tr>\n",
       "    <tr>\n",
       "      <td>3158</td>\n",
       "      <td>m</td>\n",
       "      <td>2.55</td>\n",
       "    </tr>\n",
       "  </tbody>\n",
       "</table>\n",
       "<p>3159 rows × 2 columns</p>\n",
       "</div>"
      ],
      "text/plain": [
       "           item_id  price\n",
       "0            10002   1.38\n",
       "1            10080   0.85\n",
       "2            10120   0.21\n",
       "3           10123C   0.65\n",
       "4           10124A   0.42\n",
       "...            ...    ...\n",
       "3154  gift_0001_20  16.84\n",
       "3155  gift_0001_30  25.26\n",
       "3156  gift_0001_40  34.04\n",
       "3157  gift_0001_50  42.55\n",
       "3158             m   2.55\n",
       "\n",
       "[3159 rows x 2 columns]"
      ]
     },
     "execution_count": 166,
     "metadata": {},
     "output_type": "execute_result"
    }
   ],
   "source": [
    "price = round(product.groupby('item_id')['price_per_one'].mean(), 2).reset_index()\n",
    "price.columns=['item_id', 'price']\n",
    "price"
   ]
  },
  {
   "cell_type": "markdown",
   "metadata": {},
   "source": [
    "И добавим новый столбец со средней ценной единицы товара к главной таблице `retail`:"
   ]
  },
  {
   "cell_type": "code",
   "execution_count": 167,
   "metadata": {},
   "outputs": [
    {
     "data": {
      "text/html": [
       "<div>\n",
       "<style scoped>\n",
       "    .dataframe tbody tr th:only-of-type {\n",
       "        vertical-align: middle;\n",
       "    }\n",
       "\n",
       "    .dataframe tbody tr th {\n",
       "        vertical-align: top;\n",
       "    }\n",
       "\n",
       "    .dataframe thead th {\n",
       "        text-align: right;\n",
       "    }\n",
       "</style>\n",
       "<table border=\"1\" class=\"dataframe\">\n",
       "  <thead>\n",
       "    <tr style=\"text-align: right;\">\n",
       "      <th></th>\n",
       "      <th>purchase_id</th>\n",
       "      <th>item_id</th>\n",
       "      <th>quantity</th>\n",
       "      <th>purchase_date</th>\n",
       "      <th>customer_id</th>\n",
       "      <th>shop_id</th>\n",
       "      <th>loyalty_program</th>\n",
       "      <th>price</th>\n",
       "    </tr>\n",
       "  </thead>\n",
       "  <tbody>\n",
       "    <tr>\n",
       "      <td>0</td>\n",
       "      <td>538280</td>\n",
       "      <td>21873</td>\n",
       "      <td>11</td>\n",
       "      <td>2016-12-10 12:50:00</td>\n",
       "      <td>18427.0</td>\n",
       "      <td>Shop 0</td>\n",
       "      <td>0.0</td>\n",
       "      <td>1.81</td>\n",
       "    </tr>\n",
       "    <tr>\n",
       "      <td>1</td>\n",
       "      <td>538862</td>\n",
       "      <td>22195</td>\n",
       "      <td>0</td>\n",
       "      <td>2016-12-14 14:11:00</td>\n",
       "      <td>22389.0</td>\n",
       "      <td>Shop 0</td>\n",
       "      <td>1.0</td>\n",
       "      <td>2.77</td>\n",
       "    </tr>\n",
       "    <tr>\n",
       "      <td>2</td>\n",
       "      <td>538855</td>\n",
       "      <td>21239</td>\n",
       "      <td>7</td>\n",
       "      <td>2016-12-14 13:50:00</td>\n",
       "      <td>22182.0</td>\n",
       "      <td>Shop 0</td>\n",
       "      <td>1.0</td>\n",
       "      <td>1.47</td>\n",
       "    </tr>\n",
       "    <tr>\n",
       "      <td>3</td>\n",
       "      <td>543543</td>\n",
       "      <td>22271</td>\n",
       "      <td>0</td>\n",
       "      <td>2017-02-09 15:33:00</td>\n",
       "      <td>23522.0</td>\n",
       "      <td>Shop 0</td>\n",
       "      <td>1.0</td>\n",
       "      <td>4.30</td>\n",
       "    </tr>\n",
       "    <tr>\n",
       "      <td>4</td>\n",
       "      <td>543812</td>\n",
       "      <td>79321</td>\n",
       "      <td>0</td>\n",
       "      <td>2017-02-13 14:40:00</td>\n",
       "      <td>23151.0</td>\n",
       "      <td>Shop 0</td>\n",
       "      <td>1.0</td>\n",
       "      <td>7.01</td>\n",
       "    </tr>\n",
       "  </tbody>\n",
       "</table>\n",
       "</div>"
      ],
      "text/plain": [
       "  purchase_id item_id  quantity        purchase_date  customer_id shop_id  \\\n",
       "0      538280   21873        11  2016-12-10 12:50:00      18427.0  Shop 0   \n",
       "1      538862   22195         0  2016-12-14 14:11:00      22389.0  Shop 0   \n",
       "2      538855   21239         7  2016-12-14 13:50:00      22182.0  Shop 0   \n",
       "3      543543   22271         0  2017-02-09 15:33:00      23522.0  Shop 0   \n",
       "4      543812   79321         0  2017-02-13 14:40:00      23151.0  Shop 0   \n",
       "\n",
       "   loyalty_program  price  \n",
       "0              0.0   1.81  \n",
       "1              1.0   2.77  \n",
       "2              1.0   1.47  \n",
       "3              1.0   4.30  \n",
       "4              1.0   7.01  "
      ]
     },
     "execution_count": 167,
     "metadata": {},
     "output_type": "execute_result"
    }
   ],
   "source": [
    "retail = retail.merge(price, how='left', on='item_id')\n",
    "retail.head()"
   ]
  },
  {
   "cell_type": "markdown",
   "metadata": {},
   "source": [
    "В ходе исследования эффективности программы лояльности нам необходим будет показатель среднего чека, поэтому добавим сразу в таблицу `retail` столбец с выручкой по каждой проданной позиции (как произведение количества единиц товара и его средней цены):"
   ]
  },
  {
   "cell_type": "code",
   "execution_count": 168,
   "metadata": {},
   "outputs": [
    {
     "data": {
      "text/html": [
       "<div>\n",
       "<style scoped>\n",
       "    .dataframe tbody tr th:only-of-type {\n",
       "        vertical-align: middle;\n",
       "    }\n",
       "\n",
       "    .dataframe tbody tr th {\n",
       "        vertical-align: top;\n",
       "    }\n",
       "\n",
       "    .dataframe thead th {\n",
       "        text-align: right;\n",
       "    }\n",
       "</style>\n",
       "<table border=\"1\" class=\"dataframe\">\n",
       "  <thead>\n",
       "    <tr style=\"text-align: right;\">\n",
       "      <th></th>\n",
       "      <th>purchase_id</th>\n",
       "      <th>item_id</th>\n",
       "      <th>quantity</th>\n",
       "      <th>purchase_date</th>\n",
       "      <th>customer_id</th>\n",
       "      <th>shop_id</th>\n",
       "      <th>loyalty_program</th>\n",
       "      <th>price</th>\n",
       "      <th>revenue</th>\n",
       "    </tr>\n",
       "  </thead>\n",
       "  <tbody>\n",
       "    <tr>\n",
       "      <td>0</td>\n",
       "      <td>538280</td>\n",
       "      <td>21873</td>\n",
       "      <td>11</td>\n",
       "      <td>2016-12-10 12:50:00</td>\n",
       "      <td>18427.0</td>\n",
       "      <td>Shop 0</td>\n",
       "      <td>0.0</td>\n",
       "      <td>1.81</td>\n",
       "      <td>19.91</td>\n",
       "    </tr>\n",
       "    <tr>\n",
       "      <td>1</td>\n",
       "      <td>538862</td>\n",
       "      <td>22195</td>\n",
       "      <td>0</td>\n",
       "      <td>2016-12-14 14:11:00</td>\n",
       "      <td>22389.0</td>\n",
       "      <td>Shop 0</td>\n",
       "      <td>1.0</td>\n",
       "      <td>2.77</td>\n",
       "      <td>0.00</td>\n",
       "    </tr>\n",
       "    <tr>\n",
       "      <td>2</td>\n",
       "      <td>538855</td>\n",
       "      <td>21239</td>\n",
       "      <td>7</td>\n",
       "      <td>2016-12-14 13:50:00</td>\n",
       "      <td>22182.0</td>\n",
       "      <td>Shop 0</td>\n",
       "      <td>1.0</td>\n",
       "      <td>1.47</td>\n",
       "      <td>10.29</td>\n",
       "    </tr>\n",
       "    <tr>\n",
       "      <td>3</td>\n",
       "      <td>543543</td>\n",
       "      <td>22271</td>\n",
       "      <td>0</td>\n",
       "      <td>2017-02-09 15:33:00</td>\n",
       "      <td>23522.0</td>\n",
       "      <td>Shop 0</td>\n",
       "      <td>1.0</td>\n",
       "      <td>4.30</td>\n",
       "      <td>0.00</td>\n",
       "    </tr>\n",
       "    <tr>\n",
       "      <td>4</td>\n",
       "      <td>543812</td>\n",
       "      <td>79321</td>\n",
       "      <td>0</td>\n",
       "      <td>2017-02-13 14:40:00</td>\n",
       "      <td>23151.0</td>\n",
       "      <td>Shop 0</td>\n",
       "      <td>1.0</td>\n",
       "      <td>7.01</td>\n",
       "      <td>0.00</td>\n",
       "    </tr>\n",
       "  </tbody>\n",
       "</table>\n",
       "</div>"
      ],
      "text/plain": [
       "  purchase_id item_id  quantity        purchase_date  customer_id shop_id  \\\n",
       "0      538280   21873        11  2016-12-10 12:50:00      18427.0  Shop 0   \n",
       "1      538862   22195         0  2016-12-14 14:11:00      22389.0  Shop 0   \n",
       "2      538855   21239         7  2016-12-14 13:50:00      22182.0  Shop 0   \n",
       "3      543543   22271         0  2017-02-09 15:33:00      23522.0  Shop 0   \n",
       "4      543812   79321         0  2017-02-13 14:40:00      23151.0  Shop 0   \n",
       "\n",
       "   loyalty_program  price  revenue  \n",
       "0              0.0   1.81    19.91  \n",
       "1              1.0   2.77     0.00  \n",
       "2              1.0   1.47    10.29  \n",
       "3              1.0   4.30     0.00  \n",
       "4              1.0   7.01     0.00  "
      ]
     },
     "execution_count": 168,
     "metadata": {},
     "output_type": "execute_result"
    }
   ],
   "source": [
    "retail['revenue'] = retail['quantity'] * retail['price']\n",
    "retail.head()"
   ]
  },
  {
   "cell_type": "markdown",
   "metadata": {},
   "source": [
    "Для исследования в дальнейшем нам понадобятся суммы чеков, поэтому рассчитаем их значения и добавим в таблицу `retail`:"
   ]
  },
  {
   "cell_type": "markdown",
   "metadata": {},
   "source": [
    "Добавим так же расчет количества приобретенных товаров по каждому чеку (глубину чека):"
   ]
  },
  {
   "cell_type": "markdown",
   "metadata": {},
   "source": [
    "### 1.1 Тип данных \n",
    "\n",
    "Проверим типы данных всех столбцов и приведем их к нужному формату:"
   ]
  },
  {
   "cell_type": "code",
   "execution_count": 169,
   "metadata": {},
   "outputs": [
    {
     "name": "stdout",
     "output_type": "stream",
     "text": [
      "<class 'pandas.core.frame.DataFrame'>\n",
      "Int64Index: 105335 entries, 0 to 105334\n",
      "Data columns (total 9 columns):\n",
      "purchase_id        105335 non-null object\n",
      "item_id            105335 non-null object\n",
      "quantity           105335 non-null int64\n",
      "purchase_date      105335 non-null object\n",
      "customer_id        69125 non-null float64\n",
      "shop_id            105335 non-null object\n",
      "loyalty_program    105335 non-null float64\n",
      "price              105335 non-null float64\n",
      "revenue            105335 non-null float64\n",
      "dtypes: float64(4), int64(1), object(4)\n",
      "memory usage: 8.0+ MB\n"
     ]
    }
   ],
   "source": [
    "retail.info()"
   ]
  },
  {
   "cell_type": "markdown",
   "metadata": {},
   "source": [
    "Для отслеживания динамики продаж, добавим в таблицу  столбец с указанием месяца. Предварительно приведем столбец `purchase_date` к типу даты:"
   ]
  },
  {
   "cell_type": "code",
   "execution_count": 170,
   "metadata": {},
   "outputs": [],
   "source": [
    "retail['purchase_date'] = pd.to_datetime(retail['purchase_date'])"
   ]
  },
  {
   "cell_type": "code",
   "execution_count": 171,
   "metadata": {},
   "outputs": [],
   "source": [
    "retail['month'] = retail['purchase_date'].astype('datetime64[M]')"
   ]
  },
  {
   "cell_type": "code",
   "execution_count": 172,
   "metadata": {},
   "outputs": [
    {
     "data": {
      "text/html": [
       "<div>\n",
       "<style scoped>\n",
       "    .dataframe tbody tr th:only-of-type {\n",
       "        vertical-align: middle;\n",
       "    }\n",
       "\n",
       "    .dataframe tbody tr th {\n",
       "        vertical-align: top;\n",
       "    }\n",
       "\n",
       "    .dataframe thead th {\n",
       "        text-align: right;\n",
       "    }\n",
       "</style>\n",
       "<table border=\"1\" class=\"dataframe\">\n",
       "  <thead>\n",
       "    <tr style=\"text-align: right;\">\n",
       "      <th></th>\n",
       "      <th>purchase_id</th>\n",
       "      <th>item_id</th>\n",
       "      <th>quantity</th>\n",
       "      <th>purchase_date</th>\n",
       "      <th>customer_id</th>\n",
       "      <th>shop_id</th>\n",
       "      <th>loyalty_program</th>\n",
       "      <th>price</th>\n",
       "      <th>revenue</th>\n",
       "      <th>month</th>\n",
       "    </tr>\n",
       "  </thead>\n",
       "  <tbody>\n",
       "    <tr>\n",
       "      <td>0</td>\n",
       "      <td>538280</td>\n",
       "      <td>21873</td>\n",
       "      <td>11</td>\n",
       "      <td>2016-12-10 12:50:00</td>\n",
       "      <td>18427.0</td>\n",
       "      <td>Shop 0</td>\n",
       "      <td>0.0</td>\n",
       "      <td>1.81</td>\n",
       "      <td>19.91</td>\n",
       "      <td>2016-12-01</td>\n",
       "    </tr>\n",
       "    <tr>\n",
       "      <td>1</td>\n",
       "      <td>538862</td>\n",
       "      <td>22195</td>\n",
       "      <td>0</td>\n",
       "      <td>2016-12-14 14:11:00</td>\n",
       "      <td>22389.0</td>\n",
       "      <td>Shop 0</td>\n",
       "      <td>1.0</td>\n",
       "      <td>2.77</td>\n",
       "      <td>0.00</td>\n",
       "      <td>2016-12-01</td>\n",
       "    </tr>\n",
       "    <tr>\n",
       "      <td>2</td>\n",
       "      <td>538855</td>\n",
       "      <td>21239</td>\n",
       "      <td>7</td>\n",
       "      <td>2016-12-14 13:50:00</td>\n",
       "      <td>22182.0</td>\n",
       "      <td>Shop 0</td>\n",
       "      <td>1.0</td>\n",
       "      <td>1.47</td>\n",
       "      <td>10.29</td>\n",
       "      <td>2016-12-01</td>\n",
       "    </tr>\n",
       "    <tr>\n",
       "      <td>3</td>\n",
       "      <td>543543</td>\n",
       "      <td>22271</td>\n",
       "      <td>0</td>\n",
       "      <td>2017-02-09 15:33:00</td>\n",
       "      <td>23522.0</td>\n",
       "      <td>Shop 0</td>\n",
       "      <td>1.0</td>\n",
       "      <td>4.30</td>\n",
       "      <td>0.00</td>\n",
       "      <td>2017-02-01</td>\n",
       "    </tr>\n",
       "    <tr>\n",
       "      <td>4</td>\n",
       "      <td>543812</td>\n",
       "      <td>79321</td>\n",
       "      <td>0</td>\n",
       "      <td>2017-02-13 14:40:00</td>\n",
       "      <td>23151.0</td>\n",
       "      <td>Shop 0</td>\n",
       "      <td>1.0</td>\n",
       "      <td>7.01</td>\n",
       "      <td>0.00</td>\n",
       "      <td>2017-02-01</td>\n",
       "    </tr>\n",
       "  </tbody>\n",
       "</table>\n",
       "</div>"
      ],
      "text/plain": [
       "  purchase_id item_id  quantity       purchase_date  customer_id shop_id  \\\n",
       "0      538280   21873        11 2016-12-10 12:50:00      18427.0  Shop 0   \n",
       "1      538862   22195         0 2016-12-14 14:11:00      22389.0  Shop 0   \n",
       "2      538855   21239         7 2016-12-14 13:50:00      22182.0  Shop 0   \n",
       "3      543543   22271         0 2017-02-09 15:33:00      23522.0  Shop 0   \n",
       "4      543812   79321         0 2017-02-13 14:40:00      23151.0  Shop 0   \n",
       "\n",
       "   loyalty_program  price  revenue      month  \n",
       "0              0.0   1.81    19.91 2016-12-01  \n",
       "1              1.0   2.77     0.00 2016-12-01  \n",
       "2              1.0   1.47    10.29 2016-12-01  \n",
       "3              1.0   4.30     0.00 2017-02-01  \n",
       "4              1.0   7.01     0.00 2017-02-01  "
      ]
     },
     "execution_count": 172,
     "metadata": {},
     "output_type": "execute_result"
    }
   ],
   "source": [
    "retail.head()"
   ]
  },
  {
   "cell_type": "markdown",
   "metadata": {},
   "source": [
    "Полe  `loyalty_program` переведем в целочисленный тип данных:"
   ]
  },
  {
   "cell_type": "code",
   "execution_count": 173,
   "metadata": {},
   "outputs": [],
   "source": [
    "retail['loyalty_program'] = retail['loyalty_program'].astype('int')"
   ]
  },
  {
   "cell_type": "markdown",
   "metadata": {},
   "source": [
    "### 1.2 Обработка пропусков и аномалий\n",
    "\n",
    "\n",
    "Заполним пропуски номеров карт **`customer_id`** значением \"0\" и посчитаем долю таких записей от общего числа чеков:"
   ]
  },
  {
   "cell_type": "code",
   "execution_count": 174,
   "metadata": {},
   "outputs": [],
   "source": [
    "retail['customer_id'] = retail['customer_id'].fillna(0).astype('int')"
   ]
  },
  {
   "cell_type": "code",
   "execution_count": 175,
   "metadata": {},
   "outputs": [
    {
     "data": {
      "text/plain": [
       "0.1528402125051083"
      ]
     },
     "execution_count": 175,
     "metadata": {},
     "output_type": "execute_result"
    }
   ],
   "source": [
    "len(retail.query('customer_id == \"0\"').groupby('purchase_id')) / len(retail['purchase_id'].value_counts())"
   ]
  },
  {
   "cell_type": "markdown",
   "metadata": {},
   "source": [
    "Около 15% чеков оказались не привязаны к клиентским картам. Причинами этого могли стать следующие ситуации:\n",
    "- клиент имеет карту, но не предоставил ее при совершении покупки;\n",
    "- клиент отказался от оформления карты и магазин провел покупку без ее использования\n",
    "- имел место технический сбой и карта не считалась (возможно, она была повреждена, размагничена, кассир неправильно считал карту)"
   ]
  },
  {
   "cell_type": "markdown",
   "metadata": {},
   "source": [
    "Теперь обратимся к данным в столбце с количеством проданного товара **`quantity`**:"
   ]
  },
  {
   "cell_type": "code",
   "execution_count": 176,
   "metadata": {},
   "outputs": [
    {
     "data": {
      "text/plain": [
       "count    105335.000000\n",
       "mean          7.821218\n",
       "std         327.946695\n",
       "min      -74216.000000\n",
       "25%           0.000000\n",
       "50%           2.000000\n",
       "75%           7.000000\n",
       "max       74214.000000\n",
       "Name: quantity, dtype: float64"
      ]
     },
     "execution_count": 176,
     "metadata": {},
     "output_type": "execute_result"
    }
   ],
   "source": [
    "retail['quantity'].describe()"
   ]
  },
  {
   "cell_type": "markdown",
   "metadata": {},
   "source": [
    "Четверть товаров в чеках пробита в количестве 0 единиц либо с отрицательным значением\n"
   ]
  },
  {
   "cell_type": "code",
   "execution_count": 177,
   "metadata": {},
   "outputs": [
    {
     "data": {
      "text/html": [
       "<div>\n",
       "<style scoped>\n",
       "    .dataframe tbody tr th:only-of-type {\n",
       "        vertical-align: middle;\n",
       "    }\n",
       "\n",
       "    .dataframe tbody tr th {\n",
       "        vertical-align: top;\n",
       "    }\n",
       "\n",
       "    .dataframe thead th {\n",
       "        text-align: right;\n",
       "    }\n",
       "</style>\n",
       "<table border=\"1\" class=\"dataframe\">\n",
       "  <thead>\n",
       "    <tr style=\"text-align: right;\">\n",
       "      <th></th>\n",
       "      <th>purchase_id</th>\n",
       "      <th>item_id</th>\n",
       "      <th>quantity</th>\n",
       "      <th>purchase_date</th>\n",
       "      <th>customer_id</th>\n",
       "      <th>shop_id</th>\n",
       "      <th>loyalty_program</th>\n",
       "      <th>price</th>\n",
       "      <th>revenue</th>\n",
       "      <th>month</th>\n",
       "    </tr>\n",
       "  </thead>\n",
       "  <tbody>\n",
       "    <tr>\n",
       "      <td>64</td>\n",
       "      <td>C539944</td>\n",
       "      <td>22776</td>\n",
       "      <td>-2</td>\n",
       "      <td>2016-12-23 11:38:00</td>\n",
       "      <td>20239</td>\n",
       "      <td>Shop 0</td>\n",
       "      <td>0</td>\n",
       "      <td>14.70</td>\n",
       "      <td>-29.40</td>\n",
       "      <td>2016-12-01</td>\n",
       "    </tr>\n",
       "    <tr>\n",
       "      <td>109</td>\n",
       "      <td>C542910</td>\n",
       "      <td>20726</td>\n",
       "      <td>-2</td>\n",
       "      <td>2017-02-01 15:38:00</td>\n",
       "      <td>23190</td>\n",
       "      <td>Shop 0</td>\n",
       "      <td>1</td>\n",
       "      <td>3.07</td>\n",
       "      <td>-6.14</td>\n",
       "      <td>2017-02-01</td>\n",
       "    </tr>\n",
       "    <tr>\n",
       "      <td>112</td>\n",
       "      <td>C542426</td>\n",
       "      <td>22418</td>\n",
       "      <td>-25</td>\n",
       "      <td>2017-01-28 09:32:00</td>\n",
       "      <td>19825</td>\n",
       "      <td>Shop 0</td>\n",
       "      <td>0</td>\n",
       "      <td>1.66</td>\n",
       "      <td>-41.50</td>\n",
       "      <td>2017-01-01</td>\n",
       "    </tr>\n",
       "    <tr>\n",
       "      <td>253</td>\n",
       "      <td>C539726</td>\n",
       "      <td>22791</td>\n",
       "      <td>-11</td>\n",
       "      <td>2016-12-21 14:24:00</td>\n",
       "      <td>22686</td>\n",
       "      <td>Shop 0</td>\n",
       "      <td>1</td>\n",
       "      <td>1.82</td>\n",
       "      <td>-20.02</td>\n",
       "      <td>2016-12-01</td>\n",
       "    </tr>\n",
       "    <tr>\n",
       "      <td>344</td>\n",
       "      <td>C544034</td>\n",
       "      <td>21878</td>\n",
       "      <td>-2</td>\n",
       "      <td>2017-02-15 11:28:00</td>\n",
       "      <td>20380</td>\n",
       "      <td>Shop 0</td>\n",
       "      <td>0</td>\n",
       "      <td>1.21</td>\n",
       "      <td>-2.42</td>\n",
       "      <td>2017-02-01</td>\n",
       "    </tr>\n",
       "  </tbody>\n",
       "</table>\n",
       "</div>"
      ],
      "text/plain": [
       "    purchase_id item_id  quantity       purchase_date  customer_id shop_id  \\\n",
       "64      C539944   22776        -2 2016-12-23 11:38:00        20239  Shop 0   \n",
       "109     C542910   20726        -2 2017-02-01 15:38:00        23190  Shop 0   \n",
       "112     C542426   22418       -25 2017-01-28 09:32:00        19825  Shop 0   \n",
       "253     C539726   22791       -11 2016-12-21 14:24:00        22686  Shop 0   \n",
       "344     C544034   21878        -2 2017-02-15 11:28:00        20380  Shop 0   \n",
       "\n",
       "     loyalty_program  price  revenue      month  \n",
       "64                 0  14.70   -29.40 2016-12-01  \n",
       "109                1   3.07    -6.14 2017-02-01  \n",
       "112                0   1.66   -41.50 2017-01-01  \n",
       "253                1   1.82   -20.02 2016-12-01  \n",
       "344                0   1.21    -2.42 2017-02-01  "
      ]
     },
     "execution_count": 177,
     "metadata": {},
     "output_type": "execute_result"
    }
   ],
   "source": [
    "retail.query('quantity < 0'). head()"
   ]
  },
  {
   "cell_type": "markdown",
   "metadata": {},
   "source": [
    "*Отрицательное значение* количестве товара в чеке может возникать в случае:\n",
    "\n",
    "- отмены покупки (по просьбе клиента или ошибке кассира), тогда в чеке будут товары и с положительным, и с отрицательным `quantity`\n",
    "\n",
    "- при оформлении возврата, тогда в чеке все товары будут в отрицательном количестве и код чека будет начинаться с символа \"С\"\n",
    "\n",
    "\n",
    "Прежде чем выдвинуть предположение о возможных причинах записей с нулевым количеством товара, выведем строки подобные строки датасета:"
   ]
  },
  {
   "cell_type": "code",
   "execution_count": 178,
   "metadata": {},
   "outputs": [
    {
     "data": {
      "text/html": [
       "<div>\n",
       "<style scoped>\n",
       "    .dataframe tbody tr th:only-of-type {\n",
       "        vertical-align: middle;\n",
       "    }\n",
       "\n",
       "    .dataframe tbody tr th {\n",
       "        vertical-align: top;\n",
       "    }\n",
       "\n",
       "    .dataframe thead th {\n",
       "        text-align: right;\n",
       "    }\n",
       "</style>\n",
       "<table border=\"1\" class=\"dataframe\">\n",
       "  <thead>\n",
       "    <tr style=\"text-align: right;\">\n",
       "      <th></th>\n",
       "      <th>purchase_id</th>\n",
       "      <th>item_id</th>\n",
       "      <th>quantity</th>\n",
       "      <th>purchase_date</th>\n",
       "      <th>customer_id</th>\n",
       "      <th>shop_id</th>\n",
       "      <th>loyalty_program</th>\n",
       "      <th>price</th>\n",
       "      <th>revenue</th>\n",
       "      <th>month</th>\n",
       "    </tr>\n",
       "  </thead>\n",
       "  <tbody>\n",
       "    <tr>\n",
       "      <td>1</td>\n",
       "      <td>538862</td>\n",
       "      <td>22195</td>\n",
       "      <td>0</td>\n",
       "      <td>2016-12-14 14:11:00</td>\n",
       "      <td>22389</td>\n",
       "      <td>Shop 0</td>\n",
       "      <td>1</td>\n",
       "      <td>2.77</td>\n",
       "      <td>0.0</td>\n",
       "      <td>2016-12-01</td>\n",
       "    </tr>\n",
       "    <tr>\n",
       "      <td>3</td>\n",
       "      <td>543543</td>\n",
       "      <td>22271</td>\n",
       "      <td>0</td>\n",
       "      <td>2017-02-09 15:33:00</td>\n",
       "      <td>23522</td>\n",
       "      <td>Shop 0</td>\n",
       "      <td>1</td>\n",
       "      <td>4.30</td>\n",
       "      <td>0.0</td>\n",
       "      <td>2017-02-01</td>\n",
       "    </tr>\n",
       "    <tr>\n",
       "      <td>4</td>\n",
       "      <td>543812</td>\n",
       "      <td>79321</td>\n",
       "      <td>0</td>\n",
       "      <td>2017-02-13 14:40:00</td>\n",
       "      <td>23151</td>\n",
       "      <td>Shop 0</td>\n",
       "      <td>1</td>\n",
       "      <td>7.01</td>\n",
       "      <td>0.0</td>\n",
       "      <td>2017-02-01</td>\n",
       "    </tr>\n",
       "    <tr>\n",
       "      <td>5</td>\n",
       "      <td>538379</td>\n",
       "      <td>22965</td>\n",
       "      <td>0</td>\n",
       "      <td>2016-12-12 11:26:00</td>\n",
       "      <td>22805</td>\n",
       "      <td>Shop 0</td>\n",
       "      <td>1</td>\n",
       "      <td>3.07</td>\n",
       "      <td>0.0</td>\n",
       "      <td>2016-12-01</td>\n",
       "    </tr>\n",
       "    <tr>\n",
       "      <td>6</td>\n",
       "      <td>540468</td>\n",
       "      <td>22189</td>\n",
       "      <td>0</td>\n",
       "      <td>2017-01-07 13:55:00</td>\n",
       "      <td>0</td>\n",
       "      <td>Shop 0</td>\n",
       "      <td>0</td>\n",
       "      <td>5.28</td>\n",
       "      <td>0.0</td>\n",
       "      <td>2017-01-01</td>\n",
       "    </tr>\n",
       "  </tbody>\n",
       "</table>\n",
       "</div>"
      ],
      "text/plain": [
       "  purchase_id item_id  quantity       purchase_date  customer_id shop_id  \\\n",
       "1      538862   22195         0 2016-12-14 14:11:00        22389  Shop 0   \n",
       "3      543543   22271         0 2017-02-09 15:33:00        23522  Shop 0   \n",
       "4      543812   79321         0 2017-02-13 14:40:00        23151  Shop 0   \n",
       "5      538379   22965         0 2016-12-12 11:26:00        22805  Shop 0   \n",
       "6      540468   22189         0 2017-01-07 13:55:00            0  Shop 0   \n",
       "\n",
       "   loyalty_program  price  revenue      month  \n",
       "1                1   2.77      0.0 2016-12-01  \n",
       "3                1   4.30      0.0 2017-02-01  \n",
       "4                1   7.01      0.0 2017-02-01  \n",
       "5                1   3.07      0.0 2016-12-01  \n",
       "6                0   5.28      0.0 2017-01-01  "
      ]
     },
     "execution_count": 178,
     "metadata": {},
     "output_type": "execute_result"
    }
   ],
   "source": [
    "retail.query('quantity == 0'). head()"
   ]
  },
  {
   "cell_type": "markdown",
   "metadata": {},
   "source": [
    "*Нулевое количество* встречается у разных кодов товаров, независимо от участия клиента в программе лояльности.\n",
    "\n",
    "Такая ситуация возможна, когда в системе учета значатся \"составные позиции\", т.е. основной код всего набора пробивается в чеке в количестве 0, а его составляющие со своими кодами уже вбиваются в реальном количестве и в сумме формируют цену \"набора\".\n",
    "\n",
    "Посмотрим, насколько число чеков с нулевым количеством товара рознится в магазинах сети:\n"
   ]
  },
  {
   "cell_type": "code",
   "execution_count": 179,
   "metadata": {},
   "outputs": [
    {
     "data": {
      "text/plain": [
       "shop_id\n",
       "Shop 0     1617\n",
       "Shop 4       32\n",
       "Shop 1       25\n",
       "Shop 6       20\n",
       "Shop 8        9\n",
       "Shop 18       7\n",
       "Shop 10       7\n",
       "Shop 12       6\n",
       "Shop 3        4\n",
       "Shop 22       2\n",
       "Shop 20       2\n",
       "Shop 16       2\n",
       "Shop 11       2\n",
       "Shop 7        1\n",
       "Shop 14       1\n",
       "Shop 5        1\n",
       "Shop 19       1\n",
       "Name: purchase_id, dtype: int64"
      ]
     },
     "execution_count": 179,
     "metadata": {},
     "output_type": "execute_result"
    }
   ],
   "source": [
    "zero_quantity = retail.query('quantity == 0')\\\n",
    "                      .groupby('shop_id')['purchase_id'] \\\n",
    "                      .nunique()\\\n",
    "                      .sort_values(ascending=False)\n",
    "zero_quantity "
   ]
  },
  {
   "cell_type": "markdown",
   "metadata": {},
   "source": [
    "С огромным отрывом магазин `Shop 0` лидирует по числу чеков с нулевым значением `quantity`.\n",
    "Можем предположить, что он является флагманским магазином сети с самым большим ассортиментом, в том числе и составных наборов. Некоторые магазины не имеют подобных позиций в чеках. Из этого можем сделат вывод, что это наиболее мелкие магазины (формата \"У дома\"), с небольшим ассортиментом недорогих товаров из категории самого необходимого."
   ]
  },
  {
   "cell_type": "code",
   "execution_count": 180,
   "metadata": {},
   "outputs": [
    {
     "data": {
      "text/plain": [
       "shop_id\n",
       "Shop 0     1577639.51\n",
       "Shop 3      103984.74\n",
       "Shop 6       56583.67\n",
       "Shop 4       51496.25\n",
       "Shop 1       47599.69\n",
       "Shop 2       40519.74\n",
       "Shop 14      22806.50\n",
       "Shop 8       16173.93\n",
       "Shop 7       11116.54\n",
       "Shop 19      10140.84\n",
       "Shop 10       9828.04\n",
       "Shop 12       6776.74\n",
       "Shop 18       6241.36\n",
       "Shop 5        6137.51\n",
       "Shop 24       3917.51\n",
       "Shop 16       3741.83\n",
       "Shop 11       3512.61\n",
       "Shop 25       3362.31\n",
       "Shop 22       2908.92\n",
       "Shop 26       2767.05\n",
       "Shop 13       2444.03\n",
       "Shop 9        2421.24\n",
       "Shop 17       2233.49\n",
       "Shop 27       2114.16\n",
       "Shop 15       1718.41\n",
       "Shop 28       1466.17\n",
       "Shop 21       1256.77\n",
       "Shop 20        909.88\n",
       "Shop 30        742.96\n",
       "Shop 29        202.30\n",
       "Shop 23        -11.02\n",
       "Name: revenue, dtype: float64"
      ]
     },
     "execution_count": 180,
     "metadata": {},
     "output_type": "execute_result"
    }
   ],
   "source": [
    "shop_top = retail.groupby('shop_id')['revenue'].sum().sort_values(ascending=False)\n",
    "shop_top"
   ]
  },
  {
   "cell_type": "markdown",
   "metadata": {},
   "source": [
    "Общая сумма выручки по магазинам сети подтверждает наши предположения:\n",
    "- магазин с номером 0 десятикратно превосходит по оборотам другие точки;\n",
    "- магазины, не имеющие \"составных позиций\" в ассортименте находятся внизу рейтинга доходов, что подтверждает наше предположение - это самые мелкие точки сети.\n",
    "\n",
    "Чеки с нулевым количеством товара встречаются ~ в 30% от общего количества чеков.\n",
    "В данном случае замена или удаление \"нулевых\" данных могут исказить результаты исследования, поэтому оставляем нулевые значения количества. Эти аномалии не будут иметь сильного влияния при расчете среднего чека и глубины чека. При необходимости, мы в дальнейшем их отфильтруем.\n",
    "\n",
    "Отрицтельные количества товара так же оставляем без изменений. Иначе, исключив возвратные позиции из расчетов, мы рискуем получить завышенные значения метрик среднего чека и глубины чека."
   ]
  },
  {
   "cell_type": "markdown",
   "metadata": {},
   "source": [
    "Теперь посмотрим на распределение параметра **`price`**:"
   ]
  },
  {
   "cell_type": "code",
   "execution_count": 181,
   "metadata": {},
   "outputs": [
    {
     "data": {
      "text/plain": [
       "count    105335.000000\n",
       "mean          5.950133\n",
       "std          95.833104\n",
       "min           0.000000\n",
       "25%           1.810000\n",
       "50%           2.950000\n",
       "75%           5.270000\n",
       "max        9268.760000\n",
       "Name: price, dtype: float64"
      ]
     },
     "execution_count": 181,
     "metadata": {},
     "output_type": "execute_result"
    }
   ],
   "source": [
    "retail['price'].describe()"
   ]
  },
  {
   "cell_type": "markdown",
   "metadata": {},
   "source": [
    "Некоторые позиции имеют нулевую цену. Посмотрим кодировки данных товаров и магазины, в которых они встречаются:"
   ]
  },
  {
   "cell_type": "code",
   "execution_count": 182,
   "metadata": {},
   "outputs": [
    {
     "data": {
      "text/plain": [
       "array(['84247C', '84611B', '85028S', '90091', '17011A', '85179B',\n",
       "       '84967A', '85226A', '84966A', '35645', '90000C', '84455',\n",
       "       'DCGS0074', 'DCGS0057', '84966B', '85028L', '90095', '79063C',\n",
       "       '84509F', '20849', '35969', '84612B', '84964B', '84977',\n",
       "       'DCGS0072', '62095B', '84227', 'DCGS0055', '84968B', '72814',\n",
       "       '21653', '84689', '21282', '20864', '35951', '84670', '21134',\n",
       "       '85018C', '35644', '72803B', '21805', '84664', '85110', '21841',\n",
       "       '72038P', '35991', '84424A', '85044', '84526', '84967B', '21431',\n",
       "       '20950', '84546', '20738', '22143', '90042B', '21589'],\n",
       "      dtype=object)"
      ]
     },
     "execution_count": 182,
     "metadata": {},
     "output_type": "execute_result"
    }
   ],
   "source": [
    "retail.query('price==0')['item_id'].unique()"
   ]
  },
  {
   "cell_type": "code",
   "execution_count": 183,
   "metadata": {},
   "outputs": [
    {
     "data": {
      "text/plain": [
       "shop_id\n",
       "Shop 0    59\n",
       "Name: item_id, dtype: int64"
      ]
     },
     "execution_count": 183,
     "metadata": {},
     "output_type": "execute_result"
    }
   ],
   "source": [
    "retail.query('price==0').groupby('shop_id')['item_id'].count()"
   ]
  },
  {
   "cell_type": "markdown",
   "metadata": {},
   "source": [
    "Бесплатные товары имеют разные коды, но все они были приобретены во флагманском магазине.\n",
    "\n",
    "Причиной обнуления цен может быть, например:\n",
    "\n",
    "- участие товара в акции;\n",
    "- корректировка цен в системе;\n",
    "- временное обнуление цены в базе до поступления новой партии товара\n",
    "\n",
    "\n",
    "Изменение или удаление подобных товаров может сказаться на корректности дальнейших расчетов, поэтому мы оставляем данные по ценам в представленном виде."
   ]
  },
  {
   "cell_type": "code",
   "execution_count": 184,
   "metadata": {},
   "outputs": [
    {
     "data": {
      "text/plain": [
       "<matplotlib.axes._subplots.AxesSubplot at 0x7f71e07d6bd0>"
      ]
     },
     "execution_count": 184,
     "metadata": {},
     "output_type": "execute_result"
    },
    {
     "data": {
      "image/png": "[encoded data removed]",
      "text/plain": [
       "<Figure size 432x288 with 1 Axes>"
      ]
     },
     "metadata": {
      "needs_background": "light"
     },
     "output_type": "display_data"
    }
   ],
   "source": [
    "retail['price'].hist(bins=100, range=(0, 40))"
   ]
  },
  {
   "cell_type": "code",
   "execution_count": 185,
   "metadata": {},
   "outputs": [
    {
     "data": {
      "text/plain": [
       "<matplotlib.axes._subplots.AxesSubplot at 0x7f71e0639f10>"
      ]
     },
     "execution_count": 185,
     "metadata": {},
     "output_type": "execute_result"
    },
    {
     "data": {
      "image/png": "[encoded data removed]",
      "text/plain": [
       "<Figure size 432x288 with 1 Axes>"
      ]
     },
     "metadata": {
      "needs_background": "light"
     },
     "output_type": "display_data"
    }
   ],
   "source": [
    "sns.boxplot(y='price', data=retail.query('price < 100'))"
   ]
  },
  {
   "cell_type": "markdown",
   "metadata": {},
   "source": [
    "Судя по диаграммам и расчету основных метрик, цена  большинства приобретаемых товаров находится в диапазоне от 1 до 5 у.е.\n",
    "\n",
    "На графике отчетливо видно большое число выбросов (цены выше 10 у.е.), поэтому при расчете средней цены мы ориентируемся на медианное значение - 3 у.е.\n",
    "\n"
   ]
  },
  {
   "cell_type": "markdown",
   "metadata": {},
   "source": [
    "### 1.3 Расчет выручки и количества проданных товаров по группам клиентов\n",
    "\n",
    "\n",
    "Обратимся к столбцу **`loyalty_program`** и рассчитаем процент участников программы лояльности среди всех клиентов из нашей выборки:"
   ]
  },
  {
   "cell_type": "code",
   "execution_count": 186,
   "metadata": {},
   "outputs": [
    {
     "data": {
      "text/html": [
       "<div>\n",
       "<style scoped>\n",
       "    .dataframe tbody tr th:only-of-type {\n",
       "        vertical-align: middle;\n",
       "    }\n",
       "\n",
       "    .dataframe tbody tr th {\n",
       "        vertical-align: top;\n",
       "    }\n",
       "\n",
       "    .dataframe thead th {\n",
       "        text-align: right;\n",
       "    }\n",
       "</style>\n",
       "<table border=\"1\" class=\"dataframe\">\n",
       "  <thead>\n",
       "    <tr style=\"text-align: right;\">\n",
       "      <th></th>\n",
       "      <th>loyalty</th>\n",
       "      <th>sum_customer</th>\n",
       "      <th>percent</th>\n",
       "    </tr>\n",
       "  </thead>\n",
       "  <tbody>\n",
       "    <tr>\n",
       "      <td>0</td>\n",
       "      <td>0</td>\n",
       "      <td>81493</td>\n",
       "      <td>77.0</td>\n",
       "    </tr>\n",
       "    <tr>\n",
       "      <td>1</td>\n",
       "      <td>1</td>\n",
       "      <td>23842</td>\n",
       "      <td>23.0</td>\n",
       "    </tr>\n",
       "  </tbody>\n",
       "</table>\n",
       "</div>"
      ],
      "text/plain": [
       "   loyalty  sum_customer  percent\n",
       "0        0         81493     77.0\n",
       "1        1         23842     23.0"
      ]
     },
     "execution_count": 186,
     "metadata": {},
     "output_type": "execute_result"
    }
   ],
   "source": [
    "loyalty = retail.groupby('loyalty_program')['customer_id'].count().reset_index()\n",
    "loyalty.columns = ['loyalty', 'sum_customer']\n",
    "loyalty['percent'] = round(loyalty['sum_customer'] / loyalty['sum_customer'].sum(), 2)*100\n",
    "loyalty"
   ]
  },
  {
   "cell_type": "markdown",
   "metadata": {},
   "source": [
    "В программе лояльности участвует четвертая часть всех клиентов торговой сети.\n",
    "\n",
    "### 1.3.1 \n",
    "Теперь посмотрим, какую **`выручку`** магазинам приносят разные группы клиентов."
   ]
  },
  {
   "cell_type": "code",
   "execution_count": 187,
   "metadata": {},
   "outputs": [
    {
     "data": {
      "text/html": [
       "<div>\n",
       "<style scoped>\n",
       "    .dataframe tbody tr th:only-of-type {\n",
       "        vertical-align: middle;\n",
       "    }\n",
       "\n",
       "    .dataframe tbody tr th {\n",
       "        vertical-align: top;\n",
       "    }\n",
       "\n",
       "    .dataframe thead th {\n",
       "        text-align: right;\n",
       "    }\n",
       "</style>\n",
       "<table border=\"1\" class=\"dataframe\">\n",
       "  <thead>\n",
       "    <tr style=\"text-align: right;\">\n",
       "      <th></th>\n",
       "      <th>loyalty_program</th>\n",
       "      <th>month</th>\n",
       "      <th>revenue</th>\n",
       "    </tr>\n",
       "  </thead>\n",
       "  <tbody>\n",
       "    <tr>\n",
       "      <td>0</td>\n",
       "      <td>0</td>\n",
       "      <td>2016-12-01</td>\n",
       "      <td>490812.61</td>\n",
       "    </tr>\n",
       "    <tr>\n",
       "      <td>1</td>\n",
       "      <td>0</td>\n",
       "      <td>2017-01-01</td>\n",
       "      <td>553275.68</td>\n",
       "    </tr>\n",
       "    <tr>\n",
       "      <td>2</td>\n",
       "      <td>0</td>\n",
       "      <td>2017-02-01</td>\n",
       "      <td>336327.34</td>\n",
       "    </tr>\n",
       "    <tr>\n",
       "      <td>3</td>\n",
       "      <td>1</td>\n",
       "      <td>2016-12-01</td>\n",
       "      <td>281096.07</td>\n",
       "    </tr>\n",
       "    <tr>\n",
       "      <td>4</td>\n",
       "      <td>1</td>\n",
       "      <td>2017-01-01</td>\n",
       "      <td>146366.27</td>\n",
       "    </tr>\n",
       "    <tr>\n",
       "      <td>5</td>\n",
       "      <td>1</td>\n",
       "      <td>2017-02-01</td>\n",
       "      <td>194875.71</td>\n",
       "    </tr>\n",
       "  </tbody>\n",
       "</table>\n",
       "</div>"
      ],
      "text/plain": [
       "   loyalty_program      month    revenue\n",
       "0                0 2016-12-01  490812.61\n",
       "1                0 2017-01-01  553275.68\n",
       "2                0 2017-02-01  336327.34\n",
       "3                1 2016-12-01  281096.07\n",
       "4                1 2017-01-01  146366.27\n",
       "5                1 2017-02-01  194875.71"
      ]
     },
     "execution_count": 187,
     "metadata": {},
     "output_type": "execute_result"
    }
   ],
   "source": [
    "revenue_group = retail.groupby(['loyalty_program','month'])['revenue'].sum().reset_index()\n",
    "revenue_group.columns = ['loyalty_program', 'month', 'revenue']\n",
    "revenue_group"
   ]
  },
  {
   "cell_type": "markdown",
   "metadata": {},
   "source": [
    "Построим график распределения выручки по месяцам с учетом принадлежности клиентов к системе лояльности."
   ]
  },
  {
   "cell_type": "code",
   "execution_count": 188,
   "metadata": {},
   "outputs": [
    {
     "data": {
      "image/png": "[encoded data removed]",
      "text/plain": [
       "<Figure size 936x360 with 1 Axes>"
      ]
     },
     "metadata": {
      "needs_background": "light"
     },
     "output_type": "display_data"
    }
   ],
   "source": [
    "plt.figure(figsize=(13,5))\n",
    "\n",
    "sns.barplot(data = revenue_group, x = revenue_group['month'],\n",
    "            y = revenue_group['revenue'], hue='loyalty_program', palette='twilight')\n",
    "plt.title('Расчет выручки по месяцам для двух групп клиентов')\n",
    "plt.show()"
   ]
  },
  {
   "cell_type": "markdown",
   "metadata": {},
   "source": [
    "<div class=\"alert alert-success\">\n",
    "<b>Комментарий тимлида:</b> Хороший график. Месяцы идут в хронологическом порядке.</div>"
   ]
  },
  {
   "cell_type": "markdown",
   "metadata": {},
   "source": [
    "Теперь посмотрим, как распределилась выручка в целом:"
   ]
  },
  {
   "cell_type": "code",
   "execution_count": 189,
   "metadata": {},
   "outputs": [
    {
     "data": {
      "text/html": [
       "<div>\n",
       "<style scoped>\n",
       "    .dataframe tbody tr th:only-of-type {\n",
       "        vertical-align: middle;\n",
       "    }\n",
       "\n",
       "    .dataframe tbody tr th {\n",
       "        vertical-align: top;\n",
       "    }\n",
       "\n",
       "    .dataframe thead th {\n",
       "        text-align: right;\n",
       "    }\n",
       "</style>\n",
       "<table border=\"1\" class=\"dataframe\">\n",
       "  <thead>\n",
       "    <tr style=\"text-align: right;\">\n",
       "      <th></th>\n",
       "      <th>month</th>\n",
       "      <th>revenue</th>\n",
       "      <th>percent</th>\n",
       "    </tr>\n",
       "  </thead>\n",
       "  <tbody>\n",
       "    <tr>\n",
       "      <td>0</td>\n",
       "      <td>2016-12-01</td>\n",
       "      <td>771908.68</td>\n",
       "      <td>39.0</td>\n",
       "    </tr>\n",
       "    <tr>\n",
       "      <td>1</td>\n",
       "      <td>2017-01-01</td>\n",
       "      <td>699641.95</td>\n",
       "      <td>35.0</td>\n",
       "    </tr>\n",
       "    <tr>\n",
       "      <td>2</td>\n",
       "      <td>2017-02-01</td>\n",
       "      <td>531203.05</td>\n",
       "      <td>27.0</td>\n",
       "    </tr>\n",
       "  </tbody>\n",
       "</table>\n",
       "</div>"
      ],
      "text/plain": [
       "       month    revenue  percent\n",
       "0 2016-12-01  771908.68     39.0\n",
       "1 2017-01-01  699641.95     35.0\n",
       "2 2017-02-01  531203.05     27.0"
      ]
     },
     "execution_count": 189,
     "metadata": {},
     "output_type": "execute_result"
    }
   ],
   "source": [
    "revenue_month = retail.groupby('month')['revenue'].sum().reset_index()\n",
    "revenue_month.columns=['month', 'revenue']\n",
    "revenue_month['percent'] = round(revenue_month['revenue'] / revenue_month['revenue'].sum(),2)*100\n",
    "revenue_month\n"
   ]
  },
  {
   "cell_type": "code",
   "execution_count": 190,
   "metadata": {},
   "outputs": [
    {
     "data": {
      "image/png": "[encoded data removed]",
      "text/plain": [
       "<Figure size 936x360 with 1 Axes>"
      ]
     },
     "metadata": {
      "needs_background": "light"
     },
     "output_type": "display_data"
    }
   ],
   "source": [
    "plt.figure(figsize=(13,5))\n",
    "sns.barplot(data=revenue_month, x ='month', y='revenue')\n",
    "plt.title('Выручка сети магазинов по месяцам')\n",
    "plt.show()"
   ]
  },
  {
   "cell_type": "markdown",
   "metadata": {},
   "source": [
    "Ожидаемо, прибыль от участников программы лояльности в абсолютном выражении ниже прибыли от других покупателей. \n",
    "Интересно, что прибыль внутри каждой группы по месяцам распределена по-разному:\n",
    "\n",
    "- пик прибыли группы лояльности приходится на декабрь, а январь показал самые низкие результаты;\n",
    "- в группе остальных клиентов пиковым месяцем был январь, а самый низкий результат был в феврале.\n",
    "\n",
    "Видимо это связано с акциями для лояльных клиентов. Таким образом, управляя условиями акций, руководству сети удалось сохранить примерно равный результат за декабрь и январь, несмотря на праздничные (выходные) дни, но в феврале выручка заметно снизилась, несмотря на активность группы лояльных клиентов.\n",
    "\n"
   ]
  },
  {
   "cell_type": "markdown",
   "metadata": {},
   "source": [
    "### 1.3.2\n",
    "\n",
    "Теперь рассчитаем количество проданных товаров по группам лояльности за выбранный период:"
   ]
  },
  {
   "cell_type": "code",
   "execution_count": 191,
   "metadata": {},
   "outputs": [
    {
     "data": {
      "text/html": [
       "<div>\n",
       "<style scoped>\n",
       "    .dataframe tbody tr th:only-of-type {\n",
       "        vertical-align: middle;\n",
       "    }\n",
       "\n",
       "    .dataframe tbody tr th {\n",
       "        vertical-align: top;\n",
       "    }\n",
       "\n",
       "    .dataframe thead th {\n",
       "        text-align: right;\n",
       "    }\n",
       "</style>\n",
       "<table border=\"1\" class=\"dataframe\">\n",
       "  <thead>\n",
       "    <tr style=\"text-align: right;\">\n",
       "      <th></th>\n",
       "      <th>loyalty_program</th>\n",
       "      <th>month</th>\n",
       "      <th>quantity</th>\n",
       "    </tr>\n",
       "  </thead>\n",
       "  <tbody>\n",
       "    <tr>\n",
       "      <td>0</td>\n",
       "      <td>0</td>\n",
       "      <td>2016-12-01</td>\n",
       "      <td>211753</td>\n",
       "    </tr>\n",
       "    <tr>\n",
       "      <td>1</td>\n",
       "      <td>0</td>\n",
       "      <td>2017-01-01</td>\n",
       "      <td>215857</td>\n",
       "    </tr>\n",
       "    <tr>\n",
       "      <td>2</td>\n",
       "      <td>0</td>\n",
       "      <td>2017-02-01</td>\n",
       "      <td>167073</td>\n",
       "    </tr>\n",
       "    <tr>\n",
       "      <td>3</td>\n",
       "      <td>1</td>\n",
       "      <td>2016-12-01</td>\n",
       "      <td>87994</td>\n",
       "    </tr>\n",
       "    <tr>\n",
       "      <td>4</td>\n",
       "      <td>1</td>\n",
       "      <td>2017-01-01</td>\n",
       "      <td>57962</td>\n",
       "    </tr>\n",
       "    <tr>\n",
       "      <td>5</td>\n",
       "      <td>1</td>\n",
       "      <td>2017-02-01</td>\n",
       "      <td>83209</td>\n",
       "    </tr>\n",
       "  </tbody>\n",
       "</table>\n",
       "</div>"
      ],
      "text/plain": [
       "   loyalty_program      month  quantity\n",
       "0                0 2016-12-01    211753\n",
       "1                0 2017-01-01    215857\n",
       "2                0 2017-02-01    167073\n",
       "3                1 2016-12-01     87994\n",
       "4                1 2017-01-01     57962\n",
       "5                1 2017-02-01     83209"
      ]
     },
     "execution_count": 191,
     "metadata": {},
     "output_type": "execute_result"
    }
   ],
   "source": [
    "quantity_group = retail.groupby(['loyalty_program', 'month'])['quantity'].sum().reset_index()\n",
    "quantity_group"
   ]
  },
  {
   "cell_type": "code",
   "execution_count": 192,
   "metadata": {},
   "outputs": [
    {
     "data": {
      "image/png": "[encoded data removed]",
      "text/plain": [
       "<Figure size 936x360 with 1 Axes>"
      ]
     },
     "metadata": {
      "needs_background": "light"
     },
     "output_type": "display_data"
    }
   ],
   "source": [
    "plt.figure(figsize=(13,5))\n",
    "\n",
    "sns.barplot(data = quantity_group, x = quantity_group['month'], \n",
    "                                   y = quantity_group['quantity'], hue='loyalty_program',\n",
    "                                   palette='Blues')\n",
    "plt.title('Расчет количества проданных товаров по месяцам для двух групп клиентов')\n",
    "plt.show()"
   ]
  },
  {
   "cell_type": "code",
   "execution_count": 193,
   "metadata": {},
   "outputs": [
    {
     "data": {
      "text/html": [
       "<div>\n",
       "<style scoped>\n",
       "    .dataframe tbody tr th:only-of-type {\n",
       "        vertical-align: middle;\n",
       "    }\n",
       "\n",
       "    .dataframe tbody tr th {\n",
       "        vertical-align: top;\n",
       "    }\n",
       "\n",
       "    .dataframe thead th {\n",
       "        text-align: right;\n",
       "    }\n",
       "</style>\n",
       "<table border=\"1\" class=\"dataframe\">\n",
       "  <thead>\n",
       "    <tr style=\"text-align: right;\">\n",
       "      <th></th>\n",
       "      <th>month</th>\n",
       "      <th>quantity</th>\n",
       "      <th>percent</th>\n",
       "    </tr>\n",
       "  </thead>\n",
       "  <tbody>\n",
       "    <tr>\n",
       "      <td>0</td>\n",
       "      <td>2016-12-01</td>\n",
       "      <td>299747</td>\n",
       "      <td>36.0</td>\n",
       "    </tr>\n",
       "    <tr>\n",
       "      <td>1</td>\n",
       "      <td>2017-01-01</td>\n",
       "      <td>273819</td>\n",
       "      <td>33.0</td>\n",
       "    </tr>\n",
       "    <tr>\n",
       "      <td>2</td>\n",
       "      <td>2017-02-01</td>\n",
       "      <td>250282</td>\n",
       "      <td>30.0</td>\n",
       "    </tr>\n",
       "  </tbody>\n",
       "</table>\n",
       "</div>"
      ],
      "text/plain": [
       "       month  quantity  percent\n",
       "0 2016-12-01    299747     36.0\n",
       "1 2017-01-01    273819     33.0\n",
       "2 2017-02-01    250282     30.0"
      ]
     },
     "execution_count": 193,
     "metadata": {},
     "output_type": "execute_result"
    }
   ],
   "source": [
    "quantity_month = retail.groupby('month')['quantity'].sum().reset_index()\n",
    "quantity_month.columns=['month', 'quantity']\n",
    "quantity_month['percent'] = round(quantity_month['quantity'] / quantity_month['quantity'].sum(),2)*100\n",
    "quantity_month"
   ]
  },
  {
   "cell_type": "code",
   "execution_count": 194,
   "metadata": {},
   "outputs": [
    {
     "data": {
      "image/png": "[encoded data removed]",
      "text/plain": [
       "<Figure size 936x360 with 1 Axes>"
      ]
     },
     "metadata": {
      "needs_background": "light"
     },
     "output_type": "display_data"
    }
   ],
   "source": [
    "plt.figure(figsize=(13,5))\n",
    "sns.barplot(data=quantity_month, x ='month', y='quantity')\n",
    "plt.title('Количество проданных единиц товара по месяцам')\n",
    "plt.show()"
   ]
  },
  {
   "cell_type": "markdown",
   "metadata": {},
   "source": [
    "Ситуация по количеству проданных товаров схожа с расчетами выручки:\n",
    "\n",
    "- в группе лояльных клиентов больше всего единиц товара приобреталось в декабре и феврале\n",
    "- у остальных клиентов большее число товаров куплено в декабре и январе, а в феврале показатель заметно ниже\n",
    "\n",
    "- разница в количестве приобретенных единиц товара по месяцам имеет не такой выраженный характер, как разница в выручке; т.е. товаров приобреталось больше товаров по меньшей стоимости"
   ]
  },
  {
   "cell_type": "markdown",
   "metadata": {},
   "source": [
    "\n",
    "# Вывод:\n",
    "\n",
    "- В первой части проета нами были загружены 2 датасета, содержащие данные по продажам в сети строительных магазинов за 3 месяца.\n",
    "\n",
    "- Объединив датасеты, мы привели все столбцы к форматам в соответствии с их содержанием, выделили в отдельный столбец месяц продаж.\n",
    "\n",
    "- В датасете были обнаружены аномальные (нулевые и отрицательные) значения цен и количества товаров. По каждой аномалии сделаны предположения о возможных причинах их появления в данных.\n",
    "\n",
    "- Нами была рассчитана динамика полученной выручки (общей и с учетом программы лояльности), а так же количество проданных товаров за выбранный период (в целом и по группам клиентов)\n",
    "\n",
    "- В целом, выручка по всем магазинам держалась на одном уровне в декабре и январе, но в феврале произошел спад. По группам лояльности ситуация рознится, можем предположить, что с помощью акций программы лояльности/управления ценами для остальных клиентов, руководству удалось снизить колебания на фоне праздничных дней.\n",
    "\n",
    "- По количеству проданного товара по группам картина аналогична ситуации с выручкой, перепады по месяцам в целом более сглажены (это опять же может быть обусловлено акциями, стимулирующими к покупкам бОльшего числа товаров за меньшую стоимость)\n",
    "\n",
    "- Поскольку за выбранный временной отрезок стоимость некоторых товаров изменялась (иногда несколько раз), в основную таблицу мы включили среднюю цену каждого артикула. В ценах на товары присутствует большое количество выбросов, исключив которые, мы можем говорить о медианном значении цены ~ 3 у.е.\n",
    "\n",
    "\n",
    "\n",
    "\n",
    "\n",
    "\n",
    "\n",
    "\n"
   ]
  },
  {
   "cell_type": "markdown",
   "metadata": {},
   "source": [
    "# 2. Анализ данных"
   ]
  },
  {
   "cell_type": "markdown",
   "metadata": {},
   "source": [
    "Описание поведения клиентов, исходя из выборки;\n",
    "Какой объем выручки и количество проданных товаров приходится на каждого покупателя в месяц;\n",
    "Расчет среднего количества, дисперсии и стандартного отклонения;\n",
    "Гистограммы, описание распределений;"
   ]
  },
  {
   "cell_type": "markdown",
   "metadata": {},
   "source": [
    "### 2.1 Количество товаров\n",
    "\n",
    "Для оценки эффективности программы лояльности рассчитаем объем выручки и количество проданных товаров приходится на каждого покупателя в месяц."
   ]
  },
  {
   "cell_type": "code",
   "execution_count": 195,
   "metadata": {},
   "outputs": [],
   "source": [
    "sales_per_cust = retail.groupby(['month', 'loyalty_program'])['customer_id'].nunique(). reset_index()\n",
    "sales_per_cust.columns=['month', 'loyalty_program', 'customer_unique']\n"
   ]
  },
  {
   "cell_type": "code",
   "execution_count": 196,
   "metadata": {},
   "outputs": [
    {
     "data": {
      "text/html": [
       "<div>\n",
       "<style scoped>\n",
       "    .dataframe tbody tr th:only-of-type {\n",
       "        vertical-align: middle;\n",
       "    }\n",
       "\n",
       "    .dataframe tbody tr th {\n",
       "        vertical-align: top;\n",
       "    }\n",
       "\n",
       "    .dataframe thead th {\n",
       "        text-align: right;\n",
       "    }\n",
       "</style>\n",
       "<table border=\"1\" class=\"dataframe\">\n",
       "  <thead>\n",
       "    <tr style=\"text-align: right;\">\n",
       "      <th></th>\n",
       "      <th>month</th>\n",
       "      <th>loyalty_program</th>\n",
       "      <th>customer_unique</th>\n",
       "      <th>quantity</th>\n",
       "    </tr>\n",
       "  </thead>\n",
       "  <tbody>\n",
       "    <tr>\n",
       "      <td>0</td>\n",
       "      <td>2016-12-01</td>\n",
       "      <td>0</td>\n",
       "      <td>605</td>\n",
       "      <td>211753</td>\n",
       "    </tr>\n",
       "    <tr>\n",
       "      <td>1</td>\n",
       "      <td>2016-12-01</td>\n",
       "      <td>1</td>\n",
       "      <td>344</td>\n",
       "      <td>87994</td>\n",
       "    </tr>\n",
       "    <tr>\n",
       "      <td>2</td>\n",
       "      <td>2017-01-01</td>\n",
       "      <td>0</td>\n",
       "      <td>545</td>\n",
       "      <td>215857</td>\n",
       "    </tr>\n",
       "    <tr>\n",
       "      <td>3</td>\n",
       "      <td>2017-01-01</td>\n",
       "      <td>1</td>\n",
       "      <td>239</td>\n",
       "      <td>57962</td>\n",
       "    </tr>\n",
       "    <tr>\n",
       "      <td>4</td>\n",
       "      <td>2017-02-01</td>\n",
       "      <td>0</td>\n",
       "      <td>529</td>\n",
       "      <td>167073</td>\n",
       "    </tr>\n",
       "    <tr>\n",
       "      <td>5</td>\n",
       "      <td>2017-02-01</td>\n",
       "      <td>1</td>\n",
       "      <td>270</td>\n",
       "      <td>83209</td>\n",
       "    </tr>\n",
       "  </tbody>\n",
       "</table>\n",
       "</div>"
      ],
      "text/plain": [
       "       month  loyalty_program  customer_unique  quantity\n",
       "0 2016-12-01                0              605    211753\n",
       "1 2016-12-01                1              344     87994\n",
       "2 2017-01-01                0              545    215857\n",
       "3 2017-01-01                1              239     57962\n",
       "4 2017-02-01                0              529    167073\n",
       "5 2017-02-01                1              270     83209"
      ]
     },
     "execution_count": 196,
     "metadata": {},
     "output_type": "execute_result"
    }
   ],
   "source": [
    "sales_per_cust = sales_per_cust.merge(quantity_group, how='left', on=['month','loyalty_program'])\n",
    "sales_per_cust"
   ]
  },
  {
   "cell_type": "code",
   "execution_count": 197,
   "metadata": {},
   "outputs": [
    {
     "data": {
      "text/html": [
       "<div>\n",
       "<style scoped>\n",
       "    .dataframe tbody tr th:only-of-type {\n",
       "        vertical-align: middle;\n",
       "    }\n",
       "\n",
       "    .dataframe tbody tr th {\n",
       "        vertical-align: top;\n",
       "    }\n",
       "\n",
       "    .dataframe thead th {\n",
       "        text-align: right;\n",
       "    }\n",
       "</style>\n",
       "<table border=\"1\" class=\"dataframe\">\n",
       "  <thead>\n",
       "    <tr style=\"text-align: right;\">\n",
       "      <th></th>\n",
       "      <th>month</th>\n",
       "      <th>loyalty_program</th>\n",
       "      <th>customer_unique</th>\n",
       "      <th>quantity</th>\n",
       "      <th>revenue</th>\n",
       "    </tr>\n",
       "  </thead>\n",
       "  <tbody>\n",
       "    <tr>\n",
       "      <td>0</td>\n",
       "      <td>2016-12-01</td>\n",
       "      <td>0</td>\n",
       "      <td>605</td>\n",
       "      <td>211753</td>\n",
       "      <td>490812.61</td>\n",
       "    </tr>\n",
       "    <tr>\n",
       "      <td>1</td>\n",
       "      <td>2016-12-01</td>\n",
       "      <td>1</td>\n",
       "      <td>344</td>\n",
       "      <td>87994</td>\n",
       "      <td>281096.07</td>\n",
       "    </tr>\n",
       "    <tr>\n",
       "      <td>2</td>\n",
       "      <td>2017-01-01</td>\n",
       "      <td>0</td>\n",
       "      <td>545</td>\n",
       "      <td>215857</td>\n",
       "      <td>553275.68</td>\n",
       "    </tr>\n",
       "    <tr>\n",
       "      <td>3</td>\n",
       "      <td>2017-01-01</td>\n",
       "      <td>1</td>\n",
       "      <td>239</td>\n",
       "      <td>57962</td>\n",
       "      <td>146366.27</td>\n",
       "    </tr>\n",
       "    <tr>\n",
       "      <td>4</td>\n",
       "      <td>2017-02-01</td>\n",
       "      <td>0</td>\n",
       "      <td>529</td>\n",
       "      <td>167073</td>\n",
       "      <td>336327.34</td>\n",
       "    </tr>\n",
       "    <tr>\n",
       "      <td>5</td>\n",
       "      <td>2017-02-01</td>\n",
       "      <td>1</td>\n",
       "      <td>270</td>\n",
       "      <td>83209</td>\n",
       "      <td>194875.71</td>\n",
       "    </tr>\n",
       "  </tbody>\n",
       "</table>\n",
       "</div>"
      ],
      "text/plain": [
       "       month  loyalty_program  customer_unique  quantity    revenue\n",
       "0 2016-12-01                0              605    211753  490812.61\n",
       "1 2016-12-01                1              344     87994  281096.07\n",
       "2 2017-01-01                0              545    215857  553275.68\n",
       "3 2017-01-01                1              239     57962  146366.27\n",
       "4 2017-02-01                0              529    167073  336327.34\n",
       "5 2017-02-01                1              270     83209  194875.71"
      ]
     },
     "execution_count": 197,
     "metadata": {},
     "output_type": "execute_result"
    }
   ],
   "source": [
    "sales_per_cust = sales_per_cust.merge(revenue_group, how='left', on=['month', 'loyalty_program'])\n",
    "sales_per_cust"
   ]
  },
  {
   "cell_type": "code",
   "execution_count": 198,
   "metadata": {},
   "outputs": [
    {
     "data": {
      "text/html": [
       "<div>\n",
       "<style scoped>\n",
       "    .dataframe tbody tr th:only-of-type {\n",
       "        vertical-align: middle;\n",
       "    }\n",
       "\n",
       "    .dataframe tbody tr th {\n",
       "        vertical-align: top;\n",
       "    }\n",
       "\n",
       "    .dataframe thead th {\n",
       "        text-align: right;\n",
       "    }\n",
       "</style>\n",
       "<table border=\"1\" class=\"dataframe\">\n",
       "  <thead>\n",
       "    <tr style=\"text-align: right;\">\n",
       "      <th></th>\n",
       "      <th>month</th>\n",
       "      <th>loyalty_program</th>\n",
       "      <th>customer_unique</th>\n",
       "      <th>quantity</th>\n",
       "      <th>revenue</th>\n",
       "      <th>revenue_per_cust</th>\n",
       "      <th>quantity_per_cust</th>\n",
       "    </tr>\n",
       "  </thead>\n",
       "  <tbody>\n",
       "    <tr>\n",
       "      <td>0</td>\n",
       "      <td>2016-12-01</td>\n",
       "      <td>0</td>\n",
       "      <td>605</td>\n",
       "      <td>211753</td>\n",
       "      <td>490812.61</td>\n",
       "      <td>811.260512</td>\n",
       "      <td>350.004959</td>\n",
       "    </tr>\n",
       "    <tr>\n",
       "      <td>1</td>\n",
       "      <td>2016-12-01</td>\n",
       "      <td>1</td>\n",
       "      <td>344</td>\n",
       "      <td>87994</td>\n",
       "      <td>281096.07</td>\n",
       "      <td>817.139738</td>\n",
       "      <td>255.796512</td>\n",
       "    </tr>\n",
       "    <tr>\n",
       "      <td>2</td>\n",
       "      <td>2017-01-01</td>\n",
       "      <td>0</td>\n",
       "      <td>545</td>\n",
       "      <td>215857</td>\n",
       "      <td>553275.68</td>\n",
       "      <td>1015.184734</td>\n",
       "      <td>396.067890</td>\n",
       "    </tr>\n",
       "    <tr>\n",
       "      <td>3</td>\n",
       "      <td>2017-01-01</td>\n",
       "      <td>1</td>\n",
       "      <td>239</td>\n",
       "      <td>57962</td>\n",
       "      <td>146366.27</td>\n",
       "      <td>612.411172</td>\n",
       "      <td>242.518828</td>\n",
       "    </tr>\n",
       "    <tr>\n",
       "      <td>4</td>\n",
       "      <td>2017-02-01</td>\n",
       "      <td>0</td>\n",
       "      <td>529</td>\n",
       "      <td>167073</td>\n",
       "      <td>336327.34</td>\n",
       "      <td>635.779471</td>\n",
       "      <td>315.827977</td>\n",
       "    </tr>\n",
       "    <tr>\n",
       "      <td>5</td>\n",
       "      <td>2017-02-01</td>\n",
       "      <td>1</td>\n",
       "      <td>270</td>\n",
       "      <td>83209</td>\n",
       "      <td>194875.71</td>\n",
       "      <td>721.761889</td>\n",
       "      <td>308.181481</td>\n",
       "    </tr>\n",
       "  </tbody>\n",
       "</table>\n",
       "</div>"
      ],
      "text/plain": [
       "       month  loyalty_program  customer_unique  quantity    revenue  \\\n",
       "0 2016-12-01                0              605    211753  490812.61   \n",
       "1 2016-12-01                1              344     87994  281096.07   \n",
       "2 2017-01-01                0              545    215857  553275.68   \n",
       "3 2017-01-01                1              239     57962  146366.27   \n",
       "4 2017-02-01                0              529    167073  336327.34   \n",
       "5 2017-02-01                1              270     83209  194875.71   \n",
       "\n",
       "   revenue_per_cust  quantity_per_cust  \n",
       "0        811.260512         350.004959  \n",
       "1        817.139738         255.796512  \n",
       "2       1015.184734         396.067890  \n",
       "3        612.411172         242.518828  \n",
       "4        635.779471         315.827977  \n",
       "5        721.761889         308.181481  "
      ]
     },
     "execution_count": 198,
     "metadata": {},
     "output_type": "execute_result"
    }
   ],
   "source": [
    "sales_per_cust['revenue_per_cust'] = sales_per_cust['revenue'] / sales_per_cust['customer_unique']\n",
    "sales_per_cust['quantity_per_cust'] = sales_per_cust['quantity'] / sales_per_cust['customer_unique']\n",
    "sales_per_cust"
   ]
  },
  {
   "cell_type": "code",
   "execution_count": 199,
   "metadata": {},
   "outputs": [
    {
     "data": {
      "image/png": "[encoded data removed]",
      "text/plain": [
       "<Figure size 936x360 with 1 Axes>"
      ]
     },
     "metadata": {
      "needs_background": "light"
     },
     "output_type": "display_data"
    }
   ],
   "source": [
    "plt.figure(figsize=(13,5))\n",
    "sns.barplot(data=sales_per_cust, x='month', y='revenue_per_cust', hue='loyalty_program', palette='summer')\n",
    "plt.title('Средний объем выручки на покупателя по месяцам и группам лояльности')\n",
    "plt.show()"
   ]
  },
  {
   "cell_type": "markdown",
   "metadata": {},
   "source": [
    "По выборке за три месяца можно сделать следующие выводы **о среднем объеме выручки на покупателя:**\n",
    "* в декабре и январе средняя выручка на покупателя по обеим группам были практически равны\n",
    "* в январе показатель группы лояльности на 40% хуже группы остальных покупателей\n"
   ]
  },
  {
   "cell_type": "code",
   "execution_count": 200,
   "metadata": {},
   "outputs": [
    {
     "data": {
      "image/png": "[encoded data removed]",
      "text/plain": [
       "<Figure size 936x360 with 1 Axes>"
      ]
     },
     "metadata": {
      "needs_background": "light"
     },
     "output_type": "display_data"
    }
   ],
   "source": [
    "plt.figure(figsize=(13,5))\n",
    "sns.barplot(data=sales_per_cust, x='month', y='quantity_per_cust', hue='loyalty_program', palette='Blues')\n",
    "plt.title('Среднее число товаров в чеке на пользователя по месяцам и группам лояльности')\n",
    "plt.show()"
   ]
  },
  {
   "cell_type": "markdown",
   "metadata": {},
   "source": [
    "По всем месяцам показатели **среднего количества товаров на одного покупателя** группы лояльности ниже группы остальных клиентов.\n",
    "\n",
    "Рассчитаем **количество заказов на одного покупателя** по группам лояльности:"
   ]
  },
  {
   "cell_type": "code",
   "execution_count": 201,
   "metadata": {
    "scrolled": true
   },
   "outputs": [
    {
     "data": {
      "text/html": [
       "<div>\n",
       "<style scoped>\n",
       "    .dataframe tbody tr th:only-of-type {\n",
       "        vertical-align: middle;\n",
       "    }\n",
       "\n",
       "    .dataframe tbody tr th {\n",
       "        vertical-align: top;\n",
       "    }\n",
       "\n",
       "    .dataframe thead th {\n",
       "        text-align: right;\n",
       "    }\n",
       "</style>\n",
       "<table border=\"1\" class=\"dataframe\">\n",
       "  <thead>\n",
       "    <tr style=\"text-align: right;\">\n",
       "      <th></th>\n",
       "      <th>loyalty_program</th>\n",
       "      <th>customer_cnt</th>\n",
       "      <th>purchase_cnt</th>\n",
       "      <th>purchase_per_cust</th>\n",
       "    </tr>\n",
       "  </thead>\n",
       "  <tbody>\n",
       "    <tr>\n",
       "      <td>0</td>\n",
       "      <td>0</td>\n",
       "      <td>1163</td>\n",
       "      <td>81493</td>\n",
       "      <td>70.071367</td>\n",
       "    </tr>\n",
       "    <tr>\n",
       "      <td>1</td>\n",
       "      <td>1</td>\n",
       "      <td>587</td>\n",
       "      <td>23842</td>\n",
       "      <td>40.616695</td>\n",
       "    </tr>\n",
       "  </tbody>\n",
       "</table>\n",
       "</div>"
      ],
      "text/plain": [
       "   loyalty_program  customer_cnt  purchase_cnt  purchase_per_cust\n",
       "0                0          1163         81493          70.071367\n",
       "1                1           587         23842          40.616695"
      ]
     },
     "execution_count": 201,
     "metadata": {},
     "output_type": "execute_result"
    }
   ],
   "source": [
    "purchase_per_cust = retail.groupby('loyalty_program')\\\n",
    "                       .agg({'customer_id':'nunique', 'purchase_id':'count'})\\\n",
    "                       .reset_index()\n",
    "purchase_per_cust.columns = ['loyalty_program','customer_cnt', 'purchase_cnt']\n",
    "purchase_per_cust['purchase_per_cust'] = purchase_per_cust['purchase_cnt'] / purchase_per_cust['customer_cnt']\n",
    "purchase_per_cust"
   ]
  },
  {
   "cell_type": "code",
   "execution_count": 202,
   "metadata": {},
   "outputs": [
    {
     "data": {
      "text/html": [
       "<div>\n",
       "<style scoped>\n",
       "    .dataframe tbody tr th:only-of-type {\n",
       "        vertical-align: middle;\n",
       "    }\n",
       "\n",
       "    .dataframe tbody tr th {\n",
       "        vertical-align: top;\n",
       "    }\n",
       "\n",
       "    .dataframe thead th {\n",
       "        text-align: right;\n",
       "    }\n",
       "</style>\n",
       "<table border=\"1\" class=\"dataframe\">\n",
       "  <thead>\n",
       "    <tr style=\"text-align: right;\">\n",
       "      <th></th>\n",
       "      <th>month</th>\n",
       "      <th>loyalty_program</th>\n",
       "      <th>customer_cnt</th>\n",
       "      <th>purchase_cnt</th>\n",
       "      <th>purchase_per_cust</th>\n",
       "    </tr>\n",
       "  </thead>\n",
       "  <tbody>\n",
       "    <tr>\n",
       "      <td>0</td>\n",
       "      <td>2016-12-01</td>\n",
       "      <td>0</td>\n",
       "      <td>605</td>\n",
       "      <td>32488</td>\n",
       "      <td>53.699174</td>\n",
       "    </tr>\n",
       "    <tr>\n",
       "      <td>1</td>\n",
       "      <td>2016-12-01</td>\n",
       "      <td>1</td>\n",
       "      <td>344</td>\n",
       "      <td>9993</td>\n",
       "      <td>29.049419</td>\n",
       "    </tr>\n",
       "    <tr>\n",
       "      <td>2</td>\n",
       "      <td>2017-01-01</td>\n",
       "      <td>0</td>\n",
       "      <td>545</td>\n",
       "      <td>28421</td>\n",
       "      <td>52.148624</td>\n",
       "    </tr>\n",
       "    <tr>\n",
       "      <td>3</td>\n",
       "      <td>2017-01-01</td>\n",
       "      <td>1</td>\n",
       "      <td>239</td>\n",
       "      <td>6726</td>\n",
       "      <td>28.142259</td>\n",
       "    </tr>\n",
       "    <tr>\n",
       "      <td>4</td>\n",
       "      <td>2017-02-01</td>\n",
       "      <td>0</td>\n",
       "      <td>529</td>\n",
       "      <td>20584</td>\n",
       "      <td>38.911153</td>\n",
       "    </tr>\n",
       "    <tr>\n",
       "      <td>5</td>\n",
       "      <td>2017-02-01</td>\n",
       "      <td>1</td>\n",
       "      <td>270</td>\n",
       "      <td>7123</td>\n",
       "      <td>26.381481</td>\n",
       "    </tr>\n",
       "  </tbody>\n",
       "</table>\n",
       "</div>"
      ],
      "text/plain": [
       "       month  loyalty_program  customer_cnt  purchase_cnt  purchase_per_cust\n",
       "0 2016-12-01                0           605         32488          53.699174\n",
       "1 2016-12-01                1           344          9993          29.049419\n",
       "2 2017-01-01                0           545         28421          52.148624\n",
       "3 2017-01-01                1           239          6726          28.142259\n",
       "4 2017-02-01                0           529         20584          38.911153\n",
       "5 2017-02-01                1           270          7123          26.381481"
      ]
     },
     "execution_count": 202,
     "metadata": {},
     "output_type": "execute_result"
    }
   ],
   "source": [
    "purchase_per_cust = retail.groupby(['month','loyalty_program'])\\\n",
    "                       .agg({'customer_id':'nunique', 'purchase_id':'count'})\\\n",
    "                       .reset_index()\n",
    "purchase_per_cust.columns = ['month','loyalty_program','customer_cnt', 'purchase_cnt']\n",
    "purchase_per_cust['purchase_per_cust'] = purchase_per_cust['purchase_cnt'] / purchase_per_cust['customer_cnt']\n",
    "purchase_per_cust"
   ]
  },
  {
   "cell_type": "markdown",
   "metadata": {},
   "source": [
    "Покупатели, не участвующие в программе лояльности, в целом сделали на 60% больше заказов в пересчете на 1 клиента. Этот показатель стабилен по всем трем месяцам."
   ]
  },
  {
   "cell_type": "markdown",
   "metadata": {},
   "source": [
    "###  2.2 Выручка\n",
    "Посмотрим теперь на **распределение выручки в расчете на одного клиента** по каждой группе лояльности нашей выборки:"
   ]
  },
  {
   "cell_type": "code",
   "execution_count": 203,
   "metadata": {},
   "outputs": [
    {
     "data": {
      "text/html": [
       "<div>\n",
       "<style scoped>\n",
       "    .dataframe tbody tr th:only-of-type {\n",
       "        vertical-align: middle;\n",
       "    }\n",
       "\n",
       "    .dataframe tbody tr th {\n",
       "        vertical-align: top;\n",
       "    }\n",
       "\n",
       "    .dataframe thead th {\n",
       "        text-align: right;\n",
       "    }\n",
       "</style>\n",
       "<table border=\"1\" class=\"dataframe\">\n",
       "  <thead>\n",
       "    <tr style=\"text-align: right;\">\n",
       "      <th></th>\n",
       "      <th>loyalty_program</th>\n",
       "      <th>customer_id</th>\n",
       "      <th>revenue_client</th>\n",
       "    </tr>\n",
       "  </thead>\n",
       "  <tbody>\n",
       "    <tr>\n",
       "      <td>0</td>\n",
       "      <td>0</td>\n",
       "      <td>0</td>\n",
       "      <td>229413.44</td>\n",
       "    </tr>\n",
       "    <tr>\n",
       "      <td>1</td>\n",
       "      <td>0</td>\n",
       "      <td>18025</td>\n",
       "      <td>77182.56</td>\n",
       "    </tr>\n",
       "    <tr>\n",
       "      <td>2</td>\n",
       "      <td>0</td>\n",
       "      <td>18026</td>\n",
       "      <td>1718.41</td>\n",
       "    </tr>\n",
       "    <tr>\n",
       "      <td>3</td>\n",
       "      <td>0</td>\n",
       "      <td>18027</td>\n",
       "      <td>1852.44</td>\n",
       "    </tr>\n",
       "    <tr>\n",
       "      <td>4</td>\n",
       "      <td>0</td>\n",
       "      <td>18029</td>\n",
       "      <td>385.18</td>\n",
       "    </tr>\n",
       "  </tbody>\n",
       "</table>\n",
       "</div>"
      ],
      "text/plain": [
       "   loyalty_program  customer_id  revenue_client\n",
       "0                0            0       229413.44\n",
       "1                0        18025        77182.56\n",
       "2                0        18026         1718.41\n",
       "3                0        18027         1852.44\n",
       "4                0        18029          385.18"
      ]
     },
     "execution_count": 203,
     "metadata": {},
     "output_type": "execute_result"
    }
   ],
   "source": [
    "rev_client = retail.query('revenue>0')\\\n",
    "          .groupby(['loyalty_program','customer_id'])['revenue'].sum()\\\n",
    "          .reset_index()\n",
    "rev_client.columns=['loyalty_program','customer_id','revenue_client' ]\n",
    "rev_client.head()"
   ]
  },
  {
   "cell_type": "markdown",
   "metadata": {},
   "source": [
    "Построим графики распределения выручки на одного покупателя по группам лояльности и рассчитаем основные метрики:"
   ]
  },
  {
   "cell_type": "code",
   "execution_count": 204,
   "metadata": {},
   "outputs": [
    {
     "data": {
      "text/plain": [
       "<matplotlib.axes._subplots.AxesSubplot at 0x7f71e1053210>"
      ]
     },
     "execution_count": 204,
     "metadata": {},
     "output_type": "execute_result"
    },
    {
     "data": {
      "image/png": "[encoded data removed]",
      "text/plain": [
       "<Figure size 432x288 with 1 Axes>"
      ]
     },
     "metadata": {
      "needs_background": "light"
     },
     "output_type": "display_data"
    }
   ],
   "source": [
    "rev_client.query('loyalty_program==0')['revenue_client'].hist(bins=50, range=(0,2000))"
   ]
  },
  {
   "cell_type": "code",
   "execution_count": 205,
   "metadata": {},
   "outputs": [
    {
     "data": {
      "text/plain": [
       "count      1111.000000\n",
       "mean       1669.924590\n",
       "std        8474.028939\n",
       "min           4.710000\n",
       "25%         240.535000\n",
       "50%         512.100000\n",
       "75%        1113.785000\n",
       "max      229413.440000\n",
       "Name: revenue_client, dtype: float64"
      ]
     },
     "execution_count": 205,
     "metadata": {},
     "output_type": "execute_result"
    }
   ],
   "source": [
    "rev_client.query('loyalty_program==0')['revenue_client'].describe()"
   ]
  },
  {
   "cell_type": "markdown",
   "metadata": {},
   "source": [
    "Среди клиентов, не участвующих в программе лояльности, средняя выручка на одного клиента составляет ~500 у.е. (из-за огромных выбросов стоит ориентироваться на медианное значение). В целом, большинство покупателей приносит сети магазинов чуть более 1000 у.е."
   ]
  },
  {
   "cell_type": "code",
   "execution_count": 206,
   "metadata": {},
   "outputs": [
    {
     "data": {
      "text/plain": [
       "<matplotlib.axes._subplots.AxesSubplot at 0x7f71e0b7fd50>"
      ]
     },
     "execution_count": 206,
     "metadata": {},
     "output_type": "execute_result"
    },
    {
     "data": {
      "image/png": "[encoded data removed]",
      "text/plain": [
       "<Figure size 432x288 with 1 Axes>"
      ]
     },
     "metadata": {
      "needs_background": "light"
     },
     "output_type": "display_data"
    }
   ],
   "source": [
    "rev_client.query('loyalty_program==1')['revenue_client'].hist(bins=50, range=(0,2000))"
   ]
  },
  {
   "cell_type": "code",
   "execution_count": 207,
   "metadata": {},
   "outputs": [
    {
     "data": {
      "text/plain": [
       "count      561.000000\n",
       "mean      1161.525758\n",
       "std       3710.452246\n",
       "min          2.440000\n",
       "25%        236.850000\n",
       "50%        479.760000\n",
       "75%        942.020000\n",
       "max      70019.700000\n",
       "Name: revenue_client, dtype: float64"
      ]
     },
     "execution_count": 207,
     "metadata": {},
     "output_type": "execute_result"
    }
   ],
   "source": [
    "rev_client.query('loyalty_program==1')['revenue_client'].describe()"
   ]
  },
  {
   "cell_type": "markdown",
   "metadata": {},
   "source": [
    "По участникам программы лояльности схожие показатели: есть огромные выбросы, медианное значение выручки на одного покупателя - 479 у.е., а большинство участников программы лояльности приносят магазину менее 1000 у.е. выручки.\n",
    "\n",
    "Построим графики для определения выбросов по данной метрике:"
   ]
  },
  {
   "cell_type": "code",
   "execution_count": 208,
   "metadata": {
    "scrolled": true
   },
   "outputs": [
    {
     "data": {
      "image/png": "[encoded data removed]",
      "text/plain": [
       "<Figure size 936x360 with 1 Axes>"
      ]
     },
     "metadata": {
      "needs_background": "light"
     },
     "output_type": "display_data"
    }
   ],
   "source": [
    "plt.figure(figsize=(13,5))\n",
    "ax = sns.boxplot(x=\"loyalty_program\", y ='revenue_client', data=rev_client.query('2000>revenue_client>0'))\n",
    "ax.set_title('Распределение выручки в расчете на 1 клиента по группам лояльности')\n",
    "plt.show()"
   ]
  },
  {
   "cell_type": "markdown",
   "metadata": {},
   "source": [
    "Для участников системы лояльности выбросами можно считать выручку свыше 1500 у.е. на одного клиента, для остальных участников - свыше 1700 у.е.\n",
    "\n",
    "Рассчитаем еще раз средние значения и квартили, исключивы выбросы:"
   ]
  },
  {
   "cell_type": "code",
   "execution_count": 209,
   "metadata": {},
   "outputs": [
    {
     "data": {
      "text/plain": [
       "count     927.000000\n",
       "mean      518.213873\n",
       "std       382.422568\n",
       "min         4.710000\n",
       "25%       210.010000\n",
       "50%       415.590000\n",
       "75%       748.000000\n",
       "max      1687.660000\n",
       "Name: revenue_client, dtype: float64"
      ]
     },
     "execution_count": 209,
     "metadata": {},
     "output_type": "execute_result"
    }
   ],
   "source": [
    "rev_client.query('loyalty_program==0 and revenue_client <1700')['revenue_client'].describe()"
   ]
  },
  {
   "cell_type": "code",
   "execution_count": 210,
   "metadata": {},
   "outputs": [
    {
     "data": {
      "text/plain": [
       "count     480.000000\n",
       "mean      480.273208\n",
       "std       342.766773\n",
       "min         2.440000\n",
       "25%       205.887500\n",
       "50%       407.835000\n",
       "75%       654.480000\n",
       "max      1466.170000\n",
       "Name: revenue_client, dtype: float64"
      ]
     },
     "execution_count": 210,
     "metadata": {},
     "output_type": "execute_result"
    }
   ],
   "source": [
    "rev_client.query('loyalty_program==1 and revenue_client <1500')['revenue_client'].describe()"
   ]
  },
  {
   "cell_type": "markdown",
   "metadata": {},
   "source": [
    "Очистив данные от выбросов, можем сделать следующие выводы:\n",
    "\n",
    "* участники программы лояльности в расчете на 1 клиента приносят магазину в среднем 400 у.е. выручки, большинство таких клиентов приносит 650 у.е., но в целом не более 1460 у.е\n",
    "\n",
    "* остальные покупатели приносят магазину в среднем 400 у.е. выручки, большая части тратит ок.750 у.е., но в целом не более 1680 у.е\n",
    "\n",
    "По данном показателю группа лояльности имеет показатели даже чуть ниже остальных покупателей."
   ]
  },
  {
   "cell_type": "markdown",
   "metadata": {},
   "source": [
    " ### 2.3 Средний чек\n",
    " \n",
    " \n",
    " Рассчитаем показатели среднего чека для обеих групп покупателей.\n",
    " "
   ]
  },
  {
   "cell_type": "code",
   "execution_count": 211,
   "metadata": {},
   "outputs": [
    {
     "data": {
      "text/html": [
       "<div>\n",
       "<style scoped>\n",
       "    .dataframe tbody tr th:only-of-type {\n",
       "        vertical-align: middle;\n",
       "    }\n",
       "\n",
       "    .dataframe tbody tr th {\n",
       "        vertical-align: top;\n",
       "    }\n",
       "\n",
       "    .dataframe thead th {\n",
       "        text-align: right;\n",
       "    }\n",
       "</style>\n",
       "<table border=\"1\" class=\"dataframe\">\n",
       "  <thead>\n",
       "    <tr style=\"text-align: right;\">\n",
       "      <th></th>\n",
       "      <th>loyalty_program</th>\n",
       "      <th>purchase_id</th>\n",
       "      <th>revenue</th>\n",
       "      <th>avg_cheque</th>\n",
       "    </tr>\n",
       "  </thead>\n",
       "  <tbody>\n",
       "    <tr>\n",
       "      <td>0</td>\n",
       "      <td>0</td>\n",
       "      <td>3550</td>\n",
       "      <td>1380415.63</td>\n",
       "      <td>388.849473</td>\n",
       "    </tr>\n",
       "    <tr>\n",
       "      <td>1</td>\n",
       "      <td>1</td>\n",
       "      <td>1344</td>\n",
       "      <td>622338.05</td>\n",
       "      <td>463.049144</td>\n",
       "    </tr>\n",
       "  </tbody>\n",
       "</table>\n",
       "</div>"
      ],
      "text/plain": [
       "   loyalty_program  purchase_id     revenue  avg_cheque\n",
       "0                0         3550  1380415.63  388.849473\n",
       "1                1         1344   622338.05  463.049144"
      ]
     },
     "execution_count": 211,
     "metadata": {},
     "output_type": "execute_result"
    }
   ],
   "source": [
    "avg_cheque_total= retail.groupby('loyalty_program')\\\n",
    "                   .agg({'purchase_id':'nunique', 'revenue':'sum'})\\\n",
    "                   .reset_index()\n",
    "avg_cheque_total['avg_cheque'] = avg_cheque_total['revenue'] / avg_cheque_total['purchase_id']\n",
    "avg_cheque_total"
   ]
  },
  {
   "cell_type": "markdown",
   "metadata": {},
   "source": [
    "Средний чек группы лояльности на 17% выше показателя у группы остальных клиентов.\n",
    "Посмотрим, как эта тенденция распределяется по месяцам:"
   ]
  },
  {
   "cell_type": "code",
   "execution_count": 212,
   "metadata": {},
   "outputs": [
    {
     "data": {
      "text/html": [
       "<div>\n",
       "<style scoped>\n",
       "    .dataframe tbody tr th:only-of-type {\n",
       "        vertical-align: middle;\n",
       "    }\n",
       "\n",
       "    .dataframe tbody tr th {\n",
       "        vertical-align: top;\n",
       "    }\n",
       "\n",
       "    .dataframe thead th {\n",
       "        text-align: right;\n",
       "    }\n",
       "</style>\n",
       "<table border=\"1\" class=\"dataframe\">\n",
       "  <thead>\n",
       "    <tr style=\"text-align: right;\">\n",
       "      <th></th>\n",
       "      <th>month</th>\n",
       "      <th>loyalty_program</th>\n",
       "      <th>purchase_id</th>\n",
       "      <th>revenue</th>\n",
       "      <th>avg_cheque</th>\n",
       "    </tr>\n",
       "  </thead>\n",
       "  <tbody>\n",
       "    <tr>\n",
       "      <td>0</td>\n",
       "      <td>2016-12-01</td>\n",
       "      <td>0</td>\n",
       "      <td>1418</td>\n",
       "      <td>490812.61</td>\n",
       "      <td>346.130190</td>\n",
       "    </tr>\n",
       "    <tr>\n",
       "      <td>1</td>\n",
       "      <td>2016-12-01</td>\n",
       "      <td>1</td>\n",
       "      <td>607</td>\n",
       "      <td>281096.07</td>\n",
       "      <td>463.090725</td>\n",
       "    </tr>\n",
       "    <tr>\n",
       "      <td>2</td>\n",
       "      <td>2017-01-01</td>\n",
       "      <td>0</td>\n",
       "      <td>1132</td>\n",
       "      <td>553275.68</td>\n",
       "      <td>488.759435</td>\n",
       "    </tr>\n",
       "    <tr>\n",
       "      <td>3</td>\n",
       "      <td>2017-01-01</td>\n",
       "      <td>1</td>\n",
       "      <td>344</td>\n",
       "      <td>146366.27</td>\n",
       "      <td>425.483343</td>\n",
       "    </tr>\n",
       "    <tr>\n",
       "      <td>4</td>\n",
       "      <td>2017-02-01</td>\n",
       "      <td>0</td>\n",
       "      <td>1000</td>\n",
       "      <td>336327.34</td>\n",
       "      <td>336.327340</td>\n",
       "    </tr>\n",
       "    <tr>\n",
       "      <td>5</td>\n",
       "      <td>2017-02-01</td>\n",
       "      <td>1</td>\n",
       "      <td>393</td>\n",
       "      <td>194875.71</td>\n",
       "      <td>495.866947</td>\n",
       "    </tr>\n",
       "  </tbody>\n",
       "</table>\n",
       "</div>"
      ],
      "text/plain": [
       "       month  loyalty_program  purchase_id    revenue  avg_cheque\n",
       "0 2016-12-01                0         1418  490812.61  346.130190\n",
       "1 2016-12-01                1          607  281096.07  463.090725\n",
       "2 2017-01-01                0         1132  553275.68  488.759435\n",
       "3 2017-01-01                1          344  146366.27  425.483343\n",
       "4 2017-02-01                0         1000  336327.34  336.327340\n",
       "5 2017-02-01                1          393  194875.71  495.866947"
      ]
     },
     "execution_count": 212,
     "metadata": {},
     "output_type": "execute_result"
    }
   ],
   "source": [
    "avg_cheque_month = retail.groupby(['month', 'loyalty_program'])\\\n",
    "                   .agg({'purchase_id':'nunique', 'revenue':'sum'})\\\n",
    "                   .reset_index()\n",
    "avg_cheque_month['avg_cheque'] = avg_cheque_month['revenue'] / avg_cheque_month['purchase_id']\n",
    "avg_cheque_month"
   ]
  },
  {
   "cell_type": "code",
   "execution_count": 213,
   "metadata": {},
   "outputs": [
    {
     "data": {
      "image/png": "[encoded data removed]",
      "text/plain": [
       "<Figure size 936x360 with 1 Axes>"
      ]
     },
     "metadata": {
      "needs_background": "light"
     },
     "output_type": "display_data"
    }
   ],
   "source": [
    "plt.figure(figsize=(13,5))\n",
    "sns.barplot(data=avg_cheque_month, x='month', y='avg_cheque', hue='loyalty_program', palette='twilight')\n",
    "plt.title('Средний чек по месяцам для групп клиентов')\n",
    "plt.show()"
   ]
  },
  {
   "cell_type": "markdown",
   "metadata": {},
   "source": [
    "Если рассматривать метрику по месяцам, то все не так однозначно: общее превышение суммы среднего чека достигнуто благодаря результатам декабря и особенно февраля. А вот в январе чек был выше у группы остальных клиентов."
   ]
  },
  {
   "cell_type": "markdown",
   "metadata": {},
   "source": [
    "Для дальнейшей проверки гипотез о различих в средних чеках подготовим данные по двум группам лояльности, рассчитаем их дисперсию, среднее и рассмотрим распределение этих величин."
   ]
  },
  {
   "cell_type": "code",
   "execution_count": 214,
   "metadata": {},
   "outputs": [
    {
     "data": {
      "text/html": [
       "<div>\n",
       "<style scoped>\n",
       "    .dataframe tbody tr th:only-of-type {\n",
       "        vertical-align: middle;\n",
       "    }\n",
       "\n",
       "    .dataframe tbody tr th {\n",
       "        vertical-align: top;\n",
       "    }\n",
       "\n",
       "    .dataframe thead th {\n",
       "        text-align: right;\n",
       "    }\n",
       "</style>\n",
       "<table border=\"1\" class=\"dataframe\">\n",
       "  <thead>\n",
       "    <tr style=\"text-align: right;\">\n",
       "      <th></th>\n",
       "      <th>purchase_id</th>\n",
       "      <th>sum_cheque_0</th>\n",
       "    </tr>\n",
       "  </thead>\n",
       "  <tbody>\n",
       "    <tr>\n",
       "      <td>0</td>\n",
       "      <td>536367</td>\n",
       "      <td>295.57</td>\n",
       "    </tr>\n",
       "    <tr>\n",
       "      <td>1</td>\n",
       "      <td>536368</td>\n",
       "      <td>84.47</td>\n",
       "    </tr>\n",
       "    <tr>\n",
       "      <td>2</td>\n",
       "      <td>536369</td>\n",
       "      <td>16.60</td>\n",
       "    </tr>\n",
       "    <tr>\n",
       "      <td>3</td>\n",
       "      <td>536370</td>\n",
       "      <td>1237.32</td>\n",
       "    </tr>\n",
       "    <tr>\n",
       "      <td>4</td>\n",
       "      <td>536371</td>\n",
       "      <td>402.90</td>\n",
       "    </tr>\n",
       "  </tbody>\n",
       "</table>\n",
       "</div>"
      ],
      "text/plain": [
       "  purchase_id  sum_cheque_0\n",
       "0      536367        295.57\n",
       "1      536368         84.47\n",
       "2      536369         16.60\n",
       "3      536370       1237.32\n",
       "4      536371        402.90"
      ]
     },
     "execution_count": 214,
     "metadata": {},
     "output_type": "execute_result"
    }
   ],
   "source": [
    "cheque_0 = retail.query('loyalty_program==0').groupby('purchase_id')['revenue'].sum().reset_index()\n",
    "cheque_0.columns=['purchase_id', 'sum_cheque_0']\n",
    "cheque_0.head()"
   ]
  },
  {
   "cell_type": "code",
   "execution_count": 215,
   "metadata": {
    "scrolled": true
   },
   "outputs": [
    {
     "data": {
      "text/plain": [
       "count     3550.000000\n",
       "mean       388.849473\n",
       "std       2707.407401\n",
       "min     -77184.640000\n",
       "25%          0.000000\n",
       "50%        195.140000\n",
       "75%        505.752500\n",
       "max      77182.560000\n",
       "Name: sum_cheque_0, dtype: float64"
      ]
     },
     "execution_count": 215,
     "metadata": {},
     "output_type": "execute_result"
    }
   ],
   "source": [
    "cheque_0['sum_cheque_0'].describe()"
   ]
  },
  {
   "cell_type": "code",
   "execution_count": 216,
   "metadata": {},
   "outputs": [
    {
     "data": {
      "text/plain": [
       "7330054.83583131"
      ]
     },
     "execution_count": 216,
     "metadata": {},
     "output_type": "execute_result"
    }
   ],
   "source": [
    "cheque_0['sum_cheque_0'].var()"
   ]
  },
  {
   "cell_type": "code",
   "execution_count": 217,
   "metadata": {},
   "outputs": [
    {
     "data": {
      "text/plain": [
       "<matplotlib.axes._subplots.AxesSubplot at 0x7f71e0f5c490>"
      ]
     },
     "execution_count": 217,
     "metadata": {},
     "output_type": "execute_result"
    },
    {
     "data": {
      "image/png": "[encoded data removed]",
      "text/plain": [
       "<Figure size 432x288 with 1 Axes>"
      ]
     },
     "metadata": {
      "needs_background": "light"
     },
     "output_type": "display_data"
    }
   ],
   "source": [
    "cheque_0['sum_cheque_0'].hist(bins=100)"
   ]
  },
  {
   "cell_type": "code",
   "execution_count": 218,
   "metadata": {},
   "outputs": [
    {
     "data": {
      "text/html": [
       "<div>\n",
       "<style scoped>\n",
       "    .dataframe tbody tr th:only-of-type {\n",
       "        vertical-align: middle;\n",
       "    }\n",
       "\n",
       "    .dataframe tbody tr th {\n",
       "        vertical-align: top;\n",
       "    }\n",
       "\n",
       "    .dataframe thead th {\n",
       "        text-align: right;\n",
       "    }\n",
       "</style>\n",
       "<table border=\"1\" class=\"dataframe\">\n",
       "  <thead>\n",
       "    <tr style=\"text-align: right;\">\n",
       "      <th></th>\n",
       "      <th>purchase_id</th>\n",
       "      <th>sum_cheque_1</th>\n",
       "    </tr>\n",
       "  </thead>\n",
       "  <tbody>\n",
       "    <tr>\n",
       "      <td>0</td>\n",
       "      <td>536365</td>\n",
       "      <td>184.49</td>\n",
       "    </tr>\n",
       "    <tr>\n",
       "      <td>1</td>\n",
       "      <td>536366</td>\n",
       "      <td>20.40</td>\n",
       "    </tr>\n",
       "    <tr>\n",
       "      <td>2</td>\n",
       "      <td>536372</td>\n",
       "      <td>20.40</td>\n",
       "    </tr>\n",
       "    <tr>\n",
       "      <td>3</td>\n",
       "      <td>536373</td>\n",
       "      <td>384.58</td>\n",
       "    </tr>\n",
       "    <tr>\n",
       "      <td>4</td>\n",
       "      <td>536375</td>\n",
       "      <td>384.58</td>\n",
       "    </tr>\n",
       "  </tbody>\n",
       "</table>\n",
       "</div>"
      ],
      "text/plain": [
       "  purchase_id  sum_cheque_1\n",
       "0      536365        184.49\n",
       "1      536366         20.40\n",
       "2      536372         20.40\n",
       "3      536373        384.58\n",
       "4      536375        384.58"
      ]
     },
     "execution_count": 218,
     "metadata": {},
     "output_type": "execute_result"
    }
   ],
   "source": [
    "cheque_1 = retail.query('loyalty_program==1').groupby('purchase_id')['revenue'].sum().reset_index()\n",
    "cheque_1.columns=['purchase_id', 'sum_cheque_1']\n",
    "cheque_1.head()"
   ]
  },
  {
   "cell_type": "code",
   "execution_count": 219,
   "metadata": {},
   "outputs": [
    {
     "data": {
      "text/plain": [
       "count     1344.000000\n",
       "mean       463.049144\n",
       "std       1395.930890\n",
       "min      -9389.490000\n",
       "25%         69.167500\n",
       "50%        223.995000\n",
       "75%        482.740000\n",
       "max      29018.860000\n",
       "Name: sum_cheque_1, dtype: float64"
      ]
     },
     "execution_count": 219,
     "metadata": {},
     "output_type": "execute_result"
    }
   ],
   "source": [
    "cheque_1['sum_cheque_1'].describe()"
   ]
  },
  {
   "cell_type": "code",
   "execution_count": 220,
   "metadata": {},
   "outputs": [
    {
     "data": {
      "text/plain": [
       "1948623.0501732808"
      ]
     },
     "execution_count": 220,
     "metadata": {},
     "output_type": "execute_result"
    }
   ],
   "source": [
    "cheque_1['sum_cheque_1'].var()"
   ]
  },
  {
   "cell_type": "code",
   "execution_count": 221,
   "metadata": {},
   "outputs": [
    {
     "data": {
      "text/plain": [
       "<matplotlib.axes._subplots.AxesSubplot at 0x7f71e0aa3250>"
      ]
     },
     "execution_count": 221,
     "metadata": {},
     "output_type": "execute_result"
    },
    {
     "data": {
      "image/png": "[encoded data removed]",
      "text/plain": [
       "<Figure size 432x288 with 1 Axes>"
      ]
     },
     "metadata": {
      "needs_background": "light"
     },
     "output_type": "display_data"
    }
   ],
   "source": [
    "cheque_1['sum_cheque_1'].hist(bins=100)"
   ]
  },
  {
   "cell_type": "markdown",
   "metadata": {},
   "source": [
    "Значения среднего чека у обеих групп лояльности распределены не нормально, присутсвует большое количество выбросов, дисперсии имеют существенное различие."
   ]
  },
  {
   "cell_type": "markdown",
   "metadata": {},
   "source": [
    "### 2.4 Глубина чека"
   ]
  },
  {
   "cell_type": "markdown",
   "metadata": {},
   "source": [
    "Рассчитаем среднее количество товаров в чеке у двух групп лояльности:"
   ]
  },
  {
   "cell_type": "code",
   "execution_count": 222,
   "metadata": {},
   "outputs": [
    {
     "data": {
      "text/html": [
       "<div>\n",
       "<style scoped>\n",
       "    .dataframe tbody tr th:only-of-type {\n",
       "        vertical-align: middle;\n",
       "    }\n",
       "\n",
       "    .dataframe tbody tr th {\n",
       "        vertical-align: top;\n",
       "    }\n",
       "\n",
       "    .dataframe thead th {\n",
       "        text-align: right;\n",
       "    }\n",
       "</style>\n",
       "<table border=\"1\" class=\"dataframe\">\n",
       "  <thead>\n",
       "    <tr style=\"text-align: right;\">\n",
       "      <th></th>\n",
       "      <th>loyalty_program</th>\n",
       "      <th>quantity</th>\n",
       "      <th>purchase_id</th>\n",
       "      <th>cheque_cnt</th>\n",
       "    </tr>\n",
       "  </thead>\n",
       "  <tbody>\n",
       "    <tr>\n",
       "      <td>0</td>\n",
       "      <td>0</td>\n",
       "      <td>594683</td>\n",
       "      <td>3550</td>\n",
       "      <td>167.516338</td>\n",
       "    </tr>\n",
       "    <tr>\n",
       "      <td>1</td>\n",
       "      <td>1</td>\n",
       "      <td>229165</td>\n",
       "      <td>1344</td>\n",
       "      <td>170.509673</td>\n",
       "    </tr>\n",
       "  </tbody>\n",
       "</table>\n",
       "</div>"
      ],
      "text/plain": [
       "   loyalty_program  quantity  purchase_id  cheque_cnt\n",
       "0                0    594683         3550  167.516338\n",
       "1                1    229165         1344  170.509673"
      ]
     },
     "execution_count": 222,
     "metadata": {},
     "output_type": "execute_result"
    }
   ],
   "source": [
    "cheque_cnt = retail.groupby('loyalty_program')\\\n",
    "                 .agg({'quantity':'sum','purchase_id':'nunique'})\\\n",
    "                 .reset_index()\n",
    "cheque_cnt['cheque_cnt'] = cheque_cnt['quantity'] / cheque_cnt['purchase_id']\n",
    "cheque_cnt"
   ]
  },
  {
   "cell_type": "markdown",
   "metadata": {},
   "source": [
    "В целом по выборке показатели глубины чека практически равны у обеих групп покупателей.\n",
    "Рассмотрим значение метрики по месяцам:"
   ]
  },
  {
   "cell_type": "code",
   "execution_count": 223,
   "metadata": {},
   "outputs": [
    {
     "data": {
      "text/html": [
       "<div>\n",
       "<style scoped>\n",
       "    .dataframe tbody tr th:only-of-type {\n",
       "        vertical-align: middle;\n",
       "    }\n",
       "\n",
       "    .dataframe tbody tr th {\n",
       "        vertical-align: top;\n",
       "    }\n",
       "\n",
       "    .dataframe thead th {\n",
       "        text-align: right;\n",
       "    }\n",
       "</style>\n",
       "<table border=\"1\" class=\"dataframe\">\n",
       "  <thead>\n",
       "    <tr style=\"text-align: right;\">\n",
       "      <th></th>\n",
       "      <th>month</th>\n",
       "      <th>loyalty_program</th>\n",
       "      <th>quantity</th>\n",
       "      <th>purchase_id</th>\n",
       "      <th>cheque_cnt</th>\n",
       "    </tr>\n",
       "  </thead>\n",
       "  <tbody>\n",
       "    <tr>\n",
       "      <td>0</td>\n",
       "      <td>2016-12-01</td>\n",
       "      <td>0</td>\n",
       "      <td>211753</td>\n",
       "      <td>1418</td>\n",
       "      <td>149.332158</td>\n",
       "    </tr>\n",
       "    <tr>\n",
       "      <td>1</td>\n",
       "      <td>2016-12-01</td>\n",
       "      <td>1</td>\n",
       "      <td>87994</td>\n",
       "      <td>607</td>\n",
       "      <td>144.965404</td>\n",
       "    </tr>\n",
       "    <tr>\n",
       "      <td>2</td>\n",
       "      <td>2017-01-01</td>\n",
       "      <td>0</td>\n",
       "      <td>215857</td>\n",
       "      <td>1132</td>\n",
       "      <td>190.686396</td>\n",
       "    </tr>\n",
       "    <tr>\n",
       "      <td>3</td>\n",
       "      <td>2017-01-01</td>\n",
       "      <td>1</td>\n",
       "      <td>57962</td>\n",
       "      <td>344</td>\n",
       "      <td>168.494186</td>\n",
       "    </tr>\n",
       "    <tr>\n",
       "      <td>4</td>\n",
       "      <td>2017-02-01</td>\n",
       "      <td>0</td>\n",
       "      <td>167073</td>\n",
       "      <td>1000</td>\n",
       "      <td>167.073000</td>\n",
       "    </tr>\n",
       "    <tr>\n",
       "      <td>5</td>\n",
       "      <td>2017-02-01</td>\n",
       "      <td>1</td>\n",
       "      <td>83209</td>\n",
       "      <td>393</td>\n",
       "      <td>211.727735</td>\n",
       "    </tr>\n",
       "  </tbody>\n",
       "</table>\n",
       "</div>"
      ],
      "text/plain": [
       "       month  loyalty_program  quantity  purchase_id  cheque_cnt\n",
       "0 2016-12-01                0    211753         1418  149.332158\n",
       "1 2016-12-01                1     87994          607  144.965404\n",
       "2 2017-01-01                0    215857         1132  190.686396\n",
       "3 2017-01-01                1     57962          344  168.494186\n",
       "4 2017-02-01                0    167073         1000  167.073000\n",
       "5 2017-02-01                1     83209          393  211.727735"
      ]
     },
     "execution_count": 223,
     "metadata": {},
     "output_type": "execute_result"
    }
   ],
   "source": [
    "cheque_cnt_month = retail.groupby(['month','loyalty_program'])\\\n",
    "                 .agg({'quantity':'sum','purchase_id':'nunique'})\\\n",
    "                 .reset_index()\n",
    "cheque_cnt_month['cheque_cnt'] = cheque_cnt_month['quantity'] / cheque_cnt_month['purchase_id']\n",
    "cheque_cnt_month"
   ]
  },
  {
   "cell_type": "code",
   "execution_count": 224,
   "metadata": {},
   "outputs": [
    {
     "data": {
      "image/png": "[encoded data removed]",
      "text/plain": [
       "<Figure size 936x360 with 1 Axes>"
      ]
     },
     "metadata": {
      "needs_background": "light"
     },
     "output_type": "display_data"
    }
   ],
   "source": [
    "plt.figure(figsize=(13,5))\n",
    "sns.barplot(data=cheque_cnt_month, x='month', y='cheque_cnt', hue='loyalty_program', palette='summer')\n",
    "plt.title('Глубина чека по месяцам для групп клиентов')\n",
    "plt.show()"
   ]
  },
  {
   "cell_type": "markdown",
   "metadata": {},
   "source": [
    "При рассмотрении метрики по месяцам, мы видим что поазатели не были стабильно равными на протяжении всего периода выборки. Выский показатель группы лояльности в феврале скомпенсирован более низкими значениями в декабре и январе."
   ]
  },
  {
   "cell_type": "markdown",
   "metadata": {},
   "source": [
    "Для проверки гипотез о различиях в глубине чека двух групп лояльности, рассчитаем значения для каждого чека и оценим их распределение, дисперсию и ср.отклонение."
   ]
  },
  {
   "cell_type": "code",
   "execution_count": 225,
   "metadata": {},
   "outputs": [
    {
     "data": {
      "text/html": [
       "<div>\n",
       "<style scoped>\n",
       "    .dataframe tbody tr th:only-of-type {\n",
       "        vertical-align: middle;\n",
       "    }\n",
       "\n",
       "    .dataframe tbody tr th {\n",
       "        vertical-align: top;\n",
       "    }\n",
       "\n",
       "    .dataframe thead th {\n",
       "        text-align: right;\n",
       "    }\n",
       "</style>\n",
       "<table border=\"1\" class=\"dataframe\">\n",
       "  <thead>\n",
       "    <tr style=\"text-align: right;\">\n",
       "      <th></th>\n",
       "      <th>purchase_id</th>\n",
       "      <th>quantity_sum_0</th>\n",
       "    </tr>\n",
       "  </thead>\n",
       "  <tbody>\n",
       "    <tr>\n",
       "      <td>0</td>\n",
       "      <td>536367</td>\n",
       "      <td>71</td>\n",
       "    </tr>\n",
       "    <tr>\n",
       "      <td>1</td>\n",
       "      <td>536368</td>\n",
       "      <td>11</td>\n",
       "    </tr>\n",
       "    <tr>\n",
       "      <td>2</td>\n",
       "      <td>536369</td>\n",
       "      <td>2</td>\n",
       "    </tr>\n",
       "    <tr>\n",
       "      <td>3</td>\n",
       "      <td>536370</td>\n",
       "      <td>429</td>\n",
       "    </tr>\n",
       "    <tr>\n",
       "      <td>4</td>\n",
       "      <td>536371</td>\n",
       "      <td>79</td>\n",
       "    </tr>\n",
       "  </tbody>\n",
       "</table>\n",
       "</div>"
      ],
      "text/plain": [
       "  purchase_id  quantity_sum_0\n",
       "0      536367              71\n",
       "1      536368              11\n",
       "2      536369               2\n",
       "3      536370             429\n",
       "4      536371              79"
      ]
     },
     "execution_count": 225,
     "metadata": {},
     "output_type": "execute_result"
    }
   ],
   "source": [
    "quantity_sum_0 = retail.query('loyalty_program==0').groupby('purchase_id')['quantity'].sum().reset_index()\n",
    "quantity_sum_0.columns=['purchase_id', 'quantity_sum_0']\n",
    "quantity_sum_0.head()"
   ]
  },
  {
   "cell_type": "code",
   "execution_count": 226,
   "metadata": {},
   "outputs": [
    {
     "data": {
      "text/plain": [
       "count     3550.000000\n",
       "mean       167.516338\n",
       "std       1832.036776\n",
       "min     -74216.000000\n",
       "25%          0.000000\n",
       "50%         62.000000\n",
       "75%        185.000000\n",
       "max      74214.000000\n",
       "Name: quantity_sum_0, dtype: float64"
      ]
     },
     "execution_count": 226,
     "metadata": {},
     "output_type": "execute_result"
    }
   ],
   "source": [
    "quantity_sum_0['quantity_sum_0'].describe()"
   ]
  },
  {
   "cell_type": "code",
   "execution_count": 227,
   "metadata": {},
   "outputs": [
    {
     "data": {
      "text/plain": [
       "3356358.7496625506"
      ]
     },
     "execution_count": 227,
     "metadata": {},
     "output_type": "execute_result"
    }
   ],
   "source": [
    "quantity_sum_0['quantity_sum_0'].var()"
   ]
  },
  {
   "cell_type": "code",
   "execution_count": 228,
   "metadata": {},
   "outputs": [
    {
     "data": {
      "text/plain": [
       "<matplotlib.axes._subplots.AxesSubplot at 0x7f71e0bf7850>"
      ]
     },
     "execution_count": 228,
     "metadata": {},
     "output_type": "execute_result"
    },
    {
     "data": {
      "image/png": "[encoded data removed]",
      "text/plain": [
       "<Figure size 432x288 with 1 Axes>"
      ]
     },
     "metadata": {
      "needs_background": "light"
     },
     "output_type": "display_data"
    }
   ],
   "source": [
    "quantity_sum_0['quantity_sum_0'].hist(bins=100)"
   ]
  },
  {
   "cell_type": "code",
   "execution_count": 229,
   "metadata": {},
   "outputs": [
    {
     "data": {
      "text/html": [
       "<div>\n",
       "<style scoped>\n",
       "    .dataframe tbody tr th:only-of-type {\n",
       "        vertical-align: middle;\n",
       "    }\n",
       "\n",
       "    .dataframe tbody tr th {\n",
       "        vertical-align: top;\n",
       "    }\n",
       "\n",
       "    .dataframe thead th {\n",
       "        text-align: right;\n",
       "    }\n",
       "</style>\n",
       "<table border=\"1\" class=\"dataframe\">\n",
       "  <thead>\n",
       "    <tr style=\"text-align: right;\">\n",
       "      <th></th>\n",
       "      <th>purchase_id</th>\n",
       "      <th>quantity_sum_1</th>\n",
       "    </tr>\n",
       "  </thead>\n",
       "  <tbody>\n",
       "    <tr>\n",
       "      <td>0</td>\n",
       "      <td>536365</td>\n",
       "      <td>33</td>\n",
       "    </tr>\n",
       "    <tr>\n",
       "      <td>1</td>\n",
       "      <td>536366</td>\n",
       "      <td>10</td>\n",
       "    </tr>\n",
       "    <tr>\n",
       "      <td>2</td>\n",
       "      <td>536372</td>\n",
       "      <td>10</td>\n",
       "    </tr>\n",
       "    <tr>\n",
       "      <td>3</td>\n",
       "      <td>536373</td>\n",
       "      <td>72</td>\n",
       "    </tr>\n",
       "    <tr>\n",
       "      <td>4</td>\n",
       "      <td>536375</td>\n",
       "      <td>72</td>\n",
       "    </tr>\n",
       "  </tbody>\n",
       "</table>\n",
       "</div>"
      ],
      "text/plain": [
       "  purchase_id  quantity_sum_1\n",
       "0      536365              33\n",
       "1      536366              10\n",
       "2      536372              10\n",
       "3      536373              72\n",
       "4      536375              72"
      ]
     },
     "execution_count": 229,
     "metadata": {},
     "output_type": "execute_result"
    }
   ],
   "source": [
    "quantity_sum_1 = retail.query('loyalty_program==1').groupby('purchase_id')['quantity'].sum().reset_index()\n",
    "quantity_sum_1.columns=['purchase_id', 'quantity_sum_1']\n",
    "quantity_sum_1.head()"
   ]
  },
  {
   "cell_type": "code",
   "execution_count": 230,
   "metadata": {},
   "outputs": [
    {
     "data": {
      "text/plain": [
       "count    1344.000000\n",
       "mean      170.509673\n",
       "std       430.260407\n",
       "min      -858.000000\n",
       "25%        21.750000\n",
       "50%        76.000000\n",
       "75%       174.000000\n",
       "max      5846.000000\n",
       "Name: quantity_sum_1, dtype: float64"
      ]
     },
     "execution_count": 230,
     "metadata": {},
     "output_type": "execute_result"
    }
   ],
   "source": [
    "quantity_sum_1['quantity_sum_1'].describe()"
   ]
  },
  {
   "cell_type": "code",
   "execution_count": 231,
   "metadata": {},
   "outputs": [
    {
     "data": {
      "text/plain": [
       "185124.0177768101"
      ]
     },
     "execution_count": 231,
     "metadata": {},
     "output_type": "execute_result"
    }
   ],
   "source": [
    "quantity_sum_1['quantity_sum_1'].var()"
   ]
  },
  {
   "cell_type": "code",
   "execution_count": 232,
   "metadata": {},
   "outputs": [
    {
     "data": {
      "text/plain": [
       "<matplotlib.axes._subplots.AxesSubplot at 0x7f71e0faf3d0>"
      ]
     },
     "execution_count": 232,
     "metadata": {},
     "output_type": "execute_result"
    },
    {
     "data": {
      "image/png": "[encoded data removed]",
      "text/plain": [
       "<Figure size 432x288 with 1 Axes>"
      ]
     },
     "metadata": {
      "needs_background": "light"
     },
     "output_type": "display_data"
    }
   ],
   "source": [
    "quantity_sum_1['quantity_sum_1'].hist(bins=100)"
   ]
  },
  {
   "cell_type": "markdown",
   "metadata": {},
   "source": [
    "Значения глубины чека распределены не нормально, присутсвует большое количество выбросов. Дисперсии, ср.значения и ст.отклонение существенно различаются."
   ]
  },
  {
   "cell_type": "markdown",
   "metadata": {},
   "source": [
    "## Вывод:\n",
    "\n",
    "\n",
    "В расчете *на одного покупателя* мы получили следующие результаты: \n",
    "- группой лояльности приобреталось меньше единиц товаров по всем месяцам (особенно в декабре и январе);\n",
    "- выручка по группе лояльности была незначительно выше в декабре и феврале, но при этом значительно уступила группе остальных клиентов в январе;\n",
    "- количество заказов сделанных на одного покупателя по группе лояльности ниже почти на 60%, чем в группе остальных покупателей.\n",
    "\n",
    "Получив вышеописанные результаты, мы рассчитали *основые метрики* и пришли к следующим выводам:\n",
    "\n",
    "- величина **среднего чека** в целом выше в группе лояльности, но этот показатель по месяцам нестабилен (превышение по гр.лоялности в декабре и феврале, а в январе показатель закономерно выше у группы остальных клиентов)\n",
    "- **глубина чека** в целом по выборке практичсеки одинакова у обеих групп (в феврале значительно лидировала группа лояльности, а в декабре и январе - остальные клиенты приобретали больше товаров в расчете на один чек)  \n",
    "\n"
   ]
  },
  {
   "cell_type": "markdown",
   "metadata": {},
   "source": [
    "# 3. Проверка гипотез"
   ]
  },
  {
   "cell_type": "markdown",
   "metadata": {},
   "source": [
    "Поскольку значения выборок распределены ненормально, их дисперсии значимо различаются, для проверки гипотез мы будем использовать тест Уилкоксона-Манна-Уитни.\n",
    "\n",
    "\n",
    "Для начала проверим **гипотезу о разнице средних чеков** двух групп покупателей: "
   ]
  },
  {
   "cell_type": "markdown",
   "metadata": {},
   "source": [
    "Н0 - средний чек покупателей из группы лояльности равен среднему чеку остальных покупателей,<br>\n",
    "Н1 - средние чеки двух групп пользователей не равны"
   ]
  },
  {
   "cell_type": "code",
   "execution_count": 233,
   "metadata": {},
   "outputs": [],
   "source": [
    "alpha = .05"
   ]
  },
  {
   "cell_type": "code",
   "execution_count": 234,
   "metadata": {},
   "outputs": [
    {
     "name": "stdout",
     "output_type": "stream",
     "text": [
      "p-значение:  0.00021500663338444142\n",
      "Отвергаем нулевую гипотезу: разница статистически значима\n"
     ]
    }
   ],
   "source": [
    "results = st.mannwhitneyu(cheque_1['sum_cheque_1'], cheque_0['sum_cheque_0'])\n",
    "\n",
    "print('p-значение: ', results.pvalue)\n",
    "\n",
    "if (results.pvalue < alpha):\n",
    "    print(\"Отвергаем нулевую гипотезу: разница статистически значима\")\n",
    "else:\n",
    "    print(\"Не получилось отвергнуть нулевую гипотезу, вывод о различии сделать нельзя\") \n"
   ]
  },
  {
   "cell_type": "markdown",
   "metadata": {},
   "source": [
    "Теперь проверим гипотезу о разнице глубины чека по двум группам покупателей:"
   ]
  },
  {
   "cell_type": "markdown",
   "metadata": {},
   "source": [
    "Н0 - глубина чека покупателей из группы лояльности равна глубине чека остальных покупателей,<br>\n",
    "Н1 - глубина чека двух групп пользователей не равна"
   ]
  },
  {
   "cell_type": "code",
   "execution_count": 235,
   "metadata": {},
   "outputs": [
    {
     "name": "stdout",
     "output_type": "stream",
     "text": [
      "p-значение:  9.219775553579713e-05\n",
      "Отвергаем нулевую гипотезу: разница статистически значима\n"
     ]
    }
   ],
   "source": [
    "results = st.mannwhitneyu(quantity_sum_1['quantity_sum_1'], quantity_sum_0['quantity_sum_0'])\n",
    "\n",
    "print('p-значение: ', results.pvalue)\n",
    "\n",
    "if (results.pvalue < alpha):\n",
    "    print(\"Отвергаем нулевую гипотезу: разница статистически значима\")\n",
    "else:\n",
    "    print(\"Не получилось отвергнуть нулевую гипотезу, вывод о различии сделать нельзя\") \n"
   ]
  },
  {
   "cell_type": "markdown",
   "metadata": {},
   "source": [
    "### Вывод:\n",
    "По результатам проверки статистических гипотез мы не смогли подтвердить наши предположения о равенстве средних чеков и глубины чека клиентов."
   ]
  },
  {
   "cell_type": "markdown",
   "metadata": {},
   "source": [
    "# ВЫВОД ПО ПРОЕКТУ:"
   ]
  },
  {
   "cell_type": "markdown",
   "metadata": {},
   "source": [
    "В данном проекте мы проанализировали покупательское поведение клиентов сети строительных магазинов.\n",
    "Для оценки результатов внедрения программы лояльности нами были рассчитаны ключевые показатели и метрики, а так же проведены проверки статистических гипотез.\n",
    "На основании наших расчетов мы можем сделать следующие выводы:\n",
    "\n",
    "* Величина среднего чека в целом выше в группе лояльности, но этот показатель по месяцам нестабилен (превышение по гр.лояльности в декабре и феврале, а в январе показатель закономерно выше у группы остальных клиентов). Так же не подтвердилась стат. гипотеза о равенстве средних чеков по обеим группам.\n",
    "\n",
    "\n",
    "* Глубина чека так же колеблется по месяцам (в феврале с большим отрывом лидировала группа лояльности, а в декабре ее значения были ниже группы остальных клиентов). Стат. гипотеза о равенстве глубины чека по двум группам так же не подтвердилась.\n",
    "\n",
    "* Средняя выручка в расчете на одного покупателя по группе лояльности ниже группы остальных покупателей (и по сырым, и по очищенным от выбросов данным). Т.о. мы не можем однозначно утверждать об эффективности программы лояльности и повышении выручки от клиентов этой группы.\n",
    "\n",
    "По результатам исследования мы можем рекомендоватьвнесли следующие рекомендации:\n",
    "\n",
    "* Продолжить  внедрение программы лояльности и сбор данных по результатам ее работы для последующей оценки за более длительный срок. \n",
    "В нашем случае за 3 месяца не все клиенты могли быть оповещены о действии программы, а так же свое влияние внес и сезонный фактор - праздничные даты и снижение строительной активности в зимний период. Можем предположить, что весенне-летний всплеск спроса может дать более детаельное представление о действии программы лояльности.\n",
    "\n",
    "* Пересмотреть программу предложений для клиентов из программы лояльности - они показывают меньшую выручку в расчете на одного покупателя, хотя по глубине чека они временами лидируют с большим отрывом, но это лидерство нестабильно. Возможно стоит чаще использовать акции типа \"3+1\", т.е. снижая выручку за единицу товара, мотивировать на увеличение глубины чека. \n",
    "Так же стимулом к увеличению числа товаров в чеке могут стать акции с прогрессирующей скидкой в зависимости от увеличения числа позиций в чеке.\n",
    "\n",
    "* Необходимо коррелировать специальные предложения для группы лояльности и предложениями для всех покупателей. Судя по тому, что январь у группы лояльность был провальным по всем метрикам, в этом месяце условия для всех покупателей были явно выгоднее, а программа лояльности не предложила своим участникам ничего сверх общих условий.\n",
    "\n",
    "\n"
   ]
  },
  {
   "cell_type": "markdown",
   "metadata": {},
   "source": [
    "ПРЕЗЕНТАЦИЯ: https://drive.google.com/file/d/1OrIIfXKwJLGONjiEJJcWqh3An3UJaZ4-/view?usp=sharing\n",
    "\n",
    "\n",
    "ДАШБОРД: https://public.tableau.com/profile/irina1119#!/vizhome/Diplom_16140141432380/Dashboard1"
   ]
  },
  {
   "cell_type": "code",
   "execution_count": null,
   "metadata": {},
   "outputs": [],
   "source": []
  }
 ],
 "metadata": {
  "kernelspec": {
   "display_name": "Python 3",
   "language": "python",
   "name": "python3"
  },
  "language_info": {
   "codemirror_mode": {
    "name": "ipython",
    "version": 3
   },
   "file_extension": ".py",
   "mimetype": "text/x-python",
   "name": "python",
   "nbconvert_exporter": "python",
   "pygments_lexer": "ipython3",
   "version": "3.7.8"
  },
  "toc": {
   "base_numbering": 1,
   "nav_menu": {},
   "number_sections": false,
   "sideBar": true,
   "skip_h1_title": false,
   "title_cell": "Table of Contents",
   "title_sidebar": "Contents",
   "toc_cell": false,
   "toc_position": {},
   "toc_section_display": true,
   "toc_window_display": true
  }
 },
 "nbformat": 4,
 "nbformat_minor": 2
}
