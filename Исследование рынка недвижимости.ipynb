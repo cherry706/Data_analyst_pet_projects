{
 "cells": [
  {
   "cell_type": "markdown",
   "metadata": {},
   "source": [
    "# ПРОЕКТ \"ИССЛЕДОВАНИЕ РЫНКА НЕДВИЖИМОСТИ\"\n",
    "\n",
    "\n",
    "\n",
    "В данном проекте мы рассмотрим архив сервиса Яндекс.Недвижимость о продаже квартир в Санкт-Петербурге и соседних населённых пунктов за несколько лет.\n",
    "\n",
    "Наше исследование будет состоять из следующих этапов:\n",
    "\n",
    "[1. Просмотр данных. Общая информация по таблице](#1)\n",
    "\n",
    "[2. Заполнение пропусков, изменение типа данных](#2)\n",
    "\n",
    "[3. Расчет дополнительных параметров](#3)\n",
    "\n",
    "[4. Исследовательский анализ данных](#4)\n",
    "\n",
    "[5. Зависимость ценообразования от различных параметров](#5)\n",
    "\n",
    "[6. Анализ ценообразования в городах с наибольшим числом объявлений](#6)\n",
    "\n",
    "[7. Анализ цен на недвижимость в Санкт-Петербурге](#7)\n",
    "\n",
    "[8. Общие выводы по проекту](#8)\n",
    "\n",
    "Результатом проекта станет набор параметров, которые будет рекомендовано учесть при построении автоматизированной системы определения рыночной стоимости объекта недвижимости.\n",
    "\n"
   ]
  },
  {
   "cell_type": "markdown",
   "metadata": {},
   "source": [
    "### 1. Просмотр данных. Общая информация по таблице\n",
    "<a id=\"1\"></a>"
   ]
  },
  {
   "cell_type": "markdown",
   "metadata": {},
   "source": [
    "Для начала импортируем все необходимые библиотеки и прочем файл с данными."
   ]
  },
  {
   "cell_type": "code",
   "execution_count": 718,
   "metadata": {},
   "outputs": [
    {
     "data": {
      "text/html": [
       "<div>\n",
       "<style scoped>\n",
       "    .dataframe tbody tr th:only-of-type {\n",
       "        vertical-align: middle;\n",
       "    }\n",
       "\n",
       "    .dataframe tbody tr th {\n",
       "        vertical-align: top;\n",
       "    }\n",
       "\n",
       "    .dataframe thead th {\n",
       "        text-align: right;\n",
       "    }\n",
       "</style>\n",
       "<table border=\"1\" class=\"dataframe\">\n",
       "  <thead>\n",
       "    <tr style=\"text-align: right;\">\n",
       "      <th></th>\n",
       "      <th>total_images</th>\n",
       "      <th>last_price</th>\n",
       "      <th>total_area</th>\n",
       "      <th>first_day_exposition</th>\n",
       "      <th>rooms</th>\n",
       "      <th>ceiling_height</th>\n",
       "      <th>floors_total</th>\n",
       "      <th>living_area</th>\n",
       "      <th>floor</th>\n",
       "      <th>is_apartment</th>\n",
       "      <th>...</th>\n",
       "      <th>kitchen_area</th>\n",
       "      <th>balcony</th>\n",
       "      <th>locality_name</th>\n",
       "      <th>airports_nearest</th>\n",
       "      <th>cityCenters_nearest</th>\n",
       "      <th>parks_around3000</th>\n",
       "      <th>parks_nearest</th>\n",
       "      <th>ponds_around3000</th>\n",
       "      <th>ponds_nearest</th>\n",
       "      <th>days_exposition</th>\n",
       "    </tr>\n",
       "  </thead>\n",
       "  <tbody>\n",
       "    <tr>\n",
       "      <td>0</td>\n",
       "      <td>20</td>\n",
       "      <td>13000000.0</td>\n",
       "      <td>108.0</td>\n",
       "      <td>2019-03-07T00:00:00</td>\n",
       "      <td>3</td>\n",
       "      <td>2.70</td>\n",
       "      <td>16.0</td>\n",
       "      <td>51.0</td>\n",
       "      <td>8</td>\n",
       "      <td>NaN</td>\n",
       "      <td>...</td>\n",
       "      <td>25.0</td>\n",
       "      <td>NaN</td>\n",
       "      <td>Санкт-Петербург</td>\n",
       "      <td>18863.0</td>\n",
       "      <td>16028.0</td>\n",
       "      <td>1.0</td>\n",
       "      <td>482.0</td>\n",
       "      <td>2.0</td>\n",
       "      <td>755.0</td>\n",
       "      <td>NaN</td>\n",
       "    </tr>\n",
       "    <tr>\n",
       "      <td>1</td>\n",
       "      <td>7</td>\n",
       "      <td>3350000.0</td>\n",
       "      <td>40.4</td>\n",
       "      <td>2018-12-04T00:00:00</td>\n",
       "      <td>1</td>\n",
       "      <td>NaN</td>\n",
       "      <td>11.0</td>\n",
       "      <td>18.6</td>\n",
       "      <td>1</td>\n",
       "      <td>NaN</td>\n",
       "      <td>...</td>\n",
       "      <td>11.0</td>\n",
       "      <td>2.0</td>\n",
       "      <td>посёлок Шушары</td>\n",
       "      <td>12817.0</td>\n",
       "      <td>18603.0</td>\n",
       "      <td>0.0</td>\n",
       "      <td>NaN</td>\n",
       "      <td>0.0</td>\n",
       "      <td>NaN</td>\n",
       "      <td>81.0</td>\n",
       "    </tr>\n",
       "    <tr>\n",
       "      <td>2</td>\n",
       "      <td>10</td>\n",
       "      <td>5196000.0</td>\n",
       "      <td>56.0</td>\n",
       "      <td>2015-08-20T00:00:00</td>\n",
       "      <td>2</td>\n",
       "      <td>NaN</td>\n",
       "      <td>5.0</td>\n",
       "      <td>34.3</td>\n",
       "      <td>4</td>\n",
       "      <td>NaN</td>\n",
       "      <td>...</td>\n",
       "      <td>8.3</td>\n",
       "      <td>0.0</td>\n",
       "      <td>Санкт-Петербург</td>\n",
       "      <td>21741.0</td>\n",
       "      <td>13933.0</td>\n",
       "      <td>1.0</td>\n",
       "      <td>90.0</td>\n",
       "      <td>2.0</td>\n",
       "      <td>574.0</td>\n",
       "      <td>558.0</td>\n",
       "    </tr>\n",
       "    <tr>\n",
       "      <td>3</td>\n",
       "      <td>0</td>\n",
       "      <td>64900000.0</td>\n",
       "      <td>159.0</td>\n",
       "      <td>2015-07-24T00:00:00</td>\n",
       "      <td>3</td>\n",
       "      <td>NaN</td>\n",
       "      <td>14.0</td>\n",
       "      <td>NaN</td>\n",
       "      <td>9</td>\n",
       "      <td>NaN</td>\n",
       "      <td>...</td>\n",
       "      <td>NaN</td>\n",
       "      <td>0.0</td>\n",
       "      <td>Санкт-Петербург</td>\n",
       "      <td>28098.0</td>\n",
       "      <td>6800.0</td>\n",
       "      <td>2.0</td>\n",
       "      <td>84.0</td>\n",
       "      <td>3.0</td>\n",
       "      <td>234.0</td>\n",
       "      <td>424.0</td>\n",
       "    </tr>\n",
       "    <tr>\n",
       "      <td>4</td>\n",
       "      <td>2</td>\n",
       "      <td>10000000.0</td>\n",
       "      <td>100.0</td>\n",
       "      <td>2018-06-19T00:00:00</td>\n",
       "      <td>2</td>\n",
       "      <td>3.03</td>\n",
       "      <td>14.0</td>\n",
       "      <td>32.0</td>\n",
       "      <td>13</td>\n",
       "      <td>NaN</td>\n",
       "      <td>...</td>\n",
       "      <td>41.0</td>\n",
       "      <td>NaN</td>\n",
       "      <td>Санкт-Петербург</td>\n",
       "      <td>31856.0</td>\n",
       "      <td>8098.0</td>\n",
       "      <td>2.0</td>\n",
       "      <td>112.0</td>\n",
       "      <td>1.0</td>\n",
       "      <td>48.0</td>\n",
       "      <td>121.0</td>\n",
       "    </tr>\n",
       "  </tbody>\n",
       "</table>\n",
       "<p>5 rows × 22 columns</p>\n",
       "</div>"
      ],
      "text/plain": [
       "   total_images  last_price  total_area first_day_exposition  rooms  \\\n",
       "0            20  13000000.0       108.0  2019-03-07T00:00:00      3   \n",
       "1             7   3350000.0        40.4  2018-12-04T00:00:00      1   \n",
       "2            10   5196000.0        56.0  2015-08-20T00:00:00      2   \n",
       "3             0  64900000.0       159.0  2015-07-24T00:00:00      3   \n",
       "4             2  10000000.0       100.0  2018-06-19T00:00:00      2   \n",
       "\n",
       "   ceiling_height  floors_total  living_area  floor is_apartment  ...  \\\n",
       "0            2.70          16.0         51.0      8          NaN  ...   \n",
       "1             NaN          11.0         18.6      1          NaN  ...   \n",
       "2             NaN           5.0         34.3      4          NaN  ...   \n",
       "3             NaN          14.0          NaN      9          NaN  ...   \n",
       "4            3.03          14.0         32.0     13          NaN  ...   \n",
       "\n",
       "   kitchen_area  balcony    locality_name  airports_nearest  \\\n",
       "0          25.0      NaN  Санкт-Петербург           18863.0   \n",
       "1          11.0      2.0   посёлок Шушары           12817.0   \n",
       "2           8.3      0.0  Санкт-Петербург           21741.0   \n",
       "3           NaN      0.0  Санкт-Петербург           28098.0   \n",
       "4          41.0      NaN  Санкт-Петербург           31856.0   \n",
       "\n",
       "  cityCenters_nearest  parks_around3000  parks_nearest  ponds_around3000  \\\n",
       "0             16028.0               1.0          482.0               2.0   \n",
       "1             18603.0               0.0            NaN               0.0   \n",
       "2             13933.0               1.0           90.0               2.0   \n",
       "3              6800.0               2.0           84.0               3.0   \n",
       "4              8098.0               2.0          112.0               1.0   \n",
       "\n",
       "   ponds_nearest  days_exposition  \n",
       "0          755.0              NaN  \n",
       "1            NaN             81.0  \n",
       "2          574.0            558.0  \n",
       "3          234.0            424.0  \n",
       "4           48.0            121.0  \n",
       "\n",
       "[5 rows x 22 columns]"
      ]
     },
     "execution_count": 718,
     "metadata": {},
     "output_type": "execute_result"
    }
   ],
   "source": [
    "import pandas as pd\n",
    "import matplotlib.pyplot as plt\n",
    "import numpy as np\n",
    "data = pd.read_csv('/datasets/real_estate_data.csv', sep='\\t')\n",
    "data.head()"
   ]
  },
  {
   "cell_type": "code",
   "execution_count": 719,
   "metadata": {
    "scrolled": false
   },
   "outputs": [
    {
     "name": "stdout",
     "output_type": "stream",
     "text": [
      "<class 'pandas.core.frame.DataFrame'>\n",
      "RangeIndex: 23699 entries, 0 to 23698\n",
      "Data columns (total 22 columns):\n",
      "total_images            23699 non-null int64\n",
      "last_price              23699 non-null float64\n",
      "total_area              23699 non-null float64\n",
      "first_day_exposition    23699 non-null object\n",
      "rooms                   23699 non-null int64\n",
      "ceiling_height          14504 non-null float64\n",
      "floors_total            23613 non-null float64\n",
      "living_area             21796 non-null float64\n",
      "floor                   23699 non-null int64\n",
      "is_apartment            2775 non-null object\n",
      "studio                  23699 non-null bool\n",
      "open_plan               23699 non-null bool\n",
      "kitchen_area            21421 non-null float64\n",
      "balcony                 12180 non-null float64\n",
      "locality_name           23650 non-null object\n",
      "airports_nearest        18157 non-null float64\n",
      "cityCenters_nearest     18180 non-null float64\n",
      "parks_around3000        18181 non-null float64\n",
      "parks_nearest           8079 non-null float64\n",
      "ponds_around3000        18181 non-null float64\n",
      "ponds_nearest           9110 non-null float64\n",
      "days_exposition         20518 non-null float64\n",
      "dtypes: bool(2), float64(14), int64(3), object(3)\n",
      "memory usage: 3.7+ MB\n"
     ]
    }
   ],
   "source": [
    "data.info()"
   ]
  },
  {
   "cell_type": "markdown",
   "metadata": {},
   "source": [
    "Сразу становятся очевидными следующие проблемы с данными:\n",
    "1. Высокий процент пропусков, больше половины столбцов имеют незаполненные ячейки\n",
    "2. Наибольшее число пропусков допущено в столбцах, которые должны заполняться автоматически (типа расстояния до ближайшего парка или пруда), что может говорить о несовершенстве системы определения локации объекта недвижимости.\n",
    "3. Типы данных большинтва столбцов потрбуют изменений"
   ]
  },
  {
   "cell_type": "markdown",
   "metadata": {},
   "source": [
    "### Вывод:\n",
    "\n",
    "Автоматическая система заполнения некоторых параметров дает большие сбои при определении расстояния до объектов инфраструктуры. Это может негативно повлиять на общий \"имидж\" объекта недвижимости, т.к. для многих потенциальных арендаторов может быть важным параметром близкое расположение парков или близость к аэропорту. Пропуски подобных значений не позволяют клиентам сервиса по достоинству оценить многие квартиры.\n",
    "\n",
    "Пропуски в данных, предоставленных арендодателем так же встречаются и будут заполнены подходящими по смыслу значениями.\n",
    "Фоматы данных так же потребуют изменений для точности дальнейших расчетов."
   ]
  },
  {
   "cell_type": "markdown",
   "metadata": {},
   "source": [
    "### 2. Заполнение пропусков, изменение типа данных.\n",
    "<a id=\"2\"></a>"
   ]
  },
  {
   "cell_type": "code",
   "execution_count": 720,
   "metadata": {},
   "outputs": [
    {
     "data": {
      "text/plain": [
       "total_images            0.000000\n",
       "last_price              0.000000\n",
       "total_area              0.000000\n",
       "first_day_exposition    0.000000\n",
       "rooms                   0.000000\n",
       "ceiling_height          0.387991\n",
       "floors_total            0.003629\n",
       "living_area             0.080299\n",
       "floor                   0.000000\n",
       "is_apartment            0.882906\n",
       "studio                  0.000000\n",
       "open_plan               0.000000\n",
       "kitchen_area            0.096122\n",
       "balcony                 0.486054\n",
       "locality_name           0.002068\n",
       "airports_nearest        0.233850\n",
       "cityCenters_nearest     0.232879\n",
       "parks_around3000        0.232837\n",
       "parks_nearest           0.659100\n",
       "ponds_around3000        0.232837\n",
       "ponds_nearest           0.615596\n",
       "days_exposition         0.134225\n",
       "dtype: float64"
      ]
     },
     "execution_count": 720,
     "metadata": {},
     "output_type": "execute_result"
    }
   ],
   "source": [
    "data.isna().mean()"
   ]
  },
  {
   "cell_type": "markdown",
   "metadata": {},
   "source": [
    "В некоторых столбцах незаполнено больше половины значений. Чаще всего проблемы встречаются в столбцах с автоматическим заполнением и в этом случае пропуски в таких столбцах, как `parks_around3000`,`parks_nearest`,`ponds_around3000`, `ponds_nearest` нам придется расценить как остутствие объектов инфраструкторы на указазнном расстоянии от квартир.\n",
    "\n",
    "Так же поступим и со столбцом `is_apartment`, пропуски в котором больше похожи на некорректно заполненную анкету. \n",
    "Возможно стоит проработать формулировки опросника, чтобы арендодатели при любом варианте ответа остатвляли отметку в этом пункте (Как вариант, добавить четкие ответы: \"Да\" / \"Нет\").\n",
    "\n",
    "Наличие балкона, пропущенное в столбце `balcony` можно расценить, как остутствие такового в квартире. Поскольку балкон часто рассматривается арендадторами, как преимущество, и при описании квартиры владельцы обычно делают акцент на его наличии. \n",
    "\n",
    "Пропуски в столбце `days_exposition` логично было бы объяснить тем, что объявления по-прежнему выставлены на портале.\n",
    "\n",
    "Остальные пропуски будем заполнять логичными значениями для каждого отдельного случая.\n",
    "\n"
   ]
  },
  {
   "cell_type": "markdown",
   "metadata": {},
   "source": [
    "##### Высота потолка\n",
    "Вы берем способ замены пропусков в столбце `ceiling_height`.\n",
    "Рассчитаем среднее и медианное значение:"
   ]
  },
  {
   "cell_type": "code",
   "execution_count": 721,
   "metadata": {},
   "outputs": [
    {
     "data": {
      "text/plain": [
       "2.65"
      ]
     },
     "execution_count": 721,
     "metadata": {},
     "output_type": "execute_result"
    }
   ],
   "source": [
    "data['ceiling_height'].median()\n"
   ]
  },
  {
   "cell_type": "code",
   "execution_count": 722,
   "metadata": {},
   "outputs": [
    {
     "data": {
      "text/plain": [
       "2.77149889685604"
      ]
     },
     "execution_count": 722,
     "metadata": {},
     "output_type": "execute_result"
    }
   ],
   "source": [
    "data['ceiling_height'].mean()"
   ]
  },
  {
   "cell_type": "code",
   "execution_count": 723,
   "metadata": {},
   "outputs": [
    {
     "data": {
      "text/plain": [
       "2.50      3515\n",
       "2.60      1646\n",
       "2.70      1574\n",
       "3.00      1112\n",
       "2.80       993\n",
       "          ... \n",
       "27.50        1\n",
       "5.00         1\n",
       "3.59         1\n",
       "4.80         1\n",
       "100.00       1\n",
       "Name: ceiling_height, Length: 183, dtype: int64"
      ]
     },
     "execution_count": 723,
     "metadata": {},
     "output_type": "execute_result"
    }
   ],
   "source": [
    "data['ceiling_height'].value_counts()"
   ]
  },
  {
   "cell_type": "markdown",
   "metadata": {},
   "source": [
    "В значениях столбца есть такие артефакты, как 100м., поэтому для замены будет предпочтительна медиана:"
   ]
  },
  {
   "cell_type": "code",
   "execution_count": 724,
   "metadata": {},
   "outputs": [],
   "source": [
    "data['ceiling_height'] = data['ceiling_height'].fillna(data['ceiling_height'].median())"
   ]
  },
  {
   "cell_type": "code",
   "execution_count": 725,
   "metadata": {},
   "outputs": [
    {
     "data": {
      "text/plain": [
       "0"
      ]
     },
     "execution_count": 725,
     "metadata": {},
     "output_type": "execute_result"
    }
   ],
   "source": [
    "data['ceiling_height'].isna().sum()"
   ]
  },
  {
   "cell_type": "markdown",
   "metadata": {},
   "source": [
    "Замена прошла успешно, пропусков в данном столбце больше нет."
   ]
  },
  {
   "cell_type": "markdown",
   "metadata": {},
   "source": [
    "##### Количество этажей в доме\n",
    "\n",
    "Т.к. пропусков очень мало (0,3%), но они помешают нам в дальнейших расчетах, заполним пропуски так, чтобы эти квартиры в дальнейшем по распределению относительно этажа (первый, последний, другие) попали в самую многочисленную категорию \"другие\".\n",
    "Для этого присвоим им общее количество на 2 этажа больше, чем этаж, на котором располагается квартира:"
   ]
  },
  {
   "cell_type": "code",
   "execution_count": 726,
   "metadata": {},
   "outputs": [],
   "source": [
    "data['floors_total'] = data['floors_total'].fillna(data['floor']+2)\n"
   ]
  },
  {
   "cell_type": "code",
   "execution_count": 727,
   "metadata": {},
   "outputs": [
    {
     "data": {
      "text/plain": [
       "0"
      ]
     },
     "execution_count": 727,
     "metadata": {},
     "output_type": "execute_result"
    }
   ],
   "source": [
    "data['floors_total'].isna().sum()"
   ]
  },
  {
   "cell_type": "markdown",
   "metadata": {},
   "source": [
    "Замена произведена, пропуски устранены."
   ]
  },
  {
   "cell_type": "markdown",
   "metadata": {},
   "source": [
    "##### Жилая площадь\n",
    "\n",
    "Пропуски в столбце `living_area` будет логично заполнить средним значением. Но, чтобы правильно его оценить, стоит для начала выяснить, какое значение в принципе по нашей стране считается нормальным. Обратимся к открытым источникам.\n",
    "Например, в <a href=\"https://metrprice.ru/analitika-rynka/obsaa-i-zilaa-plosad-v-kvartire-kakim-dolzen-byt-balans\" > статье в специализированного журнала </a> по вопросам недвижимости говорится, что так называемый \"планировочный коэффициент К1\" (отношение жилой площади к общей площади помещения) обычно находится в рекомендованном промежутке от 0,5 до 0,7. В комфортабельных квартирах он ближе к нижней границе, в более экономичных – к верхней."
   ]
  },
  {
   "cell_type": "markdown",
   "metadata": {},
   "source": [
    "Учитывая большой разброс значений площадей квартир, использовать для вычисления коэффициента просто средние значения столбцов `total_area`и `living_area` будет не совсем корректно. Поэтому рассчитаем коэффициент для каждого объекта и затем возьмем его медианное значение."
   ]
  },
  {
   "cell_type": "code",
   "execution_count": 728,
   "metadata": {},
   "outputs": [],
   "source": [
    "data['living_koef'] = data['living_area'] / data['total_area']"
   ]
  },
  {
   "cell_type": "code",
   "execution_count": 729,
   "metadata": {},
   "outputs": [
    {
     "data": {
      "text/plain": [
       "0.5678598992678503"
      ]
     },
     "execution_count": 729,
     "metadata": {},
     "output_type": "execute_result"
    }
   ],
   "source": [
    "koef_living_area = data['living_koef'].median()\n",
    "koef_living_area"
   ]
  },
  {
   "cell_type": "markdown",
   "metadata": {},
   "source": [
    "Итак, медианное значение коэффициента около 56%. Соответственно для заполнения пропусков в столбце жилой площади умножим построчно общую площадь квартир на полученный планировочный коэффициент."
   ]
  },
  {
   "cell_type": "code",
   "execution_count": 730,
   "metadata": {},
   "outputs": [],
   "source": [
    "data['living_area'] = data['living_area'].fillna(data['total_area']*0.56)"
   ]
  },
  {
   "cell_type": "code",
   "execution_count": 731,
   "metadata": {},
   "outputs": [
    {
     "data": {
      "text/plain": [
       "0"
      ]
     },
     "execution_count": 731,
     "metadata": {},
     "output_type": "execute_result"
    }
   ],
   "source": [
    "data['living_area'].isna().sum()"
   ]
  },
  {
   "cell_type": "markdown",
   "metadata": {},
   "source": [
    "##### Является ли квартира апартаментами"
   ]
  },
  {
   "cell_type": "markdown",
   "metadata": {},
   "source": [
    "В данном случае логичнее будет считать, что люди просто не поставили галочку в данном пункте опросника, подразумевая, что квартира не является апартаментами. Поэтому все пропуски заполним значением False"
   ]
  },
  {
   "cell_type": "code",
   "execution_count": 732,
   "metadata": {},
   "outputs": [
    {
     "data": {
      "text/plain": [
       "False    2725\n",
       "True       50\n",
       "Name: is_apartment, dtype: int64"
      ]
     },
     "execution_count": 732,
     "metadata": {},
     "output_type": "execute_result"
    }
   ],
   "source": [
    "data['is_apartment'].value_counts()"
   ]
  },
  {
   "cell_type": "code",
   "execution_count": 733,
   "metadata": {},
   "outputs": [],
   "source": [
    "data['is_apartment'] = data['is_apartment'].fillna('False')"
   ]
  },
  {
   "cell_type": "code",
   "execution_count": 734,
   "metadata": {},
   "outputs": [
    {
     "data": {
      "text/plain": [
       "0"
      ]
     },
     "execution_count": 734,
     "metadata": {},
     "output_type": "execute_result"
    }
   ],
   "source": [
    "data['is_apartment'].isna().sum()"
   ]
  },
  {
   "cell_type": "markdown",
   "metadata": {},
   "source": [
    "##### Число комнат"
   ]
  },
  {
   "cell_type": "markdown",
   "metadata": {},
   "source": [
    "В столбце `rooms` пропусков нет, но есть нулевые значения. Логчиным объяснением этого артефакта можно считать варианты квартир с планировкой по типу \"студии\" . Такие квартиры можно смело назвать однокомнатными и присвоить пропускам значение \"1\"\n"
   ]
  },
  {
   "cell_type": "code",
   "execution_count": 735,
   "metadata": {
    "scrolled": true
   },
   "outputs": [],
   "source": [
    "data['rooms'] = data['rooms'].replace(0,1)"
   ]
  },
  {
   "cell_type": "code",
   "execution_count": 736,
   "metadata": {},
   "outputs": [
    {
     "data": {
      "text/plain": [
       "1     8244\n",
       "2     7940\n",
       "3     5814\n",
       "4     1180\n",
       "5      326\n",
       "6      105\n",
       "7       59\n",
       "8       12\n",
       "9        8\n",
       "10       3\n",
       "14       2\n",
       "11       2\n",
       "15       1\n",
       "12       1\n",
       "19       1\n",
       "16       1\n",
       "Name: rooms, dtype: int64"
      ]
     },
     "execution_count": 736,
     "metadata": {},
     "output_type": "execute_result"
    }
   ],
   "source": [
    "data['rooms'].value_counts()"
   ]
  },
  {
   "cell_type": "markdown",
   "metadata": {},
   "source": [
    "Теперь в каждой квратире есть хотя бы одна комната :)"
   ]
  },
  {
   "cell_type": "markdown",
   "metadata": {},
   "source": [
    "##### Площадь кухни\n",
    "\n",
    "Поскольку площадь кухни будет занимать разный процент общей площади в зависимости от количества комнат, то заполним пропуски медианными значениями для каждой группы квартир по числу комнат.\n"
   ]
  },
  {
   "cell_type": "code",
   "execution_count": 737,
   "metadata": {},
   "outputs": [],
   "source": [
    "data['kitchen_area'] = data['kitchen_area'].fillna(data.groupby('rooms')['kitchen_area'].transform('median'))"
   ]
  },
  {
   "cell_type": "markdown",
   "metadata": {},
   "source": [
    "#####  Наличие балкона\n",
    "\n",
    "Как мы уже отмечали выше, любой арендодатель не упустит шанса подчеркнуть наличие балкона, как дополнительного преимущества в квартире. Поэтому отсутствие значения в столбце `balcony` можно вполне счесть за отсутствие балкона в принципе.\n"
   ]
  },
  {
   "cell_type": "code",
   "execution_count": 738,
   "metadata": {},
   "outputs": [],
   "source": [
    "data['balcony'] = data['balcony'].fillna(0)"
   ]
  },
  {
   "cell_type": "markdown",
   "metadata": {},
   "source": [
    "##### Наличие аэропорта \n",
    "\n",
    "Оценим общее число пропущенных значений:"
   ]
  },
  {
   "cell_type": "code",
   "execution_count": 739,
   "metadata": {},
   "outputs": [
    {
     "data": {
      "text/plain": [
       "5542"
      ]
     },
     "execution_count": 739,
     "metadata": {},
     "output_type": "execute_result"
    }
   ],
   "source": [
    "data['airports_nearest'].isna().sum()"
   ]
  },
  {
   "cell_type": "markdown",
   "metadata": {},
   "source": [
    "\n",
    "Попробуем заполнить пропуски по расстоянию до аэропорта медианным значением для каждого населенного пункта."
   ]
  },
  {
   "cell_type": "code",
   "execution_count": 740,
   "metadata": {},
   "outputs": [],
   "source": [
    "data['airports_nearest'] = data['airports_nearest'].fillna(data.groupby('locality_name')['airports_nearest'].transform('median'))"
   ]
  },
  {
   "cell_type": "markdown",
   "metadata": {},
   "source": [
    "Проверим результат заполнения:"
   ]
  },
  {
   "cell_type": "code",
   "execution_count": 741,
   "metadata": {},
   "outputs": [
    {
     "data": {
      "text/plain": [
       "5394"
      ]
     },
     "execution_count": 741,
     "metadata": {},
     "output_type": "execute_result"
    }
   ],
   "source": [
    "data['airports_nearest'].isna().sum()"
   ]
  },
  {
   "cell_type": "code",
   "execution_count": 742,
   "metadata": {},
   "outputs": [
    {
     "data": {
      "text/plain": [
       "locality_name\n",
       "Бокситогорск           NaN\n",
       "Волосово               NaN\n",
       "Волхов                 NaN\n",
       "Всеволожск             NaN\n",
       "Выборг                 NaN\n",
       "                        ..\n",
       "село Путилово          NaN\n",
       "село Рождествено       NaN\n",
       "село Русско-Высоцкое   NaN\n",
       "село Старая Ладога     NaN\n",
       "село Шум               NaN\n",
       "Name: airports_nearest, Length: 364, dtype: float64"
      ]
     },
     "execution_count": 742,
     "metadata": {},
     "output_type": "execute_result"
    }
   ],
   "source": [
    "data.groupby('locality_name')['airports_nearest'].agg('median')"
   ]
  },
  {
   "cell_type": "markdown",
   "metadata": {},
   "source": [
    "Таким образом заполнилась лишь небольшая часть пропусков, у остальных населенных пунктов по всей таблице не проставлены расстояния до аэропорта. \n",
    "Это очень похоже на ошибку автоматического определения расстояния, т.к. в Выборге аэропорт совсем недалеко.\n",
    "Надо обозначить проблему разработчикам, а в наших расчетах придется заменить данные артефактом, который мы в дальнейшем сможем отсечь."
   ]
  },
  {
   "cell_type": "code",
   "execution_count": 743,
   "metadata": {},
   "outputs": [],
   "source": [
    "data['airports_nearest'] = data['airports_nearest'].fillna(99999)"
   ]
  },
  {
   "cell_type": "code",
   "execution_count": 744,
   "metadata": {},
   "outputs": [
    {
     "data": {
      "text/plain": [
       "0"
      ]
     },
     "execution_count": 744,
     "metadata": {},
     "output_type": "execute_result"
    }
   ],
   "source": [
    "data['airports_nearest'].isna().sum()"
   ]
  },
  {
   "cell_type": "markdown",
   "metadata": {},
   "source": [
    "##### Расстояния до парков и прудов\n",
    "\n",
    "В столбцах с автоматическим определением расстояния до парков и прудов самое большое количество пропусков.\n",
    "Проставим в пустые ячейки артефактное \"99999\", обозначив их отсутствие вблизи квартиры."
   ]
  },
  {
   "cell_type": "code",
   "execution_count": 745,
   "metadata": {},
   "outputs": [],
   "source": [
    "data['parks_around3000'] = data['parks_around3000'].fillna(99999)"
   ]
  },
  {
   "cell_type": "code",
   "execution_count": 746,
   "metadata": {},
   "outputs": [],
   "source": [
    "data['parks_nearest'] = data['parks_nearest'].fillna(99999)"
   ]
  },
  {
   "cell_type": "code",
   "execution_count": 747,
   "metadata": {},
   "outputs": [],
   "source": [
    "data['ponds_around3000'] = data['ponds_around3000'].fillna(99999)"
   ]
  },
  {
   "cell_type": "code",
   "execution_count": 748,
   "metadata": {},
   "outputs": [],
   "source": [
    "data['ponds_nearest'] = data['ponds_nearest'].fillna(99999)"
   ]
  },
  {
   "cell_type": "markdown",
   "metadata": {},
   "source": [
    "##### Расстояние до центра города\n",
    "\n",
    "По аналогии с аэропортом попробуем заполнить пропуски расстояния до центра по медианному значению для каждого населенного пункта:"
   ]
  },
  {
   "cell_type": "code",
   "execution_count": 749,
   "metadata": {},
   "outputs": [
    {
     "data": {
      "text/plain": [
       "5519"
      ]
     },
     "execution_count": 749,
     "metadata": {},
     "output_type": "execute_result"
    }
   ],
   "source": [
    "data['cityCenters_nearest'].isna().sum()"
   ]
  },
  {
   "cell_type": "code",
   "execution_count": 750,
   "metadata": {},
   "outputs": [],
   "source": [
    "data['cityCenters_nearest'] = data['cityCenters_nearest'].fillna(data.groupby('locality_name')['cityCenters_nearest'].transform('median'))"
   ]
  },
  {
   "cell_type": "code",
   "execution_count": 751,
   "metadata": {},
   "outputs": [
    {
     "data": {
      "text/plain": [
       "5394"
      ]
     },
     "execution_count": 751,
     "metadata": {},
     "output_type": "execute_result"
    }
   ],
   "source": [
    "data['cityCenters_nearest'].isna().sum()"
   ]
  },
  {
   "cell_type": "code",
   "execution_count": 752,
   "metadata": {},
   "outputs": [
    {
     "data": {
      "text/html": [
       "<div>\n",
       "<style scoped>\n",
       "    .dataframe tbody tr th:only-of-type {\n",
       "        vertical-align: middle;\n",
       "    }\n",
       "\n",
       "    .dataframe tbody tr th {\n",
       "        vertical-align: top;\n",
       "    }\n",
       "\n",
       "    .dataframe thead th {\n",
       "        text-align: right;\n",
       "    }\n",
       "</style>\n",
       "<table border=\"1\" class=\"dataframe\">\n",
       "  <thead>\n",
       "    <tr style=\"text-align: right;\">\n",
       "      <th></th>\n",
       "      <th>total_images</th>\n",
       "      <th>last_price</th>\n",
       "      <th>total_area</th>\n",
       "      <th>first_day_exposition</th>\n",
       "      <th>rooms</th>\n",
       "      <th>ceiling_height</th>\n",
       "      <th>floors_total</th>\n",
       "      <th>living_area</th>\n",
       "      <th>floor</th>\n",
       "      <th>is_apartment</th>\n",
       "      <th>...</th>\n",
       "      <th>balcony</th>\n",
       "      <th>locality_name</th>\n",
       "      <th>airports_nearest</th>\n",
       "      <th>cityCenters_nearest</th>\n",
       "      <th>parks_around3000</th>\n",
       "      <th>parks_nearest</th>\n",
       "      <th>ponds_around3000</th>\n",
       "      <th>ponds_nearest</th>\n",
       "      <th>days_exposition</th>\n",
       "      <th>living_koef</th>\n",
       "    </tr>\n",
       "  </thead>\n",
       "  <tbody>\n",
       "    <tr>\n",
       "      <td>5</td>\n",
       "      <td>10</td>\n",
       "      <td>2890000.0</td>\n",
       "      <td>30.40</td>\n",
       "      <td>2018-09-10T00:00:00</td>\n",
       "      <td>1</td>\n",
       "      <td>2.65</td>\n",
       "      <td>12.0</td>\n",
       "      <td>14.400</td>\n",
       "      <td>5</td>\n",
       "      <td>False</td>\n",
       "      <td>...</td>\n",
       "      <td>0.0</td>\n",
       "      <td>городской посёлок Янино-1</td>\n",
       "      <td>99999.0</td>\n",
       "      <td>NaN</td>\n",
       "      <td>99999.0</td>\n",
       "      <td>99999.0</td>\n",
       "      <td>99999.0</td>\n",
       "      <td>99999.0</td>\n",
       "      <td>55.0</td>\n",
       "      <td>0.473684</td>\n",
       "    </tr>\n",
       "    <tr>\n",
       "      <td>8</td>\n",
       "      <td>20</td>\n",
       "      <td>2900000.0</td>\n",
       "      <td>33.16</td>\n",
       "      <td>2018-05-23T00:00:00</td>\n",
       "      <td>1</td>\n",
       "      <td>2.65</td>\n",
       "      <td>27.0</td>\n",
       "      <td>15.430</td>\n",
       "      <td>26</td>\n",
       "      <td>False</td>\n",
       "      <td>...</td>\n",
       "      <td>0.0</td>\n",
       "      <td>посёлок Мурино</td>\n",
       "      <td>99999.0</td>\n",
       "      <td>NaN</td>\n",
       "      <td>99999.0</td>\n",
       "      <td>99999.0</td>\n",
       "      <td>99999.0</td>\n",
       "      <td>99999.0</td>\n",
       "      <td>189.0</td>\n",
       "      <td>0.465320</td>\n",
       "    </tr>\n",
       "    <tr>\n",
       "      <td>12</td>\n",
       "      <td>10</td>\n",
       "      <td>3890000.0</td>\n",
       "      <td>54.00</td>\n",
       "      <td>2016-06-30T00:00:00</td>\n",
       "      <td>2</td>\n",
       "      <td>2.65</td>\n",
       "      <td>5.0</td>\n",
       "      <td>30.000</td>\n",
       "      <td>5</td>\n",
       "      <td>False</td>\n",
       "      <td>...</td>\n",
       "      <td>0.0</td>\n",
       "      <td>Сертолово</td>\n",
       "      <td>99999.0</td>\n",
       "      <td>NaN</td>\n",
       "      <td>99999.0</td>\n",
       "      <td>99999.0</td>\n",
       "      <td>99999.0</td>\n",
       "      <td>99999.0</td>\n",
       "      <td>90.0</td>\n",
       "      <td>0.555556</td>\n",
       "    </tr>\n",
       "    <tr>\n",
       "      <td>22</td>\n",
       "      <td>20</td>\n",
       "      <td>5000000.0</td>\n",
       "      <td>58.00</td>\n",
       "      <td>2017-04-24T00:00:00</td>\n",
       "      <td>2</td>\n",
       "      <td>2.75</td>\n",
       "      <td>25.0</td>\n",
       "      <td>30.000</td>\n",
       "      <td>15</td>\n",
       "      <td>False</td>\n",
       "      <td>...</td>\n",
       "      <td>2.0</td>\n",
       "      <td>деревня Кудрово</td>\n",
       "      <td>99999.0</td>\n",
       "      <td>NaN</td>\n",
       "      <td>99999.0</td>\n",
       "      <td>99999.0</td>\n",
       "      <td>99999.0</td>\n",
       "      <td>99999.0</td>\n",
       "      <td>60.0</td>\n",
       "      <td>0.517241</td>\n",
       "    </tr>\n",
       "    <tr>\n",
       "      <td>30</td>\n",
       "      <td>12</td>\n",
       "      <td>2200000.0</td>\n",
       "      <td>32.80</td>\n",
       "      <td>2018-02-19T00:00:00</td>\n",
       "      <td>1</td>\n",
       "      <td>2.65</td>\n",
       "      <td>9.0</td>\n",
       "      <td>18.368</td>\n",
       "      <td>2</td>\n",
       "      <td>False</td>\n",
       "      <td>...</td>\n",
       "      <td>0.0</td>\n",
       "      <td>Коммунар</td>\n",
       "      <td>99999.0</td>\n",
       "      <td>NaN</td>\n",
       "      <td>99999.0</td>\n",
       "      <td>99999.0</td>\n",
       "      <td>99999.0</td>\n",
       "      <td>99999.0</td>\n",
       "      <td>63.0</td>\n",
       "      <td>NaN</td>\n",
       "    </tr>\n",
       "    <tr>\n",
       "      <td>37</td>\n",
       "      <td>10</td>\n",
       "      <td>1990000.0</td>\n",
       "      <td>45.80</td>\n",
       "      <td>2017-10-28T00:00:00</td>\n",
       "      <td>2</td>\n",
       "      <td>2.50</td>\n",
       "      <td>5.0</td>\n",
       "      <td>25.648</td>\n",
       "      <td>1</td>\n",
       "      <td>False</td>\n",
       "      <td>...</td>\n",
       "      <td>0.0</td>\n",
       "      <td>поселок городского типа Красный Бор</td>\n",
       "      <td>99999.0</td>\n",
       "      <td>NaN</td>\n",
       "      <td>99999.0</td>\n",
       "      <td>99999.0</td>\n",
       "      <td>99999.0</td>\n",
       "      <td>99999.0</td>\n",
       "      <td>196.0</td>\n",
       "      <td>NaN</td>\n",
       "    </tr>\n",
       "    <tr>\n",
       "      <td>38</td>\n",
       "      <td>10</td>\n",
       "      <td>3150000.0</td>\n",
       "      <td>40.00</td>\n",
       "      <td>2018-03-29T00:00:00</td>\n",
       "      <td>1</td>\n",
       "      <td>2.75</td>\n",
       "      <td>18.0</td>\n",
       "      <td>16.300</td>\n",
       "      <td>9</td>\n",
       "      <td>False</td>\n",
       "      <td>...</td>\n",
       "      <td>0.0</td>\n",
       "      <td>посёлок Мурино</td>\n",
       "      <td>99999.0</td>\n",
       "      <td>NaN</td>\n",
       "      <td>99999.0</td>\n",
       "      <td>99999.0</td>\n",
       "      <td>99999.0</td>\n",
       "      <td>99999.0</td>\n",
       "      <td>103.0</td>\n",
       "      <td>0.407500</td>\n",
       "    </tr>\n",
       "    <tr>\n",
       "      <td>47</td>\n",
       "      <td>17</td>\n",
       "      <td>3600000.0</td>\n",
       "      <td>56.10</td>\n",
       "      <td>2018-10-18T00:00:00</td>\n",
       "      <td>3</td>\n",
       "      <td>2.65</td>\n",
       "      <td>4.0</td>\n",
       "      <td>42.500</td>\n",
       "      <td>3</td>\n",
       "      <td>False</td>\n",
       "      <td>...</td>\n",
       "      <td>1.0</td>\n",
       "      <td>Гатчина</td>\n",
       "      <td>99999.0</td>\n",
       "      <td>NaN</td>\n",
       "      <td>99999.0</td>\n",
       "      <td>99999.0</td>\n",
       "      <td>99999.0</td>\n",
       "      <td>99999.0</td>\n",
       "      <td>179.0</td>\n",
       "      <td>0.757576</td>\n",
       "    </tr>\n",
       "    <tr>\n",
       "      <td>60</td>\n",
       "      <td>3</td>\n",
       "      <td>2740000.0</td>\n",
       "      <td>35.00</td>\n",
       "      <td>2018-01-01T00:00:00</td>\n",
       "      <td>1</td>\n",
       "      <td>2.65</td>\n",
       "      <td>12.0</td>\n",
       "      <td>19.600</td>\n",
       "      <td>8</td>\n",
       "      <td>False</td>\n",
       "      <td>...</td>\n",
       "      <td>0.0</td>\n",
       "      <td>посёлок Мурино</td>\n",
       "      <td>99999.0</td>\n",
       "      <td>NaN</td>\n",
       "      <td>99999.0</td>\n",
       "      <td>99999.0</td>\n",
       "      <td>99999.0</td>\n",
       "      <td>99999.0</td>\n",
       "      <td>11.0</td>\n",
       "      <td>NaN</td>\n",
       "    </tr>\n",
       "    <tr>\n",
       "      <td>62</td>\n",
       "      <td>0</td>\n",
       "      <td>4800000.0</td>\n",
       "      <td>78.60</td>\n",
       "      <td>2017-09-17T00:00:00</td>\n",
       "      <td>3</td>\n",
       "      <td>2.80</td>\n",
       "      <td>9.0</td>\n",
       "      <td>48.800</td>\n",
       "      <td>5</td>\n",
       "      <td>False</td>\n",
       "      <td>...</td>\n",
       "      <td>2.0</td>\n",
       "      <td>Сертолово</td>\n",
       "      <td>99999.0</td>\n",
       "      <td>NaN</td>\n",
       "      <td>99999.0</td>\n",
       "      <td>99999.0</td>\n",
       "      <td>99999.0</td>\n",
       "      <td>99999.0</td>\n",
       "      <td>5.0</td>\n",
       "      <td>0.620865</td>\n",
       "    </tr>\n",
       "  </tbody>\n",
       "</table>\n",
       "<p>10 rows × 23 columns</p>\n",
       "</div>"
      ],
      "text/plain": [
       "    total_images  last_price  total_area first_day_exposition  rooms  \\\n",
       "5             10   2890000.0       30.40  2018-09-10T00:00:00      1   \n",
       "8             20   2900000.0       33.16  2018-05-23T00:00:00      1   \n",
       "12            10   3890000.0       54.00  2016-06-30T00:00:00      2   \n",
       "22            20   5000000.0       58.00  2017-04-24T00:00:00      2   \n",
       "30            12   2200000.0       32.80  2018-02-19T00:00:00      1   \n",
       "37            10   1990000.0       45.80  2017-10-28T00:00:00      2   \n",
       "38            10   3150000.0       40.00  2018-03-29T00:00:00      1   \n",
       "47            17   3600000.0       56.10  2018-10-18T00:00:00      3   \n",
       "60             3   2740000.0       35.00  2018-01-01T00:00:00      1   \n",
       "62             0   4800000.0       78.60  2017-09-17T00:00:00      3   \n",
       "\n",
       "    ceiling_height  floors_total  living_area  floor is_apartment  ...  \\\n",
       "5             2.65          12.0       14.400      5        False  ...   \n",
       "8             2.65          27.0       15.430     26        False  ...   \n",
       "12            2.65           5.0       30.000      5        False  ...   \n",
       "22            2.75          25.0       30.000     15        False  ...   \n",
       "30            2.65           9.0       18.368      2        False  ...   \n",
       "37            2.50           5.0       25.648      1        False  ...   \n",
       "38            2.75          18.0       16.300      9        False  ...   \n",
       "47            2.65           4.0       42.500      3        False  ...   \n",
       "60            2.65          12.0       19.600      8        False  ...   \n",
       "62            2.80           9.0       48.800      5        False  ...   \n",
       "\n",
       "    balcony                        locality_name  airports_nearest  \\\n",
       "5       0.0            городской посёлок Янино-1           99999.0   \n",
       "8       0.0                       посёлок Мурино           99999.0   \n",
       "12      0.0                            Сертолово           99999.0   \n",
       "22      2.0                      деревня Кудрово           99999.0   \n",
       "30      0.0                             Коммунар           99999.0   \n",
       "37      0.0  поселок городского типа Красный Бор           99999.0   \n",
       "38      0.0                       посёлок Мурино           99999.0   \n",
       "47      1.0                              Гатчина           99999.0   \n",
       "60      0.0                       посёлок Мурино           99999.0   \n",
       "62      2.0                            Сертолово           99999.0   \n",
       "\n",
       "    cityCenters_nearest parks_around3000  parks_nearest  ponds_around3000  \\\n",
       "5                   NaN          99999.0        99999.0           99999.0   \n",
       "8                   NaN          99999.0        99999.0           99999.0   \n",
       "12                  NaN          99999.0        99999.0           99999.0   \n",
       "22                  NaN          99999.0        99999.0           99999.0   \n",
       "30                  NaN          99999.0        99999.0           99999.0   \n",
       "37                  NaN          99999.0        99999.0           99999.0   \n",
       "38                  NaN          99999.0        99999.0           99999.0   \n",
       "47                  NaN          99999.0        99999.0           99999.0   \n",
       "60                  NaN          99999.0        99999.0           99999.0   \n",
       "62                  NaN          99999.0        99999.0           99999.0   \n",
       "\n",
       "    ponds_nearest  days_exposition  living_koef  \n",
       "5         99999.0             55.0     0.473684  \n",
       "8         99999.0            189.0     0.465320  \n",
       "12        99999.0             90.0     0.555556  \n",
       "22        99999.0             60.0     0.517241  \n",
       "30        99999.0             63.0          NaN  \n",
       "37        99999.0            196.0          NaN  \n",
       "38        99999.0            103.0     0.407500  \n",
       "47        99999.0            179.0     0.757576  \n",
       "60        99999.0             11.0          NaN  \n",
       "62        99999.0              5.0     0.620865  \n",
       "\n",
       "[10 rows x 23 columns]"
      ]
     },
     "execution_count": 752,
     "metadata": {},
     "output_type": "execute_result"
    }
   ],
   "source": [
    "data[data['cityCenters_nearest'].isna()].head(10)"
   ]
  },
  {
   "cell_type": "markdown",
   "metadata": {},
   "source": [
    "Мы заполнили пропуски там, где это было возможно. \n",
    "Просмотрев примеры оставшихся пропусков, мы видим, что находятся они зачастую в поселках, селах и небольших городах. В таком случае расстояние до центра настолько малО, что автоматически не регистрируется.\n",
    "Проставим в оставшихся пропусках 0, т.к. на дальнейших расчетах это никак не отразится."
   ]
  },
  {
   "cell_type": "code",
   "execution_count": 753,
   "metadata": {},
   "outputs": [],
   "source": [
    "data['cityCenters_nearest'] = data['cityCenters_nearest'].fillna(0)"
   ]
  },
  {
   "cell_type": "markdown",
   "metadata": {},
   "source": [
    "##### Название населенного пункта\n",
    "\n",
    "Незначительные пропуски остались только в графах с незаполненным названием населенного пункта.\n",
    "Поскольку количество этих пропусков очень мало (2%), можем удалить эти строки из данных, что никак не скажется на наших расчетах."
   ]
  },
  {
   "cell_type": "code",
   "execution_count": 754,
   "metadata": {},
   "outputs": [],
   "source": [
    "data = data.dropna(subset=['locality_name'])"
   ]
  },
  {
   "cell_type": "code",
   "execution_count": 755,
   "metadata": {},
   "outputs": [
    {
     "data": {
      "text/plain": [
       "0"
      ]
     },
     "execution_count": 755,
     "metadata": {},
     "output_type": "execute_result"
    }
   ],
   "source": [
    "data['locality_name'].isna().sum()"
   ]
  },
  {
   "cell_type": "markdown",
   "metadata": {},
   "source": [
    "##### Время продажи квартиры\n",
    "\n",
    "Пропуски значений со временем продажи квартиры будем считать, что они до сих пор не проданы и еще актуальны.\n",
    "Заменим их на артефакты, чтобы они не мешали нам сменить тип данных."
   ]
  },
  {
   "cell_type": "code",
   "execution_count": 756,
   "metadata": {},
   "outputs": [],
   "source": [
    "data['days_exposition'] = data['days_exposition'].fillna(99999)"
   ]
  },
  {
   "cell_type": "code",
   "execution_count": 757,
   "metadata": {},
   "outputs": [
    {
     "name": "stdout",
     "output_type": "stream",
     "text": [
      "<class 'pandas.core.frame.DataFrame'>\n",
      "Int64Index: 23650 entries, 0 to 23698\n",
      "Data columns (total 23 columns):\n",
      "total_images            23650 non-null int64\n",
      "last_price              23650 non-null float64\n",
      "total_area              23650 non-null float64\n",
      "first_day_exposition    23650 non-null object\n",
      "rooms                   23650 non-null int64\n",
      "ceiling_height          23650 non-null float64\n",
      "floors_total            23650 non-null float64\n",
      "living_area             23650 non-null float64\n",
      "floor                   23650 non-null int64\n",
      "is_apartment            23650 non-null object\n",
      "studio                  23650 non-null bool\n",
      "open_plan               23650 non-null bool\n",
      "kitchen_area            23650 non-null float64\n",
      "balcony                 23650 non-null float64\n",
      "locality_name           23650 non-null object\n",
      "airports_nearest        23650 non-null float64\n",
      "cityCenters_nearest     23650 non-null float64\n",
      "parks_around3000        23650 non-null float64\n",
      "parks_nearest           23650 non-null float64\n",
      "ponds_around3000        23650 non-null float64\n",
      "ponds_nearest           23650 non-null float64\n",
      "days_exposition         23650 non-null float64\n",
      "living_koef             21752 non-null float64\n",
      "dtypes: bool(2), float64(15), int64(3), object(3)\n",
      "memory usage: 4.0+ MB\n"
     ]
    }
   ],
   "source": [
    "data.info()"
   ]
  },
  {
   "cell_type": "markdown",
   "metadata": {},
   "source": [
    "Пропуски остались только в планировочном коэффициенте, они будут заполнены в следующих разделах проекта.\n",
    "\n",
    "А пока заменим тип данных на целочисленный с помощью цикла.\n",
    "Дробные значения оставим в столбцах с высотой потолков и планировочным коэффициентом."
   ]
  },
  {
   "cell_type": "code",
   "execution_count": 758,
   "metadata": {},
   "outputs": [],
   "source": [
    "lst = ['last_price','total_area', 'floors_total','living_area', 'kitchen_area', 'balcony', 'airports_nearest', \n",
    "'cityCenters_nearest', 'parks_around3000', 'parks_nearest', 'ponds_around3000', 'ponds_nearest', 'days_exposition']\n",
    "for col in lst:\n",
    "    data[col] = data[col].astype(int)\n"
   ]
  },
  {
   "cell_type": "markdown",
   "metadata": {},
   "source": [
    "Столбцу с датой и временем так же меняем формат:\n"
   ]
  },
  {
   "cell_type": "code",
   "execution_count": 759,
   "metadata": {},
   "outputs": [],
   "source": [
    "data['first_day_exposition'] = pd.to_datetime(data['first_day_exposition'],format='%Y-%m-%d %H:%M:%S')"
   ]
  },
  {
   "cell_type": "code",
   "execution_count": 760,
   "metadata": {},
   "outputs": [
    {
     "name": "stdout",
     "output_type": "stream",
     "text": [
      "<class 'pandas.core.frame.DataFrame'>\n",
      "Int64Index: 23650 entries, 0 to 23698\n",
      "Data columns (total 23 columns):\n",
      "total_images            23650 non-null int64\n",
      "last_price              23650 non-null int64\n",
      "total_area              23650 non-null int64\n",
      "first_day_exposition    23650 non-null datetime64[ns]\n",
      "rooms                   23650 non-null int64\n",
      "ceiling_height          23650 non-null float64\n",
      "floors_total            23650 non-null int64\n",
      "living_area             23650 non-null int64\n",
      "floor                   23650 non-null int64\n",
      "is_apartment            23650 non-null object\n",
      "studio                  23650 non-null bool\n",
      "open_plan               23650 non-null bool\n",
      "kitchen_area            23650 non-null int64\n",
      "balcony                 23650 non-null int64\n",
      "locality_name           23650 non-null object\n",
      "airports_nearest        23650 non-null int64\n",
      "cityCenters_nearest     23650 non-null int64\n",
      "parks_around3000        23650 non-null int64\n",
      "parks_nearest           23650 non-null int64\n",
      "ponds_around3000        23650 non-null int64\n",
      "ponds_nearest           23650 non-null int64\n",
      "days_exposition         23650 non-null int64\n",
      "living_koef             21752 non-null float64\n",
      "dtypes: bool(2), datetime64[ns](1), float64(2), int64(16), object(2)\n",
      "memory usage: 4.0+ MB\n"
     ]
    }
   ],
   "source": [
    "data.info()"
   ]
  },
  {
   "cell_type": "markdown",
   "metadata": {},
   "source": [
    "#### Вывод:  \n",
    "Во втором разделе проекта были произведены замены пропущенных значений во всех столбцах таблицы.\n",
    "Пропуски в названиях населенных пунктов пришлось удалить, т.к. расположение квартиры является важным фактором формирования ее стоимости. К тому же пропуски составляли очень малую часть данных (2%).\n",
    "\n",
    "Огромное число пропусков (до 60%) зафиксировано в столбцах, значения которых должны определяться автоматически. Необходимо сообщить разработчикам сервиса, что система не до конца отлажена, что приводит к потере ценной информации для арендаторов.\n",
    "\n",
    "Некоторое число пропусков, возможно. связано с погрешностями составления опросника для арендодателя, либо с переносом данных из анкет в электронную базу. Этот момент так же необходимо проработать (улучшить формулировки анкеты, провести работу с сотрудниками, заполняющими базу)."
   ]
  },
  {
   "cell_type": "markdown",
   "metadata": {},
   "source": [
    "###  3.  Расчет дополнительных параметров\n",
    "<a id=\"3\"></a>"
   ]
  },
  {
   "cell_type": "markdown",
   "metadata": {},
   "source": [
    "##### 3.1 \n",
    "Важным параметром оценки недвижимости является стоимость квадратного метра.\n",
    "Добавим в таблицу столбец с этой информацией."
   ]
  },
  {
   "cell_type": "code",
   "execution_count": 761,
   "metadata": {},
   "outputs": [],
   "source": [
    "data['sq_m_price'] = data['last_price'] / data['total_area']"
   ]
  },
  {
   "cell_type": "code",
   "execution_count": 762,
   "metadata": {},
   "outputs": [
    {
     "data": {
      "text/html": [
       "<div>\n",
       "<style scoped>\n",
       "    .dataframe tbody tr th:only-of-type {\n",
       "        vertical-align: middle;\n",
       "    }\n",
       "\n",
       "    .dataframe tbody tr th {\n",
       "        vertical-align: top;\n",
       "    }\n",
       "\n",
       "    .dataframe thead th {\n",
       "        text-align: right;\n",
       "    }\n",
       "</style>\n",
       "<table border=\"1\" class=\"dataframe\">\n",
       "  <thead>\n",
       "    <tr style=\"text-align: right;\">\n",
       "      <th></th>\n",
       "      <th>total_images</th>\n",
       "      <th>last_price</th>\n",
       "      <th>total_area</th>\n",
       "      <th>first_day_exposition</th>\n",
       "      <th>rooms</th>\n",
       "      <th>ceiling_height</th>\n",
       "      <th>floors_total</th>\n",
       "      <th>living_area</th>\n",
       "      <th>floor</th>\n",
       "      <th>is_apartment</th>\n",
       "      <th>...</th>\n",
       "      <th>locality_name</th>\n",
       "      <th>airports_nearest</th>\n",
       "      <th>cityCenters_nearest</th>\n",
       "      <th>parks_around3000</th>\n",
       "      <th>parks_nearest</th>\n",
       "      <th>ponds_around3000</th>\n",
       "      <th>ponds_nearest</th>\n",
       "      <th>days_exposition</th>\n",
       "      <th>living_koef</th>\n",
       "      <th>sq_m_price</th>\n",
       "    </tr>\n",
       "  </thead>\n",
       "  <tbody>\n",
       "    <tr>\n",
       "      <td>0</td>\n",
       "      <td>20</td>\n",
       "      <td>13000000</td>\n",
       "      <td>108</td>\n",
       "      <td>2019-03-07</td>\n",
       "      <td>3</td>\n",
       "      <td>2.70</td>\n",
       "      <td>16</td>\n",
       "      <td>51</td>\n",
       "      <td>8</td>\n",
       "      <td>False</td>\n",
       "      <td>...</td>\n",
       "      <td>Санкт-Петербург</td>\n",
       "      <td>18863</td>\n",
       "      <td>16028</td>\n",
       "      <td>1</td>\n",
       "      <td>482</td>\n",
       "      <td>2</td>\n",
       "      <td>755</td>\n",
       "      <td>99999</td>\n",
       "      <td>0.472222</td>\n",
       "      <td>120370.370370</td>\n",
       "    </tr>\n",
       "    <tr>\n",
       "      <td>1</td>\n",
       "      <td>7</td>\n",
       "      <td>3350000</td>\n",
       "      <td>40</td>\n",
       "      <td>2018-12-04</td>\n",
       "      <td>1</td>\n",
       "      <td>2.65</td>\n",
       "      <td>11</td>\n",
       "      <td>18</td>\n",
       "      <td>1</td>\n",
       "      <td>False</td>\n",
       "      <td>...</td>\n",
       "      <td>посёлок Шушары</td>\n",
       "      <td>12817</td>\n",
       "      <td>18603</td>\n",
       "      <td>0</td>\n",
       "      <td>99999</td>\n",
       "      <td>0</td>\n",
       "      <td>99999</td>\n",
       "      <td>81</td>\n",
       "      <td>0.460396</td>\n",
       "      <td>83750.000000</td>\n",
       "    </tr>\n",
       "    <tr>\n",
       "      <td>2</td>\n",
       "      <td>10</td>\n",
       "      <td>5196000</td>\n",
       "      <td>56</td>\n",
       "      <td>2015-08-20</td>\n",
       "      <td>2</td>\n",
       "      <td>2.65</td>\n",
       "      <td>5</td>\n",
       "      <td>34</td>\n",
       "      <td>4</td>\n",
       "      <td>False</td>\n",
       "      <td>...</td>\n",
       "      <td>Санкт-Петербург</td>\n",
       "      <td>21741</td>\n",
       "      <td>13933</td>\n",
       "      <td>1</td>\n",
       "      <td>90</td>\n",
       "      <td>2</td>\n",
       "      <td>574</td>\n",
       "      <td>558</td>\n",
       "      <td>0.612500</td>\n",
       "      <td>92785.714286</td>\n",
       "    </tr>\n",
       "    <tr>\n",
       "      <td>3</td>\n",
       "      <td>0</td>\n",
       "      <td>64900000</td>\n",
       "      <td>159</td>\n",
       "      <td>2015-07-24</td>\n",
       "      <td>3</td>\n",
       "      <td>2.65</td>\n",
       "      <td>14</td>\n",
       "      <td>89</td>\n",
       "      <td>9</td>\n",
       "      <td>False</td>\n",
       "      <td>...</td>\n",
       "      <td>Санкт-Петербург</td>\n",
       "      <td>28098</td>\n",
       "      <td>6800</td>\n",
       "      <td>2</td>\n",
       "      <td>84</td>\n",
       "      <td>3</td>\n",
       "      <td>234</td>\n",
       "      <td>424</td>\n",
       "      <td>NaN</td>\n",
       "      <td>408176.100629</td>\n",
       "    </tr>\n",
       "    <tr>\n",
       "      <td>4</td>\n",
       "      <td>2</td>\n",
       "      <td>10000000</td>\n",
       "      <td>100</td>\n",
       "      <td>2018-06-19</td>\n",
       "      <td>2</td>\n",
       "      <td>3.03</td>\n",
       "      <td>14</td>\n",
       "      <td>32</td>\n",
       "      <td>13</td>\n",
       "      <td>False</td>\n",
       "      <td>...</td>\n",
       "      <td>Санкт-Петербург</td>\n",
       "      <td>31856</td>\n",
       "      <td>8098</td>\n",
       "      <td>2</td>\n",
       "      <td>112</td>\n",
       "      <td>1</td>\n",
       "      <td>48</td>\n",
       "      <td>121</td>\n",
       "      <td>0.320000</td>\n",
       "      <td>100000.000000</td>\n",
       "    </tr>\n",
       "  </tbody>\n",
       "</table>\n",
       "<p>5 rows × 24 columns</p>\n",
       "</div>"
      ],
      "text/plain": [
       "   total_images  last_price  total_area first_day_exposition  rooms  \\\n",
       "0            20    13000000         108           2019-03-07      3   \n",
       "1             7     3350000          40           2018-12-04      1   \n",
       "2            10     5196000          56           2015-08-20      2   \n",
       "3             0    64900000         159           2015-07-24      3   \n",
       "4             2    10000000         100           2018-06-19      2   \n",
       "\n",
       "   ceiling_height  floors_total  living_area  floor is_apartment  ...  \\\n",
       "0            2.70            16           51      8        False  ...   \n",
       "1            2.65            11           18      1        False  ...   \n",
       "2            2.65             5           34      4        False  ...   \n",
       "3            2.65            14           89      9        False  ...   \n",
       "4            3.03            14           32     13        False  ...   \n",
       "\n",
       "     locality_name  airports_nearest  cityCenters_nearest  parks_around3000  \\\n",
       "0  Санкт-Петербург             18863                16028                 1   \n",
       "1   посёлок Шушары             12817                18603                 0   \n",
       "2  Санкт-Петербург             21741                13933                 1   \n",
       "3  Санкт-Петербург             28098                 6800                 2   \n",
       "4  Санкт-Петербург             31856                 8098                 2   \n",
       "\n",
       "  parks_nearest  ponds_around3000  ponds_nearest  days_exposition  \\\n",
       "0           482                 2            755            99999   \n",
       "1         99999                 0          99999               81   \n",
       "2            90                 2            574              558   \n",
       "3            84                 3            234              424   \n",
       "4           112                 1             48              121   \n",
       "\n",
       "   living_koef     sq_m_price  \n",
       "0     0.472222  120370.370370  \n",
       "1     0.460396   83750.000000  \n",
       "2     0.612500   92785.714286  \n",
       "3          NaN  408176.100629  \n",
       "4     0.320000  100000.000000  \n",
       "\n",
       "[5 rows x 24 columns]"
      ]
     },
     "execution_count": 762,
     "metadata": {},
     "output_type": "execute_result"
    }
   ],
   "source": [
    "data.head()"
   ]
  },
  {
   "cell_type": "code",
   "execution_count": 763,
   "metadata": {},
   "outputs": [
    {
     "data": {
      "text/plain": [
       "count      23650\n",
       "mean       99884\n",
       "std        50449\n",
       "min          111\n",
       "25%        77000\n",
       "50%        95454\n",
       "75%       114895\n",
       "max      1907500\n",
       "Name: sq_m_price, dtype: int64"
      ]
     },
     "execution_count": 763,
     "metadata": {},
     "output_type": "execute_result"
    }
   ],
   "source": [
    "data['sq_m_price'].describe().astype(int)\n",
    "                                    "
   ]
  },
  {
   "cell_type": "markdown",
   "metadata": {},
   "source": [
    "Разброс данных довольно велик, максимальное и минимальное значение различаются в десятки раз.\n",
    "Построим диаграмму разброса, чтобы исключить выбросы."
   ]
  },
  {
   "cell_type": "code",
   "execution_count": 764,
   "metadata": {},
   "outputs": [
    {
     "data": {
      "text/plain": [
       "(0, 1000000)"
      ]
     },
     "execution_count": 764,
     "metadata": {},
     "output_type": "execute_result"
    },
    {
     "data": {
      "image/png": "[encoded data removed]",
      "text/plain": [
       "<Figure size 432x288 with 1 Axes>"
      ]
     },
     "metadata": {
      "needs_background": "light"
     },
     "output_type": "display_data"
    }
   ],
   "source": [
    "data.boxplot('sq_m_price')\n",
    "plt.ylim(0,1000000)"
   ]
  },
  {
   "cell_type": "markdown",
   "metadata": {},
   "source": [
    "Очень много выбросов, как в сторону завышенных значений, так и в меньшую сторону.\n",
    "Ориентируясь на диаграмму размаха, исключим из датафрейма строки, в которых стоимость кв.м. меньше 20.000 и больше 200.000 руб.\n"
   ]
  },
  {
   "cell_type": "code",
   "execution_count": 765,
   "metadata": {},
   "outputs": [
    {
     "data": {
      "text/plain": [
       "22975"
      ]
     },
     "execution_count": 765,
     "metadata": {},
     "output_type": "execute_result"
    }
   ],
   "source": [
    "data = data.drop(data.query('sq_m_price > 200000 or sq_m_price < 20000').index)\n",
    "len(data)"
   ]
  },
  {
   "cell_type": "markdown",
   "metadata": {},
   "source": [
    "Удалив выбросы по цене за кв.м., мы убрали меньше 3% данных, что является вполне приемлимым и не окажет влияния на дальнейшие исследования. "
   ]
  },
  {
   "cell_type": "code",
   "execution_count": 766,
   "metadata": {},
   "outputs": [
    {
     "data": {
      "text/plain": [
       "Text(0, 0.5, 'Частота')"
      ]
     },
     "execution_count": 766,
     "metadata": {},
     "output_type": "execute_result"
    },
    {
     "data": {
      "image/png": "[encoded data removed]",
      "text/plain": [
       "<Figure size 432x288 with 1 Axes>"
      ]
     },
     "metadata": {
      "needs_background": "light"
     },
     "output_type": "display_data"
    }
   ],
   "source": [
    "ax = (data['sq_m_price']\n",
    "      .plot(kind='hist',grid=True, title ='График распределения стоимости кв.м. жилья', range=(0,500000), bins=30))\n",
    "ax.set_xlabel('Стоимость в руб.')  \n",
    "ax.set_ylabel('Частота')"
   ]
  },
  {
   "cell_type": "markdown",
   "metadata": {},
   "source": [
    "Теперь данные выглядят гораздо однороднее, гистограмма указывает на нормальное распределение, среднее арифметическое и медиана практически равны.\n",
    "По отфильтрованным данным можно сделать вывод, что средняя цена квадратного метра в целом по Спб и области составляет 95.000 за м2, а 75% квартир имеют стоимость м2 не выше 113.000 руб."
   ]
  },
  {
   "cell_type": "markdown",
   "metadata": {},
   "source": [
    "##### 3.2\n",
    "Следующим шагом категоризируем данные о расположении квартиры в доме по этажам, присвоив всем квартирам значения: \"первый\", \"последний\" либо \"другой\"."
   ]
  },
  {
   "cell_type": "code",
   "execution_count": 767,
   "metadata": {},
   "outputs": [],
   "source": [
    "def get_floor_category(row):\n",
    "    floor = row['floor']\n",
    "    floors_total = row['floors_total']\n",
    "    if floor == 1:\n",
    "        return 'первый'\n",
    "    elif  floor == floors_total:\n",
    "        return 'последний'\n",
    "    else:\n",
    "        return 'другой'\n",
    "data['floor_category'] = data.apply(get_floor_category, axis = 1)  "
   ]
  },
  {
   "cell_type": "code",
   "execution_count": 768,
   "metadata": {},
   "outputs": [
    {
     "data": {
      "text/html": [
       "<div>\n",
       "<style scoped>\n",
       "    .dataframe tbody tr th:only-of-type {\n",
       "        vertical-align: middle;\n",
       "    }\n",
       "\n",
       "    .dataframe tbody tr th {\n",
       "        vertical-align: top;\n",
       "    }\n",
       "\n",
       "    .dataframe thead th {\n",
       "        text-align: right;\n",
       "    }\n",
       "</style>\n",
       "<table border=\"1\" class=\"dataframe\">\n",
       "  <thead>\n",
       "    <tr style=\"text-align: right;\">\n",
       "      <th></th>\n",
       "      <th>total_images</th>\n",
       "      <th>last_price</th>\n",
       "      <th>total_area</th>\n",
       "      <th>first_day_exposition</th>\n",
       "      <th>rooms</th>\n",
       "      <th>ceiling_height</th>\n",
       "      <th>floors_total</th>\n",
       "      <th>living_area</th>\n",
       "      <th>floor</th>\n",
       "      <th>is_apartment</th>\n",
       "      <th>...</th>\n",
       "      <th>airports_nearest</th>\n",
       "      <th>cityCenters_nearest</th>\n",
       "      <th>parks_around3000</th>\n",
       "      <th>parks_nearest</th>\n",
       "      <th>ponds_around3000</th>\n",
       "      <th>ponds_nearest</th>\n",
       "      <th>days_exposition</th>\n",
       "      <th>living_koef</th>\n",
       "      <th>sq_m_price</th>\n",
       "      <th>floor_category</th>\n",
       "    </tr>\n",
       "  </thead>\n",
       "  <tbody>\n",
       "    <tr>\n",
       "      <td>0</td>\n",
       "      <td>20</td>\n",
       "      <td>13000000</td>\n",
       "      <td>108</td>\n",
       "      <td>2019-03-07</td>\n",
       "      <td>3</td>\n",
       "      <td>2.70</td>\n",
       "      <td>16</td>\n",
       "      <td>51</td>\n",
       "      <td>8</td>\n",
       "      <td>False</td>\n",
       "      <td>...</td>\n",
       "      <td>18863</td>\n",
       "      <td>16028</td>\n",
       "      <td>1</td>\n",
       "      <td>482</td>\n",
       "      <td>2</td>\n",
       "      <td>755</td>\n",
       "      <td>99999</td>\n",
       "      <td>0.472222</td>\n",
       "      <td>120370.370370</td>\n",
       "      <td>другой</td>\n",
       "    </tr>\n",
       "    <tr>\n",
       "      <td>1</td>\n",
       "      <td>7</td>\n",
       "      <td>3350000</td>\n",
       "      <td>40</td>\n",
       "      <td>2018-12-04</td>\n",
       "      <td>1</td>\n",
       "      <td>2.65</td>\n",
       "      <td>11</td>\n",
       "      <td>18</td>\n",
       "      <td>1</td>\n",
       "      <td>False</td>\n",
       "      <td>...</td>\n",
       "      <td>12817</td>\n",
       "      <td>18603</td>\n",
       "      <td>0</td>\n",
       "      <td>99999</td>\n",
       "      <td>0</td>\n",
       "      <td>99999</td>\n",
       "      <td>81</td>\n",
       "      <td>0.460396</td>\n",
       "      <td>83750.000000</td>\n",
       "      <td>первый</td>\n",
       "    </tr>\n",
       "    <tr>\n",
       "      <td>2</td>\n",
       "      <td>10</td>\n",
       "      <td>5196000</td>\n",
       "      <td>56</td>\n",
       "      <td>2015-08-20</td>\n",
       "      <td>2</td>\n",
       "      <td>2.65</td>\n",
       "      <td>5</td>\n",
       "      <td>34</td>\n",
       "      <td>4</td>\n",
       "      <td>False</td>\n",
       "      <td>...</td>\n",
       "      <td>21741</td>\n",
       "      <td>13933</td>\n",
       "      <td>1</td>\n",
       "      <td>90</td>\n",
       "      <td>2</td>\n",
       "      <td>574</td>\n",
       "      <td>558</td>\n",
       "      <td>0.612500</td>\n",
       "      <td>92785.714286</td>\n",
       "      <td>другой</td>\n",
       "    </tr>\n",
       "    <tr>\n",
       "      <td>4</td>\n",
       "      <td>2</td>\n",
       "      <td>10000000</td>\n",
       "      <td>100</td>\n",
       "      <td>2018-06-19</td>\n",
       "      <td>2</td>\n",
       "      <td>3.03</td>\n",
       "      <td>14</td>\n",
       "      <td>32</td>\n",
       "      <td>13</td>\n",
       "      <td>False</td>\n",
       "      <td>...</td>\n",
       "      <td>31856</td>\n",
       "      <td>8098</td>\n",
       "      <td>2</td>\n",
       "      <td>112</td>\n",
       "      <td>1</td>\n",
       "      <td>48</td>\n",
       "      <td>121</td>\n",
       "      <td>0.320000</td>\n",
       "      <td>100000.000000</td>\n",
       "      <td>другой</td>\n",
       "    </tr>\n",
       "    <tr>\n",
       "      <td>5</td>\n",
       "      <td>10</td>\n",
       "      <td>2890000</td>\n",
       "      <td>30</td>\n",
       "      <td>2018-09-10</td>\n",
       "      <td>1</td>\n",
       "      <td>2.65</td>\n",
       "      <td>12</td>\n",
       "      <td>14</td>\n",
       "      <td>5</td>\n",
       "      <td>False</td>\n",
       "      <td>...</td>\n",
       "      <td>99999</td>\n",
       "      <td>0</td>\n",
       "      <td>99999</td>\n",
       "      <td>99999</td>\n",
       "      <td>99999</td>\n",
       "      <td>99999</td>\n",
       "      <td>55</td>\n",
       "      <td>0.473684</td>\n",
       "      <td>96333.333333</td>\n",
       "      <td>другой</td>\n",
       "    </tr>\n",
       "  </tbody>\n",
       "</table>\n",
       "<p>5 rows × 25 columns</p>\n",
       "</div>"
      ],
      "text/plain": [
       "   total_images  last_price  total_area first_day_exposition  rooms  \\\n",
       "0            20    13000000         108           2019-03-07      3   \n",
       "1             7     3350000          40           2018-12-04      1   \n",
       "2            10     5196000          56           2015-08-20      2   \n",
       "4             2    10000000         100           2018-06-19      2   \n",
       "5            10     2890000          30           2018-09-10      1   \n",
       "\n",
       "   ceiling_height  floors_total  living_area  floor is_apartment  ...  \\\n",
       "0            2.70            16           51      8        False  ...   \n",
       "1            2.65            11           18      1        False  ...   \n",
       "2            2.65             5           34      4        False  ...   \n",
       "4            3.03            14           32     13        False  ...   \n",
       "5            2.65            12           14      5        False  ...   \n",
       "\n",
       "   airports_nearest  cityCenters_nearest  parks_around3000  parks_nearest  \\\n",
       "0             18863                16028                 1            482   \n",
       "1             12817                18603                 0          99999   \n",
       "2             21741                13933                 1             90   \n",
       "4             31856                 8098                 2            112   \n",
       "5             99999                    0             99999          99999   \n",
       "\n",
       "  ponds_around3000  ponds_nearest  days_exposition  living_koef  \\\n",
       "0                2            755            99999     0.472222   \n",
       "1                0          99999               81     0.460396   \n",
       "2                2            574              558     0.612500   \n",
       "4                1             48              121     0.320000   \n",
       "5            99999          99999               55     0.473684   \n",
       "\n",
       "      sq_m_price  floor_category  \n",
       "0  120370.370370          другой  \n",
       "1   83750.000000          первый  \n",
       "2   92785.714286          другой  \n",
       "4  100000.000000          другой  \n",
       "5   96333.333333          другой  \n",
       "\n",
       "[5 rows x 25 columns]"
      ]
     },
     "execution_count": 768,
     "metadata": {},
     "output_type": "execute_result"
    }
   ],
   "source": [
    "data.head()"
   ]
  },
  {
   "cell_type": "code",
   "execution_count": 769,
   "metadata": {},
   "outputs": [
    {
     "data": {
      "text/plain": [
       "другой       16941\n",
       "последний     3196\n",
       "первый        2838\n",
       "Name: floor_category, dtype: int64"
      ]
     },
     "execution_count": 769,
     "metadata": {},
     "output_type": "execute_result"
    }
   ],
   "source": [
    "data['floor_category'].value_counts()"
   ]
  },
  {
   "cell_type": "code",
   "execution_count": 770,
   "metadata": {},
   "outputs": [
    {
     "data": {
      "text/plain": [
       "Text(0, 0.5, 'Частота')"
      ]
     },
     "execution_count": 770,
     "metadata": {},
     "output_type": "execute_result"
    },
    {
     "data": {
      "image/png": "[encoded data removed]",
      "text/plain": [
       "<Figure size 432x288 with 1 Axes>"
      ]
     },
     "metadata": {
      "needs_background": "light"
     },
     "output_type": "display_data"
    }
   ],
   "source": [
    "ax = data['floor_category'].value_counts().plot(kind='bar', grid=True)\n",
    "ax.set_title('График распределения квартир по этажам')\n",
    "ax.set_xlabel('Этаж')\n",
    "ax.set_ylabel('Частота')"
   ]
  },
  {
   "cell_type": "markdown",
   "metadata": {},
   "source": [
    "Сразу можно увидеть, что \"другие\" этажи вполне логично составляют бОльшую часть, а количество квартир на первом и последнем этажах примерно равны."
   ]
  },
  {
   "cell_type": "markdown",
   "metadata": {},
   "source": [
    "##### 3.3\n",
    "Дозаполним наш столбец с планировочным коэффициентом `living_koef` теперь, когда мы устранили пропуски в столбцах с площадью:"
   ]
  },
  {
   "cell_type": "code",
   "execution_count": 771,
   "metadata": {},
   "outputs": [],
   "source": [
    "data['living_koef'] = data['living_area'] / data['total_area']"
   ]
  },
  {
   "cell_type": "code",
   "execution_count": 772,
   "metadata": {},
   "outputs": [
    {
     "data": {
      "text/plain": [
       "0"
      ]
     },
     "execution_count": 772,
     "metadata": {},
     "output_type": "execute_result"
    }
   ],
   "source": [
    "data['living_koef'].isna().sum()"
   ]
  },
  {
   "cell_type": "code",
   "execution_count": 773,
   "metadata": {},
   "outputs": [
    {
     "data": {
      "text/plain": [
       "count    22975.000000\n",
       "mean         0.561858\n",
       "std          0.101329\n",
       "min          0.038462\n",
       "25%          0.500000\n",
       "50%          0.559211\n",
       "75%          0.629032\n",
       "max          1.000000\n",
       "Name: living_koef, dtype: float64"
      ]
     },
     "execution_count": 773,
     "metadata": {},
     "output_type": "execute_result"
    }
   ],
   "source": [
    "data['living_koef'].describe()"
   ]
  },
  {
   "cell_type": "code",
   "execution_count": 774,
   "metadata": {},
   "outputs": [
    {
     "data": {
      "text/plain": [
       "Text(0.5, 0, 'Доля жилой площади')"
      ]
     },
     "execution_count": 774,
     "metadata": {},
     "output_type": "execute_result"
    },
    {
     "data": {
      "image/png": "[encoded data removed]",
      "text/plain": [
       "<Figure size 432x288 with 1 Axes>"
      ]
     },
     "metadata": {
      "needs_background": "light"
     },
     "output_type": "display_data"
    }
   ],
   "source": [
    "ax = data['living_koef'].plot(kind='hist', bins=10, grid=True)\n",
    "ax.set_title('График распределения доли жилой площади (планировочного коэффициента)')\n",
    "ax.set_ylabel('Частота')\n",
    "ax.set_xlabel('Доля жилой площади')\n"
   ]
  },
  {
   "cell_type": "markdown",
   "metadata": {},
   "source": [
    "В подавляющем большинстве случаев жилая площадь занимает чуть больше половины квартиры.\n",
    "Среднее арифметическое и медиана практически равны, что подтверждает равномерность данных и ничтожную долю выбросов."
   ]
  },
  {
   "cell_type": "markdown",
   "metadata": {},
   "source": [
    "##### 3.4\n",
    "Теперь посмотрим, как соотносится площадь кухни к жилой площади:"
   ]
  },
  {
   "cell_type": "code",
   "execution_count": 775,
   "metadata": {},
   "outputs": [],
   "source": [
    "data['kitchen_koef'] = data['kitchen_area'] / data['total_area']"
   ]
  },
  {
   "cell_type": "code",
   "execution_count": 776,
   "metadata": {},
   "outputs": [
    {
     "data": {
      "text/html": [
       "<div>\n",
       "<style scoped>\n",
       "    .dataframe tbody tr th:only-of-type {\n",
       "        vertical-align: middle;\n",
       "    }\n",
       "\n",
       "    .dataframe tbody tr th {\n",
       "        vertical-align: top;\n",
       "    }\n",
       "\n",
       "    .dataframe thead th {\n",
       "        text-align: right;\n",
       "    }\n",
       "</style>\n",
       "<table border=\"1\" class=\"dataframe\">\n",
       "  <thead>\n",
       "    <tr style=\"text-align: right;\">\n",
       "      <th></th>\n",
       "      <th>total_images</th>\n",
       "      <th>last_price</th>\n",
       "      <th>total_area</th>\n",
       "      <th>first_day_exposition</th>\n",
       "      <th>rooms</th>\n",
       "      <th>ceiling_height</th>\n",
       "      <th>floors_total</th>\n",
       "      <th>living_area</th>\n",
       "      <th>floor</th>\n",
       "      <th>is_apartment</th>\n",
       "      <th>...</th>\n",
       "      <th>cityCenters_nearest</th>\n",
       "      <th>parks_around3000</th>\n",
       "      <th>parks_nearest</th>\n",
       "      <th>ponds_around3000</th>\n",
       "      <th>ponds_nearest</th>\n",
       "      <th>days_exposition</th>\n",
       "      <th>living_koef</th>\n",
       "      <th>sq_m_price</th>\n",
       "      <th>floor_category</th>\n",
       "      <th>kitchen_koef</th>\n",
       "    </tr>\n",
       "  </thead>\n",
       "  <tbody>\n",
       "    <tr>\n",
       "      <td>0</td>\n",
       "      <td>20</td>\n",
       "      <td>13000000</td>\n",
       "      <td>108</td>\n",
       "      <td>2019-03-07</td>\n",
       "      <td>3</td>\n",
       "      <td>2.70</td>\n",
       "      <td>16</td>\n",
       "      <td>51</td>\n",
       "      <td>8</td>\n",
       "      <td>False</td>\n",
       "      <td>...</td>\n",
       "      <td>16028</td>\n",
       "      <td>1</td>\n",
       "      <td>482</td>\n",
       "      <td>2</td>\n",
       "      <td>755</td>\n",
       "      <td>99999</td>\n",
       "      <td>0.472222</td>\n",
       "      <td>120370.370370</td>\n",
       "      <td>другой</td>\n",
       "      <td>0.231481</td>\n",
       "    </tr>\n",
       "    <tr>\n",
       "      <td>1</td>\n",
       "      <td>7</td>\n",
       "      <td>3350000</td>\n",
       "      <td>40</td>\n",
       "      <td>2018-12-04</td>\n",
       "      <td>1</td>\n",
       "      <td>2.65</td>\n",
       "      <td>11</td>\n",
       "      <td>18</td>\n",
       "      <td>1</td>\n",
       "      <td>False</td>\n",
       "      <td>...</td>\n",
       "      <td>18603</td>\n",
       "      <td>0</td>\n",
       "      <td>99999</td>\n",
       "      <td>0</td>\n",
       "      <td>99999</td>\n",
       "      <td>81</td>\n",
       "      <td>0.450000</td>\n",
       "      <td>83750.000000</td>\n",
       "      <td>первый</td>\n",
       "      <td>0.275000</td>\n",
       "    </tr>\n",
       "    <tr>\n",
       "      <td>2</td>\n",
       "      <td>10</td>\n",
       "      <td>5196000</td>\n",
       "      <td>56</td>\n",
       "      <td>2015-08-20</td>\n",
       "      <td>2</td>\n",
       "      <td>2.65</td>\n",
       "      <td>5</td>\n",
       "      <td>34</td>\n",
       "      <td>4</td>\n",
       "      <td>False</td>\n",
       "      <td>...</td>\n",
       "      <td>13933</td>\n",
       "      <td>1</td>\n",
       "      <td>90</td>\n",
       "      <td>2</td>\n",
       "      <td>574</td>\n",
       "      <td>558</td>\n",
       "      <td>0.607143</td>\n",
       "      <td>92785.714286</td>\n",
       "      <td>другой</td>\n",
       "      <td>0.142857</td>\n",
       "    </tr>\n",
       "    <tr>\n",
       "      <td>4</td>\n",
       "      <td>2</td>\n",
       "      <td>10000000</td>\n",
       "      <td>100</td>\n",
       "      <td>2018-06-19</td>\n",
       "      <td>2</td>\n",
       "      <td>3.03</td>\n",
       "      <td>14</td>\n",
       "      <td>32</td>\n",
       "      <td>13</td>\n",
       "      <td>False</td>\n",
       "      <td>...</td>\n",
       "      <td>8098</td>\n",
       "      <td>2</td>\n",
       "      <td>112</td>\n",
       "      <td>1</td>\n",
       "      <td>48</td>\n",
       "      <td>121</td>\n",
       "      <td>0.320000</td>\n",
       "      <td>100000.000000</td>\n",
       "      <td>другой</td>\n",
       "      <td>0.410000</td>\n",
       "    </tr>\n",
       "    <tr>\n",
       "      <td>5</td>\n",
       "      <td>10</td>\n",
       "      <td>2890000</td>\n",
       "      <td>30</td>\n",
       "      <td>2018-09-10</td>\n",
       "      <td>1</td>\n",
       "      <td>2.65</td>\n",
       "      <td>12</td>\n",
       "      <td>14</td>\n",
       "      <td>5</td>\n",
       "      <td>False</td>\n",
       "      <td>...</td>\n",
       "      <td>0</td>\n",
       "      <td>99999</td>\n",
       "      <td>99999</td>\n",
       "      <td>99999</td>\n",
       "      <td>99999</td>\n",
       "      <td>55</td>\n",
       "      <td>0.466667</td>\n",
       "      <td>96333.333333</td>\n",
       "      <td>другой</td>\n",
       "      <td>0.300000</td>\n",
       "    </tr>\n",
       "  </tbody>\n",
       "</table>\n",
       "<p>5 rows × 26 columns</p>\n",
       "</div>"
      ],
      "text/plain": [
       "   total_images  last_price  total_area first_day_exposition  rooms  \\\n",
       "0            20    13000000         108           2019-03-07      3   \n",
       "1             7     3350000          40           2018-12-04      1   \n",
       "2            10     5196000          56           2015-08-20      2   \n",
       "4             2    10000000         100           2018-06-19      2   \n",
       "5            10     2890000          30           2018-09-10      1   \n",
       "\n",
       "   ceiling_height  floors_total  living_area  floor is_apartment  ...  \\\n",
       "0            2.70            16           51      8        False  ...   \n",
       "1            2.65            11           18      1        False  ...   \n",
       "2            2.65             5           34      4        False  ...   \n",
       "4            3.03            14           32     13        False  ...   \n",
       "5            2.65            12           14      5        False  ...   \n",
       "\n",
       "   cityCenters_nearest  parks_around3000  parks_nearest  ponds_around3000  \\\n",
       "0                16028                 1            482                 2   \n",
       "1                18603                 0          99999                 0   \n",
       "2                13933                 1             90                 2   \n",
       "4                 8098                 2            112                 1   \n",
       "5                    0             99999          99999             99999   \n",
       "\n",
       "  ponds_nearest  days_exposition  living_koef     sq_m_price  floor_category  \\\n",
       "0           755            99999     0.472222  120370.370370          другой   \n",
       "1         99999               81     0.450000   83750.000000          первый   \n",
       "2           574              558     0.607143   92785.714286          другой   \n",
       "4            48              121     0.320000  100000.000000          другой   \n",
       "5         99999               55     0.466667   96333.333333          другой   \n",
       "\n",
       "   kitchen_koef  \n",
       "0      0.231481  \n",
       "1      0.275000  \n",
       "2      0.142857  \n",
       "4      0.410000  \n",
       "5      0.300000  \n",
       "\n",
       "[5 rows x 26 columns]"
      ]
     },
     "execution_count": 776,
     "metadata": {},
     "output_type": "execute_result"
    }
   ],
   "source": [
    "data.head()"
   ]
  },
  {
   "cell_type": "code",
   "execution_count": 777,
   "metadata": {},
   "outputs": [
    {
     "data": {
      "text/plain": [
       "count    22975.000000\n",
       "mean         0.185644\n",
       "std          0.074925\n",
       "min          0.018219\n",
       "25%          0.130435\n",
       "50%          0.166667\n",
       "75%          0.230769\n",
       "max          0.787879\n",
       "Name: kitchen_koef, dtype: float64"
      ]
     },
     "execution_count": 777,
     "metadata": {},
     "output_type": "execute_result"
    }
   ],
   "source": [
    "data['kitchen_koef'].describe()"
   ]
  },
  {
   "cell_type": "code",
   "execution_count": 778,
   "metadata": {},
   "outputs": [
    {
     "data": {
      "text/plain": [
       "Text(0.5, 0, 'Доля площади кухни')"
      ]
     },
     "execution_count": 778,
     "metadata": {},
     "output_type": "execute_result"
    },
    {
     "data": {
      "image/png": "[encoded data removed]",
      "text/plain": [
       "<Figure size 432x288 with 1 Axes>"
      ]
     },
     "metadata": {
      "needs_background": "light"
     },
     "output_type": "display_data"
    }
   ],
   "source": [
    "ax = data['kitchen_koef'].plot(kind='hist', grid=True, bins=10,title='График распределения доли площади кухни от общей площади')\n",
    "ax.set_ylabel('Частота')\n",
    "ax.set_xlabel('Доля площади кухни')"
   ]
  },
  {
   "cell_type": "markdown",
   "metadata": {},
   "source": [
    "Даже с учетом разной площади квартир, соотношение площади кухни и общей площади не имеет очевидных выбросов, величина стандартного отклонения очень мала."
   ]
  },
  {
   "cell_type": "markdown",
   "metadata": {},
   "source": [
    "##### 3.5\n",
    "Следующим шагом получим максимум информации из столбца `first_day_exposition`\n",
    "Вычислим из этой даты дни недели, месяцы  и года."
   ]
  },
  {
   "cell_type": "code",
   "execution_count": 779,
   "metadata": {},
   "outputs": [],
   "source": [
    "data['weekday'] = data['first_day_exposition'].dt.weekday"
   ]
  },
  {
   "cell_type": "code",
   "execution_count": 780,
   "metadata": {},
   "outputs": [],
   "source": [
    "data['month'] = data['first_day_exposition'].values.astype('datetime64[M]')"
   ]
  },
  {
   "cell_type": "code",
   "execution_count": 781,
   "metadata": {},
   "outputs": [],
   "source": [
    "data['year'] = data['first_day_exposition'].dt.year"
   ]
  },
  {
   "cell_type": "code",
   "execution_count": 782,
   "metadata": {},
   "outputs": [
    {
     "data": {
      "text/html": [
       "<div>\n",
       "<style scoped>\n",
       "    .dataframe tbody tr th:only-of-type {\n",
       "        vertical-align: middle;\n",
       "    }\n",
       "\n",
       "    .dataframe tbody tr th {\n",
       "        vertical-align: top;\n",
       "    }\n",
       "\n",
       "    .dataframe thead th {\n",
       "        text-align: right;\n",
       "    }\n",
       "</style>\n",
       "<table border=\"1\" class=\"dataframe\">\n",
       "  <thead>\n",
       "    <tr style=\"text-align: right;\">\n",
       "      <th></th>\n",
       "      <th>total_images</th>\n",
       "      <th>last_price</th>\n",
       "      <th>total_area</th>\n",
       "      <th>first_day_exposition</th>\n",
       "      <th>rooms</th>\n",
       "      <th>ceiling_height</th>\n",
       "      <th>floors_total</th>\n",
       "      <th>living_area</th>\n",
       "      <th>floor</th>\n",
       "      <th>is_apartment</th>\n",
       "      <th>...</th>\n",
       "      <th>ponds_around3000</th>\n",
       "      <th>ponds_nearest</th>\n",
       "      <th>days_exposition</th>\n",
       "      <th>living_koef</th>\n",
       "      <th>sq_m_price</th>\n",
       "      <th>floor_category</th>\n",
       "      <th>kitchen_koef</th>\n",
       "      <th>weekday</th>\n",
       "      <th>month</th>\n",
       "      <th>year</th>\n",
       "    </tr>\n",
       "  </thead>\n",
       "  <tbody>\n",
       "    <tr>\n",
       "      <td>0</td>\n",
       "      <td>20</td>\n",
       "      <td>13000000</td>\n",
       "      <td>108</td>\n",
       "      <td>2019-03-07</td>\n",
       "      <td>3</td>\n",
       "      <td>2.70</td>\n",
       "      <td>16</td>\n",
       "      <td>51</td>\n",
       "      <td>8</td>\n",
       "      <td>False</td>\n",
       "      <td>...</td>\n",
       "      <td>2</td>\n",
       "      <td>755</td>\n",
       "      <td>99999</td>\n",
       "      <td>0.472222</td>\n",
       "      <td>120370.370370</td>\n",
       "      <td>другой</td>\n",
       "      <td>0.231481</td>\n",
       "      <td>3</td>\n",
       "      <td>2019-03-01</td>\n",
       "      <td>2019</td>\n",
       "    </tr>\n",
       "    <tr>\n",
       "      <td>1</td>\n",
       "      <td>7</td>\n",
       "      <td>3350000</td>\n",
       "      <td>40</td>\n",
       "      <td>2018-12-04</td>\n",
       "      <td>1</td>\n",
       "      <td>2.65</td>\n",
       "      <td>11</td>\n",
       "      <td>18</td>\n",
       "      <td>1</td>\n",
       "      <td>False</td>\n",
       "      <td>...</td>\n",
       "      <td>0</td>\n",
       "      <td>99999</td>\n",
       "      <td>81</td>\n",
       "      <td>0.450000</td>\n",
       "      <td>83750.000000</td>\n",
       "      <td>первый</td>\n",
       "      <td>0.275000</td>\n",
       "      <td>1</td>\n",
       "      <td>2018-12-01</td>\n",
       "      <td>2018</td>\n",
       "    </tr>\n",
       "    <tr>\n",
       "      <td>2</td>\n",
       "      <td>10</td>\n",
       "      <td>5196000</td>\n",
       "      <td>56</td>\n",
       "      <td>2015-08-20</td>\n",
       "      <td>2</td>\n",
       "      <td>2.65</td>\n",
       "      <td>5</td>\n",
       "      <td>34</td>\n",
       "      <td>4</td>\n",
       "      <td>False</td>\n",
       "      <td>...</td>\n",
       "      <td>2</td>\n",
       "      <td>574</td>\n",
       "      <td>558</td>\n",
       "      <td>0.607143</td>\n",
       "      <td>92785.714286</td>\n",
       "      <td>другой</td>\n",
       "      <td>0.142857</td>\n",
       "      <td>3</td>\n",
       "      <td>2015-08-01</td>\n",
       "      <td>2015</td>\n",
       "    </tr>\n",
       "    <tr>\n",
       "      <td>4</td>\n",
       "      <td>2</td>\n",
       "      <td>10000000</td>\n",
       "      <td>100</td>\n",
       "      <td>2018-06-19</td>\n",
       "      <td>2</td>\n",
       "      <td>3.03</td>\n",
       "      <td>14</td>\n",
       "      <td>32</td>\n",
       "      <td>13</td>\n",
       "      <td>False</td>\n",
       "      <td>...</td>\n",
       "      <td>1</td>\n",
       "      <td>48</td>\n",
       "      <td>121</td>\n",
       "      <td>0.320000</td>\n",
       "      <td>100000.000000</td>\n",
       "      <td>другой</td>\n",
       "      <td>0.410000</td>\n",
       "      <td>1</td>\n",
       "      <td>2018-06-01</td>\n",
       "      <td>2018</td>\n",
       "    </tr>\n",
       "    <tr>\n",
       "      <td>5</td>\n",
       "      <td>10</td>\n",
       "      <td>2890000</td>\n",
       "      <td>30</td>\n",
       "      <td>2018-09-10</td>\n",
       "      <td>1</td>\n",
       "      <td>2.65</td>\n",
       "      <td>12</td>\n",
       "      <td>14</td>\n",
       "      <td>5</td>\n",
       "      <td>False</td>\n",
       "      <td>...</td>\n",
       "      <td>99999</td>\n",
       "      <td>99999</td>\n",
       "      <td>55</td>\n",
       "      <td>0.466667</td>\n",
       "      <td>96333.333333</td>\n",
       "      <td>другой</td>\n",
       "      <td>0.300000</td>\n",
       "      <td>0</td>\n",
       "      <td>2018-09-01</td>\n",
       "      <td>2018</td>\n",
       "    </tr>\n",
       "  </tbody>\n",
       "</table>\n",
       "<p>5 rows × 29 columns</p>\n",
       "</div>"
      ],
      "text/plain": [
       "   total_images  last_price  total_area first_day_exposition  rooms  \\\n",
       "0            20    13000000         108           2019-03-07      3   \n",
       "1             7     3350000          40           2018-12-04      1   \n",
       "2            10     5196000          56           2015-08-20      2   \n",
       "4             2    10000000         100           2018-06-19      2   \n",
       "5            10     2890000          30           2018-09-10      1   \n",
       "\n",
       "   ceiling_height  floors_total  living_area  floor is_apartment  ...  \\\n",
       "0            2.70            16           51      8        False  ...   \n",
       "1            2.65            11           18      1        False  ...   \n",
       "2            2.65             5           34      4        False  ...   \n",
       "4            3.03            14           32     13        False  ...   \n",
       "5            2.65            12           14      5        False  ...   \n",
       "\n",
       "   ponds_around3000  ponds_nearest  days_exposition  living_koef  \\\n",
       "0                 2            755            99999     0.472222   \n",
       "1                 0          99999               81     0.450000   \n",
       "2                 2            574              558     0.607143   \n",
       "4                 1             48              121     0.320000   \n",
       "5             99999          99999               55     0.466667   \n",
       "\n",
       "      sq_m_price  floor_category  kitchen_koef  weekday      month  year  \n",
       "0  120370.370370          другой      0.231481        3 2019-03-01  2019  \n",
       "1   83750.000000          первый      0.275000        1 2018-12-01  2018  \n",
       "2   92785.714286          другой      0.142857        3 2015-08-01  2015  \n",
       "4  100000.000000          другой      0.410000        1 2018-06-01  2018  \n",
       "5   96333.333333          другой      0.300000        0 2018-09-01  2018  \n",
       "\n",
       "[5 rows x 29 columns]"
      ]
     },
     "execution_count": 782,
     "metadata": {},
     "output_type": "execute_result"
    }
   ],
   "source": [
    "data.head()"
   ]
  },
  {
   "cell_type": "code",
   "execution_count": 783,
   "metadata": {},
   "outputs": [
    {
     "data": {
      "text/plain": [
       "year\n",
       "2014     126\n",
       "2015    1126\n",
       "2016    2666\n",
       "2017    7970\n",
       "2018    8299\n",
       "2019    2788\n",
       "Name: total_area, dtype: int64"
      ]
     },
     "execution_count": 783,
     "metadata": {},
     "output_type": "execute_result"
    }
   ],
   "source": [
    "data.groupby('year')['total_area'].count()\n"
   ]
  },
  {
   "cell_type": "code",
   "execution_count": 784,
   "metadata": {},
   "outputs": [
    {
     "data": {
      "text/plain": [
       "Text(0, 0.5, 'Количество объявлений')"
      ]
     },
     "execution_count": 784,
     "metadata": {},
     "output_type": "execute_result"
    },
    {
     "data": {
      "image/png": "[encoded data removed]",
      "text/plain": [
       "<Figure size 432x288 with 1 Axes>"
      ]
     },
     "metadata": {
      "needs_background": "light"
     },
     "output_type": "display_data"
    }
   ],
   "source": [
    "ax = data.groupby('year')['total_area'].count().plot(grid=True)\n",
    "ax.set_title('Динамика изменения количества объявлений по годам размещения')\n",
    "plt.xlabel('Год', axes=ax)\n",
    "plt.ylabel('Количество объявлений', axes=ax)"
   ]
  },
  {
   "cell_type": "markdown",
   "metadata": {},
   "source": [
    "Можем сразу посмотреть, сколько объявлений размещается на сервисе Яндекс.Недвижимость ежегодно.\n",
    "За первые три года виден активный рост популярности сервиса, число объявление возрастало в разы. \n",
    "\n",
    "В 2018 году портал еще немного улучшил показатели предыдущего года. Малое число объявлений за 2019г обусловлено тем, что статистика приведена за неполный период.\n",
    "Проверим это предположение:"
   ]
  },
  {
   "cell_type": "code",
   "execution_count": 785,
   "metadata": {},
   "outputs": [
    {
     "data": {
      "text/plain": [
       "Timestamp('2019-05-03 00:00:00')"
      ]
     },
     "execution_count": 785,
     "metadata": {},
     "output_type": "execute_result"
    }
   ],
   "source": [
    "data['first_day_exposition'].max()"
   ]
  },
  {
   "cell_type": "markdown",
   "metadata": {},
   "source": [
    "Так и есть, последнее объявление размещено в мае 2019, т.е. полной картины за год мы еще не имеем.\n",
    "Но в среднем тенденция такова, что количество объявлений в 2019 году вряд ли превысит показатели прошлых лет, т.к. за 5 месяцев года набрана только треть объявлений от сумым за 2018г."
   ]
  },
  {
   "cell_type": "markdown",
   "metadata": {},
   "source": [
    "#### Вывод\n",
    "\n",
    "В данном разделе мы \n",
    "- рассчитали необходимые дополнительные параметры, которые помогут определить факторы влияния на стоимость недвижимости;\n",
    "- категоризировали разрозненные данные о расположении квартир по этажам;\n",
    "- избавились от выбросов в цене за квадратный метр\n",
    "- подготовили данные для подробного анализа взаимосвязей между параметрами и их влияния на стоимость квартиры."
   ]
  },
  {
   "cell_type": "markdown",
   "metadata": {},
   "source": [
    "### 4. Исследовательский анализ данных \n",
    "<a id=\"4\"></a>"
   ]
  },
  {
   "cell_type": "markdown",
   "metadata": {},
   "source": [
    "##### Площадь квартир"
   ]
  },
  {
   "cell_type": "code",
   "execution_count": 786,
   "metadata": {},
   "outputs": [
    {
     "data": {
      "text/plain": [
       "Text(0.5, 0, 'Площадь квартиры')"
      ]
     },
     "execution_count": 786,
     "metadata": {},
     "output_type": "execute_result"
    },
    {
     "data": {
      "image/png": "[encoded data removed]",
      "text/plain": [
       "<Figure size 432x288 with 1 Axes>"
      ]
     },
     "metadata": {
      "needs_background": "light"
     },
     "output_type": "display_data"
    }
   ],
   "source": [
    "ax = data['total_area'].plot(kind='hist', bins=10,title='График распределения площади квартир' , grid=True)\n",
    "ax.set_ylabel('Частота')\n",
    "ax.set_xlabel('Площадь квартиры')"
   ]
  },
  {
   "cell_type": "code",
   "execution_count": 787,
   "metadata": {},
   "outputs": [
    {
     "data": {
      "text/plain": [
       "count    22975.000000\n",
       "mean        58.574929\n",
       "std         31.772591\n",
       "min         12.000000\n",
       "25%         40.000000\n",
       "50%         51.000000\n",
       "75%         68.000000\n",
       "max        590.000000\n",
       "Name: total_area, dtype: float64"
      ]
     },
     "execution_count": 787,
     "metadata": {},
     "output_type": "execute_result"
    }
   ],
   "source": [
    "data['total_area'].describe()"
   ]
  },
  {
   "cell_type": "markdown",
   "metadata": {},
   "source": [
    "Величина стандартного отклонения довольно велика, а минимальное и максимальное значения отличаются в десятки раз.\n",
    "Постоим диаграмма размаха, чтобы наглядно увидеть выбивающиеся значения:"
   ]
  },
  {
   "cell_type": "code",
   "execution_count": 788,
   "metadata": {},
   "outputs": [
    {
     "data": {
      "text/plain": [
       "(0, 400)"
      ]
     },
     "execution_count": 788,
     "metadata": {},
     "output_type": "execute_result"
    },
    {
     "data": {
      "image/png": "[encoded data removed]",
      "text/plain": [
       "<Figure size 432x288 with 1 Axes>"
      ]
     },
     "metadata": {
      "needs_background": "light"
     },
     "output_type": "display_data"
    }
   ],
   "source": [
    "data.boxplot('total_area')\n",
    "plt.ylim(0,400)\n"
   ]
  },
  {
   "cell_type": "code",
   "execution_count": 789,
   "metadata": {},
   "outputs": [
    {
     "data": {
      "text/html": [
       "<div>\n",
       "<style scoped>\n",
       "    .dataframe tbody tr th:only-of-type {\n",
       "        vertical-align: middle;\n",
       "    }\n",
       "\n",
       "    .dataframe tbody tr th {\n",
       "        vertical-align: top;\n",
       "    }\n",
       "\n",
       "    .dataframe thead th {\n",
       "        text-align: right;\n",
       "    }\n",
       "</style>\n",
       "<table border=\"1\" class=\"dataframe\">\n",
       "  <thead>\n",
       "    <tr style=\"text-align: right;\">\n",
       "      <th></th>\n",
       "      <th>mean</th>\n",
       "      <th>count</th>\n",
       "    </tr>\n",
       "    <tr>\n",
       "      <th>rooms</th>\n",
       "      <th></th>\n",
       "      <th></th>\n",
       "    </tr>\n",
       "  </thead>\n",
       "  <tbody>\n",
       "    <tr>\n",
       "      <td>1</td>\n",
       "      <td>37.097924</td>\n",
       "      <td>8139</td>\n",
       "    </tr>\n",
       "    <tr>\n",
       "      <td>2</td>\n",
       "      <td>55.156509</td>\n",
       "      <td>7712</td>\n",
       "    </tr>\n",
       "    <tr>\n",
       "      <td>3</td>\n",
       "      <td>76.199031</td>\n",
       "      <td>5572</td>\n",
       "    </tr>\n",
       "    <tr>\n",
       "      <td>4</td>\n",
       "      <td>102.986264</td>\n",
       "      <td>1092</td>\n",
       "    </tr>\n",
       "    <tr>\n",
       "      <td>5</td>\n",
       "      <td>152.010309</td>\n",
       "      <td>291</td>\n",
       "    </tr>\n",
       "    <tr>\n",
       "      <td>6</td>\n",
       "      <td>190.780220</td>\n",
       "      <td>91</td>\n",
       "    </tr>\n",
       "    <tr>\n",
       "      <td>7</td>\n",
       "      <td>239.980392</td>\n",
       "      <td>51</td>\n",
       "    </tr>\n",
       "    <tr>\n",
       "      <td>8</td>\n",
       "      <td>253.200000</td>\n",
       "      <td>10</td>\n",
       "    </tr>\n",
       "    <tr>\n",
       "      <td>9</td>\n",
       "      <td>292.285714</td>\n",
       "      <td>7</td>\n",
       "    </tr>\n",
       "    <tr>\n",
       "      <td>10</td>\n",
       "      <td>259.333333</td>\n",
       "      <td>3</td>\n",
       "    </tr>\n",
       "    <tr>\n",
       "      <td>11</td>\n",
       "      <td>188.500000</td>\n",
       "      <td>2</td>\n",
       "    </tr>\n",
       "    <tr>\n",
       "      <td>14</td>\n",
       "      <td>304.000000</td>\n",
       "      <td>2</td>\n",
       "    </tr>\n",
       "    <tr>\n",
       "      <td>15</td>\n",
       "      <td>590.000000</td>\n",
       "      <td>1</td>\n",
       "    </tr>\n",
       "    <tr>\n",
       "      <td>16</td>\n",
       "      <td>270.000000</td>\n",
       "      <td>1</td>\n",
       "    </tr>\n",
       "    <tr>\n",
       "      <td>19</td>\n",
       "      <td>374.000000</td>\n",
       "      <td>1</td>\n",
       "    </tr>\n",
       "  </tbody>\n",
       "</table>\n",
       "</div>"
      ],
      "text/plain": [
       "             mean  count\n",
       "rooms                   \n",
       "1       37.097924   8139\n",
       "2       55.156509   7712\n",
       "3       76.199031   5572\n",
       "4      102.986264   1092\n",
       "5      152.010309    291\n",
       "6      190.780220     91\n",
       "7      239.980392     51\n",
       "8      253.200000     10\n",
       "9      292.285714      7\n",
       "10     259.333333      3\n",
       "11     188.500000      2\n",
       "14     304.000000      2\n",
       "15     590.000000      1\n",
       "16     270.000000      1\n",
       "19     374.000000      1"
      ]
     },
     "execution_count": 789,
     "metadata": {},
     "output_type": "execute_result"
    }
   ],
   "source": [
    "data.groupby('rooms')['total_area'].agg(['mean','count'])"
   ]
  },
  {
   "cell_type": "markdown",
   "metadata": {},
   "source": [
    "По диаграмме и группировке (относительно числа комнат) становится очевидно наличие выбросов по квартирам, площадью больше 115 кв.м. Этих квартир мало в численном эквиваленте, но их площади доходят до 590кв.м., что может сильно исказить общие сведения по нашей базе.\n",
    "Избавимся от этих данных в нашем датафрейме:"
   ]
  },
  {
   "cell_type": "code",
   "execution_count": 790,
   "metadata": {},
   "outputs": [
    {
     "data": {
      "text/plain": [
       "22015"
      ]
     },
     "execution_count": 790,
     "metadata": {},
     "output_type": "execute_result"
    }
   ],
   "source": [
    "data = data.drop(data.query('total_area > 115').index)\n",
    "len(data)"
   ]
  },
  {
   "cell_type": "code",
   "execution_count": 791,
   "metadata": {},
   "outputs": [
    {
     "data": {
      "text/plain": [
       "count    22015.000000\n",
       "mean        53.943584\n",
       "std         19.314224\n",
       "min         12.000000\n",
       "25%         39.000000\n",
       "50%         50.000000\n",
       "75%         65.000000\n",
       "max        115.000000\n",
       "Name: total_area, dtype: float64"
      ]
     },
     "execution_count": 791,
     "metadata": {},
     "output_type": "execute_result"
    }
   ],
   "source": [
    "data['total_area'].describe()"
   ]
  },
  {
   "cell_type": "code",
   "execution_count": 792,
   "metadata": {},
   "outputs": [
    {
     "data": {
      "text/plain": [
       "50.0"
      ]
     },
     "execution_count": 792,
     "metadata": {},
     "output_type": "execute_result"
    }
   ],
   "source": [
    "data['total_area'].median()"
   ]
  },
  {
   "cell_type": "code",
   "execution_count": 793,
   "metadata": {},
   "outputs": [
    {
     "data": {
      "text/html": [
       "<div>\n",
       "<style scoped>\n",
       "    .dataframe tbody tr th:only-of-type {\n",
       "        vertical-align: middle;\n",
       "    }\n",
       "\n",
       "    .dataframe tbody tr th {\n",
       "        vertical-align: top;\n",
       "    }\n",
       "\n",
       "    .dataframe thead th {\n",
       "        text-align: right;\n",
       "    }\n",
       "</style>\n",
       "<table border=\"1\" class=\"dataframe\">\n",
       "  <thead>\n",
       "    <tr style=\"text-align: right;\">\n",
       "      <th></th>\n",
       "      <th>mean</th>\n",
       "      <th>count</th>\n",
       "    </tr>\n",
       "    <tr>\n",
       "      <th>rooms</th>\n",
       "      <th></th>\n",
       "      <th></th>\n",
       "    </tr>\n",
       "  </thead>\n",
       "  <tbody>\n",
       "    <tr>\n",
       "      <td>1</td>\n",
       "      <td>36.989676</td>\n",
       "      <td>8136</td>\n",
       "    </tr>\n",
       "    <tr>\n",
       "      <td>2</td>\n",
       "      <td>54.970883</td>\n",
       "      <td>7693</td>\n",
       "    </tr>\n",
       "    <tr>\n",
       "      <td>3</td>\n",
       "      <td>73.147967</td>\n",
       "      <td>5312</td>\n",
       "    </tr>\n",
       "    <tr>\n",
       "      <td>4</td>\n",
       "      <td>84.765526</td>\n",
       "      <td>789</td>\n",
       "    </tr>\n",
       "    <tr>\n",
       "      <td>5</td>\n",
       "      <td>97.066667</td>\n",
       "      <td>75</td>\n",
       "    </tr>\n",
       "    <tr>\n",
       "      <td>6</td>\n",
       "      <td>100.777778</td>\n",
       "      <td>9</td>\n",
       "    </tr>\n",
       "    <tr>\n",
       "      <td>7</td>\n",
       "      <td>100.000000</td>\n",
       "      <td>1</td>\n",
       "    </tr>\n",
       "  </tbody>\n",
       "</table>\n",
       "</div>"
      ],
      "text/plain": [
       "             mean  count\n",
       "rooms                   \n",
       "1       36.989676   8136\n",
       "2       54.970883   7693\n",
       "3       73.147967   5312\n",
       "4       84.765526    789\n",
       "5       97.066667     75\n",
       "6      100.777778      9\n",
       "7      100.000000      1"
      ]
     },
     "execution_count": 793,
     "metadata": {},
     "output_type": "execute_result"
    }
   ],
   "source": [
    "data.groupby('rooms')['total_area'].agg(['mean','count'])"
   ]
  },
  {
   "cell_type": "markdown",
   "metadata": {},
   "source": [
    "Мы удалили ~3% данных, избавились от одиночных завышенных значений. Теперь медиана практически равна среднему арифметическому, что подтверждает однородность данных."
   ]
  },
  {
   "cell_type": "markdown",
   "metadata": {},
   "source": [
    "##### Итоговая стоимость квартиры\n",
    "\n",
    "Изучим параметр итоговой стоимости квартир:"
   ]
  },
  {
   "cell_type": "code",
   "execution_count": 794,
   "metadata": {},
   "outputs": [
    {
     "data": {
      "text/html": [
       "<div>\n",
       "<style scoped>\n",
       "    .dataframe tbody tr th:only-of-type {\n",
       "        vertical-align: middle;\n",
       "    }\n",
       "\n",
       "    .dataframe tbody tr th {\n",
       "        vertical-align: top;\n",
       "    }\n",
       "\n",
       "    .dataframe thead th {\n",
       "        text-align: right;\n",
       "    }\n",
       "</style>\n",
       "<table border=\"1\" class=\"dataframe\">\n",
       "  <thead>\n",
       "    <tr style=\"text-align: right;\">\n",
       "      <th></th>\n",
       "      <th>mean</th>\n",
       "      <th>count</th>\n",
       "    </tr>\n",
       "    <tr>\n",
       "      <th>rooms</th>\n",
       "      <th></th>\n",
       "      <th></th>\n",
       "    </tr>\n",
       "  </thead>\n",
       "  <tbody>\n",
       "    <tr>\n",
       "      <td>1</td>\n",
       "      <td>3746138</td>\n",
       "      <td>8136</td>\n",
       "    </tr>\n",
       "    <tr>\n",
       "      <td>2</td>\n",
       "      <td>5262321</td>\n",
       "      <td>7693</td>\n",
       "    </tr>\n",
       "    <tr>\n",
       "      <td>3</td>\n",
       "      <td>6748604</td>\n",
       "      <td>5312</td>\n",
       "    </tr>\n",
       "    <tr>\n",
       "      <td>4</td>\n",
       "      <td>7557786</td>\n",
       "      <td>789</td>\n",
       "    </tr>\n",
       "    <tr>\n",
       "      <td>5</td>\n",
       "      <td>8038133</td>\n",
       "      <td>75</td>\n",
       "    </tr>\n",
       "    <tr>\n",
       "      <td>6</td>\n",
       "      <td>11272777</td>\n",
       "      <td>9</td>\n",
       "    </tr>\n",
       "    <tr>\n",
       "      <td>7</td>\n",
       "      <td>13490000</td>\n",
       "      <td>1</td>\n",
       "    </tr>\n",
       "  </tbody>\n",
       "</table>\n",
       "</div>"
      ],
      "text/plain": [
       "           mean  count\n",
       "rooms                 \n",
       "1       3746138   8136\n",
       "2       5262321   7693\n",
       "3       6748604   5312\n",
       "4       7557786    789\n",
       "5       8038133     75\n",
       "6      11272777      9\n",
       "7      13490000      1"
      ]
     },
     "execution_count": 794,
     "metadata": {},
     "output_type": "execute_result"
    }
   ],
   "source": [
    "data.groupby('rooms')['last_price'].agg(['mean', 'count']).astype(int)"
   ]
  },
  {
   "cell_type": "code",
   "execution_count": 795,
   "metadata": {},
   "outputs": [
    {
     "data": {
      "text/plain": [
       "<matplotlib.axes._subplots.AxesSubplot at 0x7fd26f40cfd0>"
      ]
     },
     "execution_count": 795,
     "metadata": {},
     "output_type": "execute_result"
    },
    {
     "data": {
      "image/png": "[encoded data removed]",
      "text/plain": [
       "<Figure size 432x288 with 1 Axes>"
      ]
     },
     "metadata": {
      "needs_background": "light"
     },
     "output_type": "display_data"
    }
   ],
   "source": [
    "data.boxplot('last_price')"
   ]
  },
  {
   "cell_type": "code",
   "execution_count": 796,
   "metadata": {},
   "outputs": [
    {
     "data": {
      "text/plain": [
       "count       22015\n",
       "mean      5155171\n",
       "std       2747991\n",
       "min        550000\n",
       "25%       3390000\n",
       "50%       4500000\n",
       "75%       6200000\n",
       "max      22400000\n",
       "Name: last_price, dtype: int64"
      ]
     },
     "execution_count": 796,
     "metadata": {},
     "output_type": "execute_result"
    }
   ],
   "source": [
    "data.last_price.describe().astype(int)"
   ]
  },
  {
   "cell_type": "markdown",
   "metadata": {},
   "source": [
    "Судя по диаграмме размаха и подсчету основных показателей, в этой графе выбросами являются квартиры стоимостью свыше 11 млн. рублей (есть даже стоимость в 22млн.) и от этих завышенных значений лучше избавиться:\n"
   ]
  },
  {
   "cell_type": "code",
   "execution_count": 797,
   "metadata": {},
   "outputs": [
    {
     "data": {
      "text/plain": [
       "21048"
      ]
     },
     "execution_count": 797,
     "metadata": {},
     "output_type": "execute_result"
    }
   ],
   "source": [
    "data = data.drop(data.query('last_price > 11000000').index)\n",
    "len(data)"
   ]
  },
  {
   "cell_type": "code",
   "execution_count": 798,
   "metadata": {},
   "outputs": [
    {
     "data": {
      "text/plain": [
       "Text(0, 0.5, 'Частота')"
      ]
     },
     "execution_count": 798,
     "metadata": {},
     "output_type": "execute_result"
    },
    {
     "data": {
      "image/png": "[encoded data removed]",
      "text/plain": [
       "<Figure size 432x288 with 1 Axes>"
      ]
     },
     "metadata": {
      "needs_background": "light"
     },
     "output_type": "display_data"
    }
   ],
   "source": [
    "ax = (data['last_price']\n",
    "      .plot(kind='hist',title='График распределения стоимости квартиры', range=(0,11000000),grid=True, bins=30))\n",
    "plt.xlabel('Стоимость квартиры', axes=ax)\n",
    "plt.ylabel('Частота', axes=ax)\n"
   ]
  },
  {
   "cell_type": "code",
   "execution_count": 799,
   "metadata": {},
   "outputs": [
    {
     "data": {
      "text/html": [
       "<div>\n",
       "<style scoped>\n",
       "    .dataframe tbody tr th:only-of-type {\n",
       "        vertical-align: middle;\n",
       "    }\n",
       "\n",
       "    .dataframe tbody tr th {\n",
       "        vertical-align: top;\n",
       "    }\n",
       "\n",
       "    .dataframe thead th {\n",
       "        text-align: right;\n",
       "    }\n",
       "</style>\n",
       "<table border=\"1\" class=\"dataframe\">\n",
       "  <thead>\n",
       "    <tr style=\"text-align: right;\">\n",
       "      <th></th>\n",
       "      <th>mean</th>\n",
       "      <th>count</th>\n",
       "    </tr>\n",
       "    <tr>\n",
       "      <th>rooms</th>\n",
       "      <th></th>\n",
       "      <th></th>\n",
       "    </tr>\n",
       "  </thead>\n",
       "  <tbody>\n",
       "    <tr>\n",
       "      <td>1</td>\n",
       "      <td>3727584</td>\n",
       "      <td>8119</td>\n",
       "    </tr>\n",
       "    <tr>\n",
       "      <td>2</td>\n",
       "      <td>4985206</td>\n",
       "      <td>7436</td>\n",
       "    </tr>\n",
       "    <tr>\n",
       "      <td>3</td>\n",
       "      <td>5914694</td>\n",
       "      <td>4748</td>\n",
       "    </tr>\n",
       "    <tr>\n",
       "      <td>4</td>\n",
       "      <td>6586060</td>\n",
       "      <td>676</td>\n",
       "    </tr>\n",
       "    <tr>\n",
       "      <td>5</td>\n",
       "      <td>7274307</td>\n",
       "      <td>65</td>\n",
       "    </tr>\n",
       "    <tr>\n",
       "      <td>6</td>\n",
       "      <td>8141000</td>\n",
       "      <td>4</td>\n",
       "    </tr>\n",
       "  </tbody>\n",
       "</table>\n",
       "</div>"
      ],
      "text/plain": [
       "          mean  count\n",
       "rooms                \n",
       "1      3727584   8119\n",
       "2      4985206   7436\n",
       "3      5914694   4748\n",
       "4      6586060    676\n",
       "5      7274307     65\n",
       "6      8141000      4"
      ]
     },
     "execution_count": 799,
     "metadata": {},
     "output_type": "execute_result"
    }
   ],
   "source": [
    "data.groupby('rooms')['last_price'].agg(['mean', 'count']).astype(int)"
   ]
  },
  {
   "cell_type": "markdown",
   "metadata": {},
   "source": [
    "У нас получилась диаграмма нормального распределения c  пиком в райне 3,7млн - 4 млн рублей, т.к. почти половина всех квартир в базе - это однокомнатные и двухкомнатные квартиры со средними ценами 3.7 млн и 4.9млн соответственно\n"
   ]
  },
  {
   "cell_type": "markdown",
   "metadata": {},
   "source": [
    "Итак, мы избавились от выбивающихся высоких значений стоимости квартир, получили средние стоимости квартир по количеству комнат и выяснили, что больше половины предложений в базе находятся в ценовом диапазоне от 3.5 до 5млн рублей."
   ]
  },
  {
   "cell_type": "markdown",
   "metadata": {},
   "source": [
    "##### Количество комнат\n",
    "\n",
    "Рассмотрим теперь, какие по числу комнат квартиры чаще всего продают:"
   ]
  },
  {
   "cell_type": "code",
   "execution_count": 800,
   "metadata": {},
   "outputs": [
    {
     "data": {
      "text/plain": [
       "1    8119\n",
       "2    7436\n",
       "3    4748\n",
       "4     676\n",
       "5      65\n",
       "6       4\n",
       "Name: rooms, dtype: int64"
      ]
     },
     "execution_count": 800,
     "metadata": {},
     "output_type": "execute_result"
    }
   ],
   "source": [
    "data['rooms'].value_counts()"
   ]
  },
  {
   "cell_type": "code",
   "execution_count": 801,
   "metadata": {},
   "outputs": [
    {
     "data": {
      "text/plain": [
       "count    21048.000000\n",
       "mean         1.914101\n",
       "std          0.873657\n",
       "min          1.000000\n",
       "25%          1.000000\n",
       "50%          2.000000\n",
       "75%          3.000000\n",
       "max          6.000000\n",
       "Name: rooms, dtype: float64"
      ]
     },
     "execution_count": 801,
     "metadata": {},
     "output_type": "execute_result"
    }
   ],
   "source": [
    "data['rooms'].describe()"
   ]
  },
  {
   "cell_type": "code",
   "execution_count": 802,
   "metadata": {},
   "outputs": [
    {
     "data": {
      "text/plain": [
       "Text(0, 0.5, 'Частота')"
      ]
     },
     "execution_count": 802,
     "metadata": {},
     "output_type": "execute_result"
    },
    {
     "data": {
      "image/png": "[encoded data removed]",
      "text/plain": [
       "<Figure size 432x288 with 1 Axes>"
      ]
     },
     "metadata": {
      "needs_background": "light"
     },
     "output_type": "display_data"
    }
   ],
   "source": [
    "ax = data['rooms'].plot(kind='hist', grid=True, range=(0,6), bins=6)\n",
    "ax.set_title('График распределения количества комнат')\n",
    "plt.xlabel('Количество комнат', axes=ax)\n",
    "plt.ylabel('Частота', axes=ax)"
   ]
  },
  {
   "cell_type": "code",
   "execution_count": 803,
   "metadata": {},
   "outputs": [
    {
     "data": {
      "text/plain": [
       "<matplotlib.axes._subplots.AxesSubplot at 0x7fd26db6c8d0>"
      ]
     },
     "execution_count": 803,
     "metadata": {},
     "output_type": "execute_result"
    },
    {
     "data": {
      "image/png": "[encoded data removed]",
      "text/plain": [
       "<Figure size 432x288 with 1 Axes>"
      ]
     },
     "metadata": {
      "needs_background": "light"
     },
     "output_type": "display_data"
    }
   ],
   "source": [
    "data.boxplot('rooms')"
   ]
  },
  {
   "cell_type": "markdown",
   "metadata": {},
   "source": [
    " В графе `rooms` у нас нет выбивающихся значений. Подавляющее большинство (не менее 75%) продаваемых квартир имеет не более трех комнат."
   ]
  },
  {
   "cell_type": "markdown",
   "metadata": {},
   "source": [
    "##### Высота потолка\n",
    "\n",
    "Рассмотрим еще один параметр - высота потолков в помещениях:"
   ]
  },
  {
   "cell_type": "code",
   "execution_count": 804,
   "metadata": {},
   "outputs": [
    {
     "data": {
      "text/plain": [
       "count    21048.000000\n",
       "mean         2.695694\n",
       "std          0.792416\n",
       "min          1.000000\n",
       "25%          2.600000\n",
       "50%          2.650000\n",
       "75%          2.680000\n",
       "max         32.000000\n",
       "Name: ceiling_height, dtype: float64"
      ]
     },
     "execution_count": 804,
     "metadata": {},
     "output_type": "execute_result"
    }
   ],
   "source": [
    "data['ceiling_height'].describe()"
   ]
  },
  {
   "cell_type": "code",
   "execution_count": 805,
   "metadata": {},
   "outputs": [
    {
     "data": {
      "text/plain": [
       "2.65    8938\n",
       "2.50    3445\n",
       "2.60    1619\n",
       "2.70    1459\n",
       "2.55     967\n",
       "        ... \n",
       "1.75       1\n",
       "3.48       1\n",
       "3.57       1\n",
       "3.67       1\n",
       "3.39       1\n",
       "Name: ceiling_height, Length: 156, dtype: int64"
      ]
     },
     "execution_count": 805,
     "metadata": {},
     "output_type": "execute_result"
    }
   ],
   "source": [
    "data['ceiling_height'].value_counts()"
   ]
  },
  {
   "cell_type": "code",
   "execution_count": 806,
   "metadata": {},
   "outputs": [
    {
     "data": {
      "text/plain": [
       "(0, 6)"
      ]
     },
     "execution_count": 806,
     "metadata": {},
     "output_type": "execute_result"
    },
    {
     "data": {
      "image/png": "[encoded data removed]",
      "text/plain": [
       "<Figure size 432x288 with 1 Axes>"
      ]
     },
     "metadata": {
      "needs_background": "light"
     },
     "output_type": "display_data"
    }
   ],
   "source": [
    "data.boxplot('ceiling_height')\n",
    "plt.ylim(0,6)"
   ]
  },
  {
   "cell_type": "markdown",
   "metadata": {},
   "source": [
    "По диаграмме разброса видно, что имеются сильные отклонения от нормального распределения как в большую, так и в меньшую сторону.\n",
    "Конечно, на рынке жилья есть квартиры и эконом, и премиум класса, и высота потолков в этих сегментах может ощутимо различаться.\n",
    "Ознакомившись со <a href=\"https://www.dp.ru/a/2016/10/27/Dostich_potolka#:~:text=%D0%92%D1%8B%D1%81%D0%BE%D1%82%D0%B0%20%D0%BF%D0%BE%D1%82%D0%BE%D0%BB%D0%BA%D0%BE%D0%B2%20%D0%BD%D0%B0%20%D1%80%D1%8B%D0%BD%D0%BA%D0%B5%20%D0%BD%D0%BE%D0%B2%D0%BE%D1%81%D1%82%D1%80%D0%BE%D0%B5%D0%BA,2%2C6%E2%80%933%20%D0%BC.\">статьей</a>  о рынке недвижимости Санкт-Петербурга мы подтверждаем результаты диаграммы разброса: высота потолка менее 2.5 метров ограничена нормативами в сфере строительства, максимальная высота остается на усмотрение застройщика (чем выше класс жилья, тем выше могут быть потолки), в новостройках все чаще потолки могут достигать от 4 до 10 метров в высоту\n",
    "В нашем датафрейме встречается как высота в 1 метр, так и высоты до 30 метров, что явно похоже на ошибку внесения данных и мы попробуем убрать экстремально низкие и высокие значения."
   ]
  },
  {
   "cell_type": "code",
   "execution_count": 807,
   "metadata": {},
   "outputs": [
    {
     "data": {
      "text/plain": [
       "20952"
      ]
     },
     "execution_count": 807,
     "metadata": {},
     "output_type": "execute_result"
    }
   ],
   "source": [
    "data = data.drop(data.query('ceiling_height > 10 or ceiling_height < 2.5').index)\n",
    "len(data)"
   ]
  },
  {
   "cell_type": "markdown",
   "metadata": {},
   "source": [
    "##### Время продажи квартиры"
   ]
  },
  {
   "cell_type": "code",
   "execution_count": 808,
   "metadata": {},
   "outputs": [
    {
     "data": {
      "text/plain": [
       "count    20952.000000\n",
       "mean     12206.933324\n",
       "std      32506.836275\n",
       "min          1.000000\n",
       "25%         45.000000\n",
       "50%        115.000000\n",
       "75%        348.000000\n",
       "max      99999.000000\n",
       "Name: days_exposition, dtype: float64"
      ]
     },
     "execution_count": 808,
     "metadata": {},
     "output_type": "execute_result"
    }
   ],
   "source": [
    "data['days_exposition'].describe()"
   ]
  },
  {
   "cell_type": "markdown",
   "metadata": {},
   "source": [
    "Отсутствующие значения в этом столбце мы сочли за активные /незакртые пока объявления. Поэтому отфильтруем артефакт \"99999\" и посчитаем среднее время продажи."
   ]
  },
  {
   "cell_type": "code",
   "execution_count": 809,
   "metadata": {},
   "outputs": [
    {
     "data": {
      "text/plain": [
       "18426"
      ]
     },
     "execution_count": 809,
     "metadata": {},
     "output_type": "execute_result"
    }
   ],
   "source": [
    "days_filt = data.query('days_exposition != 99999')['days_exposition']\n",
    "len(days_filt)"
   ]
  },
  {
   "cell_type": "code",
   "execution_count": 810,
   "metadata": {},
   "outputs": [
    {
     "data": {
      "text/plain": [
       "count    18426.000000\n",
       "mean       171.615815\n",
       "std        209.436522\n",
       "min          1.000000\n",
       "25%         43.000000\n",
       "50%         91.000000\n",
       "75%        217.000000\n",
       "max       1580.000000\n",
       "Name: days_exposition, dtype: float64"
      ]
     },
     "execution_count": 810,
     "metadata": {},
     "output_type": "execute_result"
    }
   ],
   "source": [
    "days_filt.describe()"
   ]
  },
  {
   "cell_type": "code",
   "execution_count": 811,
   "metadata": {},
   "outputs": [
    {
     "data": {
      "text/plain": [
       "91.0"
      ]
     },
     "execution_count": 811,
     "metadata": {},
     "output_type": "execute_result"
    }
   ],
   "source": [
    "days_filt.median()"
   ]
  },
  {
   "cell_type": "markdown",
   "metadata": {},
   "source": [
    "В среднем продажа занимает около трех месяцев. В данном случае нам лучше ориентироваться на значение медианы, так как среди значений есть и удивительно быстрые продажи за 1 день и объявления, которые до продажи были размещены на сервисе 1580 дней.\n",
    "Поскольку 75% объявлений размещаются на сервисе не более чем на 217 дней, можно считать сроки свыше этого значения медленными продажами. Ориенируясь на первый квантиль, можно считать продажи ранее 43 дней дней размещения быстрыми."
   ]
  },
  {
   "cell_type": "markdown",
   "metadata": {},
   "source": [
    "### 5.Зависимость ценообразования от различных параметров\n",
    "<a id=\"5\"></a>"
   ]
  },
  {
   "cell_type": "markdown",
   "metadata": {},
   "source": [
    "Изучим зависимость стоимость квартиры от ее площади:"
   ]
  },
  {
   "cell_type": "code",
   "execution_count": 812,
   "metadata": {},
   "outputs": [
    {
     "data": {
      "text/plain": [
       "0.6985488025476425"
      ]
     },
     "execution_count": 812,
     "metadata": {},
     "output_type": "execute_result"
    }
   ],
   "source": [
    "data['total_area'].corr(data['last_price'])"
   ]
  },
  {
   "cell_type": "markdown",
   "metadata": {},
   "source": [
    "Положительный процент корреляции Пирсона говорит о том, что между площадью и ценой есть прямая связь. С увеличением площади квартиры неизбежно растет и ее цена."
   ]
  },
  {
   "cell_type": "code",
   "execution_count": 813,
   "metadata": {},
   "outputs": [
    {
     "data": {
      "text/plain": [
       "0.44391529154142245"
      ]
     },
     "execution_count": 813,
     "metadata": {},
     "output_type": "execute_result"
    }
   ],
   "source": [
    "data['rooms'].corr(data['last_price'])"
   ]
  },
  {
   "cell_type": "code",
   "execution_count": 814,
   "metadata": {},
   "outputs": [
    {
     "data": {
      "text/plain": [
       "rooms\n",
       "1    3729581\n",
       "2    4992375\n",
       "3    5920367\n",
       "4    6593388\n",
       "5    7274307\n",
       "6    8141000\n",
       "Name: last_price, dtype: int64"
      ]
     },
     "execution_count": 814,
     "metadata": {},
     "output_type": "execute_result"
    }
   ],
   "source": [
    "data.groupby('rooms')['last_price'].agg('mean').astype(int)"
   ]
  },
  {
   "cell_type": "markdown",
   "metadata": {},
   "source": [
    "Между количеством комнат и ценой так же есть прямая корреляция, с увеличением числа комнат растет и цена (т.к. естественным образом растет и площадь квартиры)"
   ]
  },
  {
   "cell_type": "markdown",
   "metadata": {},
   "source": [
    "Проверим зависимость стоимость квартиры от ее удаленности от центра населенного пункта.\n",
    "Получим значения квартилей по этому столбцу для дальнейшей группировки. "
   ]
  },
  {
   "cell_type": "code",
   "execution_count": 815,
   "metadata": {},
   "outputs": [
    {
     "data": {
      "text/plain": [
       "count    20952.000000\n",
       "mean     11418.007255\n",
       "std       9864.392684\n",
       "min          0.000000\n",
       "25%       1378.000000\n",
       "50%      11885.000000\n",
       "75%      15672.000000\n",
       "max      65968.000000\n",
       "Name: cityCenters_nearest, dtype: float64"
      ]
     },
     "execution_count": 815,
     "metadata": {},
     "output_type": "execute_result"
    }
   ],
   "source": [
    "data['cityCenters_nearest'].describe()"
   ]
  },
  {
   "cell_type": "code",
   "execution_count": 816,
   "metadata": {},
   "outputs": [
    {
     "data": {
      "text/html": [
       "<div>\n",
       "<style scoped>\n",
       "    .dataframe tbody tr th:only-of-type {\n",
       "        vertical-align: middle;\n",
       "    }\n",
       "\n",
       "    .dataframe tbody tr th {\n",
       "        vertical-align: top;\n",
       "    }\n",
       "\n",
       "    .dataframe thead th {\n",
       "        text-align: right;\n",
       "    }\n",
       "</style>\n",
       "<table border=\"1\" class=\"dataframe\">\n",
       "  <thead>\n",
       "    <tr style=\"text-align: right;\">\n",
       "      <th></th>\n",
       "      <th>last_price</th>\n",
       "    </tr>\n",
       "    <tr>\n",
       "      <th>centers_grouped</th>\n",
       "      <th></th>\n",
       "    </tr>\n",
       "  </thead>\n",
       "  <tbody>\n",
       "    <tr>\n",
       "      <td>(0, 1500]</td>\n",
       "      <td>8000000</td>\n",
       "    </tr>\n",
       "    <tr>\n",
       "      <td>(1500, 12000]</td>\n",
       "      <td>5700000</td>\n",
       "    </tr>\n",
       "    <tr>\n",
       "      <td>(12000, 16000]</td>\n",
       "      <td>4850000</td>\n",
       "    </tr>\n",
       "    <tr>\n",
       "      <td>(16000, 66000]</td>\n",
       "      <td>4200000</td>\n",
       "    </tr>\n",
       "  </tbody>\n",
       "</table>\n",
       "</div>"
      ],
      "text/plain": [
       "                 last_price\n",
       "centers_grouped            \n",
       "(0, 1500]           8000000\n",
       "(1500, 12000]       5700000\n",
       "(12000, 16000]      4850000\n",
       "(16000, 66000]      4200000"
      ]
     },
     "execution_count": 816,
     "metadata": {},
     "output_type": "execute_result"
    }
   ],
   "source": [
    "data['centers_grouped'] = pd.cut(data['cityCenters_nearest'],[0,1500,12000,16000,66000])\n",
    "data.pivot_table(index ='centers_grouped', values='last_price', aggfunc='median')"
   ]
  },
  {
   "cell_type": "markdown",
   "metadata": {},
   "source": [
    "Самое значительное увеличение цены происходит в центральном районе.\n",
    "Квартиры, расположенные в центрах населенных пунктов в среднем стоят в 2 раза дороже вариантов на окраине.\n",
    "Конечно, при таком рассмотрении большую роль в перепаде цен, скорее всего, играет Санкт-Петербург. Поэтому в следующих этапах мы более подробно разберем этот параметр, относительно населенных пунктов.\n",
    "\n"
   ]
  },
  {
   "cell_type": "code",
   "execution_count": 817,
   "metadata": {},
   "outputs": [
    {
     "data": {
      "text/plain": [
       "floor_category\n",
       "другой       4948148\n",
       "первый       4131763\n",
       "последний    4438272\n",
       "Name: last_price, dtype: int64"
      ]
     },
     "execution_count": 817,
     "metadata": {},
     "output_type": "execute_result"
    }
   ],
   "source": [
    "data.groupby('floor_category')['last_price'].agg('mean').astype(int)"
   ]
  },
  {
   "cell_type": "markdown",
   "metadata": {},
   "source": [
    "Рассчитав средние цены квартир на разных категориях этажей, мы можем сделать вывод, что квартиры на первом этаже на 16% дешевле других этажей. У последних этажей цена отличается еще меньше (на 10%). Но тем не менее можно сделать вывод, что квартиры на первом и последнем этаже менее популярны, нежели в середине дома, что сказывается и на их стоимости."
   ]
  },
  {
   "cell_type": "code",
   "execution_count": 818,
   "metadata": {
    "scrolled": true
   },
   "outputs": [
    {
     "data": {
      "text/plain": [
       "Text(0, 0.5, 'Средняя стоимость квартиры')"
      ]
     },
     "execution_count": 818,
     "metadata": {},
     "output_type": "execute_result"
    },
    {
     "data": {
      "image/png": "[encoded data removed]",
      "text/plain": [
       "<Figure size 432x288 with 1 Axes>"
      ]
     },
     "metadata": {
      "needs_background": "light"
     },
     "output_type": "display_data"
    }
   ],
   "source": [
    "(data\n",
    "     .groupby('year')['last_price'].agg('mean').astype(int)\n",
    "     .plot(grid=True, title='График динамики средних цен на недвижимость по годам'))\n",
    "\n",
    "plt.xlabel('Год', axes=ax)\n",
    "plt.ylabel('Средняя стоимость квартиры', axes=ax)"
   ]
  },
  {
   "cell_type": "markdown",
   "metadata": {},
   "source": [
    "Максимальные цены были зафиксированы в 2014 году, затем они пошел резкий спад. По ситуации на 2019 год стоимость снова плавно повышается. Эти колебания можно связать с кризисом 2014 года и падением покупательской способности населения."
   ]
  },
  {
   "cell_type": "code",
   "execution_count": 819,
   "metadata": {},
   "outputs": [
    {
     "data": {
      "text/plain": [
       "Text(0, 0.5, 'Средняя стоимость квартиры')"
      ]
     },
     "execution_count": 819,
     "metadata": {},
     "output_type": "execute_result"
    },
    {
     "data": {
      "image/png": "[encoded data removed]",
      "text/plain": [
       "<Figure size 1008x360 with 1 Axes>"
      ]
     },
     "metadata": {
      "needs_background": "light"
     },
     "output_type": "display_data"
    }
   ],
   "source": [
    "(data\n",
    "     .groupby('month')['last_price'].agg('mean').astype(int)\n",
    "     .plot(grid=True, figsize=(14,5), title=' График динамики средних цен на недвижимость по месяцам'))\n",
    "plt.xlabel('Месяц', axes=ax)\n",
    "plt.ylabel('Средняя стоимость квартиры', axes=ax)"
   ]
  },
  {
   "cell_type": "markdown",
   "metadata": {},
   "source": [
    "Несмотря на то, что в 2015 году уже шла общая тенденция на падение уровня цен, именно в 3 квартале 2015 фиксировались сделки по максимальным ценам.\n",
    "В середине 2016г средняя стоимость квартир была минимальной за 4 года.\n",
    "Плавный рост средних цен начался в середине 2018 года"
   ]
  },
  {
   "cell_type": "code",
   "execution_count": 820,
   "metadata": {},
   "outputs": [
    {
     "data": {
      "text/plain": [
       "Text(0, 0.5, 'Средняя стоимость квартиры')"
      ]
     },
     "execution_count": 820,
     "metadata": {},
     "output_type": "execute_result"
    },
    {
     "data": {
      "image/png": "[encoded data removed]",
      "text/plain": [
       "<Figure size 1008x360 with 1 Axes>"
      ]
     },
     "metadata": {
      "needs_background": "light"
     },
     "output_type": "display_data"
    }
   ],
   "source": [
    "(data\n",
    "     .groupby('weekday')['last_price'].agg('mean').astype(int)\n",
    "     .plot(grid=True, figsize=(14,5),title='График динамики средних цен на недвижимость по дням недели'))\n",
    "\n",
    "plt.xlabel('День недели', axes=ax)\n",
    "plt.ylabel('Средняя стоимость квартиры', axes=ax)"
   ]
  },
  {
   "cell_type": "markdown",
   "metadata": {},
   "source": [
    "При рассмотрении средней средней стоимости недвижимости в разрезе дней недели у нас получается логичная картина:\n",
    "в выходные дни объявлений публикуется очень мало, так же снижена активность в пятницу. \n",
    "Объявления о продаже дорогих квартир чаще всего публикуются в среду:)"
   ]
  },
  {
   "cell_type": "markdown",
   "metadata": {},
   "source": [
    "### 6. Анализ ценообразования в городах с наибольшим числом объявлений.\n",
    "<a id=\"6\"></a>"
   ]
  },
  {
   "cell_type": "markdown",
   "metadata": {},
   "source": [
    "В этом разделе рассмотрим более прицельно 10 городов с наибольшим числом объявлений и рассчитаем для каждого в отдельности  среднюю стоимость кв. метра и выделим населенные пункты с самой высокой и самой низкой стоимостью жилья."
   ]
  },
  {
   "cell_type": "code",
   "execution_count": 821,
   "metadata": {},
   "outputs": [
    {
     "data": {
      "text/html": [
       "<div>\n",
       "<style scoped>\n",
       "    .dataframe tbody tr th:only-of-type {\n",
       "        vertical-align: middle;\n",
       "    }\n",
       "\n",
       "    .dataframe tbody tr th {\n",
       "        vertical-align: top;\n",
       "    }\n",
       "\n",
       "    .dataframe thead th {\n",
       "        text-align: right;\n",
       "    }\n",
       "</style>\n",
       "<table border=\"1\" class=\"dataframe\">\n",
       "  <thead>\n",
       "    <tr style=\"text-align: right;\">\n",
       "      <th></th>\n",
       "      <th>locality_name</th>\n",
       "      <th>sum</th>\n",
       "    </tr>\n",
       "  </thead>\n",
       "  <tbody>\n",
       "    <tr>\n",
       "      <td>0</td>\n",
       "      <td>Санкт-Петербург</td>\n",
       "      <td>13353</td>\n",
       "    </tr>\n",
       "    <tr>\n",
       "      <td>1</td>\n",
       "      <td>посёлок Мурино</td>\n",
       "      <td>520</td>\n",
       "    </tr>\n",
       "    <tr>\n",
       "      <td>2</td>\n",
       "      <td>посёлок Шушары</td>\n",
       "      <td>437</td>\n",
       "    </tr>\n",
       "    <tr>\n",
       "      <td>3</td>\n",
       "      <td>Всеволожск</td>\n",
       "      <td>393</td>\n",
       "    </tr>\n",
       "    <tr>\n",
       "      <td>4</td>\n",
       "      <td>Колпино</td>\n",
       "      <td>334</td>\n",
       "    </tr>\n",
       "    <tr>\n",
       "      <td>5</td>\n",
       "      <td>Пушкин</td>\n",
       "      <td>332</td>\n",
       "    </tr>\n",
       "    <tr>\n",
       "      <td>6</td>\n",
       "      <td>посёлок Парголово</td>\n",
       "      <td>325</td>\n",
       "    </tr>\n",
       "    <tr>\n",
       "      <td>7</td>\n",
       "      <td>Гатчина</td>\n",
       "      <td>300</td>\n",
       "    </tr>\n",
       "    <tr>\n",
       "      <td>8</td>\n",
       "      <td>деревня Кудрово</td>\n",
       "      <td>298</td>\n",
       "    </tr>\n",
       "    <tr>\n",
       "      <td>9</td>\n",
       "      <td>Выборг</td>\n",
       "      <td>225</td>\n",
       "    </tr>\n",
       "  </tbody>\n",
       "</table>\n",
       "</div>"
      ],
      "text/plain": [
       "       locality_name    sum\n",
       "0    Санкт-Петербург  13353\n",
       "1     посёлок Мурино    520\n",
       "2     посёлок Шушары    437\n",
       "3         Всеволожск    393\n",
       "4            Колпино    334\n",
       "5             Пушкин    332\n",
       "6  посёлок Парголово    325\n",
       "7            Гатчина    300\n",
       "8    деревня Кудрово    298\n",
       "9             Выборг    225"
      ]
     },
     "execution_count": 821,
     "metadata": {},
     "output_type": "execute_result"
    }
   ],
   "source": [
    "top = data['locality_name'].value_counts().head(10).reset_index()\n",
    "top.columns = ['locality_name', 'sum']\n",
    "top\n"
   ]
  },
  {
   "cell_type": "code",
   "execution_count": 822,
   "metadata": {},
   "outputs": [
    {
     "data": {
      "text/html": [
       "<div>\n",
       "<style scoped>\n",
       "    .dataframe tbody tr th:only-of-type {\n",
       "        vertical-align: middle;\n",
       "    }\n",
       "\n",
       "    .dataframe tbody tr th {\n",
       "        vertical-align: top;\n",
       "    }\n",
       "\n",
       "    .dataframe thead th {\n",
       "        text-align: right;\n",
       "    }\n",
       "</style>\n",
       "<table border=\"1\" class=\"dataframe\">\n",
       "  <thead>\n",
       "    <tr style=\"text-align: right;\">\n",
       "      <th></th>\n",
       "      <th>locality_name</th>\n",
       "      <th>sq_m_price</th>\n",
       "    </tr>\n",
       "  </thead>\n",
       "  <tbody>\n",
       "    <tr>\n",
       "      <td>0</td>\n",
       "      <td>Бокситогорск</td>\n",
       "      <td>20865.273025</td>\n",
       "    </tr>\n",
       "    <tr>\n",
       "      <td>1</td>\n",
       "      <td>Волосово</td>\n",
       "      <td>40410.600376</td>\n",
       "    </tr>\n",
       "    <tr>\n",
       "      <td>2</td>\n",
       "      <td>Волхов</td>\n",
       "      <td>35197.775418</td>\n",
       "    </tr>\n",
       "    <tr>\n",
       "      <td>3</td>\n",
       "      <td>Всеволожск</td>\n",
       "      <td>67612.881547</td>\n",
       "    </tr>\n",
       "    <tr>\n",
       "      <td>4</td>\n",
       "      <td>Выборг</td>\n",
       "      <td>58662.716529</td>\n",
       "    </tr>\n",
       "    <tr>\n",
       "      <td>...</td>\n",
       "      <td>...</td>\n",
       "      <td>...</td>\n",
       "    </tr>\n",
       "    <tr>\n",
       "      <td>332</td>\n",
       "      <td>село Путилово</td>\n",
       "      <td>40172.955975</td>\n",
       "    </tr>\n",
       "    <tr>\n",
       "      <td>333</td>\n",
       "      <td>село Рождествено</td>\n",
       "      <td>37957.875458</td>\n",
       "    </tr>\n",
       "    <tr>\n",
       "      <td>334</td>\n",
       "      <td>село Русско-Высоцкое</td>\n",
       "      <td>55090.949895</td>\n",
       "    </tr>\n",
       "    <tr>\n",
       "      <td>335</td>\n",
       "      <td>село Старая Ладога</td>\n",
       "      <td>34696.969697</td>\n",
       "    </tr>\n",
       "    <tr>\n",
       "      <td>336</td>\n",
       "      <td>село Шум</td>\n",
       "      <td>33898.305085</td>\n",
       "    </tr>\n",
       "  </tbody>\n",
       "</table>\n",
       "<p>337 rows × 2 columns</p>\n",
       "</div>"
      ],
      "text/plain": [
       "            locality_name    sq_m_price\n",
       "0            Бокситогорск  20865.273025\n",
       "1                Волосово  40410.600376\n",
       "2                  Волхов  35197.775418\n",
       "3              Всеволожск  67612.881547\n",
       "4                  Выборг  58662.716529\n",
       "..                    ...           ...\n",
       "332         село Путилово  40172.955975\n",
       "333      село Рождествено  37957.875458\n",
       "334  село Русско-Высоцкое  55090.949895\n",
       "335    село Старая Ладога  34696.969697\n",
       "336              село Шум  33898.305085\n",
       "\n",
       "[337 rows x 2 columns]"
      ]
     },
     "execution_count": 822,
     "metadata": {},
     "output_type": "execute_result"
    }
   ],
   "source": [
    "metr = data.groupby('locality_name')['sq_m_price'].agg('mean')\n",
    "metr = metr.reset_index()\n",
    "metr\n"
   ]
  },
  {
   "cell_type": "code",
   "execution_count": 823,
   "metadata": {},
   "outputs": [
    {
     "data": {
      "text/html": [
       "<div>\n",
       "<style scoped>\n",
       "    .dataframe tbody tr th:only-of-type {\n",
       "        vertical-align: middle;\n",
       "    }\n",
       "\n",
       "    .dataframe tbody tr th {\n",
       "        vertical-align: top;\n",
       "    }\n",
       "\n",
       "    .dataframe thead th {\n",
       "        text-align: right;\n",
       "    }\n",
       "</style>\n",
       "<table border=\"1\" class=\"dataframe\">\n",
       "  <thead>\n",
       "    <tr style=\"text-align: right;\">\n",
       "      <th></th>\n",
       "      <th>locality_name</th>\n",
       "      <th>sum</th>\n",
       "      <th>sq_m_price</th>\n",
       "    </tr>\n",
       "  </thead>\n",
       "  <tbody>\n",
       "    <tr>\n",
       "      <td>0</td>\n",
       "      <td>Санкт-Петербург</td>\n",
       "      <td>13353</td>\n",
       "      <td>105489.241406</td>\n",
       "    </tr>\n",
       "    <tr>\n",
       "      <td>1</td>\n",
       "      <td>посёлок Мурино</td>\n",
       "      <td>520</td>\n",
       "      <td>86355.435702</td>\n",
       "    </tr>\n",
       "    <tr>\n",
       "      <td>2</td>\n",
       "      <td>посёлок Шушары</td>\n",
       "      <td>437</td>\n",
       "      <td>79097.673011</td>\n",
       "    </tr>\n",
       "    <tr>\n",
       "      <td>3</td>\n",
       "      <td>Всеволожск</td>\n",
       "      <td>393</td>\n",
       "      <td>67612.881547</td>\n",
       "    </tr>\n",
       "    <tr>\n",
       "      <td>4</td>\n",
       "      <td>Колпино</td>\n",
       "      <td>334</td>\n",
       "      <td>75555.114644</td>\n",
       "    </tr>\n",
       "    <tr>\n",
       "      <td>5</td>\n",
       "      <td>Пушкин</td>\n",
       "      <td>332</td>\n",
       "      <td>100814.570221</td>\n",
       "    </tr>\n",
       "    <tr>\n",
       "      <td>6</td>\n",
       "      <td>посёлок Парголово</td>\n",
       "      <td>325</td>\n",
       "      <td>90864.834580</td>\n",
       "    </tr>\n",
       "    <tr>\n",
       "      <td>7</td>\n",
       "      <td>Гатчина</td>\n",
       "      <td>300</td>\n",
       "      <td>69341.221504</td>\n",
       "    </tr>\n",
       "    <tr>\n",
       "      <td>8</td>\n",
       "      <td>деревня Кудрово</td>\n",
       "      <td>298</td>\n",
       "      <td>92938.190948</td>\n",
       "    </tr>\n",
       "    <tr>\n",
       "      <td>9</td>\n",
       "      <td>Выборг</td>\n",
       "      <td>225</td>\n",
       "      <td>58662.716529</td>\n",
       "    </tr>\n",
       "  </tbody>\n",
       "</table>\n",
       "</div>"
      ],
      "text/plain": [
       "       locality_name    sum     sq_m_price\n",
       "0    Санкт-Петербург  13353  105489.241406\n",
       "1     посёлок Мурино    520   86355.435702\n",
       "2     посёлок Шушары    437   79097.673011\n",
       "3         Всеволожск    393   67612.881547\n",
       "4            Колпино    334   75555.114644\n",
       "5             Пушкин    332  100814.570221\n",
       "6  посёлок Парголово    325   90864.834580\n",
       "7            Гатчина    300   69341.221504\n",
       "8    деревня Кудрово    298   92938.190948\n",
       "9             Выборг    225   58662.716529"
      ]
     },
     "execution_count": 823,
     "metadata": {},
     "output_type": "execute_result"
    }
   ],
   "source": [
    "top = top.merge(metr, on='locality_name')\n",
    "top"
   ]
  },
  {
   "cell_type": "code",
   "execution_count": 824,
   "metadata": {},
   "outputs": [
    {
     "data": {
      "text/html": [
       "<div>\n",
       "<style scoped>\n",
       "    .dataframe tbody tr th:only-of-type {\n",
       "        vertical-align: middle;\n",
       "    }\n",
       "\n",
       "    .dataframe tbody tr th {\n",
       "        vertical-align: top;\n",
       "    }\n",
       "\n",
       "    .dataframe thead th {\n",
       "        text-align: right;\n",
       "    }\n",
       "</style>\n",
       "<table border=\"1\" class=\"dataframe\">\n",
       "  <thead>\n",
       "    <tr style=\"text-align: right;\">\n",
       "      <th></th>\n",
       "      <th>locality_name</th>\n",
       "      <th>sum</th>\n",
       "      <th>sq_m_price</th>\n",
       "    </tr>\n",
       "  </thead>\n",
       "  <tbody>\n",
       "    <tr>\n",
       "      <td>0</td>\n",
       "      <td>Санкт-Петербург</td>\n",
       "      <td>13353</td>\n",
       "      <td>105489.241406</td>\n",
       "    </tr>\n",
       "    <tr>\n",
       "      <td>5</td>\n",
       "      <td>Пушкин</td>\n",
       "      <td>332</td>\n",
       "      <td>100814.570221</td>\n",
       "    </tr>\n",
       "    <tr>\n",
       "      <td>8</td>\n",
       "      <td>деревня Кудрово</td>\n",
       "      <td>298</td>\n",
       "      <td>92938.190948</td>\n",
       "    </tr>\n",
       "    <tr>\n",
       "      <td>6</td>\n",
       "      <td>посёлок Парголово</td>\n",
       "      <td>325</td>\n",
       "      <td>90864.834580</td>\n",
       "    </tr>\n",
       "    <tr>\n",
       "      <td>1</td>\n",
       "      <td>посёлок Мурино</td>\n",
       "      <td>520</td>\n",
       "      <td>86355.435702</td>\n",
       "    </tr>\n",
       "    <tr>\n",
       "      <td>2</td>\n",
       "      <td>посёлок Шушары</td>\n",
       "      <td>437</td>\n",
       "      <td>79097.673011</td>\n",
       "    </tr>\n",
       "    <tr>\n",
       "      <td>4</td>\n",
       "      <td>Колпино</td>\n",
       "      <td>334</td>\n",
       "      <td>75555.114644</td>\n",
       "    </tr>\n",
       "    <tr>\n",
       "      <td>7</td>\n",
       "      <td>Гатчина</td>\n",
       "      <td>300</td>\n",
       "      <td>69341.221504</td>\n",
       "    </tr>\n",
       "    <tr>\n",
       "      <td>3</td>\n",
       "      <td>Всеволожск</td>\n",
       "      <td>393</td>\n",
       "      <td>67612.881547</td>\n",
       "    </tr>\n",
       "    <tr>\n",
       "      <td>9</td>\n",
       "      <td>Выборг</td>\n",
       "      <td>225</td>\n",
       "      <td>58662.716529</td>\n",
       "    </tr>\n",
       "  </tbody>\n",
       "</table>\n",
       "</div>"
      ],
      "text/plain": [
       "       locality_name    sum     sq_m_price\n",
       "0    Санкт-Петербург  13353  105489.241406\n",
       "5             Пушкин    332  100814.570221\n",
       "8    деревня Кудрово    298   92938.190948\n",
       "6  посёлок Парголово    325   90864.834580\n",
       "1     посёлок Мурино    520   86355.435702\n",
       "2     посёлок Шушары    437   79097.673011\n",
       "4            Колпино    334   75555.114644\n",
       "7            Гатчина    300   69341.221504\n",
       "3         Всеволожск    393   67612.881547\n",
       "9             Выборг    225   58662.716529"
      ]
     },
     "execution_count": 824,
     "metadata": {},
     "output_type": "execute_result"
    }
   ],
   "source": [
    "top.sort_values(by='sq_m_price', ascending=False)"
   ]
  },
  {
   "cell_type": "markdown",
   "metadata": {},
   "source": [
    "Ожидаемо самые высокие цены на недвижимость в Санкт-Петербурге и его внутригороском мун.образовании - Пушкине.\n",
    "Самая низкая стоимость кв.м. жилья в Выборге, который находится в 120 км от Санкт-Петербурга."
   ]
  },
  {
   "cell_type": "markdown",
   "metadata": {},
   "source": [
    "### 7. Анализ цен на недвижимость в Санкт-Петербурге\n",
    "<a id=\"7\"></a>"
   ]
  },
  {
   "cell_type": "markdown",
   "metadata": {},
   "source": [
    "Рассмотрим подробнее ценообразование в Санкт-Петербурге.\n",
    "Выделим из нашего датафрейма квартиры, находящиеся в Спб:"
   ]
  },
  {
   "cell_type": "code",
   "execution_count": 825,
   "metadata": {},
   "outputs": [
    {
     "data": {
      "text/html": [
       "<div>\n",
       "<style scoped>\n",
       "    .dataframe tbody tr th:only-of-type {\n",
       "        vertical-align: middle;\n",
       "    }\n",
       "\n",
       "    .dataframe tbody tr th {\n",
       "        vertical-align: top;\n",
       "    }\n",
       "\n",
       "    .dataframe thead th {\n",
       "        text-align: right;\n",
       "    }\n",
       "</style>\n",
       "<table border=\"1\" class=\"dataframe\">\n",
       "  <thead>\n",
       "    <tr style=\"text-align: right;\">\n",
       "      <th></th>\n",
       "      <th>total_images</th>\n",
       "      <th>last_price</th>\n",
       "      <th>total_area</th>\n",
       "      <th>first_day_exposition</th>\n",
       "      <th>rooms</th>\n",
       "      <th>ceiling_height</th>\n",
       "      <th>floors_total</th>\n",
       "      <th>living_area</th>\n",
       "      <th>floor</th>\n",
       "      <th>is_apartment</th>\n",
       "      <th>...</th>\n",
       "      <th>ponds_nearest</th>\n",
       "      <th>days_exposition</th>\n",
       "      <th>living_koef</th>\n",
       "      <th>sq_m_price</th>\n",
       "      <th>floor_category</th>\n",
       "      <th>kitchen_koef</th>\n",
       "      <th>weekday</th>\n",
       "      <th>month</th>\n",
       "      <th>year</th>\n",
       "      <th>centers_grouped</th>\n",
       "    </tr>\n",
       "  </thead>\n",
       "  <tbody>\n",
       "    <tr>\n",
       "      <td>2</td>\n",
       "      <td>10</td>\n",
       "      <td>5196000</td>\n",
       "      <td>56</td>\n",
       "      <td>2015-08-20</td>\n",
       "      <td>2</td>\n",
       "      <td>2.65</td>\n",
       "      <td>5</td>\n",
       "      <td>34</td>\n",
       "      <td>4</td>\n",
       "      <td>False</td>\n",
       "      <td>...</td>\n",
       "      <td>574</td>\n",
       "      <td>558</td>\n",
       "      <td>0.607143</td>\n",
       "      <td>92785.714286</td>\n",
       "      <td>другой</td>\n",
       "      <td>0.142857</td>\n",
       "      <td>3</td>\n",
       "      <td>2015-08-01</td>\n",
       "      <td>2015</td>\n",
       "      <td>(12000, 16000]</td>\n",
       "    </tr>\n",
       "    <tr>\n",
       "      <td>4</td>\n",
       "      <td>2</td>\n",
       "      <td>10000000</td>\n",
       "      <td>100</td>\n",
       "      <td>2018-06-19</td>\n",
       "      <td>2</td>\n",
       "      <td>3.03</td>\n",
       "      <td>14</td>\n",
       "      <td>32</td>\n",
       "      <td>13</td>\n",
       "      <td>False</td>\n",
       "      <td>...</td>\n",
       "      <td>48</td>\n",
       "      <td>121</td>\n",
       "      <td>0.320000</td>\n",
       "      <td>100000.000000</td>\n",
       "      <td>другой</td>\n",
       "      <td>0.410000</td>\n",
       "      <td>1</td>\n",
       "      <td>2018-06-01</td>\n",
       "      <td>2018</td>\n",
       "      <td>(1500, 12000]</td>\n",
       "    </tr>\n",
       "    <tr>\n",
       "      <td>7</td>\n",
       "      <td>5</td>\n",
       "      <td>7915000</td>\n",
       "      <td>71</td>\n",
       "      <td>2019-04-18</td>\n",
       "      <td>2</td>\n",
       "      <td>2.65</td>\n",
       "      <td>24</td>\n",
       "      <td>40</td>\n",
       "      <td>22</td>\n",
       "      <td>False</td>\n",
       "      <td>...</td>\n",
       "      <td>99999</td>\n",
       "      <td>99999</td>\n",
       "      <td>0.563380</td>\n",
       "      <td>111478.873239</td>\n",
       "      <td>другой</td>\n",
       "      <td>0.253521</td>\n",
       "      <td>3</td>\n",
       "      <td>2019-04-01</td>\n",
       "      <td>2019</td>\n",
       "      <td>(1500, 12000]</td>\n",
       "    </tr>\n",
       "    <tr>\n",
       "      <td>9</td>\n",
       "      <td>18</td>\n",
       "      <td>5400000</td>\n",
       "      <td>61</td>\n",
       "      <td>2017-02-26</td>\n",
       "      <td>3</td>\n",
       "      <td>2.50</td>\n",
       "      <td>9</td>\n",
       "      <td>43</td>\n",
       "      <td>7</td>\n",
       "      <td>False</td>\n",
       "      <td>...</td>\n",
       "      <td>99999</td>\n",
       "      <td>289</td>\n",
       "      <td>0.704918</td>\n",
       "      <td>88524.590164</td>\n",
       "      <td>другой</td>\n",
       "      <td>0.098361</td>\n",
       "      <td>6</td>\n",
       "      <td>2017-02-01</td>\n",
       "      <td>2017</td>\n",
       "      <td>(12000, 16000]</td>\n",
       "    </tr>\n",
       "    <tr>\n",
       "      <td>10</td>\n",
       "      <td>5</td>\n",
       "      <td>5050000</td>\n",
       "      <td>39</td>\n",
       "      <td>2017-11-16</td>\n",
       "      <td>1</td>\n",
       "      <td>2.67</td>\n",
       "      <td>12</td>\n",
       "      <td>20</td>\n",
       "      <td>3</td>\n",
       "      <td>False</td>\n",
       "      <td>...</td>\n",
       "      <td>553</td>\n",
       "      <td>137</td>\n",
       "      <td>0.512821</td>\n",
       "      <td>129487.179487</td>\n",
       "      <td>другой</td>\n",
       "      <td>0.205128</td>\n",
       "      <td>3</td>\n",
       "      <td>2017-11-01</td>\n",
       "      <td>2017</td>\n",
       "      <td>(12000, 16000]</td>\n",
       "    </tr>\n",
       "    <tr>\n",
       "      <td>...</td>\n",
       "      <td>...</td>\n",
       "      <td>...</td>\n",
       "      <td>...</td>\n",
       "      <td>...</td>\n",
       "      <td>...</td>\n",
       "      <td>...</td>\n",
       "      <td>...</td>\n",
       "      <td>...</td>\n",
       "      <td>...</td>\n",
       "      <td>...</td>\n",
       "      <td>...</td>\n",
       "      <td>...</td>\n",
       "      <td>...</td>\n",
       "      <td>...</td>\n",
       "      <td>...</td>\n",
       "      <td>...</td>\n",
       "      <td>...</td>\n",
       "      <td>...</td>\n",
       "      <td>...</td>\n",
       "      <td>...</td>\n",
       "      <td>...</td>\n",
       "    </tr>\n",
       "    <tr>\n",
       "      <td>23687</td>\n",
       "      <td>6</td>\n",
       "      <td>3200000</td>\n",
       "      <td>39</td>\n",
       "      <td>2017-12-16</td>\n",
       "      <td>1</td>\n",
       "      <td>2.65</td>\n",
       "      <td>9</td>\n",
       "      <td>20</td>\n",
       "      <td>6</td>\n",
       "      <td>False</td>\n",
       "      <td>...</td>\n",
       "      <td>99999</td>\n",
       "      <td>38</td>\n",
       "      <td>0.512821</td>\n",
       "      <td>82051.282051</td>\n",
       "      <td>другой</td>\n",
       "      <td>0.282051</td>\n",
       "      <td>5</td>\n",
       "      <td>2017-12-01</td>\n",
       "      <td>2017</td>\n",
       "      <td>(16000, 66000]</td>\n",
       "    </tr>\n",
       "    <tr>\n",
       "      <td>23688</td>\n",
       "      <td>19</td>\n",
       "      <td>9200000</td>\n",
       "      <td>101</td>\n",
       "      <td>2019-04-01</td>\n",
       "      <td>3</td>\n",
       "      <td>3.05</td>\n",
       "      <td>15</td>\n",
       "      <td>63</td>\n",
       "      <td>12</td>\n",
       "      <td>False</td>\n",
       "      <td>...</td>\n",
       "      <td>99999</td>\n",
       "      <td>23</td>\n",
       "      <td>0.623762</td>\n",
       "      <td>91089.108911</td>\n",
       "      <td>другой</td>\n",
       "      <td>0.148515</td>\n",
       "      <td>0</td>\n",
       "      <td>2019-04-01</td>\n",
       "      <td>2019</td>\n",
       "      <td>(12000, 16000]</td>\n",
       "    </tr>\n",
       "    <tr>\n",
       "      <td>23689</td>\n",
       "      <td>13</td>\n",
       "      <td>3550000</td>\n",
       "      <td>35</td>\n",
       "      <td>2018-02-28</td>\n",
       "      <td>1</td>\n",
       "      <td>2.86</td>\n",
       "      <td>15</td>\n",
       "      <td>16</td>\n",
       "      <td>4</td>\n",
       "      <td>False</td>\n",
       "      <td>...</td>\n",
       "      <td>652</td>\n",
       "      <td>29</td>\n",
       "      <td>0.457143</td>\n",
       "      <td>101428.571429</td>\n",
       "      <td>другой</td>\n",
       "      <td>0.257143</td>\n",
       "      <td>2</td>\n",
       "      <td>2018-02-01</td>\n",
       "      <td>2018</td>\n",
       "      <td>(16000, 66000]</td>\n",
       "    </tr>\n",
       "    <tr>\n",
       "      <td>23690</td>\n",
       "      <td>3</td>\n",
       "      <td>5500000</td>\n",
       "      <td>52</td>\n",
       "      <td>2018-07-19</td>\n",
       "      <td>2</td>\n",
       "      <td>2.65</td>\n",
       "      <td>5</td>\n",
       "      <td>31</td>\n",
       "      <td>2</td>\n",
       "      <td>False</td>\n",
       "      <td>...</td>\n",
       "      <td>99999</td>\n",
       "      <td>15</td>\n",
       "      <td>0.596154</td>\n",
       "      <td>105769.230769</td>\n",
       "      <td>другой</td>\n",
       "      <td>0.115385</td>\n",
       "      <td>3</td>\n",
       "      <td>2018-07-01</td>\n",
       "      <td>2018</td>\n",
       "      <td>(1500, 12000]</td>\n",
       "    </tr>\n",
       "    <tr>\n",
       "      <td>23691</td>\n",
       "      <td>11</td>\n",
       "      <td>9470000</td>\n",
       "      <td>72</td>\n",
       "      <td>2016-10-13</td>\n",
       "      <td>2</td>\n",
       "      <td>2.75</td>\n",
       "      <td>25</td>\n",
       "      <td>40</td>\n",
       "      <td>7</td>\n",
       "      <td>False</td>\n",
       "      <td>...</td>\n",
       "      <td>806</td>\n",
       "      <td>519</td>\n",
       "      <td>0.555556</td>\n",
       "      <td>131527.777778</td>\n",
       "      <td>другой</td>\n",
       "      <td>0.138889</td>\n",
       "      <td>3</td>\n",
       "      <td>2016-10-01</td>\n",
       "      <td>2016</td>\n",
       "      <td>(1500, 12000]</td>\n",
       "    </tr>\n",
       "  </tbody>\n",
       "</table>\n",
       "<p>13353 rows × 30 columns</p>\n",
       "</div>"
      ],
      "text/plain": [
       "       total_images  last_price  total_area first_day_exposition  rooms  \\\n",
       "2                10     5196000          56           2015-08-20      2   \n",
       "4                 2    10000000         100           2018-06-19      2   \n",
       "7                 5     7915000          71           2019-04-18      2   \n",
       "9                18     5400000          61           2017-02-26      3   \n",
       "10                5     5050000          39           2017-11-16      1   \n",
       "...             ...         ...         ...                  ...    ...   \n",
       "23687             6     3200000          39           2017-12-16      1   \n",
       "23688            19     9200000         101           2019-04-01      3   \n",
       "23689            13     3550000          35           2018-02-28      1   \n",
       "23690             3     5500000          52           2018-07-19      2   \n",
       "23691            11     9470000          72           2016-10-13      2   \n",
       "\n",
       "       ceiling_height  floors_total  living_area  floor is_apartment  ...  \\\n",
       "2                2.65             5           34      4        False  ...   \n",
       "4                3.03            14           32     13        False  ...   \n",
       "7                2.65            24           40     22        False  ...   \n",
       "9                2.50             9           43      7        False  ...   \n",
       "10               2.67            12           20      3        False  ...   \n",
       "...               ...           ...          ...    ...          ...  ...   \n",
       "23687            2.65             9           20      6        False  ...   \n",
       "23688            3.05            15           63     12        False  ...   \n",
       "23689            2.86            15           16      4        False  ...   \n",
       "23690            2.65             5           31      2        False  ...   \n",
       "23691            2.75            25           40      7        False  ...   \n",
       "\n",
       "       ponds_nearest  days_exposition  living_koef     sq_m_price  \\\n",
       "2                574              558     0.607143   92785.714286   \n",
       "4                 48              121     0.320000  100000.000000   \n",
       "7              99999            99999     0.563380  111478.873239   \n",
       "9              99999              289     0.704918   88524.590164   \n",
       "10               553              137     0.512821  129487.179487   \n",
       "...              ...              ...          ...            ...   \n",
       "23687          99999               38     0.512821   82051.282051   \n",
       "23688          99999               23     0.623762   91089.108911   \n",
       "23689            652               29     0.457143  101428.571429   \n",
       "23690          99999               15     0.596154  105769.230769   \n",
       "23691            806              519     0.555556  131527.777778   \n",
       "\n",
       "      floor_category  kitchen_koef  weekday      month  year  centers_grouped  \n",
       "2             другой      0.142857        3 2015-08-01  2015   (12000, 16000]  \n",
       "4             другой      0.410000        1 2018-06-01  2018    (1500, 12000]  \n",
       "7             другой      0.253521        3 2019-04-01  2019    (1500, 12000]  \n",
       "9             другой      0.098361        6 2017-02-01  2017   (12000, 16000]  \n",
       "10            другой      0.205128        3 2017-11-01  2017   (12000, 16000]  \n",
       "...              ...           ...      ...        ...   ...              ...  \n",
       "23687         другой      0.282051        5 2017-12-01  2017   (16000, 66000]  \n",
       "23688         другой      0.148515        0 2019-04-01  2019   (12000, 16000]  \n",
       "23689         другой      0.257143        2 2018-02-01  2018   (16000, 66000]  \n",
       "23690         другой      0.115385        3 2018-07-01  2018    (1500, 12000]  \n",
       "23691         другой      0.138889        3 2016-10-01  2016    (1500, 12000]  \n",
       "\n",
       "[13353 rows x 30 columns]"
      ]
     },
     "execution_count": 825,
     "metadata": {},
     "output_type": "execute_result"
    }
   ],
   "source": [
    "spb = data.query('locality_name == \"Санкт-Петербург\"')\n",
    "spb"
   ]
  },
  {
   "cell_type": "markdown",
   "metadata": {},
   "source": [
    "Округлим расстояние до целых км и посчитаем среднюю цену недвижимости для каждого км удаления от центра Спб:"
   ]
  },
  {
   "cell_type": "code",
   "execution_count": 826,
   "metadata": {},
   "outputs": [
    {
     "name": "stderr",
     "output_type": "stream",
     "text": [
      "/opt/conda/lib/python3.7/site-packages/ipykernel_launcher.py:1: SettingWithCopyWarning: \n",
      "A value is trying to be set on a copy of a slice from a DataFrame.\n",
      "Try using .loc[row_indexer,col_indexer] = value instead\n",
      "\n",
      "See the caveats in the documentation: http://pandas.pydata.org/pandas-docs/stable/user_guide/indexing.html#returning-a-view-versus-a-copy\n",
      "  \"\"\"Entry point for launching an IPython kernel.\n"
     ]
    }
   ],
   "source": [
    "spb['cityCenters_nearest'] = spb['cityCenters_nearest'].round(-3)"
   ]
  },
  {
   "cell_type": "code",
   "execution_count": 827,
   "metadata": {},
   "outputs": [
    {
     "data": {
      "text/plain": [
       "Text(0, 0.5, 'Средняя цена квартиры')"
      ]
     },
     "execution_count": 827,
     "metadata": {},
     "output_type": "execute_result"
    },
    {
     "data": {
      "image/png": "[encoded data removed]",
      "text/plain": [
       "<Figure size 432x288 with 1 Axes>"
      ]
     },
     "metadata": {
      "needs_background": "light"
     },
     "output_type": "display_data"
    }
   ],
   "source": [
    "(spb\n",
    "     .groupby('cityCenters_nearest')['last_price'].agg('mean').astype(int)\n",
    "     .plot(grid=True, title='График зависимости средних цен на недвижимость от удаленности от центра города'))\n",
    "plt.xlabel('Расстояние до центра', axes=ax)\n",
    "plt.ylabel('Средняя цена квартиры', axes=ax)"
   ]
  },
  {
   "cell_type": "markdown",
   "metadata": {},
   "source": [
    "На графике хорошо видно, что цена на квартиры существенно снижается на удалении 8 км. от центра города. \n",
    "Значит центром можно считать значения от 0 до 7 км включительно.\n",
    "Рассмотрим характеристики квартир в центре Спб:"
   ]
  },
  {
   "cell_type": "code",
   "execution_count": 828,
   "metadata": {},
   "outputs": [
    {
     "data": {
      "text/html": [
       "<div>\n",
       "<style scoped>\n",
       "    .dataframe tbody tr th:only-of-type {\n",
       "        vertical-align: middle;\n",
       "    }\n",
       "\n",
       "    .dataframe tbody tr th {\n",
       "        vertical-align: top;\n",
       "    }\n",
       "\n",
       "    .dataframe thead th {\n",
       "        text-align: right;\n",
       "    }\n",
       "</style>\n",
       "<table border=\"1\" class=\"dataframe\">\n",
       "  <thead>\n",
       "    <tr style=\"text-align: right;\">\n",
       "      <th></th>\n",
       "      <th>total_images</th>\n",
       "      <th>last_price</th>\n",
       "      <th>total_area</th>\n",
       "      <th>first_day_exposition</th>\n",
       "      <th>rooms</th>\n",
       "      <th>ceiling_height</th>\n",
       "      <th>floors_total</th>\n",
       "      <th>living_area</th>\n",
       "      <th>floor</th>\n",
       "      <th>is_apartment</th>\n",
       "      <th>...</th>\n",
       "      <th>ponds_nearest</th>\n",
       "      <th>days_exposition</th>\n",
       "      <th>living_koef</th>\n",
       "      <th>sq_m_price</th>\n",
       "      <th>floor_category</th>\n",
       "      <th>kitchen_koef</th>\n",
       "      <th>weekday</th>\n",
       "      <th>month</th>\n",
       "      <th>year</th>\n",
       "      <th>centers_grouped</th>\n",
       "    </tr>\n",
       "  </thead>\n",
       "  <tbody>\n",
       "    <tr>\n",
       "      <td>24</td>\n",
       "      <td>8</td>\n",
       "      <td>6500000</td>\n",
       "      <td>97</td>\n",
       "      <td>2015-10-31</td>\n",
       "      <td>2</td>\n",
       "      <td>2.65</td>\n",
       "      <td>3</td>\n",
       "      <td>46</td>\n",
       "      <td>1</td>\n",
       "      <td>False</td>\n",
       "      <td>...</td>\n",
       "      <td>124</td>\n",
       "      <td>265</td>\n",
       "      <td>0.474227</td>\n",
       "      <td>67010.309278</td>\n",
       "      <td>первый</td>\n",
       "      <td>0.195876</td>\n",
       "      <td>5</td>\n",
       "      <td>2015-10-01</td>\n",
       "      <td>2015</td>\n",
       "      <td>(1500, 12000]</td>\n",
       "    </tr>\n",
       "    <tr>\n",
       "      <td>61</td>\n",
       "      <td>18</td>\n",
       "      <td>7990000</td>\n",
       "      <td>74</td>\n",
       "      <td>2017-08-24</td>\n",
       "      <td>2</td>\n",
       "      <td>2.65</td>\n",
       "      <td>4</td>\n",
       "      <td>43</td>\n",
       "      <td>4</td>\n",
       "      <td>False</td>\n",
       "      <td>...</td>\n",
       "      <td>99999</td>\n",
       "      <td>609</td>\n",
       "      <td>0.581081</td>\n",
       "      <td>107972.972973</td>\n",
       "      <td>последний</td>\n",
       "      <td>0.270270</td>\n",
       "      <td>3</td>\n",
       "      <td>2017-08-01</td>\n",
       "      <td>2017</td>\n",
       "      <td>(1500, 12000]</td>\n",
       "    </tr>\n",
       "    <tr>\n",
       "      <td>94</td>\n",
       "      <td>3</td>\n",
       "      <td>3500000</td>\n",
       "      <td>29</td>\n",
       "      <td>2019-04-26</td>\n",
       "      <td>1</td>\n",
       "      <td>2.50</td>\n",
       "      <td>5</td>\n",
       "      <td>15</td>\n",
       "      <td>2</td>\n",
       "      <td>False</td>\n",
       "      <td>...</td>\n",
       "      <td>99999</td>\n",
       "      <td>4</td>\n",
       "      <td>0.517241</td>\n",
       "      <td>120689.655172</td>\n",
       "      <td>другой</td>\n",
       "      <td>0.172414</td>\n",
       "      <td>4</td>\n",
       "      <td>2019-04-01</td>\n",
       "      <td>2019</td>\n",
       "      <td>(1500, 12000]</td>\n",
       "    </tr>\n",
       "    <tr>\n",
       "      <td>99</td>\n",
       "      <td>32</td>\n",
       "      <td>9600000</td>\n",
       "      <td>90</td>\n",
       "      <td>2017-09-26</td>\n",
       "      <td>4</td>\n",
       "      <td>2.65</td>\n",
       "      <td>5</td>\n",
       "      <td>67</td>\n",
       "      <td>2</td>\n",
       "      <td>False</td>\n",
       "      <td>...</td>\n",
       "      <td>99999</td>\n",
       "      <td>104</td>\n",
       "      <td>0.744444</td>\n",
       "      <td>106666.666667</td>\n",
       "      <td>другой</td>\n",
       "      <td>0.088889</td>\n",
       "      <td>1</td>\n",
       "      <td>2017-09-01</td>\n",
       "      <td>2017</td>\n",
       "      <td>(1500, 12000]</td>\n",
       "    </tr>\n",
       "    <tr>\n",
       "      <td>111</td>\n",
       "      <td>4</td>\n",
       "      <td>4590000</td>\n",
       "      <td>40</td>\n",
       "      <td>2017-05-29</td>\n",
       "      <td>1</td>\n",
       "      <td>2.65</td>\n",
       "      <td>6</td>\n",
       "      <td>18</td>\n",
       "      <td>1</td>\n",
       "      <td>False</td>\n",
       "      <td>...</td>\n",
       "      <td>99999</td>\n",
       "      <td>31</td>\n",
       "      <td>0.450000</td>\n",
       "      <td>114750.000000</td>\n",
       "      <td>первый</td>\n",
       "      <td>0.250000</td>\n",
       "      <td>0</td>\n",
       "      <td>2017-05-01</td>\n",
       "      <td>2017</td>\n",
       "      <td>(1500, 12000]</td>\n",
       "    </tr>\n",
       "    <tr>\n",
       "      <td>...</td>\n",
       "      <td>...</td>\n",
       "      <td>...</td>\n",
       "      <td>...</td>\n",
       "      <td>...</td>\n",
       "      <td>...</td>\n",
       "      <td>...</td>\n",
       "      <td>...</td>\n",
       "      <td>...</td>\n",
       "      <td>...</td>\n",
       "      <td>...</td>\n",
       "      <td>...</td>\n",
       "      <td>...</td>\n",
       "      <td>...</td>\n",
       "      <td>...</td>\n",
       "      <td>...</td>\n",
       "      <td>...</td>\n",
       "      <td>...</td>\n",
       "      <td>...</td>\n",
       "      <td>...</td>\n",
       "      <td>...</td>\n",
       "      <td>...</td>\n",
       "    </tr>\n",
       "    <tr>\n",
       "      <td>23664</td>\n",
       "      <td>5</td>\n",
       "      <td>9000000</td>\n",
       "      <td>110</td>\n",
       "      <td>2015-12-10</td>\n",
       "      <td>4</td>\n",
       "      <td>3.36</td>\n",
       "      <td>7</td>\n",
       "      <td>64</td>\n",
       "      <td>5</td>\n",
       "      <td>False</td>\n",
       "      <td>...</td>\n",
       "      <td>118</td>\n",
       "      <td>816</td>\n",
       "      <td>0.581818</td>\n",
       "      <td>81818.181818</td>\n",
       "      <td>другой</td>\n",
       "      <td>0.136364</td>\n",
       "      <td>3</td>\n",
       "      <td>2015-12-01</td>\n",
       "      <td>2015</td>\n",
       "      <td>(1500, 12000]</td>\n",
       "    </tr>\n",
       "    <tr>\n",
       "      <td>23665</td>\n",
       "      <td>11</td>\n",
       "      <td>4250000</td>\n",
       "      <td>47</td>\n",
       "      <td>2016-05-20</td>\n",
       "      <td>1</td>\n",
       "      <td>2.65</td>\n",
       "      <td>6</td>\n",
       "      <td>18</td>\n",
       "      <td>1</td>\n",
       "      <td>False</td>\n",
       "      <td>...</td>\n",
       "      <td>519</td>\n",
       "      <td>131</td>\n",
       "      <td>0.382979</td>\n",
       "      <td>90425.531915</td>\n",
       "      <td>первый</td>\n",
       "      <td>0.297872</td>\n",
       "      <td>4</td>\n",
       "      <td>2016-05-01</td>\n",
       "      <td>2016</td>\n",
       "      <td>(1500, 12000]</td>\n",
       "    </tr>\n",
       "    <tr>\n",
       "      <td>23681</td>\n",
       "      <td>13</td>\n",
       "      <td>5250000</td>\n",
       "      <td>43</td>\n",
       "      <td>2018-05-11</td>\n",
       "      <td>2</td>\n",
       "      <td>2.50</td>\n",
       "      <td>5</td>\n",
       "      <td>29</td>\n",
       "      <td>2</td>\n",
       "      <td>False</td>\n",
       "      <td>...</td>\n",
       "      <td>660</td>\n",
       "      <td>80</td>\n",
       "      <td>0.674419</td>\n",
       "      <td>122093.023256</td>\n",
       "      <td>другой</td>\n",
       "      <td>0.139535</td>\n",
       "      <td>4</td>\n",
       "      <td>2018-05-01</td>\n",
       "      <td>2018</td>\n",
       "      <td>(1500, 12000]</td>\n",
       "    </tr>\n",
       "    <tr>\n",
       "      <td>23690</td>\n",
       "      <td>3</td>\n",
       "      <td>5500000</td>\n",
       "      <td>52</td>\n",
       "      <td>2018-07-19</td>\n",
       "      <td>2</td>\n",
       "      <td>2.65</td>\n",
       "      <td>5</td>\n",
       "      <td>31</td>\n",
       "      <td>2</td>\n",
       "      <td>False</td>\n",
       "      <td>...</td>\n",
       "      <td>99999</td>\n",
       "      <td>15</td>\n",
       "      <td>0.596154</td>\n",
       "      <td>105769.230769</td>\n",
       "      <td>другой</td>\n",
       "      <td>0.115385</td>\n",
       "      <td>3</td>\n",
       "      <td>2018-07-01</td>\n",
       "      <td>2018</td>\n",
       "      <td>(1500, 12000]</td>\n",
       "    </tr>\n",
       "    <tr>\n",
       "      <td>23691</td>\n",
       "      <td>11</td>\n",
       "      <td>9470000</td>\n",
       "      <td>72</td>\n",
       "      <td>2016-10-13</td>\n",
       "      <td>2</td>\n",
       "      <td>2.75</td>\n",
       "      <td>25</td>\n",
       "      <td>40</td>\n",
       "      <td>7</td>\n",
       "      <td>False</td>\n",
       "      <td>...</td>\n",
       "      <td>806</td>\n",
       "      <td>519</td>\n",
       "      <td>0.555556</td>\n",
       "      <td>131527.777778</td>\n",
       "      <td>другой</td>\n",
       "      <td>0.138889</td>\n",
       "      <td>3</td>\n",
       "      <td>2016-10-01</td>\n",
       "      <td>2016</td>\n",
       "      <td>(1500, 12000]</td>\n",
       "    </tr>\n",
       "  </tbody>\n",
       "</table>\n",
       "<p>2094 rows × 30 columns</p>\n",
       "</div>"
      ],
      "text/plain": [
       "       total_images  last_price  total_area first_day_exposition  rooms  \\\n",
       "24                8     6500000          97           2015-10-31      2   \n",
       "61               18     7990000          74           2017-08-24      2   \n",
       "94                3     3500000          29           2019-04-26      1   \n",
       "99               32     9600000          90           2017-09-26      4   \n",
       "111               4     4590000          40           2017-05-29      1   \n",
       "...             ...         ...         ...                  ...    ...   \n",
       "23664             5     9000000         110           2015-12-10      4   \n",
       "23665            11     4250000          47           2016-05-20      1   \n",
       "23681            13     5250000          43           2018-05-11      2   \n",
       "23690             3     5500000          52           2018-07-19      2   \n",
       "23691            11     9470000          72           2016-10-13      2   \n",
       "\n",
       "       ceiling_height  floors_total  living_area  floor is_apartment  ...  \\\n",
       "24               2.65             3           46      1        False  ...   \n",
       "61               2.65             4           43      4        False  ...   \n",
       "94               2.50             5           15      2        False  ...   \n",
       "99               2.65             5           67      2        False  ...   \n",
       "111              2.65             6           18      1        False  ...   \n",
       "...               ...           ...          ...    ...          ...  ...   \n",
       "23664            3.36             7           64      5        False  ...   \n",
       "23665            2.65             6           18      1        False  ...   \n",
       "23681            2.50             5           29      2        False  ...   \n",
       "23690            2.65             5           31      2        False  ...   \n",
       "23691            2.75            25           40      7        False  ...   \n",
       "\n",
       "       ponds_nearest  days_exposition  living_koef     sq_m_price  \\\n",
       "24               124              265     0.474227   67010.309278   \n",
       "61             99999              609     0.581081  107972.972973   \n",
       "94             99999                4     0.517241  120689.655172   \n",
       "99             99999              104     0.744444  106666.666667   \n",
       "111            99999               31     0.450000  114750.000000   \n",
       "...              ...              ...          ...            ...   \n",
       "23664            118              816     0.581818   81818.181818   \n",
       "23665            519              131     0.382979   90425.531915   \n",
       "23681            660               80     0.674419  122093.023256   \n",
       "23690          99999               15     0.596154  105769.230769   \n",
       "23691            806              519     0.555556  131527.777778   \n",
       "\n",
       "      floor_category  kitchen_koef  weekday      month  year  centers_grouped  \n",
       "24            первый      0.195876        5 2015-10-01  2015    (1500, 12000]  \n",
       "61         последний      0.270270        3 2017-08-01  2017    (1500, 12000]  \n",
       "94            другой      0.172414        4 2019-04-01  2019    (1500, 12000]  \n",
       "99            другой      0.088889        1 2017-09-01  2017    (1500, 12000]  \n",
       "111           первый      0.250000        0 2017-05-01  2017    (1500, 12000]  \n",
       "...              ...           ...      ...        ...   ...              ...  \n",
       "23664         другой      0.136364        3 2015-12-01  2015    (1500, 12000]  \n",
       "23665         первый      0.297872        4 2016-05-01  2016    (1500, 12000]  \n",
       "23681         другой      0.139535        4 2018-05-01  2018    (1500, 12000]  \n",
       "23690         другой      0.115385        3 2018-07-01  2018    (1500, 12000]  \n",
       "23691         другой      0.138889        3 2016-10-01  2016    (1500, 12000]  \n",
       "\n",
       "[2094 rows x 30 columns]"
      ]
     },
     "execution_count": 828,
     "metadata": {},
     "output_type": "execute_result"
    }
   ],
   "source": [
    "spb_centre = spb.query('cityCenters_nearest < 8000')\n",
    "spb_centre"
   ]
  },
  {
   "cell_type": "markdown",
   "metadata": {},
   "source": [
    "Изучим параметры квартир и факторы, которые могут оказывать влияние на стоимость недвижимости в центре Спб.\n",
    "\n",
    "Для начала проанализируем площадь квартир, цену, число комнат и величину потолков."
   ]
  },
  {
   "cell_type": "code",
   "execution_count": 829,
   "metadata": {},
   "outputs": [
    {
     "data": {
      "text/plain": [
       "count    2094\n",
       "mean       63\n",
       "std        20\n",
       "min        12\n",
       "25%        47\n",
       "50%        62\n",
       "75%        78\n",
       "max       115\n",
       "Name: total_area, dtype: int64"
      ]
     },
     "execution_count": 829,
     "metadata": {},
     "output_type": "execute_result"
    }
   ],
   "source": [
    "spb_centre.total_area.describe().astype(int)"
   ]
  },
  {
   "cell_type": "code",
   "execution_count": 830,
   "metadata": {},
   "outputs": [
    {
     "data": {
      "text/plain": [
       "count    13353\n",
       "mean        53\n",
       "std         17\n",
       "min         12\n",
       "25%         40\n",
       "50%         50\n",
       "75%         64\n",
       "max        115\n",
       "Name: total_area, dtype: int64"
      ]
     },
     "execution_count": 830,
     "metadata": {},
     "output_type": "execute_result"
    }
   ],
   "source": [
    "spb.total_area.describe().astype(int)"
   ]
  },
  {
   "cell_type": "markdown",
   "metadata": {},
   "source": [
    "Средняя площадь квартир, выставленных на продажу в центре Спб - 63 кв.м., подавляющее большинство недвижимости (75%) не превышает 78 кв.м. Это примерно на 15% больше аналогичных параметров по городу в целом."
   ]
  },
  {
   "cell_type": "code",
   "execution_count": 831,
   "metadata": {},
   "outputs": [
    {
     "data": {
      "text/plain": [
       "count        2094\n",
       "mean      7157179\n",
       "std       1959636\n",
       "min       1686000\n",
       "25%       5700000\n",
       "50%       7050000\n",
       "75%       8600000\n",
       "max      11000000\n",
       "Name: last_price, dtype: int64"
      ]
     },
     "execution_count": 831,
     "metadata": {},
     "output_type": "execute_result"
    }
   ],
   "source": [
    "spb_centre.last_price.describe().astype(int)"
   ]
  },
  {
   "cell_type": "code",
   "execution_count": 832,
   "metadata": {},
   "outputs": [
    {
     "data": {
      "text/plain": [
       "count       13353\n",
       "mean      5541422\n",
       "std       1949119\n",
       "min       1190000\n",
       "25%       4010000\n",
       "50%       5100000\n",
       "75%       6700000\n",
       "max      11000000\n",
       "Name: last_price, dtype: int64"
      ]
     },
     "execution_count": 832,
     "metadata": {},
     "output_type": "execute_result"
    }
   ],
   "source": [
    "spb.last_price.describe().astype(int)"
   ]
  },
  {
   "cell_type": "markdown",
   "metadata": {},
   "source": [
    "В среднем квартиры в центре Спб стоят 7 млн., а большинство цен не выше 8.6 млн.руб.  \n",
    "Но можно купить квартиру и за 1,6 млн, и за 11 млн.рублей.\n",
    "\n",
    "Цены в центре на 30-40% выше средних цен по городу в целом."
   ]
  },
  {
   "cell_type": "code",
   "execution_count": 833,
   "metadata": {},
   "outputs": [
    {
     "data": {
      "text/plain": [
       "1    4954\n",
       "2    4684\n",
       "3    3159\n",
       "4     509\n",
       "5      44\n",
       "6       3\n",
       "Name: rooms, dtype: int64"
      ]
     },
     "execution_count": 833,
     "metadata": {},
     "output_type": "execute_result"
    }
   ],
   "source": [
    "spb.rooms.value_counts()"
   ]
  },
  {
   "cell_type": "markdown",
   "metadata": {},
   "source": [
    "Большинство выставленных на продажу квартир - 1-2 комнатные, чуть меньше \"трёшек\". Квартир большей площади и соответственно с большим числом комнат в разы меньше (что мы уже выяснили, рассмотрев параметр `total_area`)"
   ]
  },
  {
   "cell_type": "code",
   "execution_count": 834,
   "metadata": {},
   "outputs": [
    {
     "data": {
      "text/plain": [
       "count    2094.000000\n",
       "mean        2.882287\n",
       "std         0.324481\n",
       "min         2.500000\n",
       "25%         2.650000\n",
       "50%         2.750000\n",
       "75%         3.050000\n",
       "max         5.800000\n",
       "Name: ceiling_height, dtype: float64"
      ]
     },
     "execution_count": 834,
     "metadata": {},
     "output_type": "execute_result"
    }
   ],
   "source": [
    "spb_centre.ceiling_height.describe()"
   ]
  },
  {
   "cell_type": "markdown",
   "metadata": {},
   "source": [
    "Средняя высота потолков в центре СПб существенно выше СНИПов:) -  2.88 м, но в большинстве своем не выше 3-х метров. Хотя встречаются и предложения с почти 6-метровыми потолками, но это скорее исключения, расположенные в исторических зданиях."
   ]
  },
  {
   "cell_type": "markdown",
   "metadata": {},
   "source": [
    "Теперь выясним, какие факторы влияют на стоимость квартир в центре Спб:"
   ]
  },
  {
   "cell_type": "code",
   "execution_count": 835,
   "metadata": {},
   "outputs": [
    {
     "data": {
      "text/plain": [
       "rooms\n",
       "1    5742095\n",
       "2    6995427\n",
       "3    7942187\n",
       "4    8564329\n",
       "5    9286666\n",
       "6    9800000\n",
       "Name: last_price, dtype: int64"
      ]
     },
     "execution_count": 835,
     "metadata": {},
     "output_type": "execute_result"
    }
   ],
   "source": [
    "spb_centre.groupby('rooms')['last_price'].agg('mean').astype(int)"
   ]
  },
  {
   "cell_type": "markdown",
   "metadata": {},
   "source": [
    "Количество комнат ожидаемо имеет прямую корреляцию с ценой квартиры, больше комнат - больше площадь - выше цена.\n",
    "\n",
    "Правда средняя стоимость в центре существенно отличается от всей Лен.области в целом: однушка стоит уже не 3.7 млн, а 5.7млн. рублей. Двушки в центре обойдутся в среднем почти в 7 млн., против 5 млн. по всей области. Цены на остальные категории квартир так же выше средних по области на 30-40%."
   ]
  },
  {
   "cell_type": "code",
   "execution_count": 836,
   "metadata": {},
   "outputs": [
    {
     "data": {
      "text/plain": [
       "rooms\n",
       "1    4312633\n",
       "2    5865873\n",
       "3    6670854\n",
       "4    7241147\n",
       "5    8377954\n",
       "6    8821333\n",
       "Name: last_price, dtype: int64"
      ]
     },
     "execution_count": 836,
     "metadata": {},
     "output_type": "execute_result"
    }
   ],
   "source": [
    "spb.groupby('rooms')['last_price'].agg('mean').astype(int)"
   ]
  },
  {
   "cell_type": "markdown",
   "metadata": {},
   "source": [
    "От средних цен по городу стоимость квартир в центре так же заметно отличается в бОльшую сторону, стоимость всех категорий квартир на 20-25% выше именно в центре."
   ]
  },
  {
   "cell_type": "markdown",
   "metadata": {},
   "source": [
    "Теперь посмотри зависит ли цена квартиры от этажа в целом по городу и по центру Спб:"
   ]
  },
  {
   "cell_type": "code",
   "execution_count": 837,
   "metadata": {},
   "outputs": [
    {
     "data": {
      "text/plain": [
       "floor_category\n",
       "другой       7334578\n",
       "первый       6235331\n",
       "последний    7242424\n",
       "Name: last_price, dtype: int64"
      ]
     },
     "execution_count": 837,
     "metadata": {},
     "output_type": "execute_result"
    }
   ],
   "source": [
    "spb_centre.groupby('floor_category')['last_price'].agg('mean').astype(int)"
   ]
  },
  {
   "cell_type": "code",
   "execution_count": 838,
   "metadata": {},
   "outputs": [
    {
     "data": {
      "text/plain": [
       "floor_category\n",
       "другой       5617263\n",
       "первый       5035153\n",
       "последний    5515969\n",
       "Name: last_price, dtype: int64"
      ]
     },
     "execution_count": 838,
     "metadata": {},
     "output_type": "execute_result"
    }
   ],
   "source": [
    "spb.groupby('floor_category')['last_price'].agg('mean').astype(int)"
   ]
  },
  {
   "cell_type": "markdown",
   "metadata": {},
   "source": [
    "Цены на первых этажах заметно ниже других, и даже последних этажей. Эта тенденция сохраняется и по области, и по городу, и в самом центре Спб. Верхние этажи так же немного проигрывают по цене середине дома."
   ]
  },
  {
   "cell_type": "markdown",
   "metadata": {},
   "source": [
    "Посмотрим наглядно на графике зависимость цен на недвижимость от удаленности от центра:"
   ]
  },
  {
   "cell_type": "code",
   "execution_count": 839,
   "metadata": {},
   "outputs": [
    {
     "data": {
      "image/png": "[encoded data removed]",
      "text/plain": [
       "<Figure size 432x288 with 1 Axes>"
      ]
     },
     "metadata": {
      "needs_background": "light"
     },
     "output_type": "display_data"
    }
   ],
   "source": [
    "(spb\n",
    "     .groupby('cityCenters_nearest')['last_price'].agg('mean').astype(int)\n",
    "     .plot(grid=True, title='График зависимости цен на недвижимость от расстояния до центра города'))\n",
    "\n",
    "plt.xlabel('Расстояние до центра', axes=ax)\n",
    "plt.ylabel('Средняя цена квартиры', axes=ax)\n",
    "(spb_centre\n",
    "             .groupby('cityCenters_nearest')['last_price'].agg('mean').astype(int)\n",
    "             .plot(grid=True))\n",
    "plt.xlabel('Расстояние до центра', axes=ax)\n",
    "plt.show()"
   ]
  },
  {
   "cell_type": "markdown",
   "metadata": {},
   "source": [
    "Как мы уже выясняли ранее, в целом по городу стоимость резко снижается на расстоянии 8 км от центра.\n",
    "В самом центре тоже есть тенденция резкого падения цен, как только расстояние достигает 3 км."
   ]
  },
  {
   "cell_type": "markdown",
   "metadata": {},
   "source": [
    "Теперь выясним, как дата размещения объявлений влияла на стоимости квартир в центре СПб и по всему городу.\n",
    "Удобнее всего сравнить это на общем графике:"
   ]
  },
  {
   "cell_type": "code",
   "execution_count": 840,
   "metadata": {},
   "outputs": [
    {
     "data": {
      "image/png": "[encoded data removed]",
      "text/plain": [
       "<Figure size 432x288 with 1 Axes>"
      ]
     },
     "metadata": {
      "needs_background": "light"
     },
     "output_type": "display_data"
    }
   ],
   "source": [
    "(spb_centre\n",
    "         .groupby('year')['last_price']\n",
    "         .agg('mean')\n",
    "         .plot(grid=True, title='График зависимости средних цен от даты размещения объявления'))\n",
    "plt.xlabel('Год', axes=ax)\n",
    "plt.ylabel('Средняя цена квартиры', axes=ax)\n",
    "plt.show\n",
    "spb.groupby('year')['last_price'].agg('mean').plot(grid=True)\n",
    "plt.xlabel('Год', axes=ax)\n",
    "plt.show()"
   ]
  },
  {
   "cell_type": "markdown",
   "metadata": {},
   "source": [
    "Очевидно, что стоимость квартир в центре СПБ на протяжении последних 5 лет остается стабильнов высокой и мало подвержена изменениям. Пик средних цен приходится на 2015 год.\n",
    "\n",
    "На средние цены по всему Спб явно влияют внешние экономические факторы. \n",
    "Например, экономический кризис, который начал набирать обороты в 2014 году и на графиках по городу (и области) он отразился резким падение цен на недвижимость.\n",
    "\n",
    "Пояснить такое различие в ценообразовании  можно тем, что квартиры в центре города всегда считаются более привлекательным вложением инвестиций. Поэтому в 2015 году на фоне обвала курса рубля и общего резкого падения цен на недвижимость по Лен.области, покупатели предпочитали вкладывать средства в стабильно востребованный сегмент недвижимости."
   ]
  },
  {
   "cell_type": "markdown",
   "metadata": {},
   "source": [
    "### 8. ОБЩИЕ ВЫВОДЫ ПО ПРОЕКТУ\n",
    "<a id=\"8\"></a>"
   ]
  },
  {
   "cell_type": "markdown",
   "metadata": {},
   "source": [
    "В данном проекте мы изучили архив объявлений сервиса Яндекс.Недвижимость о продаже квартир в Ленинградской области за несколько лет.\n",
    "\n",
    "* На первом этапе провели предобработку данных: \n",
    "    - многие столбцы содержали пропуски данных, и для каждого параметра нами был подобран способ заполнения недостающих значений. Больше всего пропусков (до 40% в одном столбце) было допущено в параметрах, которые автоматически рассчитываются для каждого объявления: расстояния до ближайших объектов инфраструктуры (парков, прудов, аэропорта). \n",
    "    - По данному вопросу можно рекомендовать разработчикам сервиса провести отладку алгоритма определения заданных расстояний. \n",
    "    - в пунктах, заполняемых клиентами сервиса, так же встречались пропуски. Это можно объяснить некорректными формулировками анкет и внести предложение о пересмотре некоторых формулировок вопросов. В частности устранить открытые вопросы, при наличии таковых в анкете и заменить их конкретными вариантами ответа. \n",
    "    - В некоторых случаях пропуски могли быть обусловлены ошибками при переносе значений в базу данных. По этому поводу стоит провести работу среди персонала, занимающегося непосредственным заполнением электронной базы данных сервиса.\n",
    "\n",
    "\n",
    "* Следующим шагом мы провели расчет дополнительных параметров, таких как стоимость кв.м. недвижимости, которые помогли нам в дальнейшейм анализе ценообразования.\n",
    "\n",
    "\n",
    "* Затем нами были изучены основные параметры жилья. Этот этап потребовал избавления и от выборосов в данных, которые встречались по многим параметрам. \n",
    "    Причиной наличия выбросов могли стать во-первых ошибки заполнения базы, в результате которых некоторые значения были на порядок увеличены или уменьшены. Во-вторых, сочетание исторической застройки в центре Санкт-Петербурга, типовых домов по всей Лен.области, а так же современные дома премиум-класса с нестандартными планировками составляют достаточно неоднородный по своим параметрам рынок недвижимости. Однако, невысокий процент нетипового жилья позволил исключить подобные объекты недвижимости из нашей базы данных без потери качества исследования.\n",
    "    \n",
    "\n",
    "* Следующим этапом мы рассмотрели факторы, которые могут оказывать влияние на процесс ценообразования. \n",
    "    Нами была выявлена прямая корреляция между стоимостью квартиры и ее площадью (включая количество комнат), расположением квартиры относительно центра города (и внутри строения). Так было обнаружено влияние внешних экономических факторов (экономическая ситуация в стране, колебания курсов валют) на средние стоимости жилья по всей Лен.области на протяжении исследуемого периода времени.\n",
    "    \n",
    "\n",
    "* Затем мы более отдельно рассмотрели города с наибольшим числом объявлений, и наиболее подробно ситуацию с ценообразованием в Санкт-Петербурге. Здесь мы получили ожидаемые результаты: прямая корреляция между стоимостью жилья и его близостью к культурной столице. На ценообразование в Санкт-Петербурге оказывают влияние те же параметры, что и на всю недвижимость в Ленинградской области. Однако стоимость квартир в этом городе на 30-40% выше средних цен по области.\n",
    "    Внутри самого Санкт-Петербурга замечена интересная тенденция: стоимость квартир в самом центре города не подвержена влиянию экономических факторов. В период общего экономического спада и падения средних цен на жилье по всей области квартиры в центре города рассматриваются покупателями как удачные инвестиции и их стоимость в течение всего периода наблюдения оставалась на стабильно высоком уровне (выше средних цен по всему городу).\n",
    "\n",
    "\n",
    "Таким образом в результате исследования рынка недвижимости мы выявили основные тенденции ценообразования и факторы на него влияющие. Эту информацию и изложенные выше предложения рекомендовано будет учесть при построении автоматизированной системы определения рыночной стоимости объекта недвижимости.\n",
    "\n",
    "\n",
    "\n",
    "\n",
    "\n",
    "\n",
    "\n",
    "\n",
    "\n"
   ]
  }
 ],
 "metadata": {
  "kernelspec": {
   "display_name": "Python 3",
   "language": "python",
   "name": "python3"
  },
  "language_info": {
   "codemirror_mode": {
    "name": "ipython",
    "version": 3
   },
   "file_extension": ".py",
   "mimetype": "text/x-python",
   "name": "python",
   "nbconvert_exporter": "python",
   "pygments_lexer": "ipython3",
   "version": "3.8.3"
  }
 },
 "nbformat": 4,
 "nbformat_minor": 2
}
